{
 "cells": [
  {
   "cell_type": "markdown",
   "metadata": {},
   "source": [
    "---\n",
    "toc: true\n",
    "comments: true\n",
    "layout: notebook\n",
    "title: Lesson Plan\n",
    "description: Lesson Plan for our group\n",
    "---\n"
   ]
  },
  {
   "cell_type": "code",
   "execution_count": 10,
   "metadata": {
    "vscode": {
     "languageId": "shellscript"
    }
   },
   "outputs": [
    {
     "name": "stdout",
     "output_type": "stream",
     "text": [
      "Python 3.9.6\n"
     ]
    }
   ],
   "source": [
    "\n",
    "python3 --version"
   ]
  },
  {
   "cell_type": "markdown",
   "metadata": {},
   "source": [
    "# Troubles\n",
    "- The troubles I had this week.\n",
    "\n",
    "    - Some of problems I encountered this week was committing to my fastpages. I was sure that I did the config.yml file correct so I thought the error was related to something else. I thought the jekyll error was related to docker but it turns out my formatting for my config file was incorrect. I accidentally indented one line which turned into one big error.\n",
    "\n",
    "- Binary Code \n",
    "    I haven't really gotten to binary code on my pages yet. I do understand the concept of it though, I would do way better on the final we had last trimester. I want to change the bulbs to pink and change the format in the future.\n",
    "\n",
    "# Hacks I plan to do\n",
    "    - I plan to make different colors for different bits. I also want to add, so the user can pick how many bits they want to use."
   ]
  }
 ],
 "metadata": {
  "kernelspec": {
   "display_name": "Python 3.10.6 64-bit",
   "language": "python",
   "name": "python3"
  },
  "language_info": {
   "codemirror_mode": "shell",
   "file_extension": ".sh",
   "mimetype": "text/x-sh",
   "name": "python",
   "version": "3.10.6"
  },
  "orig_nbformat": 4,
  "vscode": {
   "interpreter": {
    "hash": "aee8b7b246df8f9039afb4144a1f6fd8d2ca17a180786b69acc140d282b71a49"
   }
  }
 },
 "nbformat": 4,
 "nbformat_minor": 2
}
