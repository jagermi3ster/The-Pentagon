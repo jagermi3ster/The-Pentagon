<!DOCTYPE html>
<html lang="en"><head>
  <meta charset="utf-8">
  <meta http-equiv="X-UA-Compatible" content="IE=edge">
  <meta name="viewport" content="width=device-width, initial-scale=1">
  <meta name="twitter:card" content="summary_large_image" /><!-- Begin Jekyll SEO tag v2.8.0 -->
<title>Title | Jagger’s Website</title>
<meta name="generator" content="Jekyll v4.1.1" />
<meta property="og:title" content="Title" />
<meta property="og:locale" content="en_US" />
<meta name="description" content="My own blog!!" />
<meta property="og:description" content="My own blog!!" />
<link rel="canonical" href="https://jagermi3ster.github.io/The-Pentagon/2022/12/13/simulations.ipynb" />
<meta property="og:url" content="https://jagermi3ster.github.io/The-Pentagon/2022/12/13/simulations.ipynb" />
<meta property="og:site_name" content="Jagger’s Website" />
<meta property="og:type" content="article" />
<meta property="article:published_time" content="2022-12-13T00:00:00-06:00" />
<meta name="twitter:card" content="summary" />
<meta property="twitter:title" content="Title" />
<script type="application/ld+json">
{"@context":"https://schema.org","@type":"BlogPosting","dateModified":"2022-12-13T00:00:00-06:00","datePublished":"2022-12-13T00:00:00-06:00","description":"My own blog!!","headline":"Title","mainEntityOfPage":{"@type":"WebPage","@id":"https://jagermi3ster.github.io/The-Pentagon/2022/12/13/simulations.ipynb"},"url":"https://jagermi3ster.github.io/The-Pentagon/2022/12/13/simulations.ipynb"}</script>
<!-- End Jekyll SEO tag -->
<link rel="stylesheet" href="/The-Pentagon/assets/css/style.css"><link type="application/atom+xml" rel="alternate" href="https://jagermi3ster.github.io/The-Pentagon/feed.xml" title="Jagger's Website" /><link rel="shortcut icon" type="image/x-icon" href="/The-Pentagon/images/favicon.ico"><link rel="stylesheet" href="https://cdnjs.cloudflare.com/ajax/libs/Primer/15.2.0/primer.css" integrity="sha512-xTz2ys4coGAOz8vuV1NcQBkgVmKhsSEtjbqyMJbBHRplFuvKIUo6xhLHpAyPt9mfR6twHJgn9OgVLuqOvjeBhg==" crossorigin="anonymous" />
<link rel="stylesheet" href="https://cdnjs.cloudflare.com/ajax/libs/font-awesome/5.14.0/css/all.min.css" integrity="sha512-1PKOgIY59xJ8Co8+NE6FZ+LOAZKjy+KY8iq0G4B3CyeY6wYHN3yt9PW0XpSriVlkMXe40PTKnXrLnZ9+fkDaog==" crossorigin="anonymous" />

<script>
function wrap_img(fn) {
    if (document.attachEvent ? document.readyState === "complete" : document.readyState !== "loading") {
        var elements = document.querySelectorAll(".post img");
        Array.prototype.forEach.call(elements, function(el, i) {
            if (el.getAttribute("title") && (el.className != "emoji")) {
                const caption = document.createElement('figcaption');
                var node = document.createTextNode(el.getAttribute("title"));
                caption.appendChild(node);
                const wrapper = document.createElement('figure');
                wrapper.className = 'image';
                el.parentNode.insertBefore(wrapper, el);
                el.parentNode.removeChild(el);
                wrapper.appendChild(el);
                wrapper.appendChild(caption);
            }
        });
    } else { document.addEventListener('DOMContentLoaded', fn); }
}
window.onload = wrap_img;
</script>

<script>
    document.addEventListener("DOMContentLoaded", function(){
    // add link icon to anchor tags
    var elem = document.querySelectorAll(".anchor-link")
    elem.forEach(e => (e.innerHTML = '<i class="fas fa-link fa-xs"></i>'));
    });
</script>
</head>
<body><header class="site-header">

  <div class="wrapper"><a class="site-title" rel="author" href="/The-Pentagon/">Jagger&#39;s Website</a><nav class="site-nav">
        <input type="checkbox" id="nav-trigger" class="nav-trigger" />
        <label for="nav-trigger">
          <span class="menu-icon">
            <svg viewBox="0 0 18 15" width="18px" height="15px">
              <path d="M18,1.484c0,0.82-0.665,1.484-1.484,1.484H1.484C0.665,2.969,0,2.304,0,1.484l0,0C0,0.665,0.665,0,1.484,0 h15.032C17.335,0,18,0.665,18,1.484L18,1.484z M18,7.516C18,8.335,17.335,9,16.516,9H1.484C0.665,9,0,8.335,0,7.516l0,0 c0-0.82,0.665-1.484,1.484-1.484h15.032C17.335,6.031,18,6.696,18,7.516L18,7.516z M18,13.516C18,14.335,17.335,15,16.516,15H1.484 C0.665,15,0,14.335,0,13.516l0,0c0-0.82,0.665-1.483,1.484-1.483h15.032C17.335,12.031,18,12.695,18,13.516L18,13.516z"/>
            </svg>
          </span>
        </label>

        <div class="trigger"><a class="page-link" href="/The-Pentagon/about/">About Me</a><a class="page-link" href="/The-Pentagon/_pages/javascript.html">Link to Javascript</a><a class="page-link" href="/The-Pentagon/search/">Search</a><a class="page-link" href="/The-Pentagon/categories/">Tags</a></div>
      </nav></div>
</header>
<main class="page-content" aria-label="Content">
      <div class="wrapper">
        <article class="post h-entry" itemscope itemtype="http://schema.org/BlogPosting">

  <header class="post-header">
    <h1 class="post-title p-name" itemprop="name headline">Title</h1><p class="post-meta post-meta-title"><time class="dt-published" datetime="2022-12-13T00:00:00-06:00" itemprop="datePublished">
        Dec 13, 2022
      </time>
       • <span class="read-time" title="Estimated read time">
    
    
      7 min read
    
</span></p>

    

    
      
        <div class="pb-5 d-flex flex-justify-center">
          <div class="px-2">

    <a href="https://github.com/jagermi3ster/The-Pentagon/tree/master/_notebooks/2022-12-13-simulations.ipynb" role="button" target="_blank">
<img class="notebook-badge-image" src="/The-Pentagon/assets/badges/github.svg" alt="View On GitHub">
    </a>
</div>

          <div class="px-2">
    <a href="https://mybinder.org/v2/gh/jagermi3ster/The-Pentagon/master?filepath=_notebooks%2F2022-12-13-simulations.ipynb" target="_blank">
        <img class="notebook-badge-image" src="/The-Pentagon/assets/badges/binder.svg" alt="Open In Binder"/>
    </a>
</div>

          <div class="px-2">
    <a href="https://colab.research.google.com/github/jagermi3ster/The-Pentagon/blob/master/_notebooks/2022-12-13-simulations.ipynb" target="_blank">
        <img class="notebook-badge-image" src="/The-Pentagon/assets/badges/colab.svg" alt="Open In Colab"/>
    </a>
</div>
          <div class="px-2">
  <a href="https://deepnote.com/launch?url=https%3A%2F%2Fgithub.com%2Fjagermi3ster%2FThe-Pentagon%2Fblob%2Fmaster%2F_notebooks%2F2022-12-13-simulations.ipynb" target="_blank">
      <img class="notebook-badge-image" src="/The-Pentagon/assets/badges/deepnote.svg" alt="Launch in Deepnote"/>
  </a>
</div>

        </div>
      </header>

  <div class="post-content e-content" itemprop="articleBody">
    <!--
#################################################
### THIS FILE WAS AUTOGENERATED! DO NOT EDIT! ###
#################################################
# file to edit: _notebooks/2022-12-13-simulations.ipynb
-->

<div class="container" id="notebook-container">
        
    
    
<div class="cell border-box-sizing code_cell rendered">
<div class="input">

<div class="inner_cell">
    <div class="input_area">
<div class=" highlight hl-python"><pre><span></span><span class="p">{</span>
 <span class="s2">&quot;cells&quot;</span><span class="p">:</span> <span class="p">[</span>
  <span class="p">{</span>
   <span class="s2">&quot;attachments&quot;</span><span class="p">:</span> <span class="p">{},</span>
   <span class="s2">&quot;cell_type&quot;</span><span class="p">:</span> <span class="s2">&quot;markdown&quot;</span><span class="p">,</span>
   <span class="s2">&quot;metadata&quot;</span><span class="p">:</span> <span class="p">{},</span>
   <span class="s2">&quot;source&quot;</span><span class="p">:</span> <span class="p">[</span>
    <span class="s2">&quot;# 3.16 Lesson</span><span class="se">\n</span><span class="s2">&quot;</span><span class="p">,</span>
    <span class="s2">&quot;&gt; Lesson about simulations and what they&#39;re used for </span><span class="se">\n</span><span class="s2">&quot;</span><span class="p">,</span>
    <span class="s2">&quot;</span><span class="se">\n</span><span class="s2">&quot;</span><span class="p">,</span>
    <span class="s2">&quot;- layout: default</span><span class="se">\n</span><span class="s2">&quot;</span><span class="p">,</span>
    <span class="s2">&quot;- toc: true</span><span class="se">\n</span><span class="s2">&quot;</span><span class="p">,</span>
    <span class="s2">&quot;- badges: false</span><span class="se">\n</span><span class="s2">&quot;</span><span class="p">,</span>
    <span class="s2">&quot;- comments: true</span><span class="se">\n</span><span class="s2">&quot;</span><span class="p">,</span>
    <span class="s2">&quot;- categories: [lesson]&quot;</span>
   <span class="p">]</span>
  <span class="p">},</span>
  <span class="p">{</span>
   <span class="s2">&quot;attachments&quot;</span><span class="p">:</span> <span class="p">{},</span>
   <span class="s2">&quot;cell_type&quot;</span><span class="p">:</span> <span class="s2">&quot;markdown&quot;</span><span class="p">,</span>
   <span class="s2">&quot;metadata&quot;</span><span class="p">:</span> <span class="p">{},</span>
   <span class="s2">&quot;source&quot;</span><span class="p">:</span> <span class="p">[</span>
    <span class="s2">&quot;# First Order of Business: Get your notebook </span><span class="se">\n</span><span class="s2">&quot;</span><span class="p">,</span>
    <span class="s2">&quot;</span><span class="se">\n</span><span class="s2">&quot;</span><span class="p">,</span>
    <span class="s2">&quot;- Open a terminal in vscode, run command: cd _notebooks, type &#39;wget&#39; and paste this link into said terminal and run it </span><span class="se">\n</span><span class="s2">&quot;</span><span class="p">,</span>
    <span class="s2">&quot;</span><span class="se">\n</span><span class="s2">&quot;</span><span class="p">,</span>
    <span class="s2">&quot;- Take notes wherever you please, but you will be graded on participating &quot;</span>
   <span class="p">]</span>
  <span class="p">},</span>
  <span class="p">{</span>
   <span class="s2">&quot;attachments&quot;</span><span class="p">:</span> <span class="p">{},</span>
   <span class="s2">&quot;cell_type&quot;</span><span class="p">:</span> <span class="s2">&quot;markdown&quot;</span><span class="p">,</span>
   <span class="s2">&quot;metadata&quot;</span><span class="p">:</span> <span class="p">{},</span>
   <span class="s2">&quot;source&quot;</span><span class="p">:</span> <span class="p">[</span>
    <span class="s2">&quot;# So, what is a simulation anyway? </span><span class="se">\n</span><span class="s2">&quot;</span><span class="p">,</span>
    <span class="s2">&quot;</span><span class="se">\n</span><span class="s2">&quot;</span><span class="p">,</span>
    <span class="s2">&quot;- A simulation is a tested scenario used for viewing results/outputs to prepare for them in real world situations </span><span class="se">\n</span><span class="s2">&quot;</span><span class="p">,</span>
    <span class="s2">&quot;</span><span class="se">\n</span><span class="s2">&quot;</span><span class="p">,</span>
    <span class="s2">&quot;- These can be used for games like dice rolling, spinners, etc </span><span class="se">\n</span><span class="s2">&quot;</span><span class="p">,</span>
    <span class="s2">&quot;</span><span class="se">\n</span><span class="s2">&quot;</span><span class="p">,</span>
    <span class="s2">&quot;- These can be used for practical things such as building structures, testing car crashes, and other things before engaging in them in the real world </span><span class="se">\n</span><span class="s2">&quot;</span><span class="p">,</span>
    <span class="s2">&quot;</span><span class="se">\n</span><span class="s2">&quot;</span><span class="p">,</span>
    <span class="s2">&quot;- These simulations can have the option of obeying real world physics (Gravity, collision) or they can go against these norms since this is a fictitious scenario, and couldn&#39;t happen in real life&quot;</span>
   <span class="p">]</span>
  <span class="p">},</span>
  <span class="p">{</span>
   <span class="s2">&quot;attachments&quot;</span><span class="p">:</span> <span class="p">{},</span>
   <span class="s2">&quot;cell_type&quot;</span><span class="p">:</span> <span class="s2">&quot;markdown&quot;</span><span class="p">,</span>
   <span class="s2">&quot;metadata&quot;</span><span class="p">:</span> <span class="p">{},</span>
   <span class="s2">&quot;source&quot;</span><span class="p">:</span> <span class="p">[</span>
    <span class="s2">&quot;# Big Question </span><span class="se">\n</span><span class="s2">&quot;</span><span class="p">,</span>
    <span class="s2">&quot;</span><span class="se">\n</span><span class="s2">&quot;</span><span class="p">,</span>
    <span class="s2">&quot;- Which of the following simulations could be the LEAST useful? </span><span class="se">\n</span><span class="s2">&quot;</span><span class="p">,</span>
    <span class="s2">&quot;</span><span class="se">\n</span><span class="s2">&quot;</span><span class="p">,</span>
    <span class="s2">&quot;- A retailer trying to identify which products sold the most </span><span class="se">\n</span><span class="s2">&quot;</span><span class="p">,</span>
    <span class="s2">&quot;- A restaurant determining the efficiency of robots </span><span class="se">\n</span><span class="s2">&quot;</span><span class="p">,</span>
    <span class="s2">&quot;- An insurance company studying the rain impact of cars </span><span class="se">\n</span><span class="s2">&quot;</span><span class="p">,</span>
    <span class="s2">&quot;- A sports bike company studying design changes to their new bike design </span><span class="se">\n</span><span class="s2">&quot;</span><span class="p">,</span>
    <span class="s2">&quot;</span><span class="se">\n</span><span class="s2">&quot;</span><span class="p">,</span>
    <span class="s2">&quot;</span><span class="se">\n</span><span class="s2">&quot;</span><span class="p">,</span>
    <span class="s2">&quot;</span><span class="se">\n</span><span class="s2">&quot;</span><span class="p">,</span>
    <span class="s2">&quot;- If you guessed a bike company, you&#39;re wrong, because the retail simulation was the right answer. Simulating robots in food service, sudying rain impact on vehicles, and new bike design can contribute a lot more to society in comparison to seeing what products sell more than others. </span><span class="se">\n</span><span class="s2">&quot;</span>
   <span class="p">]</span>
  <span class="p">},</span>
  <span class="p">{</span>
   <span class="s2">&quot;attachments&quot;</span><span class="p">:</span> <span class="p">{},</span>
   <span class="s2">&quot;cell_type&quot;</span><span class="p">:</span> <span class="s2">&quot;markdown&quot;</span><span class="p">,</span>
   <span class="s2">&quot;metadata&quot;</span><span class="p">:</span> <span class="p">{},</span>
   <span class="s2">&quot;source&quot;</span><span class="p">:</span> <span class="p">[</span>
    <span class="s2">&quot;# Next Big Question </span><span class="se">\n</span><span class="s2">&quot;</span><span class="p">,</span>
    <span class="s2">&quot;</span><span class="se">\n</span><span class="s2">&quot;</span><span class="p">,</span>
    <span class="s2">&quot;If you were making a simulation for making a new train station, which of the following would be true about this simulation? </span><span class="se">\n</span><span class="s2">&quot;</span><span class="p">,</span>
    <span class="s2">&quot;</span><span class="se">\n</span><span class="s2">&quot;</span><span class="p">,</span>
    <span class="s2">&quot;- It could reveal potential problems/safety issues before construction starts </span><span class="se">\n</span><span class="s2">&quot;</span><span class="p">,</span>
    <span class="s2">&quot;- It cannot be used to test the train station in different weather </span><span class="se">\n</span><span class="s2">&quot;</span><span class="p">,</span>
    <span class="s2">&quot;- Simulation will add high costs to projects </span><span class="se">\n</span><span class="s2">&quot;</span><span class="p">,</span>
    <span class="s2">&quot;- Simulation is not needed because this train station already exists  </span><span class="se">\n</span><span class="s2">&quot;</span><span class="p">,</span>
    <span class="s2">&quot;</span><span class="se">\n</span><span class="s2">&quot;</span><span class="p">,</span>
    <span class="s2">&quot;</span><span class="se">\n</span><span class="s2">&quot;</span><span class="p">,</span>
    <span class="s2">&quot;</span><span class="se">\n</span><span class="s2">&quot;</span><span class="p">,</span>
    <span class="s2">&quot;</span><span class="se">\n</span><span class="s2">&quot;</span><span class="p">,</span>
    <span class="s2">&quot;- Potential Saftey was the right answer, because you need somewhere to test the safety and ethicness of what you&#39;re about to do before you start building it. Otherwise, let&#39;s just say you&#39;ll have a special plaque for FBI&#39;s Most Wanted</span><span class="se">\n</span><span class="s2">&quot;</span>
   <span class="p">]</span>
  <span class="p">},</span>
  <span class="p">{</span>
   <span class="s2">&quot;attachments&quot;</span><span class="p">:</span> <span class="p">{},</span>
   <span class="s2">&quot;cell_type&quot;</span><span class="p">:</span> <span class="s2">&quot;markdown&quot;</span><span class="p">,</span>
   <span class="s2">&quot;metadata&quot;</span><span class="p">:</span> <span class="p">{},</span>
   <span class="s2">&quot;source&quot;</span><span class="p">:</span> <span class="p">[</span>
    <span class="s2">&quot;# Simulation 1: </span><span class="se">\n</span><span class="s2">&quot;</span><span class="p">,</span>
    <span class="s2">&quot;</span><span class="se">\n</span><span class="s2">&quot;</span><span class="p">,</span>
    <span class="s2">&quot;Both programs below do the same thing. Given a height and a weight, they calculate how long it will take for a object to fall to the ground in a vacuum subjected to normal Earth levels of gravity. </span><span class="se">\n</span><span class="s2">&quot;</span><span class="p">,</span>
    <span class="s2">&quot;</span><span class="se">\n</span><span class="s2">&quot;</span><span class="p">,</span>
    <span class="s2">&quot;However, the second one is a simulation. It calculates the distance the object has fallen every 0.1 seconds. This is useful for if you wanted a visual representation of a falling object, which pure math can&#39;t do as smoothly. &quot;</span>
   <span class="p">]</span>
  <span class="p">},</span>
  <span class="p">{</span>
   <span class="s2">&quot;cell_type&quot;</span><span class="p">:</span> <span class="s2">&quot;code&quot;</span><span class="p">,</span>
   <span class="s2">&quot;execution_count&quot;</span><span class="p">:</span> <span class="n">null</span><span class="p">,</span>
   <span class="s2">&quot;metadata&quot;</span><span class="p">:</span> <span class="p">{},</span>
   <span class="s2">&quot;outputs&quot;</span><span class="p">:</span> <span class="p">[],</span>
   <span class="s2">&quot;source&quot;</span><span class="p">:</span> <span class="p">[</span>
    <span class="s2">&quot;height = float(input(</span><span class="se">\&quot;</span><span class="s2">height in meters?</span><span class="se">\&quot;</span><span class="s2">))</span><span class="se">\n</span><span class="s2">&quot;</span><span class="p">,</span>
    <span class="s2">&quot;</span><span class="se">\n</span><span class="s2">&quot;</span><span class="p">,</span>
    <span class="s2">&quot;weight = input(</span><span class="se">\&quot;</span><span class="s2">weight in pounds?</span><span class="se">\&quot;</span><span class="s2">)</span><span class="se">\n</span><span class="s2">&quot;</span><span class="p">,</span>
    <span class="s2">&quot;</span><span class="se">\n</span><span class="s2">&quot;</span><span class="p">,</span>
    <span class="s2">&quot;stuff = (2 * (height / 9.8))**(1/2)</span><span class="se">\n</span><span class="s2">&quot;</span><span class="p">,</span>
    <span class="s2">&quot;</span><span class="se">\n</span><span class="s2">&quot;</span><span class="p">,</span>
    <span class="s2">&quot;print(</span><span class="se">\&quot;</span><span class="s2">It will take</span><span class="se">\&quot;</span><span class="s2">, stuff,</span><span class="se">\&quot;</span><span class="s2">seconds for an object that weighs</span><span class="se">\&quot;</span><span class="s2">,weight,</span><span class="se">\&quot;</span><span class="s2">pounds</span><span class="se">\&quot;</span><span class="s2">,</span><span class="se">\&quot;</span><span class="s2">to fall </span><span class="se">\&quot;</span><span class="s2">,height,</span><span class="se">\&quot;</span><span class="s2">meters in a vacuum</span><span class="se">\&quot;</span><span class="s2">)&quot;</span>
   <span class="p">]</span>
  <span class="p">},</span>
  <span class="p">{</span>
   <span class="s2">&quot;cell_type&quot;</span><span class="p">:</span> <span class="s2">&quot;code&quot;</span><span class="p">,</span>
   <span class="s2">&quot;execution_count&quot;</span><span class="p">:</span> <span class="n">null</span><span class="p">,</span>
   <span class="s2">&quot;metadata&quot;</span><span class="p">:</span> <span class="p">{},</span>
   <span class="s2">&quot;outputs&quot;</span><span class="p">:</span> <span class="p">[],</span>
   <span class="s2">&quot;source&quot;</span><span class="p">:</span> <span class="p">[</span>
    <span class="s2">&quot;t = 0</span><span class="se">\n</span><span class="s2">&quot;</span><span class="p">,</span>
    <span class="s2">&quot;g = 0</span><span class="se">\n</span><span class="s2">&quot;</span><span class="p">,</span>
    <span class="s2">&quot;d = 0</span><span class="se">\n</span><span class="s2">&quot;</span><span class="p">,</span>
    <span class="s2">&quot;false = True</span><span class="se">\n</span><span class="s2">&quot;</span><span class="p">,</span>
    <span class="s2">&quot;while false:</span><span class="se">\n</span><span class="s2">&quot;</span><span class="p">,</span>
    <span class="s2">&quot;    t = t + 0.1</span><span class="se">\n</span><span class="s2">&quot;</span><span class="p">,</span>
    <span class="s2">&quot;    d = 9.8 / 2 * (t**2)</span><span class="se">\n</span><span class="s2">&quot;</span><span class="p">,</span>
    <span class="s2">&quot;    if d &gt;= height:</span><span class="se">\n</span><span class="s2">&quot;</span><span class="p">,</span>
    <span class="s2">&quot;        false = False</span><span class="se">\n</span><span class="s2">&quot;</span><span class="p">,</span>
    <span class="s2">&quot;    #print(d) # if you want to print the distance every time it calculates it. Too long to output to a terminal, but this could be useful to display graphically. </span><span class="se">\n</span><span class="s2">&quot;</span><span class="p">,</span>
    <span class="s2">&quot;    #print(t)</span><span class="se">\n</span><span class="s2">&quot;</span><span class="p">,</span>
    <span class="s2">&quot;</span><span class="se">\n</span><span class="s2">&quot;</span><span class="p">,</span>
    <span class="s2">&quot;print(t)</span><span class="se">\n</span><span class="s2">&quot;</span><span class="p">,</span>
    <span class="s2">&quot;print(d)&quot;</span>
   <span class="p">]</span>
  <span class="p">},</span>
  <span class="p">{</span>
   <span class="s2">&quot;attachments&quot;</span><span class="p">:</span> <span class="p">{},</span>
   <span class="s2">&quot;cell_type&quot;</span><span class="p">:</span> <span class="s2">&quot;markdown&quot;</span><span class="p">,</span>
   <span class="s2">&quot;metadata&quot;</span><span class="p">:</span> <span class="p">{},</span>
   <span class="s2">&quot;source&quot;</span><span class="p">:</span> <span class="p">[</span>
    <span class="s2">&quot;# Simulation 2: </span><span class="se">\n</span><span class="s2">&quot;</span><span class="p">,</span>
    <span class="s2">&quot;</span><span class="se">\n</span><span class="s2">&quot;</span><span class="p">,</span>
    <span class="s2">&quot;- This simulation is made in order to simulate movement on a 2d plane vs a 3d plane.  </span><span class="se">\n</span><span class="s2">&quot;</span><span class="p">,</span>
    <span class="s2">&quot;</span><span class="se">\n</span><span class="s2">&quot;</span><span class="p">,</span>
    <span class="s2">&quot;- How it works: we have multiple variables, if statements and equations under a while command in order to randomy generate steps on a 2d plane. Once it reaches the set destination, it will say that the man made it home after x amount of steps. </span><span class="se">\n</span><span class="s2">&quot;</span><span class="p">,</span>
    <span class="s2">&quot;</span><span class="se">\n</span><span class="s2">&quot;</span><span class="p">,</span>
    <span class="s2">&quot;- For the 3D plane, it takes a lot longer due to how big and open the 3d environment is, so there are more if statements in the 3d plane </span><span class="se">\n</span><span class="s2">&quot;</span><span class="p">,</span>
    <span class="s2">&quot;</span><span class="se">\n</span><span class="s2">&quot;</span><span class="p">,</span>
    <span class="s2">&quot;(explain further)</span><span class="se">\n</span><span class="s2">&quot;</span><span class="p">,</span>
    <span class="s2">&quot;</span><span class="se">\n</span><span class="s2">&quot;</span>
   <span class="p">]</span>
  <span class="p">},</span>
  <span class="p">{</span>
   <span class="s2">&quot;cell_type&quot;</span><span class="p">:</span> <span class="s2">&quot;code&quot;</span><span class="p">,</span>
   <span class="s2">&quot;execution_count&quot;</span><span class="p">:</span> <span class="n">null</span><span class="p">,</span>
   <span class="s2">&quot;metadata&quot;</span><span class="p">:</span> <span class="p">{},</span>
   <span class="s2">&quot;outputs&quot;</span><span class="p">:</span> <span class="p">[],</span>
   <span class="s2">&quot;source&quot;</span><span class="p">:</span> <span class="p">[</span>
    <span class="s2">&quot;import random</span><span class="se">\n</span><span class="s2">&quot;</span><span class="p">,</span>
    <span class="s2">&quot;x = 0</span><span class="se">\n</span><span class="s2">&quot;</span><span class="p">,</span>
    <span class="s2">&quot;y = 0</span><span class="se">\n</span><span class="s2">&quot;</span><span class="p">,</span>
    <span class="s2">&quot;nights = 0</span><span class="se">\n</span><span class="s2">&quot;</span><span class="p">,</span>
    <span class="s2">&quot;turn = 0</span><span class="se">\n</span><span class="s2">&quot;</span><span class="p">,</span>
    <span class="s2">&quot;stopped = 0</span><span class="se">\n</span><span class="s2">&quot;</span><span class="p">,</span>
    <span class="s2">&quot;turns = []</span><span class="se">\n</span><span class="s2">&quot;</span><span class="p">,</span>
    <span class="s2">&quot;</span><span class="se">\n</span><span class="s2">&quot;</span><span class="p">,</span>
    <span class="s2">&quot;while (nights &lt; 100):</span><span class="se">\n</span><span class="s2">&quot;</span><span class="p">,</span>
    <span class="s2">&quot;    step = random.randrange(4)</span><span class="se">\n</span><span class="s2">&quot;</span><span class="p">,</span>
    <span class="s2">&quot;    if step == 0:</span><span class="se">\n</span><span class="s2">&quot;</span><span class="p">,</span>
    <span class="s2">&quot;        x = x+1</span><span class="se">\n</span><span class="s2">&quot;</span><span class="p">,</span>
    <span class="s2">&quot;    if step == 1:</span><span class="se">\n</span><span class="s2">&quot;</span><span class="p">,</span>
    <span class="s2">&quot;        x = x-1</span><span class="se">\n</span><span class="s2">&quot;</span><span class="p">,</span>
    <span class="s2">&quot;    if step == 2:</span><span class="se">\n</span><span class="s2">&quot;</span><span class="p">,</span>
    <span class="s2">&quot;        y = y+1</span><span class="se">\n</span><span class="s2">&quot;</span><span class="p">,</span>
    <span class="s2">&quot;    if step == 3:</span><span class="se">\n</span><span class="s2">&quot;</span><span class="p">,</span>
    <span class="s2">&quot;        y = y-1</span><span class="se">\n</span><span class="s2">&quot;</span><span class="p">,</span>
    <span class="s2">&quot;</span><span class="se">\n</span><span class="s2">&quot;</span><span class="p">,</span>
    <span class="s2">&quot;    turn = turn + 1</span><span class="se">\n</span><span class="s2">&quot;</span><span class="p">,</span>
    <span class="s2">&quot;</span><span class="se">\n</span><span class="s2">&quot;</span><span class="p">,</span>
    <span class="s2">&quot;    if x == 0 and y == 0:</span><span class="se">\n</span><span class="s2">&quot;</span><span class="p">,</span>
    <span class="s2">&quot;        nights = nights + 1</span><span class="se">\n</span><span class="s2">&quot;</span><span class="p">,</span>
    <span class="s2">&quot;        print(</span><span class="se">\&quot;</span><span class="s2">The Man Has Made It Home After </span><span class="se">\&quot;</span><span class="s2">, turn, </span><span class="se">\&quot;</span><span class="s2">Turns</span><span class="se">\&quot;</span><span class="s2">)</span><span class="se">\n</span><span class="s2">&quot;</span><span class="p">,</span>
    <span class="s2">&quot;        turns.append(turn)</span><span class="se">\n</span><span class="s2">&quot;</span><span class="p">,</span>
    <span class="s2">&quot;        turn = 0</span><span class="se">\n</span><span class="s2">&quot;</span><span class="p">,</span>
    <span class="s2">&quot;    if turn/1000 % 1000 == 0 and x + y != 0:</span><span class="se">\n</span><span class="s2">&quot;</span><span class="p">,</span>
    <span class="s2">&quot;        print(</span><span class="se">\&quot;</span><span class="s2">(</span><span class="se">\&quot;</span><span class="s2">, x,y, </span><span class="se">\&quot;</span><span class="s2">)</span><span class="se">\&quot;</span><span class="s2">)</span><span class="se">\n</span><span class="s2">&quot;</span><span class="p">,</span>
    <span class="s2">&quot;    if (turn &gt; 10000000):</span><span class="se">\n</span><span class="s2">&quot;</span><span class="p">,</span>
    <span class="s2">&quot;        stopped = stopped + 1</span><span class="se">\n</span><span class="s2">&quot;</span><span class="p">,</span>
    <span class="s2">&quot;        turn = 0</span><span class="se">\n</span><span class="s2">&quot;</span><span class="p">,</span>
    <span class="s2">&quot;        x = 0</span><span class="se">\n</span><span class="s2">&quot;</span><span class="p">,</span>
    <span class="s2">&quot;        y = 0</span><span class="se">\n</span><span class="s2">&quot;</span><span class="p">,</span>
    <span class="s2">&quot;        nights = nights + 1</span><span class="se">\n</span><span class="s2">&quot;</span><span class="p">,</span>
    <span class="s2">&quot;        print(</span><span class="se">\&quot;</span><span class="s2">Caped</span><span class="se">\&quot;</span><span class="s2">)</span><span class="se">\n</span><span class="s2">&quot;</span><span class="p">,</span>
    <span class="s2">&quot;</span><span class="se">\n</span><span class="s2">&quot;</span><span class="p">,</span>
    <span class="s2">&quot;average = sum(turns) / len(turns)</span><span class="se">\n</span><span class="s2">&quot;</span><span class="p">,</span>
    <span class="s2">&quot;print(</span><span class="se">\&quot;</span><span class="s2">Avaerage</span><span class="se">\&quot;</span><span class="s2">, average, </span><span class="se">\&quot;</span><span class="s2">Ones that when&#39;t too long </span><span class="se">\&quot;</span><span class="s2">, stopped)&quot;</span>
   <span class="p">]</span>
  <span class="p">},</span>
  <span class="p">{</span>
   <span class="s2">&quot;cell_type&quot;</span><span class="p">:</span> <span class="s2">&quot;code&quot;</span><span class="p">,</span>
   <span class="s2">&quot;execution_count&quot;</span><span class="p">:</span> <span class="n">null</span><span class="p">,</span>
   <span class="s2">&quot;metadata&quot;</span><span class="p">:</span> <span class="p">{},</span>
   <span class="s2">&quot;outputs&quot;</span><span class="p">:</span> <span class="p">[],</span>
   <span class="s2">&quot;source&quot;</span><span class="p">:</span> <span class="p">[</span>
    <span class="s2">&quot;import random</span><span class="se">\n</span><span class="s2">&quot;</span><span class="p">,</span>
    <span class="s2">&quot;x = 0</span><span class="se">\n</span><span class="s2">&quot;</span><span class="p">,</span>
    <span class="s2">&quot;y = 0</span><span class="se">\n</span><span class="s2">&quot;</span><span class="p">,</span>
    <span class="s2">&quot;z = 0</span><span class="se">\n</span><span class="s2">&quot;</span><span class="p">,</span>
    <span class="s2">&quot;nights = 0</span><span class="se">\n</span><span class="s2">&quot;</span><span class="p">,</span>
    <span class="s2">&quot;turn = 0</span><span class="se">\n</span><span class="s2">&quot;</span><span class="p">,</span>
    <span class="s2">&quot;stopped = 0</span><span class="se">\n</span><span class="s2">&quot;</span><span class="p">,</span>
    <span class="s2">&quot;turns = []</span><span class="se">\n</span><span class="s2">&quot;</span><span class="p">,</span>
    <span class="s2">&quot;</span><span class="se">\n</span><span class="s2">&quot;</span><span class="p">,</span>
    <span class="s2">&quot;while (nights &lt; 100):</span><span class="se">\n</span><span class="s2">&quot;</span><span class="p">,</span>
    <span class="s2">&quot;    #rando movement</span><span class="se">\n</span><span class="s2">&quot;</span><span class="p">,</span>
    <span class="s2">&quot;    step = random.randrange(6)</span><span class="se">\n</span><span class="s2">&quot;</span><span class="p">,</span>
    <span class="s2">&quot;    if step == 0:</span><span class="se">\n</span><span class="s2">&quot;</span><span class="p">,</span>
    <span class="s2">&quot;        x = x+1</span><span class="se">\n</span><span class="s2">&quot;</span><span class="p">,</span>
    <span class="s2">&quot;    if step == 1:</span><span class="se">\n</span><span class="s2">&quot;</span><span class="p">,</span>
    <span class="s2">&quot;        x = x-1</span><span class="se">\n</span><span class="s2">&quot;</span><span class="p">,</span>
    <span class="s2">&quot;    if step == 2:</span><span class="se">\n</span><span class="s2">&quot;</span><span class="p">,</span>
    <span class="s2">&quot;        y = y+1</span><span class="se">\n</span><span class="s2">&quot;</span><span class="p">,</span>
    <span class="s2">&quot;    if step == 3:</span><span class="se">\n</span><span class="s2">&quot;</span><span class="p">,</span>
    <span class="s2">&quot;        y = y-1</span><span class="se">\n</span><span class="s2">&quot;</span><span class="p">,</span>
    <span class="s2">&quot;    if step == 4:</span><span class="se">\n</span><span class="s2">&quot;</span><span class="p">,</span>
    <span class="s2">&quot;        z = z+1</span><span class="se">\n</span><span class="s2">&quot;</span><span class="p">,</span>
    <span class="s2">&quot;    if step == 5:</span><span class="se">\n</span><span class="s2">&quot;</span><span class="p">,</span>
    <span class="s2">&quot;        z = z-1</span><span class="se">\n</span><span class="s2">&quot;</span><span class="p">,</span>
    <span class="s2">&quot;    #Turn counter</span><span class="se">\n</span><span class="s2">&quot;</span><span class="p">,</span>
    <span class="s2">&quot;    turn = turn + 1</span><span class="se">\n</span><span class="s2">&quot;</span><span class="p">,</span>
    <span class="s2">&quot;    #Goal check</span><span class="se">\n</span><span class="s2">&quot;</span><span class="p">,</span>
    <span class="s2">&quot;    if x == 0 and y == 0 and z == 0:</span><span class="se">\n</span><span class="s2">&quot;</span><span class="p">,</span>
    <span class="s2">&quot;        nights = nights + 1</span><span class="se">\n</span><span class="s2">&quot;</span><span class="p">,</span>
    <span class="s2">&quot;        print(</span><span class="se">\&quot;</span><span class="s2">The Bird Has Made It Home After </span><span class="se">\&quot;</span><span class="s2">, turn, </span><span class="se">\&quot;</span><span class="s2">Turns</span><span class="se">\&quot;</span><span class="s2">)</span><span class="se">\n</span><span class="s2">&quot;</span><span class="p">,</span>
    <span class="s2">&quot;        turns.append(turn)</span><span class="se">\n</span><span class="s2">&quot;</span><span class="p">,</span>
    <span class="s2">&quot;        turn = 0</span><span class="se">\n</span><span class="s2">&quot;</span><span class="p">,</span>
    <span class="s2">&quot;    if turn/1000 % 1000 == 0 and x + y + z != 0:</span><span class="se">\n</span><span class="s2">&quot;</span><span class="p">,</span>
    <span class="s2">&quot;        print(</span><span class="se">\&quot;</span><span class="s2">(</span><span class="se">\&quot;</span><span class="s2">, x,y, </span><span class="se">\&quot;</span><span class="s2">) </span><span class="se">\&quot;</span><span class="s2">,</span><span class="se">\&quot;</span><span class="s2">| </span><span class="se">\&quot;</span><span class="s2">, z)</span><span class="se">\n</span><span class="s2">&quot;</span><span class="p">,</span>
    <span class="s2">&quot;    #Too long Stoper</span><span class="se">\n</span><span class="s2">&quot;</span><span class="p">,</span>
    <span class="s2">&quot;    if (turn &gt; 10000000):</span><span class="se">\n</span><span class="s2">&quot;</span><span class="p">,</span>
    <span class="s2">&quot;        stopped = stopped + 1</span><span class="se">\n</span><span class="s2">&quot;</span><span class="p">,</span>
    <span class="s2">&quot;        turn = 0</span><span class="se">\n</span><span class="s2">&quot;</span><span class="p">,</span>
    <span class="s2">&quot;        x = 0</span><span class="se">\n</span><span class="s2">&quot;</span><span class="p">,</span>
    <span class="s2">&quot;        y = 0</span><span class="se">\n</span><span class="s2">&quot;</span><span class="p">,</span>
    <span class="s2">&quot;        z = 0</span><span class="se">\n</span><span class="s2">&quot;</span><span class="p">,</span>
    <span class="s2">&quot;        nights = nights + 1</span><span class="se">\n</span><span class="s2">&quot;</span><span class="p">,</span>
    <span class="s2">&quot;        print(</span><span class="se">\&quot;</span><span class="s2">Caped</span><span class="se">\&quot;</span><span class="s2">)</span><span class="se">\n</span><span class="s2">&quot;</span><span class="p">,</span>
    <span class="s2">&quot;</span><span class="se">\n</span><span class="s2">&quot;</span><span class="p">,</span>
    <span class="s2">&quot;average = sum(turns) / len(turns)</span><span class="se">\n</span><span class="s2">&quot;</span><span class="p">,</span>
    <span class="s2">&quot;print(</span><span class="se">\&quot;</span><span class="s2">Avaerage</span><span class="se">\&quot;</span><span class="s2">, average,</span><span class="se">\&quot;</span><span class="s2">Ones that when&#39;t too long </span><span class="se">\&quot;</span><span class="s2">, stopped)&quot;</span>
   <span class="p">]</span>
  <span class="p">},</span>
  <span class="p">{</span>
   <span class="s2">&quot;attachments&quot;</span><span class="p">:</span> <span class="p">{},</span>
   <span class="s2">&quot;cell_type&quot;</span><span class="p">:</span> <span class="s2">&quot;markdown&quot;</span><span class="p">,</span>
   <span class="s2">&quot;metadata&quot;</span><span class="p">:</span> <span class="p">{},</span>
   <span class="s2">&quot;source&quot;</span><span class="p">:</span> <span class="p">[</span>
    <span class="s2">&quot;# Simulations in the wild</span><span class="se">\n</span><span class="s2">&quot;</span><span class="p">,</span>
    <span class="s2">&quot;</span><span class="se">\n</span><span class="s2">&quot;</span><span class="p">,</span>
    <span class="s2">&quot;Simulations are used extremely frequently in real life applications. One of the most common examples of simulations are video games. A games physics engine can accurately simulate objects colliding </span><span class="se">\n</span><span class="s2">&quot;</span><span class="p">,</span>
    <span class="s2">&quot;</span><span class="se">\n</span><span class="s2">&quot;</span><span class="p">,</span>
    <span class="s2">&quot;Another example is Blender, the software used in 3d animations class, here at Del Norte. Blender is made up of many small simulations, but one big one it uses is simulating the way light bounces off of and interacts with objects. &quot;</span>
   <span class="p">]</span>
  <span class="p">},</span>
  <span class="p">{</span>
   <span class="s2">&quot;attachments&quot;</span><span class="p">:</span> <span class="p">{},</span>
   <span class="s2">&quot;cell_type&quot;</span><span class="p">:</span> <span class="s2">&quot;markdown&quot;</span><span class="p">,</span>
   <span class="s2">&quot;metadata&quot;</span><span class="p">:</span> <span class="p">{},</span>
   <span class="s2">&quot;source&quot;</span><span class="p">:</span> <span class="p">[</span>
    <span class="s2">&quot;# HW !!!</span><span class="se">\n</span><span class="s2">&quot;</span><span class="p">,</span>
    <span class="s2">&quot;</span><span class="se">\n</span><span class="s2">&quot;</span><span class="p">,</span>
    <span class="s2">&quot;Create a simulation. It can be anything, just has to simulate something.</span><span class="se">\n</span><span class="s2">&quot;</span><span class="p">,</span>
    <span class="s2">&quot;</span><span class="se">\n</span><span class="s2">&quot;</span><span class="p">,</span>
    <span class="s2">&quot;Some ideas:</span><span class="se">\n</span><span class="s2">&quot;</span><span class="p">,</span>
    <span class="s2">&quot;</span><span class="se">\n</span><span class="s2">&quot;</span><span class="p">,</span>
    <span class="s2">&quot;- Two objects colliding</span><span class="se">\n</span><span class="s2">&quot;</span><span class="p">,</span>
    <span class="s2">&quot;- Gravity on other planets</span><span class="se">\n</span><span class="s2">&quot;</span><span class="p">,</span>
    <span class="s2">&quot;</span><span class="se">\n</span><span class="s2">&quot;</span><span class="p">,</span>
    <span class="s2">&quot;AND</span><span class="se">\n</span><span class="s2">&quot;</span><span class="p">,</span>
    <span class="s2">&quot;</span><span class="se">\n</span><span class="s2">&quot;</span><span class="p">,</span>
    <span class="s2">&quot;Find an example of a simulation in a software/game you use, screenshot, and explain how it is a simulation&quot;</span>
   <span class="p">]</span>
  <span class="p">}</span>
 <span class="p">],</span>
 <span class="s2">&quot;metadata&quot;</span><span class="p">:</span> <span class="p">{</span>
  <span class="s2">&quot;kernelspec&quot;</span><span class="p">:</span> <span class="p">{</span>
   <span class="s2">&quot;display_name&quot;</span><span class="p">:</span> <span class="s2">&quot;Python 3&quot;</span><span class="p">,</span>
   <span class="s2">&quot;language&quot;</span><span class="p">:</span> <span class="s2">&quot;python&quot;</span><span class="p">,</span>
   <span class="s2">&quot;name&quot;</span><span class="p">:</span> <span class="s2">&quot;python3&quot;</span>
  <span class="p">},</span>
  <span class="s2">&quot;language_info&quot;</span><span class="p">:</span> <span class="p">{</span>
   <span class="s2">&quot;codemirror_mode&quot;</span><span class="p">:</span> <span class="p">{</span>
    <span class="s2">&quot;name&quot;</span><span class="p">:</span> <span class="s2">&quot;ipython&quot;</span><span class="p">,</span>
    <span class="s2">&quot;version&quot;</span><span class="p">:</span> <span class="mi">3</span>
   <span class="p">},</span>
   <span class="s2">&quot;file_extension&quot;</span><span class="p">:</span> <span class="s2">&quot;.py&quot;</span><span class="p">,</span>
   <span class="s2">&quot;mimetype&quot;</span><span class="p">:</span> <span class="s2">&quot;text/x-python&quot;</span><span class="p">,</span>
   <span class="s2">&quot;name&quot;</span><span class="p">:</span> <span class="s2">&quot;python&quot;</span><span class="p">,</span>
   <span class="s2">&quot;nbconvert_exporter&quot;</span><span class="p">:</span> <span class="s2">&quot;python&quot;</span><span class="p">,</span>
   <span class="s2">&quot;pygments_lexer&quot;</span><span class="p">:</span> <span class="s2">&quot;ipython3&quot;</span><span class="p">,</span>
   <span class="s2">&quot;version&quot;</span><span class="p">:</span> <span class="s2">&quot;3.8.10&quot;</span>
  <span class="p">},</span>
  <span class="s2">&quot;orig_nbformat&quot;</span><span class="p">:</span> <span class="mi">4</span><span class="p">,</span>
  <span class="s2">&quot;vscode&quot;</span><span class="p">:</span> <span class="p">{</span>
   <span class="s2">&quot;interpreter&quot;</span><span class="p">:</span> <span class="p">{</span>
    <span class="s2">&quot;hash&quot;</span><span class="p">:</span> <span class="s2">&quot;916dbcbb3f70747c44a77c7bcd40155683ae19c65e1c03b4aa3499c5328201f1&quot;</span>
   <span class="p">}</span>
  <span class="p">}</span>
 <span class="p">},</span>
 <span class="s2">&quot;nbformat&quot;</span><span class="p">:</span> <span class="mi">4</span><span class="p">,</span>
 <span class="s2">&quot;nbformat_minor&quot;</span><span class="p">:</span> <span class="mi">2</span>
<span class="p">}</span>
</pre></div>

    </div>
</div>
</div>

</div>
    

</div>
 



  </div><a class="u-url" href="/The-Pentagon/2022/12/13/simulations.ipynb" hidden></a>
</article>

      </div>
    </main><footer class="site-footer h-card">
  <data class="u-url" href="/The-Pentagon/"></data>

  <div class="wrapper">

    <div class="footer-col-wrapper">
      <div class="footer-col">
        <p class="feed-subscribe">
          <a href="/The-Pentagon/feed.xml">
            <svg class="svg-icon orange">
              <use xlink:href="/The-Pentagon/assets/minima-social-icons.svg#rss"></use>
            </svg><span>Subscribe</span>
          </a>
        </p>
      </div>
      <div class="footer-col">
        <p>My own blog!!</p>
      </div>
    </div>

    <div class="social-links"><ul class="social-media-list"><li>
  <a rel="me" href="” https://github.com/jagermi3ster “" target="_blank" title="github">
    <svg class="svg-icon grey">
      <use xlink:href="/The-Pentagon/assets/minima-social-icons.svg#github"></use>
    </svg>
  </a>
</li>
<li>
  <a rel="me" href="” https://twitter.com/jagermiester “" target="_blank" title="twitter">
    <svg class="svg-icon grey">
      <use xlink:href="/The-Pentagon/assets/minima-social-icons.svg#twitter"></use>
    </svg>
  </a>
</li>
<li>
  <a rel="me" href="” https://www.youtube.com/channel/UClIKOsDS5dsfzFA3zveDT3Q “" target="_blank" title="youtube">
    <svg class="svg-icon grey">
      <use xlink:href="/The-Pentagon/assets/minima-social-icons.svg#youtube"></use>
    </svg>
  </a>
</li>
</ul>
</div>

  </div>

</footer>
</body>

</html>
