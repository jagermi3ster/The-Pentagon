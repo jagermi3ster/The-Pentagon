{
 "cells": [
  {
   "cell_type": "markdown",
   "metadata": {},
   "source": [
    "#  Correcting errors\n",
    "\n",
    "- toc: true\n",
    "- branch: master\n",
    "- badges: true\n",
    "- comments: true\n",
    "- author: Jagger Klein\n",
    "- categories: [fastpages, jupyter]"
   ]
  },
  {
   "cell_type": "markdown",
   "metadata": {},
   "source": [
    "Seems there isn't any code for making the total not zero. AS well as no option to order more than one item. "
   ]
  },
  {
   "cell_type": "code",
   "execution_count": 4,
   "metadata": {},
   "outputs": [
    {
     "name": "stdout",
     "output_type": "stream",
     "text": [
      "Menu\n",
      "burger  $3.99\n",
      "fries  $1.99\n",
      "drink  $0.99\n",
      "0\n"
     ]
    }
   ],
   "source": [
    "menu =  {\"burger\": 3.99,\n",
    "         \"fries\": 1.99,\n",
    "         \"drink\": 0.99}\n",
    "total = 0\n",
    "\n",
    "#shows the user the menu and prompts them to select an item\n",
    "print(\"Menu\")\n",
    "for k,v in menu.items():\n",
    "    print(k + \"  $\" + str(v)) #why does v have \"str\" in front of it?\n",
    "\n",
    "#ideally the code should prompt the user multiple times\n",
    "item = input(\"Please select an item from the menu\")\n",
    "\n",
    "#code should add the price of the menu items selected by the user \n",
    "print(total)"
   ]
  },
  {
   "cell_type": "markdown",
   "metadata": {},
   "source": [
    "Making the total originaly zero and adding the prices to each item after they input it allows the user to make more than one order. Msg.lower makes it so all the text goes lowercase in case the user is using capitals. Def finish check allows the user to order more than one item. "
   ]
  },
  {
   "cell_type": "code",
   "execution_count": 7,
   "metadata": {},
   "outputs": [
    {
     "name": "stdout",
     "output_type": "stream",
     "text": [
      "-----MENU-----\n",
      "Sandwhich  $3.99\n",
      "Fries  $1.99\n",
      "Water  $0.99\n",
      "--------------\n",
      "You ordered a sandwhich.\n",
      "Your current total is $3.99.\n",
      "Is your order complete?\n",
      "Understood.\n",
      "-----MENU-----\n",
      "Sandwhich  $3.99\n",
      "Fries  $1.99\n",
      "Water  $0.99\n",
      "--------------\n",
      "You ordered fries.\n",
      "Your current total is $5.98.\n",
      "Is your order complete?\n",
      "Invalid response.\n",
      "Is your order complete?\n",
      "-----MENU-----\n",
      "Sandwhich  $3.99\n",
      "Fries  $1.99\n",
      "Water  $0.99\n",
      "--------------\n",
      "We don't serve that here.\n",
      "-----MENU-----\n",
      "Sandwhich  $3.99\n",
      "Fries  $1.99\n",
      "Water  $0.99\n",
      "--------------\n",
      "You ordered a water.\n",
      "Your current total is $6.97.\n",
      "Is your order complete?\n",
      "Understood.\n",
      "Your total is $6.97. Thank you for choosing Python's Pub.\n"
     ]
    }
   ],
   "source": [
    "affirmative = ['yes', 'Yes', 'yeah', 'Yeah', 'yup', 'Yup', 'y', 'Y', 'yea', 'Yea', 'mhm', 'Mhm', 'yep', 'Yep', 'Affirmative,' 'affirmative', 'sure', 'Sure', 'alright', 'Alright', 'okay', 'Okay', 'OK', 'ok', 'Ok']\n",
    "negative = ['No', 'no', 'Nope', 'nope', 'N', 'n', 'Nah', 'nah', 'nuh-uh', 'Nuh-uh', 'negative', 'Negative']\n",
    "#Capital and lowercase versions of all the responses are provided because this list was created before I knew how to force the string to be read as lower/uppercase\n",
    "\n",
    "menu =  {\"Sandwhich\": 3.99,\n",
    "         \"Fries\": 1.99,\n",
    "         \"Water\": 0.99}\n",
    "\n",
    "total = 0 #price is defined later here just so that it is defined first\n",
    "ordered = False\n",
    "def finish(): #function to allow the user to order another item\n",
    "    global fin\n",
    "    print(\"Is your order complete?\")\n",
    "    msg = input()\n",
    "    fin = msg.lower() #corrects for possible capitalized user response\n",
    "def finishcheck():\n",
    "    roundtotal = round(total, 2) #rounding to prevent certain sum errors with floats\n",
    "    print(\"Your current total is $\" + str(roundtotal) + \".\")\n",
    "    finish() #see just above\n",
    "    if fin in affirmative: #using affirmative bank to understand user responses\n",
    "        print(\"Understood.\")\n",
    "        return 0 #value to be read later (0 = stop)\n",
    "    elif fin in negative: #same but with negative\n",
    "        print(\"Understood.\")\n",
    "        return 1 #value to be read later (1 = continue)\n",
    "    else:\n",
    "        print(\"Invalid response.\")\n",
    "        finish() #repeating process when an invalid response is provided\n",
    "def ordercheck():\n",
    "    global total\n",
    "    msg = input(\"Please select an item from the menu\")\n",
    "    item = msg.capitalize()\n",
    "    for k,v in menu.items(): #for loop checks if input is one of the accepted dictionary keys\n",
    "        if item == k:\n",
    "            ordered = True\n",
    "            if k == \"Fries\":\n",
    "                print(\"You ordered fries.\")\n",
    "            else:\n",
    "                print(\"You ordered a \" + k.lower() + \".\")\n",
    "            total += v\n",
    "            return 1\n",
    "def order(): #defined as a function so that the process can be repeated\n",
    "    global ordered\n",
    "    print(\"-----MENU-----\")\n",
    "    for k,v in menu.items(): #reprinting the menu for each order\n",
    "        print(k + \"  $\" + str(v))\n",
    "    print(\"--------------\")\n",
    "    if ordered == True:\n",
    "        print(\"What else would you like to order?\")\n",
    "    if ordercheck() == 1:\n",
    "        if finishcheck() == 0:\n",
    "            return\n",
    "        else:\n",
    "            order()\n",
    "    else:\n",
    "        print(\"We don't serve that here.\")\n",
    "        order()\n",
    "\n",
    "order()\n",
    "roundtotal = round(total, 2) #rounding to prevent certain sum errors with floats\n",
    "print(\"Your total is $\" + str(roundtotal) + \". Thank you for choosing Python's Pub.\")"
   ]
  }
 ],
 "metadata": {
  "kernelspec": {
   "display_name": "Python 3.10.6 64-bit",
   "language": "python",
   "name": "python3"
  },
  "language_info": {
   "codemirror_mode": {
    "name": "ipython",
    "version": 3
   },
   "file_extension": ".py",
   "mimetype": "text/x-python",
   "name": "python",
   "nbconvert_exporter": "python",
   "pygments_lexer": "ipython3",
   "version": "3.10.6"
  },
  "orig_nbformat": 4,
  "vscode": {
   "interpreter": {
    "hash": "aee8b7b246df8f9039afb4144a1f6fd8d2ca17a180786b69acc140d282b71a49"
   }
  }
 },
 "nbformat": 4,
 "nbformat_minor": 2
}
