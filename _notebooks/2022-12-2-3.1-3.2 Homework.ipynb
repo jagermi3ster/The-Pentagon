{
 "cells": [
  {
   "cell_type": "markdown",
   "metadata": {},
   "source": [
    "# \"3.1 and 3.2 Homework and Hacks\"\n",
    "> \"Homework and Hacks for 3.1 and 3.2\"\n",
    "\n",
    "- toc: true\n",
    "- branch: master\n",
    "- badges: true\n",
    "- comments: true\n",
    "- author: Jagger Klein\n",
    "- categories: [fastpages, jupyter]"
   ]
  },
  {
   "cell_type": "code",
   "execution_count": 4,
   "metadata": {},
   "outputs": [],
   "source": [
    "Num1 = 50\n",
    "Num2 = Num1 % 9 + 15\n",
    "Num3 = Num2 / Num1 + ( Num2 * 2 )\n",
    "Num4 = Num3 + Num1 / 5 - 10\n",
    "Result = Num4 - Num2\n",
    "\n",
    "# Num1 = 50\n",
    "# Num2 = 20\n",
    "# Num3 = 40.4\n",
    "# Num4 = 40.4\n",
    "# Answer = 40.4 - 20 = 20.4"
   ]
  },
  {
   "cell_type": "code",
   "execution_count": 5,
   "metadata": {},
   "outputs": [],
   "source": [
    "Num1 = 10\n",
    "Num2 = Num1 % 3 * 4\n",
    "Num1 = Num2\n",
    "Num3 = Num1 * 3\n",
    "Result = Num3 % 2\n",
    "\n",
    "# Num1 = 4\n",
    "# Num2 = 4\n",
    "# Num3 = 12\n",
    "# Answer = 12 % 2 = 0 "
   ]
  },
  {
   "cell_type": "code",
   "execution_count": 6,
   "metadata": {},
   "outputs": [
    {
     "name": "stdout",
     "output_type": "stream",
     "text": [
      "17\n"
     ]
    }
   ],
   "source": [
    "valueA = 4\n",
    "valueB = 90\n",
    "valueC = 17\n",
    "valueB = valueC - valueA\n",
    "valueA = valueA * 10\n",
    "if valueB > 10:\n",
    "    print(valueC)\n",
    "\n",
    "# valueA = 40\n",
    "# valueB = 13\n",
    "# valueC = 17\n",
    "# Answer = 17"
   ]
  },
  {
   "cell_type": "code",
   "execution_count": 7,
   "metadata": {},
   "outputs": [
    {
     "name": "stdout",
     "output_type": "stream",
     "text": [
      "straightbrownshort\n"
     ]
    }
   ],
   "source": [
    "type = \"curly\"\n",
    "color = \"brown\"\n",
    "length = \"short\"\n",
    "type = \"straight\"\n",
    "hair = type + color + length\n",
    "print(hair)"
   ]
  },
  {
   "cell_type": "code",
   "execution_count": 2,
   "metadata": {},
   "outputs": [
    {
     "name": "stdout",
     "output_type": "stream",
     "text": [
      "Question: What country beat Spain yesterday in the world cup?\n",
      "Answer: Japan\n",
      "Correct Answer\n",
      "Question: Did the United States make it to the group stage of the World cup\n",
      "Answer: Yes\n",
      "Correct Answer\n",
      "Question: Who is the United States playing in the World Cup this saturday\n",
      "Answer: Netherlands\n",
      "Correct Answer\n",
      "Question: Who won the World Cup in 2018?\n",
      "Answer: France\n",
      "Correct Answer\n",
      "Question: Who is the most popular player that plays for Argentina?\n",
      "Answer: Messi\n",
      "Correct Answer\n",
      "5 Answers correct\n"
     ]
    }
   ],
   "source": [
    "import getpass, sys\n",
    "\n",
    "questions = 5\n",
    "correct = 0\n",
    "\n",
    "def question_and_answer(prompt, answer):\n",
    "    print(\"Question: \" + prompt)\n",
    "    msg = input()\n",
    "    print(\"Answer: \" + msg)\n",
    "\n",
    "    if answer == msg:\n",
    "        print(\"Correct Answer\")\n",
    "        global correct\n",
    "        correct+=1\n",
    "    else:\n",
    "        print (\"Incorrect Answer\")\n",
    " \n",
    "question_and_answer(\"What country beat Spain yesterday in the world cup?\", \"Japan\")\n",
    "question_and_answer(\"Did the United States make it to the group stage of the World cup\", \"Yes\")\n",
    "question_and_answer(\"Who is the United States playing in the World Cup this saturday\", \"Netherlands\")\n",
    "question_and_answer(\"Who won the World Cup in 2018?\", \"France\")\n",
    "question_and_answer(\"Who is the most popular player that plays for Argentina?\", \"Messi\")\n",
    "\n",
    "\n",
    "print(correct, \"Answers correct\")"
   ]
  }
 ],
 "metadata": {
  "kernelspec": {
   "display_name": "Python 3.10.6 64-bit",
   "language": "python",
   "name": "python3"
  },
  "language_info": {
   "codemirror_mode": {
    "name": "ipython",
    "version": 3
   },
   "file_extension": ".py",
   "mimetype": "text/x-python",
   "name": "python",
   "nbconvert_exporter": "python",
   "pygments_lexer": "ipython3",
   "version": "3.10.6"
  },
  "orig_nbformat": 4,
  "vscode": {
   "interpreter": {
    "hash": "aee8b7b246df8f9039afb4144a1f6fd8d2ca17a180786b69acc140d282b71a49"
   }
  }
 },
 "nbformat": 4,
 "nbformat_minor": 2
}
