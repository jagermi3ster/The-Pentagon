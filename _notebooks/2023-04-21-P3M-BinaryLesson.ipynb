{
 "cells": [
  {
   "attachments": {},
   "cell_type": "markdown",
   "metadata": {},
   "source": [
    "# P3-M 4/21 Binary Overview\n",
    "> A series of binary lessons focusssed on math and conversions.\n",
    "- toc: true\n",
    "- badges: false\n",
    "- comments: true\n",
    "- author: Colin Mills, Aiden Huynh, Toby Leeder, Dash Penning, Ekam Kaire, Ishi Singh, Azeem Khan, Nathan Capule\n",
    "- categories: [student]\n",
    "- type: ap\n",
    "- week: 30"
   ]
  },
  {
   "attachments": {},
   "cell_type": "markdown",
   "metadata": {},
   "source": [
    "## How to contact us\n",
    "Join the \"coding\" channel on slack! That is the only place where we will be answering questions or sending announcements about lessons. If you have a question please contact us there.\n",
    "#### How to join\n",
    "* Click on \"add channels\" below the list of channels\n",
    "* Click on \"browse channels\"\n",
    "* Search for \"coding\"\n",
    "* Click the green \"Join\" button on the right\n",
    "\n",
    "## Learning Objectives\n",
    "![CollegeBoard Requirements for Binary](https://user-images.githubusercontent.com/111464932/229885445-65ef56d2-f3d4-43da-aa62-8683e8c0a08b.png)\n",
    "\n",
    "### Practice Questions 1A\n",
    "1. How many bits are in 3 bytes?\n",
    "- 24\n",
    "2. What digital information can be represented by bits?\n",
    "- state with one of two possible values. Yes or No, True or False.\n",
    "\n",
    "3. Are bits an analog or digital form of storing data? What is the difference between the two?\n",
    "- Digital is with a computer and analog is manual or doing it by yourself.\n",
    "\n",
    "#### 1b\n",
    "1. What is the largest number can be represented by 5 bits?\n",
    "- 31\n",
    "\n",
    "2. One programing language can only use 16 bits to represent non-negative numbers, while a second language uses 56 bits to represent numbers. How many times as many unique numbers can be represented by the second language?\n",
    "\n",
    "- First language can represent 2^16 and the seconds is 2^56. \n",
    "\n",
    "3. 5 bits are used to represent both positive and negative numbers, what is the largest number that can be represented by these bits? (hint: different thatn question 1)\n",
    "- Highest number represented is 15 \n",
    "\n",
    "#### 1c\n",
    "1. What values can each digit of a Base 5 system represent?\n",
    "- 0 to 4\n",
    "2. What base is Hexadecimal? What range of values can each digit of Hexadecimal represent?\n",
    "- 0, 1, 2, 3, 4, 5, 6, 7, 8, 9, A, B, C, D, E and F.\n",
    "3. When using a base above 10, letters can be used to represent numbers past 9. These letters start from A and continue onwards. For example, the decimal number 10 is represented by the letter A in Hexadecimal. What letter would be used to represent the Base 10 number 23 in a Base 30 system? What about in a Base 50 system?\n",
    "\n",
    "In a Base 30 system, the number 23 in Base 10 would be denoted by the letter H because in Base 10, H stands for the value 15 and Base 30 has 30 characters (0-9 and A-T). On the other hand, in a Base 50 system, the letter X would be used to represent the Base 10 number 23 because X represents the value 23 in Base 50.\n",
    "\n"
   ]
  },
  {
   "cell_type": "code",
   "execution_count": 1,
   "metadata": {},
   "outputs": [
    {
     "name": "stdout",
     "output_type": "stream",
     "text": [
      "binary is cool\n",
      "binary is awesome\n",
      "binary is awesome\n",
      "binary is awesome\n",
      "binary is awesome\n",
      "binary is cool\n",
      "binary is awesome\n",
      "binary is cool\n",
      "binary is awesome\n",
      "binary is awesome\n"
     ]
    }
   ],
   "source": [
    "import random\n",
    "\n",
    "def example(runs):\n",
    "    # Repeat code for the amount of runs given\n",
    "    while runs > 0:\n",
    "        # Assigns variable boolean to either True or False based on random binary number 0 or 1.\n",
    "        boolean = False if random.randint(0, 1) == 0 else True \n",
    "\n",
    "        # If the number was 1 (True), it prints \"awesome.\"\n",
    "        if boolean:\n",
    "            print(\"binary is awesome\")\n",
    "            \n",
    "        # If the number was 2 (False), it prints \"cool.\"\n",
    "        else:\n",
    "            print(\"binary is cool\")\n",
    "            \n",
    "        runs -= 1\n",
    "     \n",
    "# Change the parameter to how many times to run the function.   \n",
    "example(10)"
   ]
  },
  {
   "cell_type": "code",
   "execution_count": 2,
   "metadata": {},
   "outputs": [
    {
     "name": "stdout",
     "output_type": "stream",
     "text": [
      "5^2 = 25.0\n"
     ]
    }
   ],
   "source": [
    "import math\n",
    "\n",
    "def exponent(base, power):\n",
    "    # Print the operation performed, turning the parameters into strings to properly concatenate with the symbols \"^\" and \"=\".\n",
    "    print(str(base) + \"^\" + str(power) + \" = \" + str(math.pow(base, power)))\n",
    "\n",
    "# How can function become a problem? (Hint: what happens if you set both base and power equal to high numbers?)\n",
    "exponent(5, 2)\n"
   ]
  },
  {
   "attachments": {},
   "cell_type": "markdown",
   "metadata": {},
   "source": [
    "## Hacks & Grading (Due SUNDAY NIGHT 4/23)\n",
    "* Complete all of the popcorn hacks (Fill in the blanks + run code cells and interact + Answer ALL questions) [0.3 or nothing]\n",
    "* Create a program to conduct basic mathematical operations with binary sequences (addition, subtraction, multiplication, division) [0.6 or nothing]\n",
    "    - For bonus, program must be able to conduct mathematical operations on binary sequences of varying bits (for example: 101 + 1001 would return decimal 14.) [0.1 or nothing]"
   ]
  },
  {
   "cell_type": "code",
   "execution_count": 1,
   "metadata": {},
   "outputs": [
    {
     "name": "stdout",
     "output_type": "stream",
     "text": [
      "10101010 * 1111 = 100111110110\n"
     ]
    }
   ],
   "source": [
    "def binary_addition(x, y):\n",
    "    \"\"\"\n",
    "    This function adds two binary sequences and returns the sum as a binary sequence.\n",
    "    \"\"\"\n",
    "    max_len = max(len(x), len(y))\n",
    "    x = x.zfill(max_len)\n",
    "    y = y.zfill(max_len)\n",
    "    result = ''\n",
    "    carry = 0\n",
    "    for i in range(max_len - 1, -1, -1):\n",
    "        r = carry\n",
    "        r += 1 if x[i] == '1' else 0\n",
    "        r += 1 if y[i] == '1' else 0\n",
    "        result = ('1' if r % 2 == 1 else '0') + result\n",
    "        carry = 0 if r < 2 else 1\n",
    "    if carry != 0:\n",
    "        result = '1' + result\n",
    "    return result.zfill(max_len)\n",
    "\n",
    "def binary_subtraction(x, y):\n",
    "    \"\"\"\n",
    "    This function subtracts two binary sequences and returns the difference as a binary sequence.\n",
    "    \"\"\"\n",
    "    max_len = max(len(x), len(y))\n",
    "    x = x.zfill(max_len)\n",
    "    y = y.zfill(max_len)\n",
    "    result = ''\n",
    "    borrow = 0\n",
    "    for i in range(max_len - 1, -1, -1):\n",
    "        x_bit = int(x[i])\n",
    "        y_bit = int(y[i])\n",
    "        diff = x_bit - y_bit - borrow\n",
    "        if diff < 0:\n",
    "            diff += 2\n",
    "            borrow = 1\n",
    "        else:\n",
    "            borrow = 0\n",
    "        result = str(diff) + result\n",
    "    return result.lstrip('0') or '0'\n",
    "\n",
    "def binary_multiplication(x, y):\n",
    "    \"\"\"\n",
    "    This function multiplies two binary sequences and returns the product as a binary sequence.\n",
    "    \"\"\"\n",
    "    x_int = int(x, 2)\n",
    "    y_int = int(y, 2)\n",
    "    result_int = x_int * y_int\n",
    "    return bin(result_int)[2:]\n",
    "\n",
    "def binary_division(x, y):\n",
    "    \"\"\"\n",
    "    This function divides two binary sequences and returns the quotient and remainder as a tuple of binary sequences.\n",
    "    \"\"\"\n",
    "    x_int = int(x, 2)\n",
    "    y_int = int(y, 2)\n",
    "    quotient_int = x_int // y_int\n",
    "    remainder_int = x_int % y_int\n",
    "    quotient_bin = bin(quotient_int)[2:]\n",
    "    remainder_bin = bin(remainder_int)[2:]\n",
    "    return (quotient_bin, remainder_bin)\n",
    "\n",
    "while True:\n",
    "    equation = input(\"Enter a binary equation (e.g. 101 + 110): \")\n",
    "    parts = equation.split()\n",
    "    if len(parts) != 3:\n",
    "        print(\"Invalid input. Please enter a binary equation in the format 'binary_num operator binary_num'.\")\n",
    "        continue\n",
    "    x = parts[0]\n",
    "    op = parts[1]\n",
    "    y = parts[2]\n",
    "    if op == \"+\":\n",
    "        result = binary_addition(x, y)\n",
    "    elif op == \"-\":\n",
    "        result = binary_subtraction(x, y)\n",
    "    elif op == \"*\":\n",
    "        result = binary_multiplication(x, y)\n",
    "    elif op == \"/\":\n",
    "        quotient, remainder = binary_division(x, y)\n",
    "        result = f\"{quotient} remainder {remainder}\"\n",
    "    else:\n",
    "        print(\"Invalid operator. Please use one of '+', '-', '*', or '/'.\")\n",
    "        continue\n",
    "    print(f\"{x} {op} {y} = {result}\")\n"
   ]
  }
 ],
 "metadata": {
  "kernelspec": {
   "display_name": "base",
   "language": "python",
   "name": "python3"
  },
  "language_info": {
   "codemirror_mode": {
    "name": "ipython",
    "version": 3
   },
   "file_extension": ".py",
   "mimetype": "text/x-python",
   "name": "python",
   "nbconvert_exporter": "python",
   "pygments_lexer": "ipython3",
   "version": "3.9.12"
  },
  "orig_nbformat": 4
 },
 "nbformat": 4,
 "nbformat_minor": 2
}
