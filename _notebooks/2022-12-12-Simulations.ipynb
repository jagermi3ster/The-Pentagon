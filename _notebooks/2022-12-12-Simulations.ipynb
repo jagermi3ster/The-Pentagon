{
 "cells": [
  {
   "attachments": {},
   "cell_type": "markdown",
   "metadata": {},
   "source": [
    "# 3.16 Lesson\n",
    "> Lesson about simulations and what they're used for \n",
    "\n",
    "- layout: default\n",
    "- toc: true\n",
    "- badges: false\n",
    "- comments: true\n",
    "- categories: [lesson]"
   ]
  },
  {
   "attachments": {},
   "cell_type": "markdown",
   "metadata": {},
   "source": [
    "# First Order of Business: Get your notebook \n",
    "\n",
    "- Open a terminal in vscode, run command: cd _notebooks, type 'wget' and paste this link into said terminal and run it \n",
    "\n",
    "- Take notes wherever you please, but you will be graded on participating "
   ]
  },
  {
   "attachments": {},
   "cell_type": "markdown",
   "metadata": {},
   "source": [
    "# So, what is a simulation anyway? \n",
    "\n",
    "- A simulation is a tested scenario used for viewing results/outputs to prepare for them in real world situations \n",
    "\n",
    "- These can be used for games like dice rolling, spinners, etc \n",
    "\n",
    "- These can be used for practical things such as building structures, testing car crashes, and other things before engaging in them in the real world \n",
    "\n",
    "- These simulations can have the option of obeying real world physics (Gravity, collision) or they can go against these norms since this is a fictitious scenario, and couldn't happen in real life"
   ]
  },
  {
   "attachments": {},
   "cell_type": "markdown",
   "metadata": {},
   "source": [
    "# Big Question \n",
    "\n",
    "- Which of the following simulations could be the LEAST useful? \n",
    "\n",
    "- A retailer trying to identify which products sold the most \n",
    "- A restaurant determining the efficiency of robots \n",
    "- An insurance company studying the rain impact of cars \n",
    "- A sports bike company studying design changes to their new bike design \n",
    "\n",
    "\n",
    "\n",
    "- If you guessed a bike company, you're wrong, because the retail simulation was the right answer. Simulating robots in food service, sudying rain impact on vehicles, and new bike design can contribute a lot more to society in comparison to seeing what products sell more than others. \n"
   ]
  },
  {
   "attachments": {},
   "cell_type": "markdown",
   "metadata": {},
   "source": [
    "# Next Big Question \n",
    "\n",
    "If you were making a simulation for making a new train station, which of the following would be true about this simulation? \n",
    "\n",
    "- It could reveal potential problems/safety issues before construction starts \n",
    "- It cannot be used to test the train station in different weather \n",
    "- Simulation will add high costs to projects \n",
    "- Simulation is not needed because this train station already exists  \n",
    "\n",
    "\n",
    "\n",
    "\n",
    "- Potential Saftey was the right answer, because you need somewhere to test the safety and ethicness of what you're about to do before you start building it. Otherwise, let's just say you'll have a special plaque for FBI's Most Wanted\n"
   ]
  },
  {
   "attachments": {},
   "cell_type": "markdown",
   "metadata": {},
   "source": [
    "# Simulation 1: \n",
    "\n",
    "Both programs below do the same thing. Given a height and a weight, they calculate how long it will take for a object to fall to the ground in a vacuum subjected to normal Earth levels of gravity. \n",
    "\n",
    "However, the second one is a simulation. It calculates the distance the object has fallen every 0.1 seconds. This is useful for if you wanted a visual representation of a falling object, which pure math can't do as smoothly. "
   ]
  },
  {
   "cell_type": "code",
   "execution_count": 1,
   "metadata": {},
   "outputs": [
    {
     "name": "stdout",
     "output_type": "stream",
     "text": [
      "It will take 0.6388765649999398 seconds for an object that weighs 123 pounds to fall  2.0 meters in a vacuum\n"
     ]
    }
   ],
   "source": [
    "height = float(input(\"height in meters?\"))\n",
    "\n",
    "weight = input(\"weight in pounds?\")\n",
    "\n",
    "stuff = (2 * (height / 9.8))**(1/2)\n",
    "\n",
    "print(\"It will take\", stuff,\"seconds for an object that weighs\",weight,\"pounds\",\"to fall \",height,\"meters in a vacuum\")"
   ]
  },
  {
   "cell_type": "code",
   "execution_count": 2,
   "metadata": {},
   "outputs": [
    {
     "name": "stdout",
     "output_type": "stream",
     "text": [
      "0.7\n",
      "2.401\n"
     ]
    }
   ],
   "source": [
    "t = 0\n",
    "g = 0\n",
    "d = 0\n",
    "false = True\n",
    "while false:\n",
    "    t = t + 0.1\n",
    "    d = 9.8 / 2 * (t**2)\n",
    "    if d >= height:\n",
    "        false = False\n",
    "    #print(d) # if you want to print the distance every time it calculates it. Too long to output to a terminal, but this could be useful to display graphically. \n",
    "    #print(t)\n",
    "\n",
    "print(t)\n",
    "print(d)"
   ]
  },
  {
   "attachments": {},
   "cell_type": "markdown",
   "metadata": {},
   "source": [
    "# Simulation 2: \n",
    "\n",
    "- This simulation is made in order to simulate movement on a 2d plane vs a 3d plane.  \n",
    "\n",
    "- How it works: we have multiple variables, if statements and equations under a while command in order to randomy generate steps on a 2d plane. Once it reaches the set destination, it will say that the man made it home after x amount of steps. \n",
    "\n",
    "- For the 3D plane, it takes a lot longer due to how big and open the 3d environment is, so there are more if statements in the 3d plane \n",
    "\n",
    "(explain further)\n",
    "\n"
   ]
  },
  {
   "cell_type": "code",
   "execution_count": 3,
   "metadata": {},
   "outputs": [
    {
     "name": "stdout",
     "output_type": "stream",
     "text": [
      "The Man Has Made It Home After  4 Turns\n",
      "The Man Has Made It Home After  32 Turns\n",
      "The Man Has Made It Home After  2 Turns\n",
      "( -78 538 )\n",
      "( -205 901 )\n",
      "( -251 1033 )\n",
      "( -327 571 )\n",
      "( 82 -422 )\n",
      "( 165 -137 )\n",
      "The Man Has Made It Home After  6219036 Turns\n",
      "The Man Has Made It Home After  4 Turns\n",
      "The Man Has Made It Home After  706 Turns\n",
      "The Man Has Made It Home After  2 Turns\n",
      "( 1756 236 )\n",
      "( 1049 957 )\n",
      "( 399 2455 )\n",
      "( -638 2694 )\n",
      "( -838 1704 )\n",
      "( -1165 2105 )\n",
      "( -1868 2462 )\n",
      "( -519 2577 )\n",
      "( 359 1595 )\n"
     ]
    },
    {
     "ename": "KeyboardInterrupt",
     "evalue": "",
     "output_type": "error",
     "traceback": [
      "\u001b[0;31m---------------------------------------------------------------------------\u001b[0m",
      "\u001b[0;31mKeyboardInterrupt\u001b[0m                         Traceback (most recent call last)",
      "\u001b[1;32m/Users/jaggerklein/vscode/TP/_notebooks/2022-12-12-Simulations.ipynb Cell 10\u001b[0m in \u001b[0;36m<cell line: 9>\u001b[0;34m()\u001b[0m\n\u001b[1;32m      <a href='vscode-notebook-cell:/Users/jaggerklein/vscode/TP/_notebooks/2022-12-12-Simulations.ipynb#X12sZmlsZQ%3D%3D?line=6'>7</a>\u001b[0m turns \u001b[39m=\u001b[39m []\n\u001b[1;32m      <a href='vscode-notebook-cell:/Users/jaggerklein/vscode/TP/_notebooks/2022-12-12-Simulations.ipynb#X12sZmlsZQ%3D%3D?line=8'>9</a>\u001b[0m \u001b[39mwhile\u001b[39;00m (nights \u001b[39m<\u001b[39m \u001b[39m100\u001b[39m):\n\u001b[0;32m---> <a href='vscode-notebook-cell:/Users/jaggerklein/vscode/TP/_notebooks/2022-12-12-Simulations.ipynb#X12sZmlsZQ%3D%3D?line=9'>10</a>\u001b[0m     step \u001b[39m=\u001b[39m random\u001b[39m.\u001b[39;49mrandrange(\u001b[39m4\u001b[39;49m)\n\u001b[1;32m     <a href='vscode-notebook-cell:/Users/jaggerklein/vscode/TP/_notebooks/2022-12-12-Simulations.ipynb#X12sZmlsZQ%3D%3D?line=10'>11</a>\u001b[0m     \u001b[39mif\u001b[39;00m step \u001b[39m==\u001b[39m \u001b[39m0\u001b[39m:\n\u001b[1;32m     <a href='vscode-notebook-cell:/Users/jaggerklein/vscode/TP/_notebooks/2022-12-12-Simulations.ipynb#X12sZmlsZQ%3D%3D?line=11'>12</a>\u001b[0m         x \u001b[39m=\u001b[39m x\u001b[39m+\u001b[39m\u001b[39m1\u001b[39m\n",
      "File \u001b[0;32m/usr/local/Cellar/python@3.10/3.10.6_1/Frameworks/Python.framework/Versions/3.10/lib/python3.10/random.py:303\u001b[0m, in \u001b[0;36mRandom.randrange\u001b[0;34m(self, start, stop, step)\u001b[0m\n\u001b[1;32m    300\u001b[0m \u001b[39m# This code is a bit messy to make it fast for the\u001b[39;00m\n\u001b[1;32m    301\u001b[0m \u001b[39m# common case while still doing adequate error checking.\u001b[39;00m\n\u001b[1;32m    302\u001b[0m \u001b[39mtry\u001b[39;00m:\n\u001b[0;32m--> 303\u001b[0m     istart \u001b[39m=\u001b[39m _index(start)\n\u001b[1;32m    304\u001b[0m \u001b[39mexcept\u001b[39;00m \u001b[39mTypeError\u001b[39;00m:\n\u001b[1;32m    305\u001b[0m     istart \u001b[39m=\u001b[39m \u001b[39mint\u001b[39m(start)\n",
      "\u001b[0;31mKeyboardInterrupt\u001b[0m: "
     ]
    }
   ],
   "source": [
    "import random\n",
    "x = 0\n",
    "y = 0\n",
    "nights = 0\n",
    "turn = 0\n",
    "stopped = 0\n",
    "turns = []\n",
    "\n",
    "while (nights < 100):\n",
    "    step = random.randrange(4)\n",
    "    if step == 0:\n",
    "        x = x+1\n",
    "    if step == 1:\n",
    "        x = x-1\n",
    "    if step == 2:\n",
    "        y = y+1\n",
    "    if step == 3:\n",
    "        y = y-1\n",
    "\n",
    "    turn = turn + 1\n",
    "\n",
    "    if x == 0 and y == 0:\n",
    "        nights = nights + 1\n",
    "        print(\"The Man Has Made It Home After \", turn, \"Turns\")\n",
    "        turns.append(turn)\n",
    "        turn = 0\n",
    "    if turn/1000 % 1000 == 0 and x + y != 0:\n",
    "        print(\"(\", x,y, \")\")\n",
    "    if (turn > 10000000):\n",
    "        stopped = stopped + 1\n",
    "        turn = 0\n",
    "        x = 0\n",
    "        y = 0\n",
    "        nights = nights + 1\n",
    "        print(\"Caped\")\n",
    "\n",
    "average = sum(turns) / len(turns)\n",
    "print(\"Avaerage\", average, \"Ones that when't too long \", stopped)"
   ]
  },
  {
   "cell_type": "code",
   "execution_count": null,
   "metadata": {},
   "outputs": [],
   "source": [
    "import random\n",
    "x = 0\n",
    "y = 0\n",
    "z = 0\n",
    "nights = 0\n",
    "turn = 0\n",
    "stopped = 0\n",
    "turns = []\n",
    "\n",
    "while (nights < 100):\n",
    "    #rando movement\n",
    "    step = random.randrange(6)\n",
    "    if step == 0:\n",
    "        x = x+1\n",
    "    if step == 1:\n",
    "        x = x-1\n",
    "    if step == 2:\n",
    "        y = y+1\n",
    "    if step == 3:\n",
    "        y = y-1\n",
    "    if step == 4:\n",
    "        z = z+1\n",
    "    if step == 5:\n",
    "        z = z-1\n",
    "    #Turn counter\n",
    "    turn = turn + 1\n",
    "    #Goal check\n",
    "    if x == 0 and y == 0 and z == 0:\n",
    "        nights = nights + 1\n",
    "        print(\"The Bird Has Made It Home After \", turn, \"Turns\")\n",
    "        turns.append(turn)\n",
    "        turn = 0\n",
    "    if turn/1000 % 1000 == 0 and x + y + z != 0:\n",
    "        print(\"(\", x,y, \") \",\"| \", z)\n",
    "    #Too long Stoper\n",
    "    if (turn > 10000000):\n",
    "        stopped = stopped + 1\n",
    "        turn = 0\n",
    "        x = 0\n",
    "        y = 0\n",
    "        z = 0\n",
    "        nights = nights + 1\n",
    "        print(\"Caped\")\n",
    "\n",
    "average = sum(turns) / len(turns)\n",
    "print(\"Avaerage\", average,\"Ones that when't too long \", stopped)"
   ]
  },
  {
   "attachments": {},
   "cell_type": "markdown",
   "metadata": {},
   "source": [
    "# Simulations in the wild\n",
    "\n",
    "Simulations are used extremely frequently in real life applications. One of the most common examples of simulations are video games. A games physics engine can accurately simulate objects colliding \n",
    "\n",
    "Another example is Blender, the software used in 3d animations class, here at Del Norte. Blender is made up of many small simulations, but one big one it uses is simulating the way light bounces off of and interacts with objects. "
   ]
  },
  {
   "attachments": {},
   "cell_type": "markdown",
   "metadata": {},
   "source": [
    "# HW !!!\n",
    "\n",
    "Create a simulation. It can be anything, just has to simulate something.\n",
    "\n",
    "Some ideas:\n",
    "\n",
    "- Two objects colliding\n",
    "- Gravity on other planets\n",
    "\n",
    "AND\n",
    "\n",
    "Find an example of a simulation in a software/game you use, screenshot, and explain how it is a simulation"
   ]
  },
  {
   "cell_type": "markdown",
   "metadata": {},
   "source": [
    "This code simulates the motion of the ball using the equations of motion for projectile motion. It starts the ball at the left field (x = 0), and simulates its motion by updating its position at each time step using the initial velocity components and the acceleration due to gravity. The loop continues until the ball reaches home plate (x > 100), at which point the simulation stops and the final position of the ball is printed. It uses a physics equation to see where the ball will be thrown based on the angle and speed of the ball."
   ]
  },
  {
   "cell_type": "code",
   "execution_count": 4,
   "metadata": {},
   "outputs": [
    {
     "name": "stdout",
     "output_type": "stream",
     "text": [
      "The ball landed at x = 100.12632021601488 and y = -8.917715783984681\n"
     ]
    }
   ],
   "source": [
    "import math\n",
    "\n",
    "# Constants\n",
    "GRAVITY = 9.81  # acceleration due to gravity, in m/s^2\n",
    "\n",
    "# Inputs\n",
    "angle = 45  # angle at which the ball is thrown, in degrees\n",
    "initial_speed = 30  # initial speed of the ball, in m/s\n",
    "\n",
    "# Conversion from degrees to radians\n",
    "angle_radians = angle * math.pi / 180\n",
    "\n",
    "# Initial velocity components\n",
    "vx = initial_speed * math.cos(angle_radians)\n",
    "vy = initial_speed * math.sin(angle_radians)\n",
    "\n",
    "# Time step\n",
    "dt = 0.01  # time step, in seconds\n",
    "\n",
    "# Initial position (left field)\n",
    "x = 0\n",
    "y = 0\n",
    "\n",
    "# Simulation loop\n",
    "while True:\n",
    "    # Update position\n",
    "    x = x + vx * dt\n",
    "    y = y + vy * dt\n",
    "    vy = vy - GRAVITY * dt\n",
    "\n",
    "    # Break the loop if the ball has reached home plate\n",
    "    if x > 100:\n",
    "        break\n",
    "\n",
    "print(\"The ball landed at x =\", x, \"and y =\", y)\n"
   ]
  },
  {
   "cell_type": "markdown",
   "metadata": {},
   "source": [
    "![]({{ site.baseurl }}/images/forecast2.jpeg)"
   ]
  },
  {
   "cell_type": "markdown",
   "metadata": {},
   "source": [
    "**Hacks**\n",
    "\n",
    "- A example of a simulation in real life is weather forecasting. They analyze the current weather and use computer algorithms to prodict what at it will be like in the future. "
   ]
  }
 ],
 "metadata": {
  "kernelspec": {
   "display_name": "Python 3.10.6 64-bit",
   "language": "python",
   "name": "python3"
  },
  "language_info": {
   "codemirror_mode": {
    "name": "ipython",
    "version": 3
   },
   "file_extension": ".py",
   "mimetype": "text/x-python",
   "name": "python",
   "nbconvert_exporter": "python",
   "pygments_lexer": "ipython3",
   "version": "3.10.6"
  },
  "orig_nbformat": 4,
  "vscode": {
   "interpreter": {
    "hash": "aee8b7b246df8f9039afb4144a1f6fd8d2ca17a180786b69acc140d282b71a49"
   }
  }
 },
 "nbformat": 4,
 "nbformat_minor": 2
}
