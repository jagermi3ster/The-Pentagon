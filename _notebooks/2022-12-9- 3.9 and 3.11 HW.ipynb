{
 "cells": [
  {
   "cell_type": "markdown",
   "metadata": {},
   "source": [
    "# \"3.9 and 3.11 Homework\"\n",
    "\n",
    "- toc: true\n",
    "- branch: master\n",
    "- badges: true\n",
    "- comments: true\n",
    "- author: Jagger Klein\n",
    "- categories: [fastpages, jupyter]"
   ]
  },
  {
   "cell_type": "code",
   "execution_count": 1,
   "metadata": {},
   "outputs": [
    {
     "name": "stdout",
     "output_type": "stream",
     "text": [
      "[18, 5, 15]\n"
     ]
    },
    {
     "data": {
      "text/plain": [
       "18"
      ]
     },
     "execution_count": 1,
     "metadata": {},
     "output_type": "execute_result"
    }
   ],
   "source": [
    "import random\n",
    "\n",
    "def rollDice(n):\n",
    "    rollsList = []\n",
    "    \n",
    "    while n > 0:\n",
    "        rollsList.append(random.randint(1,20))\n",
    "        n -= 1\n",
    "\n",
    "    print(rollsList)\n",
    "    return max(rollsList)\n",
    "\n",
    "rollDice(3)"
   ]
  },
  {
   "cell_type": "markdown",
   "metadata": {},
   "source": [
    "[Link to flowchart](https://docs.google.com/drawings/d/1HhYQ8HS0mCYm9buWK1lLIMB2zuauTObEpTTgnpKMyKQ/edit?usp=sharing)"
   ]
  },
  {
   "cell_type": "code",
   "execution_count": 8,
   "metadata": {},
   "outputs": [
    {
     "name": "stdout",
     "output_type": "stream",
     "text": [
      "13\n",
      "2\n",
      "17\n",
      "12\n",
      "14\n",
      "18\n",
      "16\n",
      "6\n",
      "1\n",
      "7\n",
      "3\n",
      "4\n",
      "19\n",
      "20\n",
      "11\n",
      "10\n",
      "15\n",
      "5\n",
      "8\n",
      "9\n"
     ]
    }
   ],
   "source": [
    "import random\n",
    "\n",
    "# define the number of dogs and cats\n",
    "N = 10\n",
    "\n",
    "# generate a random number between 1 and 20\n",
    "def random_number():\n",
    "  return random.randint(1, 20)\n",
    "\n",
    "# shuffle the numbers 1 to 20 \n",
    "def shuffle(numbers):\n",
    "  for i in range(20):\n",
    "    j = random.randint(0, i)\n",
    "    numbers[i], numbers[j] = numbers[j], numbers[i]\n",
    "\n",
    "if __name__ == \"__main__\":\n",
    "  numbers = [i + 1 for i in range(20)]  # initialize the array with the numbers 1 to 20\n",
    "\n",
    "  shuffle(numbers)  # shuffle the numbers\n",
    "\n",
    "  # print the resulting order\n",
    "  for i in range(20):\n",
    "    print(numbers[i])\n"
   ]
  }
 ],
 "metadata": {
  "kernelspec": {
   "display_name": "Python 3.10.6 64-bit",
   "language": "python",
   "name": "python3"
  },
  "language_info": {
   "codemirror_mode": {
    "name": "ipython",
    "version": 3
   },
   "file_extension": ".py",
   "mimetype": "text/x-python",
   "name": "python",
   "nbconvert_exporter": "python",
   "pygments_lexer": "ipython3",
   "version": "3.10.6"
  },
  "orig_nbformat": 4,
  "vscode": {
   "interpreter": {
    "hash": "aee8b7b246df8f9039afb4144a1f6fd8d2ca17a180786b69acc140d282b71a49"
   }
  }
 },
 "nbformat": 4,
 "nbformat_minor": 2
}
