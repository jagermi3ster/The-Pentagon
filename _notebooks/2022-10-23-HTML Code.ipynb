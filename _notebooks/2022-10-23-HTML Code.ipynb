{
 "cells": [
  {
   "cell_type": "markdown",
   "metadata": {},
   "source": [
    "# \"Frontend HTML code for The Watchers\"\n",
    "> \"The start of the frontend\"\n",
    "\n",
    "- toc: true\n",
    "- branch: master\n",
    "- badges: true\n",
    "- comments: true\n",
    "- author: Jagger Klein\n",
    "- categories: [fastpages, jupyter]"
   ]
  },
  {
   "cell_type": "code",
   "execution_count": null,
   "metadata": {
    "vscode": {
     "languageId": "html"
    }
   },
   "outputs": [],
   "source": [
    "<h3>Work Watch</h3>\n",
    "<h4>Time Length &emsp; Customize Timer Look &emsp; Time Breaks </h4>\n",
    "<h2><time>00:00:00</time></h2>\n",
    "<button id=\"start\">START</button>\n",
    "<button id=\"stop\">STOP</button>\n",
    "<button id=\"clear\">RESET</button>"
   ]
  },
  {
   "cell_type": "code",
   "execution_count": null,
   "metadata": {
    "vscode": {
     "languageId": "html"
    }
   },
   "outputs": [],
   "source": [
    "body {\n",
    "    color: #FFFFFF;\n",
    "    background: #000000;\n",
    "    text-align: center;\n",
    "    font-family: 'OCR A Std', monospace;\n",
    "  }\n",
    "  \n",
    "  #start {\n",
    "    margin: 40px auto;\n",
    "    text-align: center;\n",
    "    color: #DAD6D6;\n",
    "    background: #008000;\n",
    "    border:solid px #35492C;\n",
    "    border-radius:5px;\n",
    "    padding:16px 40px 16px;\n",
    "    letter-spacing: 2px;\n",
    "    cursor:pointer;\n",
    "  }\n",
    "  \n",
    "  #stop {\n",
    "    margin: 40px 5px auto;\n",
    "    text-align: center;\n",
    "    color: #DAD6D6;\n",
    "    background: #B22222;\n",
    "    border:solid 2px #590F20;\n",
    "    border-radius:5px;\n",
    "    padding:16px 40px 16px;\n",
    "    letter-spacing: 2px;\n",
    "    cursor:pointer;\n",
    "  }\n",
    "  \n",
    "  #clear {\n",
    "    margin: 40px auto;\n",
    "    text-align: center;\n",
    "    color: #00000;\n",
    "    background: #F0FFFF;\n",
    "    border:solid 2px #3E383F;\n",
    "    border-radius:5px;\n",
    "    padding:16px 50px 17px;\n",
    "    letter-spacing: 2px;\n",
    "    cursor:pointer;\n",
    "  }\n",
    "  \n",
    "  h2\n",
    "  {\n",
    "    font-size: 50px;\n",
    "    letter-spacing: 2px;\n",
    "    margin: 150px 0 0 ;\n",
    "  }\n",
    "  \n",
    "  h3\n",
    "  {\n",
    "    font-size: 40px;\n",
    "    letter-spacing: 5px; \n",
    "    margin: 30px\n",
    "    background: #FFFFFF;\n",
    "    border:solid 5px #3E383F;\n",
    "    border-radius:5px;\n",
    "    padding:16px 40px 16px;\n",
    "    letter-spacing: 2px;\n",
    "    cursor:pointer;\n",
    "      \n",
    "  }\n",
    "  \n",
    "  h4\n",
    "  {\n",
    "    font-size: 15px;\n",
    "    letter-spacing: 1px;\n",
    "    margin: 1px\n",
    "    background: #000000;\n",
    "    border:solid 2px #3E383F;\n",
    "    border-radius: 10px;\n",
    "    padding:1px 1px 1px;\n",
    "    letter-spacing: 2px;\n",
    "    cursor:pointer;\n",
    "    text-align: center;\n",
    "    \n",
    "  }\n",
    "  "
   ]
  }
 ],
 "metadata": {
  "kernelspec": {
   "display_name": "Python 3.10.6 64-bit",
   "language": "python",
   "name": "python3"
  },
  "language_info": {
   "name": "python",
   "version": "3.10.6"
  },
  "orig_nbformat": 4,
  "vscode": {
   "interpreter": {
    "hash": "aee8b7b246df8f9039afb4144a1f6fd8d2ca17a180786b69acc140d282b71a49"
   }
  }
 },
 "nbformat": 4,
 "nbformat_minor": 2
}
