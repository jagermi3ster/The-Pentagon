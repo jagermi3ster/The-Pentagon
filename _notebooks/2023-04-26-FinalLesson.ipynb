{
 "cells": [
  {
   "attachments": {},
   "cell_type": "markdown",
   "metadata": {},
   "source": [
    "# Frontend and Backend Development with Big Idea 1 Review\n",
    "- toc: true\n",
    "- branch: master\n",
    "- badges: true\n",
    "- comments: true\n",
    "- categories: [fastpages, jupyter]\n",
    "\n",
    "Today, our goal is to review front-end to backend connections and how they have been used in creating our projects this year. We will also go into detail on concepts that may be unfamiliar like pandas and python api fetch.\n",
    "\n",
    "Please make a copy of our repository. In your terminal type: git clone https://github.com/jiya-sav/ourshiny.git "
   ]
  },
  {
   "attachments": {},
   "cell_type": "markdown",
   "metadata": {},
   "source": [
    "## Installing Scripts Lesson\n"
   ]
  },
  {
   "attachments": {},
   "cell_type": "markdown",
   "metadata": {},
   "source": [
    "### For Windows\n",
    "\n",
    "After you've installed VSCode using WSL, install Anaconda on WSL. \n",
    "\n",
    "Anaconda is like a big tool box for your computer, it has tools and libraries that you might need for data analysis, programming, and computing. Anaconda Python packages include pandas, numpy, sqlite, jupyter, bash, and other kernels. Conda is a tool that helps you manage these tools inside Anaconda. It lets you install, update, delete, and organize packages and materials. Conda script tells Conda what tools and materials you need and how to install them in your Anaconda toolbox.\n",
    "\n",
    "![conda image](https://github.com/kayleehou/myproject/blob/master/images/condadiagram.PNG?raw=true)"
   ]
  },
  {
   "cell_type": "markdown",
   "metadata": {},
   "source": [
    "Type these commands in powershell or terminal"
   ]
  },
  {
   "cell_type": "code",
   "execution_count": null,
   "metadata": {},
   "outputs": [],
   "source": [
    "PS C:\\Users\\UserName> wsl  # Windows prompt to WSL command\n",
    "$ cd /tmp # used to store temporary files \n",
    "$ wget https://repo.anaconda.com/archive/Anaconda3-2023.03-Linux-x86_64.sh # downloadable file\n",
    "$ chmod +x Anaconda3-2022.05-Linux-x86_64.sh # chmod (change mode command) changes permissions for a file or directory \n",
    "# Answer yes to all the prompts\n",
    "$ ./Anaconda3-2022.05-Linux-x86_64.sh "
   ]
  },
  {
   "cell_type": "markdown",
   "metadata": {},
   "source": [
    "Start a new WSL Command or Powershell. Now the WSL prompt should be prefixed with (base) from Anaconda install. If not, go back to Anaconda install. The base prefix indicates that you are running inside the conda/anaconda environment. The command \"conda deactivate\" should bring you back. "
   ]
  },
  {
   "cell_type": "code",
   "execution_count": null,
   "metadata": {},
   "outputs": [],
   "source": [
    "PS C:\\Users\\ShayM> wsl  # Windows prompt\n",
    "(base) shay@MSI:/mnt/c/Users/ShayM$ cd ~ # WSL prompt\n",
    "(base) shay@MSI:~$ # WSL home, best place to install files\n",
    "\n",
    "# you can check your conda versions\n",
    "(base) id:~$ conda --version "
   ]
  },
  {
   "cell_type": "markdown",
   "metadata": {},
   "source": [
    "![command prompt view](https://github.com/kayleehou/myproject/blob/master/images/condaimage2.PNG?raw=true)"
   ]
  },
  {
   "attachments": {},
   "cell_type": "markdown",
   "metadata": {},
   "source": [
    "### For MacOS\n",
    "\n",
    "> Python2 install on MacOS\n",
    "- Install [Python2](https://www.python.org/ftp/python/2.7.18/python-2.7.18-macosx10.9.pkg)\n",
    "\n",
    "> VSCode install on MacOS.  \n",
    "- Install [VSCode](https://code.visualstudio.com/docs/setup/mac)\n",
    "\n",
    "> Anaconda install on MacOS.\n",
    "- Download for MacOS: [Anaconda](https://www.anaconda.com/products/distribution)\n",
    "- Run Install: Answer yes to questions\n",
    "\n",
    "> Homebrew install on MacOS\n",
    "- Homebrew is a tool that helps you easily install and manage software on your Mac. Think of it like a virtual store for your computer where you can browse, download and install a variety of useful programs and tools.\n",
    "- Copy and Paste to Install from Terminal [Homebrew](https://brew.sh)\n",
    "    - Copy ```bash ... curl ...```  command using copy box on website\n",
    "    - Launch ```terminal``` from search bar\n",
    "    - Paste ```bash ... curl ...``` command into Terminal ... \n",
    "    - Make sure command starts, this should provide feedback/output in terminal and could take a long time, like 10-min, there could be a prompt in the middle, at about 5-minutes.  Follow any on screen instructions provided in terminal output to finish.\n",
    "- Homebrew installs a tool called \"brew\" which helps add and manage developer packages on MacOS. \n",
    "\n",
    "Start a new WSL terminal. Now the terminal prompt should be prefixed with (base) from Anaconda install. If not, go back to Anaconda install. \n",
    "\n",
    "> Having Homebrew and Anaconda allows you to easily install Key Packages needed on MacOS like the commands below are all neccessary: \n",
    "```bash\n",
    "$ brew list # list packages\n",
    "$ brew update # update package list\n",
    "$ brew upgrade # upgrade packages\n",
    "$ brew install git  # install latest git\n",
    "$ brew install python # install python3 for development\n",
    "$ python --version # version of python3 installed\n",
    "$ brew install java # openjdk install\n"
   ]
  },
  {
   "attachments": {},
   "cell_type": "markdown",
   "metadata": {},
   "source": [
    "- Hacks: Screen shot that you have conda installed  "
   ]
  },
  {
   "attachments": {},
   "cell_type": "markdown",
   "metadata": {},
   "source": [
    "![Alt text](images/condaimg.png)"
   ]
  },
  {
   "attachments": {},
   "cell_type": "markdown",
   "metadata": {},
   "source": [
    "## Setting up GitHub Pages with FastPages Features\n",
    "\n",
    "All of you have created your own repository before at the beginning of the year, but some things have changed in the process."
   ]
  },
  {
   "attachments": {},
   "cell_type": "markdown",
   "metadata": {},
   "source": [
    "1. Duplicate APCSP, and use it as template for your own repo\n",
    "\n",
    "![](images/gnr1.png)\n",
    "\n",
    "2. Name your repo and include all branches before clicking the green create button.\n",
    "\n",
    "![](images/gnr2.png)\n",
    "\n",
    "3. If you have an automatically generated pull request, then go ahead and follow the instructions on there. If there is no pull request, as shown below, then move on to step 4.\n",
    "\n",
    "![](images/gnr3.png)\n",
    "\n",
    "4. Navigate to [this link](https://8gwifi.org/sshfunctions.jsp). Select: RSA and 4096 and leave Passphrase blank. Click the blue button Generate-SSH-Keys. You have just created an ssh key-pair.\n",
    "\n",
    "![](images/gnr4.png)\n",
    "\n",
    "5. Navigate to this link. Replace the section of the link \"yourrepositoryname\" with your repository name. In the picture, I have inputted “ourshiny,” because it is my repository name. Replace the section of the link \"yourgithubname\" with your repository name that you just made.\n",
    "\thttps://github.com/yourgithubname/yourrepositoryname/settings/secrets/actions\n",
    "\n",
    "![](images/gnr5.png)\n",
    "\n",
    "6. Click New repository secret. Copy and paste the Private Key (generated in step 4) into the Value field. This includes the \"---BEGIN RSA PRIVATE KEY---\" and \"--END RSA PRIVATE KEY---\" portions. In the Name field, name the secret SSH_DEPLOY_KEY. Once done, click the green Add Secret button.\n",
    "\n",
    "![](images/gnr6.png)\n",
    "\n",
    "7. Navigate to this link, then replace the portions below with your github and repository names. My github name in the image below is jiya-sav, and my repository name is ourshiny.\n",
    "\thttps://github.com/yourgithubname/yourrepositoryname/settings/keys\n",
    "\n",
    "![](images/gnr7.png)\n",
    "\n",
    "8. Click the Add deploy key button. Paste your Public Key (generated in step 4) into the Key box. In the Title, name the key anything you want, for example fastpages-key. Finally, make sure you click the checkbox next to Allow write access (pictured below), and click the green Add key button to save the key.\n",
    "\n",
    "![](images/gnr8.png)\n",
    "\n",
    "![](images/gnr9.png)\n",
    "\n",
    "9. GitHub Actions will build your site, which will take 2-3 minutes to complete. This will happen anytime you push changes to the master branch of your repository. You can monitor the logs of this if you like on the Actions tab of your repo.\n",
    "Your GH-Pages Status badge on your README will eventually appear and be green, indicating your first successful build.\n",
    "You can monitor the status of your site in the GitHub Pages section of your repository settings.\n",
    "\n",
    "Now that you have made your repository secure, you can clone it into vscode and CODE, CODE, CODE!!!"
   ]
  },
  {
   "attachments": {},
   "cell_type": "markdown",
   "metadata": {},
   "source": [
    "## How to Make a Pull Request \n",
    "\n",
    "1. After you've cloned a repository and made changes to it, go to pull requests in your Github repository \n",
    "![pull request 1](https://github.com/kayleehou/myproject/blob/master/images/pull_request1.PNG?raw=true)\n",
    "\n",
    "2. Once you click 'create new pull request,' you should see this with your new changes: \n",
    "![pull request 2](https://github.com/kayleehou/myproject/blob/master/images/pull_request2.PNG?raw=true)\n",
    "\n",
    "3. Change the title and send the pull request \n",
    "![pull request 3](https://github.com/kayleehou/myproject/blob/master/images/pull_request3.PNG?raw=true)\n",
    "\n",
    "- Hacks: You will be turning in all your hacks as a pull request. Title the pull request as shown in the third step but with your own name. Any other titles will not be accepted. "
   ]
  },
  {
   "attachments": {},
   "cell_type": "markdown",
   "metadata": {},
   "source": [
    "## Fetching\n",
    "\n",
    "### The Basics\n",
    "- Fetching means getting data from somewhere else, like a website or database.\n",
    "\n",
    "JavaScript is a programming language that can be used to fetch data from a website or database.\n",
    "\n",
    "- When you fetch data with JavaScript, you first need to tell it where to get the data from. This is called the URL.\n",
    "- Once you know the URL, you can use JavaScript to go and get the data from that URL.\n",
    "- When the data comes back, it's usually in a format like text or JSON. This means that you might need to do some additional work to turn the data into something that your website or application can use.\n",
    "- Once you have the data, you can use JavaScript to display it on your website or application. You can put it in a table, show it on a map, or do anything else you can think of.\n",
    "\n",
    "![](images/frontback.png)\n",
    "\n",
    "### About Fetching\n",
    "#### Method\n",
    "The fetching methods are in line with the CRUD (Create, Read, Update, Delete), and list as follows:\n",
    "- \"GET\": Probably the most common method you would use, which is in line with \"read\". It essentially \"gets\" the information from the API and brings it to the frontend where you are able to display it and read it.\n",
    "- \"POST\": Lines up with \"create\" and adds a resource to the API. You will probably mostly be using this with your own API or if a website adds your input to an API.\n",
    "- \"PUT\" and \"PATCH\": Essentially the \"update\" for API. Use \"PUT\" if you want to change the whole resource, or \"PATCH\" if you want to change just one part of a resource.\n",
    "- \"DELETE\": Exactly how it sounds, deletes a resource from the API\n",
    "\n",
    "\n",
    "Popcorn Hacks:\n",
    "- What method should I use if I want to display some of the data stored in the backend?- **You should use \"get\"**\n",
    "- What method would I use if something in the data is misspelled and I want to fix it real quick?- **Put or Patch depending on the error**\n",
    "- What method should I use if I want to add a new entry to the data?- **\"Post\"**\n",
    "\n",
    "### Filtering Data\n",
    "- If we want to display API data, we are going to have to filter what we want to display for multiple reasons\n",
    "    - These include making sure that the user only sees information they need to see, and not anything else\n",
    "    - Also we need to present the information in a readable format instead of just seeing the raw data"
   ]
  },
  {
   "attachments": {},
   "cell_type": "markdown",
   "metadata": {},
   "source": [
    "The below code segment, is from a previous project. It shows the use of a url being fetched, and the JavaScript fetch() command being implemented."
   ]
  },
  {
   "cell_type": "code",
   "execution_count": null,
   "metadata": {
    "vscode": {
     "languageId": "javascript"
    }
   },
   "outputs": [],
   "source": [
    "// prepare fetch urls\n",
    "  // const url = \"https://ssjn.nighthawkcodescrums.gq/api/song\";\n",
    "  const url = \"https://ssjncpt.duckdns.org/api/song\";\n",
    "  const sad_url = url + \"/sad/\";  // sad category\n",
    "  const happy_url = url + \"/happy/\";  // happy category\n",
    "  const rage_url = url + \"/rage/\";  // rage category\n",
    "  const indian_url = url + \"/indian/\"; // indian category\n",
    "\n",
    "  // prepare fetch GET options\n",
    "  const options = {\n",
    "    method: 'GET', // *GET, POST, PUT, DELETE, etc.\n",
    "    mode: 'cors', // cors, *cors, same-origin\n",
    "    cache: 'default', // *default, no-cache, reload, force-cache, only-if-cached\n",
    "    credentials: 'omit', // include, *same-origin, omit\n",
    "    headers: {\n",
    "      'Content-Type': 'application/json'\n",
    "      // 'Content-Type': 'application/x-www-form-urlencoded',\n",
    "    },\n",
    "  };\n",
    "  // prepare fetch PUT options, clones with JS Spread Operator (...)\n",
    "  const put_options = {...options, method: 'PUT'}; // clones and replaces method\n",
    "\n",
    "  // fetch the API\n",
    "  fetch(url, options)\n",
    "    // response is a RESTful \"promise\" on any successful fetch\n",
    "    .then(response => {\n",
    "      // check for response errors\n",
    "      if (response.status !== 200) {\n",
    "          error('GET API response failure: ' + response.status);\n",
    "          return;\n",
    "      }\n",
    "      // valid response will have JSON data"
   ]
  },
  {
   "attachments": {},
   "cell_type": "markdown",
   "metadata": {},
   "source": [
    "## Third Party APIs\n",
    "\n",
    "- APIs provided by other developers for public use.\n",
    "\n",
    "- Programmers can use the content of these APIs to create new functionalities for their programs, or they can also simply take advantage of the data of the API for different uses.\n",
    "\n",
    "  - Ex: A developed can use Google Account login to allow users to log in with their google account\n",
    "\n",
    "  - Ex: Using the content of a weather API to make a weather app \n",
    "\n",
    "- The functionalities of these APIs are usually accessed via JavaScript (usually) as you’ve seen before in your past projects.\n",
    "\n",
    "- 3rd party APIs are located on third party servers. To access them from JavaScript you first need to connect to the API functionality and make it available on your page. "
   ]
  },
  {
   "cell_type": "code",
   "execution_count": null,
   "metadata": {
    "vscode": {
     "languageId": "html"
    }
   },
   "outputs": [],
   "source": [
    "<script src=\"https://api.mqcdn.com/sdk/mapquest-js/v1.3.2/mapquest.js\" defer></script>\n",
    "<link  rel=\"stylesheet\"  href=\"https://api.mqcdn.com/sdk/mapquest-js/v1.3.2/mapquest.css\" />"
   ]
  },
  {
   "attachments": {},
   "cell_type": "markdown",
   "metadata": {},
   "source": [
    "- Here is an example of accessing the objects available in the library above."
   ]
  },
  {
   "cell_type": "code",
   "execution_count": null,
   "metadata": {
    "vscode": {
     "languageId": "javascript"
    }
   },
   "outputs": [],
   "source": [
    "const map = L.mapquest.map('map', {\n",
    "    center: [53.480759, -2.242631],\n",
    "    layers: L.mapquest.tileLayer('map'),\n",
    "    zoom: 12\n",
    "  });"
   ]
  },
  {
   "attachments": {},
   "cell_type": "markdown",
   "metadata": {},
   "source": [
    "- The process of accessing and using third-party APIs can vary depending on the specific API and the requirements set by the API provider.\n",
    "3rd party APIs use developer keys to allow developers access to the API functionality, which protects the owner of the API."
   ]
  },
  {
   "cell_type": "code",
   "execution_count": null,
   "metadata": {
    "vscode": {
     "languageId": "javascript"
    }
   },
   "outputs": [],
   "source": [
    "L.mapquest.key = 'YOUR-API-KEY-HERE';"
   ]
  },
  {
   "attachments": {},
   "cell_type": "markdown",
   "metadata": {},
   "source": [
    "- Developers must apply to get the key of a certain API, and then include it in their code to be allowed access to the API's functionality.\n",
    "Some API keys are accessed slightly differently, but the method is similar for the most part.\n",
    "\n",
    "Put the link of a 3rd party API you have or will use below?\n",
    "\n",
    "https://rapidapi.com/openai-api-openai-api-default/api/openai80/"
   ]
  },
  {
   "attachments": {},
   "cell_type": "markdown",
   "metadata": {},
   "source": [
    "## Pandas\n",
    "\n",
    "While 3rd party APIs give you access to a plethora of data you may have not been able to include using a completely new self-made database, pandas can help you organize and utlize this data. \n",
    "\n",
    "Pandas is an open-source library that allows for the manipulation and analysis of numerical data, which is vital in real-life applications. \n",
    "\n",
    "We have used this in the song recommendation program we are currently developing. The use of pandas allows us to take the csv file we obtained from a third party and display it in a format we can manipulate and analyze."
   ]
  },
  {
   "cell_type": "code",
   "execution_count": null,
   "metadata": {},
   "outputs": [],
   "source": [
    "import os\n",
    "import pandas as pd\n",
    "from flask import render_template\n",
    "\n",
    "@app.route('/songdata')\n",
    "def songdata():\n",
    "    # Path to the CSV file\n",
    "    csv_path = os.path.join(app.static_folder, 'songdata.csv')\n",
    "\n",
    "    # Read the CSV file into a pandas dataframe\n",
    "    df = pd.read_csv(csv_path)\n",
    "\n",
    "    # Render the dataframe as an HTML table using Jinja2\n",
    "    return render_template('songdata.html', table=df.to_html(index=False))"
   ]
  },
  {
   "attachments": {},
   "cell_type": "markdown",
   "metadata": {},
   "source": [
    "This is how the dataframe will appear on our flask:\n",
    "\n",
    "![](images/localpand.png)\n",
    "\n"
   ]
  },
  {
   "attachments": {},
   "cell_type": "markdown",
   "metadata": {},
   "source": [
    "## Python (Request) Fetch\n",
    "### Example with Weather API\n",
    "\n",
    "- What method is being used in these cells? - \"Getting\""
   ]
  },
  {
   "cell_type": "code",
   "execution_count": null,
   "metadata": {},
   "outputs": [
    {
     "name": "stdout",
     "output_type": "stream",
     "text": [
      "{'location': {'city': 'San Diego', 'woeid': 2487889, 'country': 'United States', 'lat': 32.831699, 'long': -117.122002, 'timezone_id': 'America/Los_Angeles'}, 'current_observation': {'pubDate': 1682463385, 'wind': {'chill': 64, 'direction': 'WSW', 'speed': 9}, 'atmosphere': {'humidity': 65, 'visibility': 10, 'pressure': 1012.5}, 'astronomy': {'sunrise': '6:08 AM', 'sunset': '7:26 PM'}, 'condition': {'temperature': 65, 'text': 'Mostly Cloudy', 'code': 28}}, 'forecasts': [{'day': 'Tue', 'date': 1682438400, 'high': 67, 'low': 55, 'text': 'Mostly Clear', 'code': 33}, {'day': 'Wed', 'date': 1682524800, 'high': 73, 'low': 56, 'text': 'Partly Cloudy', 'code': 30}, {'day': 'Thu', 'date': 1682611200, 'high': 76, 'low': 57, 'text': 'Mostly Sunny', 'code': 34}, {'day': 'Fri', 'date': 1682697600, 'high': 76, 'low': 58, 'text': 'Mostly Sunny', 'code': 34}, {'day': 'Sat', 'date': 1682784000, 'high': 77, 'low': 59, 'text': 'Partly Cloudy', 'code': 30}, {'day': 'Sun', 'date': 1682870400, 'high': 75, 'low': 59, 'text': 'Partly Cloudy', 'code': 30}, {'day': 'Mon', 'date': 1682956800, 'high': 64, 'low': 54, 'text': 'Cloudy', 'code': 26}, {'day': 'Tue', 'date': 1683043200, 'high': 62, 'low': 52, 'text': 'Mostly Cloudy', 'code': 28}, {'day': 'Wed', 'date': 1683129600, 'high': 60, 'low': 53, 'text': 'Partly Cloudy', 'code': 30}, {'day': 'Thu', 'date': 1683216000, 'high': 62, 'low': 51, 'text': 'Partly Cloudy', 'code': 30}, {'day': 'Fri', 'date': 1683302400, 'high': 63, 'low': 53, 'text': 'Mostly Cloudy', 'code': 28}]}\n"
     ]
    }
   ],
   "source": [
    "import requests\n",
    "\n",
    "url = \"https://yahoo-weather5.p.rapidapi.com/weather\"\n",
    "\n",
    "querystring = {\"location\":\"San Diego\",\"format\":\"json\",\"u\":\"f\"}\n",
    "\n",
    "headers = {\n",
    "\t\"X-RapidAPI-Key\": \"4abcb54450msh7468dfd72294e89p18fbaajsn6d4200063b39\",\n",
    "\t\"X-RapidAPI-Host\": \"yahoo-weather5.p.rapidapi.com\"\n",
    "}\n",
    "\n",
    "response = requests.request(\"GET\", url, headers=headers, params=querystring)\n",
    "\n",
    "print(response.json())"
   ]
  },
  {
   "cell_type": "markdown",
   "metadata": {},
   "source": [
    "The fetch worked and we can see all the data, but this is presented in a way that is not very readable. It also has a lot of information we didn't see. Let's say I just want to see the projected weather forecasts."
   ]
  },
  {
   "cell_type": "code",
   "execution_count": null,
   "metadata": {},
   "outputs": [],
   "source": [
    "import requests\n",
    "\n",
    "url = \"https://yahoo-weather5.p.rapidapi.com/weather\"\n",
    "\n",
    "querystring = {\"location\":\"San Diego\",\"format\":\"json\",\"u\":\"f\"}\n",
    "\n",
    "headers = {\n",
    "\t\"X-RapidAPI-Key\": \"4abcb54450msh7468dfd72294e89p18fbaajsn6d4200063b39\",\n",
    "\t\"X-RapidAPI-Host\": \"yahoo-weather5.p.rapidapi.com\"\n",
    "}\n",
    "\n",
    "response = requests.request(\"GET\", url, headers=headers, params=querystring)\n",
    "\n",
    "print(\"San Diego Weather Forecast:\" + \"\\n\")\n",
    "forecast = response.json().get(\"forecasts\")\n",
    "i = 0\n",
    "while i < len(forecast):\n",
    "\tfor key, value in forecast[i].items():\n",
    "\t\tprint(\"\\t\" + key, value)\n",
    "\ti += 1\n",
    "\tprint(\"\\n\")"
   ]
  },
  {
   "cell_type": "markdown",
   "metadata": {},
   "source": [
    "As we can see, we now can see the data in a much more organized and readable format, and we only see the forecasts, which is what we wanted to see"
   ]
  },
  {
   "attachments": {},
   "cell_type": "markdown",
   "metadata": {},
   "source": [
    "# Hacks and Point Division\n",
    "\n",
    "- Popcorn questions answered within lesson (.2)\n",
    "- Screenshot showing proof that conda is installed (.1)\n",
    "- Create 3 quiz questions to demonstrate the main steps in creating a repository on Github (.1)\n",
    "- Fetch from a third party API, and display json data. Then use the json data in any simple JavaScript function (hint: parse, this makes json data into a JavaScript object) (.4)\n",
    "  - In your code, comment on how you implemented a 3rd party API. Reflect on how using the 3rd party API helped.\n",
    "- Pull request successful completion: (.1)\n",
    "\n",
    "Extra: Use fetch() and display data from an API, self-made or third party (.1)\n",
    "\n",
    "\"\n",
    "\n"
   ]
  },
  {
   "cell_type": "code",
   "execution_count": 1,
   "metadata": {},
   "outputs": [
    {
     "name": "stdout",
     "output_type": "stream",
     "text": [
      "[{\"title\":\"DISNEY Dreamlight Valley Update 4 Review. Everything New in The Update. I'm BLOWN AWAY!\",\"description\":\"\",\"publishedDate\":\"2023-04-24T17:26:00.499Z\",\"publishedText\":\"3 weeks ago\",\"videoId\":\"2voCtSF5XTs\",\"videoUrl\":\"https://youtube.com/watch?v=2voCtSF5XTs\",\"channelName\":\"MrStarInSky\",\"channelId\":\"UC8yHRFnM2ZzTRT351-AKAxw\",\"channelUrl\":\"https://youtube.com/@mrStarInSky\",\"thumbnails\":[{\"quality\":\"maxres\",\"url\":\"https://i.ytimg.com/vi/2voCtSF5XTs/maxres.jpg\",\"width\":1280,\"height\":720},{\"quality\":\"maxresdefault\",\"url\":\"https://i.ytimg.com/vi/2voCtSF5XTs/maxresdefault.jpg\",\"width\":1280,\"height\":720},{\"quality\":\"sddefault\",\"url\":\"https://i.ytimg.com/vi/2voCtSF5XTs/sddefault.jpg\",\"width\":640,\"height\":480},{\"quality\":\"high\",\"url\":\"https://i.ytimg.com/vi/2voCtSF5XTs/hqdefault.jpg\",\"width\":480,\"height\":360},{\"quality\":\"medium\",\"url\":\"https://i.ytimg.com/vi/2voCtSF5XTs/mqdefault.jpg\",\"width\":320,\"height\":180},{\"quality\":\"default\",\"url\":\"https://i.ytimg.com/vi/2voCtSF5XTs/default.jpg\",\"width\":120,\"height\":90},{\"quality\":\"start\",\"url\":\"https://i.ytimg.com/vi/2voCtSF5XTs/1.jpg\",\"width\":120,\"height\":90},{\"quality\":\"middle\",\"url\":\"https://i.ytimg.com/vi/2voCtSF5XTs/2.jpg\",\"width\":120,\"height\":90},{\"quality\":\"end\",\"url\":\"https://i.ytimg.com/vi/2voCtSF5XTs/3.jpg\",\"width\":120,\"height\":90}],\"views\":41911,\"viewsText\":\"41,911 views\",\"duration\":1069,\"durationText\":\"17:49\",\"verified\":false,\"creatorOnRise\":true,\"isShort\":false},{\"title\":\"DISNEY Dreamlight Valley. Top 10 SECRET FEATURES in Update 4. New Potatoes, HIDDEN Quests and MORE!\",\"description\":\"\",\"publishedDate\":\"2023-04-24T17:26:00.499Z\",\"publishedText\":\"3 weeks ago\",\"videoId\":\"eZ570v6lRSw\",\"videoUrl\":\"https://youtube.com/watch?v=eZ570v6lRSw\",\"channelName\":\"MrStarInSky\",\"channelId\":\"UC8yHRFnM2ZzTRT351-AKAxw\",\"channelUrl\":\"https://youtube.com/@mrStarInSky\",\"thumbnails\":[{\"quality\":\"maxres\",\"url\":\"https://i.ytimg.com/vi/eZ570v6lRSw/maxres.jpg\",\"width\":1280,\"height\":720},{\"quality\":\"maxresdefault\",\"url\":\"https://i.ytimg.com/vi/eZ570v6lRSw/maxresdefault.jpg\",\"width\":1280,\"height\":720},{\"quality\":\"sddefault\",\"url\":\"https://i.ytimg.com/vi/eZ570v6lRSw/sddefault.jpg\",\"width\":640,\"height\":480},{\"quality\":\"high\",\"url\":\"https://i.ytimg.com/vi/eZ570v6lRSw/hqdefault.jpg\",\"width\":480,\"height\":360},{\"quality\":\"medium\",\"url\":\"https://i.ytimg.com/vi/eZ570v6lRSw/mqdefault.jpg\",\"width\":320,\"height\":180},{\"quality\":\"default\",\"url\":\"https://i.ytimg.com/vi/eZ570v6lRSw/default.jpg\",\"width\":120,\"height\":90},{\"quality\":\"start\",\"url\":\"https://i.ytimg.com/vi/eZ570v6lRSw/1.jpg\",\"width\":120,\"height\":90},{\"quality\":\"middle\",\"url\":\"https://i.ytimg.com/vi/eZ570v6lRSw/2.jpg\",\"width\":120,\"height\":90},{\"quality\":\"end\",\"url\":\"https://i.ytimg.com/vi/eZ570v6lRSw/3.jpg\",\"width\":120,\"height\":90}],\"views\":31265,\"viewsText\":\"31,265 views\",\"duration\":587,\"durationText\":\"9:47\",\"verified\":false,\"creatorOnRise\":true,\"isShort\":false},{\"title\":\"DISNEY Dreamlight Valley. Easter Event FULL GUIDE. Easter Recipes and Quests Explained. EGGS!\",\"description\":\"\",\"publishedDate\":\"2023-04-25T10:14:00.499Z\",\"publishedText\":\"2 weeks ago\",\"videoId\":\"Ljhi0zG9-mw\",\"videoUrl\":\"https://youtube.com/watch?v=Ljhi0zG9-mw\",\"channelName\":\"MrStarInSky\",\"channelId\":\"UC8yHRFnM2ZzTRT351-AKAxw\",\"channelUrl\":\"https://youtube.com/@mrStarInSky\",\"thumbnails\":[{\"quality\":\"maxres\",\"url\":\"https://i.ytimg.com/vi/Ljhi0zG9-mw/maxres.jpg\",\"width\":1280,\"height\":720},{\"quality\":\"maxresdefault\",\"url\":\"https://i.ytimg.com/vi/Ljhi0zG9-mw/maxresdefault.jpg\",\"width\":1280,\"height\":720},{\"quality\":\"sddefault\",\"url\":\"https://i.ytimg.com/vi/Ljhi0zG9-mw/sddefault.jpg\",\"width\":640,\"height\":480},{\"quality\":\"high\",\"url\":\"https://i.ytimg.com/vi/Ljhi0zG9-mw/hqdefault.jpg\",\"width\":480,\"height\":360},{\"quality\":\"medium\",\"url\":\"https://i.ytimg.com/vi/Ljhi0zG9-mw/mqdefault.jpg\",\"width\":320,\"height\":180},{\"quality\":\"default\",\"url\":\"https://i.ytimg.com/vi/Ljhi0zG9-mw/default.jpg\",\"width\":120,\"height\":90},{\"quality\":\"start\",\"url\":\"https://i.ytimg.com/vi/Ljhi0zG9-mw/1.jpg\",\"width\":120,\"height\":90},{\"quality\":\"middle\",\"url\":\"https://i.ytimg.com/vi/Ljhi0zG9-mw/2.jpg\",\"width\":120,\"height\":90},{\"quality\":\"end\",\"url\":\"https://i.ytimg.com/vi/Ljhi0zG9-mw/3.jpg\",\"width\":120,\"height\":90}],\"views\":40503,\"viewsText\":\"40,503 views\",\"duration\":880,\"durationText\":\"14:40\",\"verified\":false,\"creatorOnRise\":true,\"isShort\":false},{\"title\":\"How to Get Dreamlight Fruit in DISNEY Dreamlight Valley. Unlocking Dreamlight Trees!\",\"description\":\"\",\"publishedDate\":\"2023-04-25T10:14:00.499Z\",\"publishedText\":\"2 weeks ago\",\"videoId\":\"h4NbjGBh4I4\",\"videoUrl\":\"https://youtube.com/watch?v=h4NbjGBh4I4\",\"channelName\":\"MrStarInSky\",\"channelId\":\"UC8yHRFnM2ZzTRT351-AKAxw\",\"channelUrl\":\"https://youtube.com/@mrStarInSky\",\"thumbnails\":[{\"quality\":\"maxres\",\"url\":\"https://i.ytimg.com/vi/h4NbjGBh4I4/maxres.jpg\",\"width\":1280,\"height\":720},{\"quality\":\"maxresdefault\",\"url\":\"https://i.ytimg.com/vi/h4NbjGBh4I4/maxresdefault.jpg\",\"width\":1280,\"height\":720},{\"quality\":\"sddefault\",\"url\":\"https://i.ytimg.com/vi/h4NbjGBh4I4/sddefault.jpg\",\"width\":640,\"height\":480},{\"quality\":\"high\",\"url\":\"https://i.ytimg.com/vi/h4NbjGBh4I4/hqdefault.jpg\",\"width\":480,\"height\":360},{\"quality\":\"medium\",\"url\":\"https://i.ytimg.com/vi/h4NbjGBh4I4/mqdefault.jpg\",\"width\":320,\"height\":180},{\"quality\":\"default\",\"url\":\"https://i.ytimg.com/vi/h4NbjGBh4I4/default.jpg\",\"width\":120,\"height\":90},{\"quality\":\"start\",\"url\":\"https://i.ytimg.com/vi/h4NbjGBh4I4/1.jpg\",\"width\":120,\"height\":90},{\"quality\":\"middle\",\"url\":\"https://i.ytimg.com/vi/h4NbjGBh4I4/2.jpg\",\"width\":120,\"height\":90},{\"quality\":\"end\",\"url\":\"https://i.ytimg.com/vi/h4NbjGBh4I4/3.jpg\",\"width\":120,\"height\":90}],\"views\":12403,\"viewsText\":\"12,403 views\",\"duration\":489,\"durationText\":\"8:09\",\"verified\":false,\"creatorOnRise\":true,\"isShort\":false},{\"title\":\"my hardest recording session\",\"description\":\"WELCOME, back to Resident Evil 4 Remake!\\n\\nJoin ► http://bit.ly/1vKSGtU\\nTiktok ► https://www.tiktok.com/@notcoryxkenshin\\nTwitter ► https://twitter.com/coryxkenshin\\nInstagram ► http://instagr...\",\"publishedDate\":\"2023-04-26T17:26:00.499Z\",\"publishedText\":\"1 day ago\",\"videoId\":\"RrA4kjLXmFo\",\"videoUrl\":\"https://youtube.com/watch?v=RrA4kjLXmFo\",\"channelName\":\"CoryxKenshin\",\"channelId\":\"UCiYcA0gJzg855iSKMrX3oHg\",\"channelUrl\":\"https://youtube.com/@CoryxKenshin\",\"thumbnails\":[{\"quality\":\"maxres\",\"url\":\"https://i.ytimg.com/vi/RrA4kjLXmFo/maxres.jpg\",\"width\":1280,\"height\":720},{\"quality\":\"maxresdefault\",\"url\":\"https://i.ytimg.com/vi/RrA4kjLXmFo/maxresdefault.jpg\",\"width\":1280,\"height\":720},{\"quality\":\"sddefault\",\"url\":\"https://i.ytimg.com/vi/RrA4kjLXmFo/sddefault.jpg\",\"width\":640,\"height\":480},{\"quality\":\"high\",\"url\":\"https://i.ytimg.com/vi/RrA4kjLXmFo/hqdefault.jpg\",\"width\":480,\"height\":360},{\"quality\":\"medium\",\"url\":\"https://i.ytimg.com/vi/RrA4kjLXmFo/mqdefault.jpg\",\"width\":320,\"height\":180},{\"quality\":\"default\",\"url\":\"https://i.ytimg.com/vi/RrA4kjLXmFo/default.jpg\",\"width\":120,\"height\":90},{\"quality\":\"start\",\"url\":\"https://i.ytimg.com/vi/RrA4kjLXmFo/1.jpg\",\"width\":120,\"height\":90},{\"quality\":\"middle\",\"url\":\"https://i.ytimg.com/vi/RrA4kjLXmFo/2.jpg\",\"width\":120,\"height\":90},{\"quality\":\"end\",\"url\":\"https://i.ytimg.com/vi/RrA4kjLXmFo/3.jpg\",\"width\":120,\"height\":90}],\"views\":2128568,\"viewsText\":\"2,128,568 views\",\"duration\":3981,\"durationText\":\"1:06:21\",\"verified\":true,\"creatorOnRise\":false,\"isShort\":false},{\"title\":\"Speedrunning YT Shorts #79\",\"description\":\"FYI the purpose of this video is satire and comedy, and I do not intend to disrespect or deprecate content creators featured in this short, I just wanted to shorten some aspects of their videos...\",\"publishedDate\":\"2023-04-26T17:26:00.499Z\",\"publishedText\":\"1 day ago\",\"videoId\":\"KADV7x387hw\",\"videoUrl\":\"https://youtube.com/shorts/KADV7x387hw\",\"channelName\":\"Joe Caine\",\"channelId\":\"UCHyMNXj5l7eTTQefXzT3MdQ\",\"channelUrl\":\"https://youtube.com/@joe_caine\",\"thumbnails\":[{\"quality\":\"maxres\",\"url\":\"https://i.ytimg.com/vi/KADV7x387hw/maxres.jpg\",\"width\":1280,\"height\":720},{\"quality\":\"maxresdefault\",\"url\":\"https://i.ytimg.com/vi/KADV7x387hw/maxresdefault.jpg\",\"width\":1280,\"height\":720},{\"quality\":\"sddefault\",\"url\":\"https://i.ytimg.com/vi/KADV7x387hw/sddefault.jpg\",\"width\":640,\"height\":480},{\"quality\":\"high\",\"url\":\"https://i.ytimg.com/vi/KADV7x387hw/hqdefault.jpg\",\"width\":480,\"height\":360},{\"quality\":\"medium\",\"url\":\"https://i.ytimg.com/vi/KADV7x387hw/mqdefault.jpg\",\"width\":320,\"height\":180},{\"quality\":\"default\",\"url\":\"https://i.ytimg.com/vi/KADV7x387hw/default.jpg\",\"width\":120,\"height\":90},{\"quality\":\"start\",\"url\":\"https://i.ytimg.com/vi/KADV7x387hw/1.jpg\",\"width\":120,\"height\":90},{\"quality\":\"middle\",\"url\":\"https://i.ytimg.com/vi/KADV7x387hw/2.jpg\",\"width\":120,\"height\":90},{\"quality\":\"end\",\"url\":\"https://i.ytimg.com/vi/KADV7x387hw/3.jpg\",\"width\":120,\"height\":90}],\"views\":1607429,\"viewsText\":\"1,607,429 views\",\"duration\":59,\"durationText\":\"0:59\",\"verified\":true,\"creatorOnRise\":false,\"isShort\":true},{\"title\":\"The Creeper Can Melee (actually)\",\"description\":\"follow my twitter so i can set-up more collabs @camman18_: https://twitter.com/camman18_\\nalso i stream on twitch every week and this might've been streamed there @camman18: https://twitch.tv/camman...\",\"publishedDate\":\"2023-04-26T17:26:00.499Z\",\"publishedText\":\"1 day ago\",\"videoId\":\"XWsYIKQFBWk\",\"videoUrl\":\"https://youtube.com/shorts/XWsYIKQFBWk\",\"channelName\":\"camman18\",\"channelId\":\"UCiZ2z8F8ilr6SC7lOaxAQ4g\",\"channelUrl\":\"https://youtube.com/@camman18\",\"thumbnails\":[{\"quality\":\"maxres\",\"url\":\"https://i.ytimg.com/vi/XWsYIKQFBWk/maxres.jpg\",\"width\":1280,\"height\":720},{\"quality\":\"maxresdefault\",\"url\":\"https://i.ytimg.com/vi/XWsYIKQFBWk/maxresdefault.jpg\",\"width\":1280,\"height\":720},{\"quality\":\"sddefault\",\"url\":\"https://i.ytimg.com/vi/XWsYIKQFBWk/sddefault.jpg\",\"width\":640,\"height\":480},{\"quality\":\"high\",\"url\":\"https://i.ytimg.com/vi/XWsYIKQFBWk/hqdefault.jpg\",\"width\":480,\"height\":360},{\"quality\":\"medium\",\"url\":\"https://i.ytimg.com/vi/XWsYIKQFBWk/mqdefault.jpg\",\"width\":320,\"height\":180},{\"quality\":\"default\",\"url\":\"https://i.ytimg.com/vi/XWsYIKQFBWk/default.jpg\",\"width\":120,\"height\":90},{\"quality\":\"start\",\"url\":\"https://i.ytimg.com/vi/XWsYIKQFBWk/1.jpg\",\"width\":120,\"height\":90},{\"quality\":\"middle\",\"url\":\"https://i.ytimg.com/vi/XWsYIKQFBWk/2.jpg\",\"width\":120,\"height\":90},{\"quality\":\"end\",\"url\":\"https://i.ytimg.com/vi/XWsYIKQFBWk/3.jpg\",\"width\":120,\"height\":90}],\"views\":1417829,\"viewsText\":\"1,417,829 views\",\"duration\":32,\"durationText\":\"0:32\",\"verified\":true,\"creatorOnRise\":false,\"isShort\":true},{\"title\":\"Would You Rather Be In A Really Good Movie Or Really Bad Movie #shorts #funny #wouldyourather\",\"description\":\"Would You Rather Be In A Really Good Movie Or Really Bad Movie #shorts #funny #wouldyourather \\n\\nTry Gamersupps: https://gamersupps.gg/JonnyRaZeR\\n\\nJonny RaZeR Premium: https://www.youtube.com/channe...\",\"publishedDate\":\"2023-04-26T17:26:00.499Z\",\"publishedText\":\"1 day ago\",\"videoId\":\"kCdq3Zr_GL8\",\"videoUrl\":\"https://youtube.com/shorts/kCdq3Zr_GL8\",\"channelName\":\"Jonny RaZeR\",\"channelId\":\"UCjztW-DlDg05_YM6-oTJTPA\",\"channelUrl\":\"https://youtube.com/@JonnyRaZeR\",\"thumbnails\":[{\"quality\":\"maxres\",\"url\":\"https://i.ytimg.com/vi/kCdq3Zr_GL8/maxres.jpg\",\"width\":1280,\"height\":720},{\"quality\":\"maxresdefault\",\"url\":\"https://i.ytimg.com/vi/kCdq3Zr_GL8/maxresdefault.jpg\",\"width\":1280,\"height\":720},{\"quality\":\"sddefault\",\"url\":\"https://i.ytimg.com/vi/kCdq3Zr_GL8/sddefault.jpg\",\"width\":640,\"height\":480},{\"quality\":\"high\",\"url\":\"https://i.ytimg.com/vi/kCdq3Zr_GL8/hqdefault.jpg\",\"width\":480,\"height\":360},{\"quality\":\"medium\",\"url\":\"https://i.ytimg.com/vi/kCdq3Zr_GL8/mqdefault.jpg\",\"width\":320,\"height\":180},{\"quality\":\"default\",\"url\":\"https://i.ytimg.com/vi/kCdq3Zr_GL8/default.jpg\",\"width\":120,\"height\":90},{\"quality\":\"start\",\"url\":\"https://i.ytimg.com/vi/kCdq3Zr_GL8/1.jpg\",\"width\":120,\"height\":90},{\"quality\":\"middle\",\"url\":\"https://i.ytimg.com/vi/kCdq3Zr_GL8/2.jpg\",\"width\":120,\"height\":90},{\"quality\":\"end\",\"url\":\"https://i.ytimg.com/vi/kCdq3Zr_GL8/3.jpg\",\"width\":120,\"height\":90}],\"views\":798117,\"viewsText\":\"798,117 views\",\"duration\":31,\"durationText\":\"0:31\",\"verified\":true,\"creatorOnRise\":false,\"isShort\":true},{\"title\":\"Apex Legends: Arsenal Launch Trailer\",\"description\":\"Before there were Legends, there was Ballistic. He’s back in the fray, here to show the Legends, the crowd, and himself that this old dog’s tricks stand the test of time. \\n\\nhttp://x.ea.com/7631...\",\"publishedDate\":\"2023-04-26T19:26:00.499Z\",\"publishedText\":\"4 hours ago\",\"videoId\":\"3D4sYCf1VPI\",\"videoUrl\":\"https://youtube.com/watch?v=3D4sYCf1VPI\",\"channelName\":\"Apex Legends\",\"channelId\":\"UC0ZV6M2THA81QT9hrVWJG3A\",\"channelUrl\":\"https://youtube.com/@playapex\",\"thumbnails\":[{\"quality\":\"maxres\",\"url\":\"https://i.ytimg.com/vi/3D4sYCf1VPI/maxres.jpg\",\"width\":1280,\"height\":720},{\"quality\":\"maxresdefault\",\"url\":\"https://i.ytimg.com/vi/3D4sYCf1VPI/maxresdefault.jpg\",\"width\":1280,\"height\":720},{\"quality\":\"sddefault\",\"url\":\"https://i.ytimg.com/vi/3D4sYCf1VPI/sddefault.jpg\",\"width\":640,\"height\":480},{\"quality\":\"high\",\"url\":\"https://i.ytimg.com/vi/3D4sYCf1VPI/hqdefault.jpg\",\"width\":480,\"height\":360},{\"quality\":\"medium\",\"url\":\"https://i.ytimg.com/vi/3D4sYCf1VPI/mqdefault.jpg\",\"width\":320,\"height\":180},{\"quality\":\"default\",\"url\":\"https://i.ytimg.com/vi/3D4sYCf1VPI/default.jpg\",\"width\":120,\"height\":90},{\"quality\":\"start\",\"url\":\"https://i.ytimg.com/vi/3D4sYCf1VPI/1.jpg\",\"width\":120,\"height\":90},{\"quality\":\"middle\",\"url\":\"https://i.ytimg.com/vi/3D4sYCf1VPI/2.jpg\",\"width\":120,\"height\":90},{\"quality\":\"end\",\"url\":\"https://i.ytimg.com/vi/3D4sYCf1VPI/3.jpg\",\"width\":120,\"height\":90}],\"views\":493445,\"viewsText\":\"493,445 views\",\"duration\":161,\"durationText\":\"2:41\",\"verified\":true,\"creatorOnRise\":false,\"isShort\":false},{\"title\":\"I Played Zelda: Tears of the Kingdom (Hands-On Preview)\",\"description\":\"I was invited to a preview session to play Zelda: Tears of the Kingdom. Is it as good as Breath of the Wild, or better?\\n\\nA huge thank you to both Nintendo UK and Nintendo of Europe for inviting...\",\"publishedDate\":\"2023-04-26T19:14:00.499Z\",\"publishedText\":\"6 hours ago\",\"videoId\":\"2EMZzW7hj0M\",\"videoUrl\":\"https://youtube.com/watch?v=2EMZzW7hj0M\",\"channelName\":\"Zeltik\",\"channelId\":\"UCudx6plmpbs5WtWvsvu-EdQ\",\"channelUrl\":\"https://youtube.com/@Zeltik\",\"thumbnails\":[{\"quality\":\"maxres\",\"url\":\"https://i.ytimg.com/vi/2EMZzW7hj0M/maxres.jpg\",\"width\":1280,\"height\":720},{\"quality\":\"maxresdefault\",\"url\":\"https://i.ytimg.com/vi/2EMZzW7hj0M/maxresdefault.jpg\",\"width\":1280,\"height\":720},{\"quality\":\"sddefault\",\"url\":\"https://i.ytimg.com/vi/2EMZzW7hj0M/sddefault.jpg\",\"width\":640,\"height\":480},{\"quality\":\"high\",\"url\":\"https://i.ytimg.com/vi/2EMZzW7hj0M/hqdefault.jpg\",\"width\":480,\"height\":360},{\"quality\":\"medium\",\"url\":\"https://i.ytimg.com/vi/2EMZzW7hj0M/mqdefault.jpg\",\"width\":320,\"height\":180},{\"quality\":\"default\",\"url\":\"https://i.ytimg.com/vi/2EMZzW7hj0M/default.jpg\",\"width\":120,\"height\":90},{\"quality\":\"start\",\"url\":\"https://i.ytimg.com/vi/2EMZzW7hj0M/1.jpg\",\"width\":120,\"height\":90},{\"quality\":\"middle\",\"url\":\"https://i.ytimg.com/vi/2EMZzW7hj0M/2.jpg\",\"width\":120,\"height\":90},{\"quality\":\"end\",\"url\":\"https://i.ytimg.com/vi/2EMZzW7hj0M/3.jpg\",\"width\":120,\"height\":90}],\"views\":320537,\"viewsText\":\"320,537 views\",\"duration\":1334,\"durationText\":\"22:14\",\"verified\":true,\"creatorOnRise\":false,\"isShort\":false},{\"title\":\"Youtuber Gets Raided Over Trading Card Drama\",\"description\":\"This is the greatest booster box leak of All Time\\nMerch https://moistglobal.com/\\nI stream every day https://www.twitch.tv/moistcr1tikal\",\"publishedDate\":\"2023-04-26T17:44:00.499Z\",\"publishedText\":\"21 hours ago\",\"videoId\":\"m3YR2DFPpGc\",\"videoUrl\":\"https://youtube.com/watch?v=m3YR2DFPpGc\",\"channelName\":\"penguinz0\",\"channelId\":\"UCq6VFHwMzcMXbuKyG7SQYIg\",\"channelUrl\":\"https://youtube.com/@penguinz0\",\"thumbnails\":[{\"quality\":\"maxres\",\"url\":\"https://i.ytimg.com/vi/m3YR2DFPpGc/maxres.jpg\",\"width\":1280,\"height\":720},{\"quality\":\"maxresdefault\",\"url\":\"https://i.ytimg.com/vi/m3YR2DFPpGc/maxresdefault.jpg\",\"width\":1280,\"height\":720},{\"quality\":\"sddefault\",\"url\":\"https://i.ytimg.com/vi/m3YR2DFPpGc/sddefault.jpg\",\"width\":640,\"height\":480},{\"quality\":\"high\",\"url\":\"https://i.ytimg.com/vi/m3YR2DFPpGc/hqdefault.jpg\",\"width\":480,\"height\":360},{\"quality\":\"medium\",\"url\":\"https://i.ytimg.com/vi/m3YR2DFPpGc/mqdefault.jpg\",\"width\":320,\"height\":180},{\"quality\":\"default\",\"url\":\"https://i.ytimg.com/vi/m3YR2DFPpGc/default.jpg\",\"width\":120,\"height\":90},{\"quality\":\"start\",\"url\":\"https://i.ytimg.com/vi/m3YR2DFPpGc/1.jpg\",\"width\":120,\"height\":90},{\"quality\":\"middle\",\"url\":\"https://i.ytimg.com/vi/m3YR2DFPpGc/2.jpg\",\"width\":120,\"height\":90},{\"quality\":\"end\",\"url\":\"https://i.ytimg.com/vi/m3YR2DFPpGc/3.jpg\",\"width\":120,\"height\":90}],\"views\":820681,\"viewsText\":\"820,681 views\",\"duration\":752,\"durationText\":\"12:32\",\"verified\":true,\"creatorOnRise\":false,\"isShort\":false},{\"title\":\"These Pokémon Fusions... are depressing\",\"description\":\"sprite art credit:\\nmarowak / kangaskhan: SuperLuigi901#9878 on Discord \\ncubone / kangaskhan: Milchek# 6233 on Discord\\nkangaskhan / cubone: Blaquaza# 1347\",\"publishedDate\":\"2023-04-26T17:32:00.499Z\",\"publishedText\":\"23 hours ago\",\"videoId\":\"u2SLzxc00UQ\",\"videoUrl\":\"https://youtube.com/shorts/u2SLzxc00UQ\",\"channelName\":\"Alpharad\",\"channelId\":\"UCBODyKF0JMbUd6D9Bklyzbw\",\"channelUrl\":\"https://youtube.com/@Alpharad\",\"thumbnails\":[{\"quality\":\"maxres\",\"url\":\"https://i.ytimg.com/vi/u2SLzxc00UQ/maxres.jpg\",\"width\":1280,\"height\":720},{\"quality\":\"maxresdefault\",\"url\":\"https://i.ytimg.com/vi/u2SLzxc00UQ/maxresdefault.jpg\",\"width\":1280,\"height\":720},{\"quality\":\"sddefault\",\"url\":\"https://i.ytimg.com/vi/u2SLzxc00UQ/sddefault.jpg\",\"width\":640,\"height\":480},{\"quality\":\"high\",\"url\":\"https://i.ytimg.com/vi/u2SLzxc00UQ/hqdefault.jpg\",\"width\":480,\"height\":360},{\"quality\":\"medium\",\"url\":\"https://i.ytimg.com/vi/u2SLzxc00UQ/mqdefault.jpg\",\"width\":320,\"height\":180},{\"quality\":\"default\",\"url\":\"https://i.ytimg.com/vi/u2SLzxc00UQ/default.jpg\",\"width\":120,\"height\":90},{\"quality\":\"start\",\"url\":\"https://i.ytimg.com/vi/u2SLzxc00UQ/1.jpg\",\"width\":120,\"height\":90},{\"quality\":\"middle\",\"url\":\"https://i.ytimg.com/vi/u2SLzxc00UQ/2.jpg\",\"width\":120,\"height\":90},{\"quality\":\"end\",\"url\":\"https://i.ytimg.com/vi/u2SLzxc00UQ/3.jpg\",\"width\":120,\"height\":90}],\"views\":433235,\"viewsText\":\"433,235 views\",\"duration\":33,\"durationText\":\"0:33\",\"verified\":true,\"creatorOnRise\":false,\"isShort\":true},{\"title\":\"Types of Minecraft Players Farming\",\"description\":\"In this video I show you some types of ways Minecraft players farm in this beautiful game :)\\n\\n(Subscribe or I'll take your wireless charger)\\n#minecraft #shorts\",\"publishedDate\":\"2023-04-26T18:08:00.499Z\",\"publishedText\":\"17 hours ago\",\"videoId\":\"ydxRbgbvU2w\",\"videoUrl\":\"https://youtube.com/shorts/ydxRbgbvU2w\",\"channelName\":\"Crave\",\"channelId\":\"UC7fRN6v5Z0a1fwfbPFz49gQ\",\"channelUrl\":\"https://youtube.com/@Crave_\",\"thumbnails\":[{\"quality\":\"maxres\",\"url\":\"https://i.ytimg.com/vi/ydxRbgbvU2w/maxres.jpg\",\"width\":1280,\"height\":720},{\"quality\":\"maxresdefault\",\"url\":\"https://i.ytimg.com/vi/ydxRbgbvU2w/maxresdefault.jpg\",\"width\":1280,\"height\":720},{\"quality\":\"sddefault\",\"url\":\"https://i.ytimg.com/vi/ydxRbgbvU2w/sddefault.jpg\",\"width\":640,\"height\":480},{\"quality\":\"high\",\"url\":\"https://i.ytimg.com/vi/ydxRbgbvU2w/hqdefault.jpg\",\"width\":480,\"height\":360},{\"quality\":\"medium\",\"url\":\"https://i.ytimg.com/vi/ydxRbgbvU2w/mqdefault.jpg\",\"width\":320,\"height\":180},{\"quality\":\"default\",\"url\":\"https://i.ytimg.com/vi/ydxRbgbvU2w/default.jpg\",\"width\":120,\"height\":90},{\"quality\":\"start\",\"url\":\"https://i.ytimg.com/vi/ydxRbgbvU2w/1.jpg\",\"width\":120,\"height\":90},{\"quality\":\"middle\",\"url\":\"https://i.ytimg.com/vi/ydxRbgbvU2w/2.jpg\",\"width\":120,\"height\":90},{\"quality\":\"end\",\"url\":\"https://i.ytimg.com/vi/ydxRbgbvU2w/3.jpg\",\"width\":120,\"height\":90}],\"views\":579236,\"viewsText\":\"579,236 views\",\"duration\":49,\"durationText\":\"0:49\",\"verified\":true,\"creatorOnRise\":false,\"isShort\":true},{\"title\":\"Surviving as a Mutant in Modded Minecraft\",\"description\":\"We try to survive as a mutant in this modded minecraft mini game\\n\\n☞  Subscribe & click the bell \\nSubscribe ➡ https://www.youtube.com/user/SSundee?sub_confirmation=1\\n\\n=== ϟ || Friends ||...\",\"publishedDate\":\"2023-04-26T19:02:00.499Z\",\"publishedText\":\"8 hours ago\",\"videoId\":\"ySVbuoHj-xs\",\"videoUrl\":\"https://youtube.com/watch?v=ySVbuoHj-xs\",\"channelName\":\"SSundee\",\"channelId\":\"UCke6I9N4KfC968-yRcd5YRg\",\"channelUrl\":\"https://youtube.com/@SSundee\",\"thumbnails\":[{\"quality\":\"maxres\",\"url\":\"https://i.ytimg.com/vi/ySVbuoHj-xs/maxres.jpg\",\"width\":1280,\"height\":720},{\"quality\":\"maxresdefault\",\"url\":\"https://i.ytimg.com/vi/ySVbuoHj-xs/maxresdefault.jpg\",\"width\":1280,\"height\":720},{\"quality\":\"sddefault\",\"url\":\"https://i.ytimg.com/vi/ySVbuoHj-xs/sddefault.jpg\",\"width\":640,\"height\":480},{\"quality\":\"high\",\"url\":\"https://i.ytimg.com/vi/ySVbuoHj-xs/hqdefault.jpg\",\"width\":480,\"height\":360},{\"quality\":\"medium\",\"url\":\"https://i.ytimg.com/vi/ySVbuoHj-xs/mqdefault.jpg\",\"width\":320,\"height\":180},{\"quality\":\"default\",\"url\":\"https://i.ytimg.com/vi/ySVbuoHj-xs/default.jpg\",\"width\":120,\"height\":90},{\"quality\":\"start\",\"url\":\"https://i.ytimg.com/vi/ySVbuoHj-xs/1.jpg\",\"width\":120,\"height\":90},{\"quality\":\"middle\",\"url\":\"https://i.ytimg.com/vi/ySVbuoHj-xs/2.jpg\",\"width\":120,\"height\":90},{\"quality\":\"end\",\"url\":\"https://i.ytimg.com/vi/ySVbuoHj-xs/3.jpg\",\"width\":120,\"height\":90}],\"views\":384257,\"viewsText\":\"384,257 views\",\"duration\":925,\"durationText\":\"15:25\",\"verified\":true,\"creatorOnRise\":false,\"isShort\":false},{\"title\":\"SCP Shower Thoughts... #45\",\"description\":\"#scp #scpsecretlaboratory #scpsecretlab #scpsl #memes #meme #scp939 #scp173 #showerthoughts #minecraft #marvel #marvelstudios #dc #dccomics #ironman #spiderman #thanos #scp096 #infinitywar...\",\"publishedDate\":\"2023-04-26T17:32:00.499Z\",\"publishedText\":\"23 hours ago\",\"videoId\":\"GDjlJZinKG4\",\"videoUrl\":\"https://youtube.com/shorts/GDjlJZinKG4\",\"channelName\":\"scpWyatt\",\"channelId\":\"UCvJua1pSc5RIZh0D8nCvI_w\",\"channelUrl\":\"https://youtube.com/@scpWyatt\",\"thumbnails\":[{\"quality\":\"maxres\",\"url\":\"https://i.ytimg.com/vi/GDjlJZinKG4/maxres.jpg\",\"width\":1280,\"height\":720},{\"quality\":\"maxresdefault\",\"url\":\"https://i.ytimg.com/vi/GDjlJZinKG4/maxresdefault.jpg\",\"width\":1280,\"height\":720},{\"quality\":\"sddefault\",\"url\":\"https://i.ytimg.com/vi/GDjlJZinKG4/sddefault.jpg\",\"width\":640,\"height\":480},{\"quality\":\"high\",\"url\":\"https://i.ytimg.com/vi/GDjlJZinKG4/hqdefault.jpg\",\"width\":480,\"height\":360},{\"quality\":\"medium\",\"url\":\"https://i.ytimg.com/vi/GDjlJZinKG4/mqdefault.jpg\",\"width\":320,\"height\":180},{\"quality\":\"default\",\"url\":\"https://i.ytimg.com/vi/GDjlJZinKG4/default.jpg\",\"width\":120,\"height\":90},{\"quality\":\"start\",\"url\":\"https://i.ytimg.com/vi/GDjlJZinKG4/1.jpg\",\"width\":120,\"height\":90},{\"quality\":\"middle\",\"url\":\"https://i.ytimg.com/vi/GDjlJZinKG4/2.jpg\",\"width\":120,\"height\":90},{\"quality\":\"end\",\"url\":\"https://i.ytimg.com/vi/GDjlJZinKG4/3.jpg\",\"width\":120,\"height\":90}],\"views\":507016,\"viewsText\":\"507,016 views\",\"duration\":45,\"durationText\":\"0:45\",\"verified\":true,\"creatorOnRise\":false,\"isShort\":true},{\"title\":\"I UPSET AMANDA so she CHOPPED ME INTO LITTLE PIECES.. - Amanda the Adventurer\",\"description\":\"Amanda the Adventurer gameplay walkthrough part 2. amanda the adventurer is finally here and we get the bad ending for the game.. Stay tuned because I plan on getting all endings in amanda...\",\"publishedDate\":\"2023-04-26T17:26:00.499Z\",\"publishedText\":\"1 day ago\",\"videoId\":\"r5cYvlKmQGM\",\"videoUrl\":\"https://youtube.com/watch?v=r5cYvlKmQGM\",\"channelName\":\"FusionZGamer\",\"channelId\":\"UC5enhS5tdXhHNbj8s_kdBUw\",\"channelUrl\":\"https://youtube.com/@FusionZGamer\",\"thumbnails\":[{\"quality\":\"maxres\",\"url\":\"https://i.ytimg.com/vi/r5cYvlKmQGM/maxres.jpg\",\"width\":1280,\"height\":720},{\"quality\":\"maxresdefault\",\"url\":\"https://i.ytimg.com/vi/r5cYvlKmQGM/maxresdefault.jpg\",\"width\":1280,\"height\":720},{\"quality\":\"sddefault\",\"url\":\"https://i.ytimg.com/vi/r5cYvlKmQGM/sddefault.jpg\",\"width\":640,\"height\":480},{\"quality\":\"high\",\"url\":\"https://i.ytimg.com/vi/r5cYvlKmQGM/hqdefault.jpg\",\"width\":480,\"height\":360},{\"quality\":\"medium\",\"url\":\"https://i.ytimg.com/vi/r5cYvlKmQGM/mqdefault.jpg\",\"width\":320,\"height\":180},{\"quality\":\"default\",\"url\":\"https://i.ytimg.com/vi/r5cYvlKmQGM/default.jpg\",\"width\":120,\"height\":90},{\"quality\":\"start\",\"url\":\"https://i.ytimg.com/vi/r5cYvlKmQGM/1.jpg\",\"width\":120,\"height\":90},{\"quality\":\"middle\",\"url\":\"https://i.ytimg.com/vi/r5cYvlKmQGM/2.jpg\",\"width\":120,\"height\":90},{\"quality\":\"end\",\"url\":\"https://i.ytimg.com/vi/r5cYvlKmQGM/3.jpg\",\"width\":120,\"height\":90}],\"views\":369735,\"viewsText\":\"369,735 views\",\"duration\":1686,\"durationText\":\"28:06\",\"verified\":true,\"creatorOnRise\":false,\"isShort\":false},{\"title\":\"5 Best Fortnite Songs!\",\"description\":\"✅ BE SURE TO LIKE, SUBSCRIBE, AND TURN ON NOTIFICATIONS!!!\\n\\n🎥 MY REATCS CHANNEL: @CouRageReacts\\n🎥 MY LIVESTREAM CHANNEL @CouRage\\n\\n👊 Fortnite Creator Code: CouRageJD\\n👊 CoD Creator...\",\"publishedDate\":\"2023-04-26T17:38:00.499Z\",\"publishedText\":\"22 hours ago\",\"videoId\":\"uB_bCtOGQPs\",\"videoUrl\":\"https://youtube.com/shorts/uB_bCtOGQPs\",\"channelName\":\"More CouRage\",\"channelId\":\"UCqg3BHb31w2h77vFuTFmp2w\",\"channelUrl\":\"https://youtube.com/@MoreCouRageJD\",\"thumbnails\":[{\"quality\":\"maxres\",\"url\":\"https://i.ytimg.com/vi/uB_bCtOGQPs/maxres.jpg\",\"width\":1280,\"height\":720},{\"quality\":\"maxresdefault\",\"url\":\"https://i.ytimg.com/vi/uB_bCtOGQPs/maxresdefault.jpg\",\"width\":1280,\"height\":720},{\"quality\":\"sddefault\",\"url\":\"https://i.ytimg.com/vi/uB_bCtOGQPs/sddefault.jpg\",\"width\":640,\"height\":480},{\"quality\":\"high\",\"url\":\"https://i.ytimg.com/vi/uB_bCtOGQPs/hqdefault.jpg\",\"width\":480,\"height\":360},{\"quality\":\"medium\",\"url\":\"https://i.ytimg.com/vi/uB_bCtOGQPs/mqdefault.jpg\",\"width\":320,\"height\":180},{\"quality\":\"default\",\"url\":\"https://i.ytimg.com/vi/uB_bCtOGQPs/default.jpg\",\"width\":120,\"height\":90},{\"quality\":\"start\",\"url\":\"https://i.ytimg.com/vi/uB_bCtOGQPs/1.jpg\",\"width\":120,\"height\":90},{\"quality\":\"middle\",\"url\":\"https://i.ytimg.com/vi/uB_bCtOGQPs/2.jpg\",\"width\":120,\"height\":90},{\"quality\":\"end\",\"url\":\"https://i.ytimg.com/vi/uB_bCtOGQPs/3.jpg\",\"width\":120,\"height\":90}],\"views\":480047,\"viewsText\":\"480,047 views\",\"duration\":21,\"durationText\":\"0:21\",\"verified\":true,\"creatorOnRise\":false,\"isShort\":true},{\"title\":\"THE LAST EVER SIDEMEN GTA\",\"description\":\"🍗: Order food NOW at: https://www.eatsides.com/\\n🎥: Access exclusive content at: https://www.sideplus.com/\\n🍹: XIX Vodka: https://www.xixvodka.com/\\n👉🏻: Subscribe to our Reacts...\",\"publishedDate\":\"2023-04-26T17:26:00.499Z\",\"publishedText\":\"1 day ago\",\"videoId\":\"oETE6dW4HAE\",\"videoUrl\":\"https://youtube.com/watch?v=oETE6dW4HAE\",\"channelName\":\"MoreSidemen\",\"channelId\":\"UCh5mLn90vUaB1PbRRx_AiaA\",\"channelUrl\":\"https://youtube.com/@MoreSidemen\",\"thumbnails\":[{\"quality\":\"maxres\",\"url\":\"https://i.ytimg.com/vi/oETE6dW4HAE/maxres.jpg\",\"width\":1280,\"height\":720},{\"quality\":\"maxresdefault\",\"url\":\"https://i.ytimg.com/vi/oETE6dW4HAE/maxresdefault.jpg\",\"width\":1280,\"height\":720},{\"quality\":\"sddefault\",\"url\":\"https://i.ytimg.com/vi/oETE6dW4HAE/sddefault.jpg\",\"width\":640,\"height\":480},{\"quality\":\"high\",\"url\":\"https://i.ytimg.com/vi/oETE6dW4HAE/hqdefault.jpg\",\"width\":480,\"height\":360},{\"quality\":\"medium\",\"url\":\"https://i.ytimg.com/vi/oETE6dW4HAE/mqdefault.jpg\",\"width\":320,\"height\":180},{\"quality\":\"default\",\"url\":\"https://i.ytimg.com/vi/oETE6dW4HAE/default.jpg\",\"width\":120,\"height\":90},{\"quality\":\"start\",\"url\":\"https://i.ytimg.com/vi/oETE6dW4HAE/1.jpg\",\"width\":120,\"height\":90},{\"quality\":\"middle\",\"url\":\"https://i.ytimg.com/vi/oETE6dW4HAE/2.jpg\",\"width\":120,\"height\":90},{\"quality\":\"end\",\"url\":\"https://i.ytimg.com/vi/oETE6dW4HAE/3.jpg\",\"width\":120,\"height\":90}],\"views\":1763536,\"viewsText\":\"1,763,536 views\",\"duration\":1869,\"durationText\":\"31:09\",\"verified\":true,\"creatorOnRise\":false,\"isShort\":false},{\"title\":\"Taking OVER Minecraft As DEMON APHMAU!\",\"description\":\"Aphmau’s inner demon becomes a Demon Slayer. ⚔️\\n💜 Come take a look at my merch! 💜 https://aphmeow.com/\\n► Instagram: https://www.instagram.com/aphmau_ \\n\\n====. * ･ ｡ﾟ☆ [Friends!...\",\"publishedDate\":\"2023-04-26T17:26:00.499Z\",\"publishedText\":\"1 day ago\",\"videoId\":\"aLsZJVAuJUo\",\"videoUrl\":\"https://youtube.com/watch?v=aLsZJVAuJUo\",\"channelName\":\"Aphmau\",\"channelId\":\"UCzYfz8uibvnB7Yc1LjePi4g\",\"channelUrl\":\"https://youtube.com/@Aphmau\",\"thumbnails\":[{\"quality\":\"maxres\",\"url\":\"https://i.ytimg.com/vi/aLsZJVAuJUo/maxres.jpg\",\"width\":1280,\"height\":720},{\"quality\":\"maxresdefault\",\"url\":\"https://i.ytimg.com/vi/aLsZJVAuJUo/maxresdefault.jpg\",\"width\":1280,\"height\":720},{\"quality\":\"sddefault\",\"url\":\"https://i.ytimg.com/vi/aLsZJVAuJUo/sddefault.jpg\",\"width\":640,\"height\":480},{\"quality\":\"high\",\"url\":\"https://i.ytimg.com/vi/aLsZJVAuJUo/hqdefault.jpg\",\"width\":480,\"height\":360},{\"quality\":\"medium\",\"url\":\"https://i.ytimg.com/vi/aLsZJVAuJUo/mqdefault.jpg\",\"width\":320,\"height\":180},{\"quality\":\"default\",\"url\":\"https://i.ytimg.com/vi/aLsZJVAuJUo/default.jpg\",\"width\":120,\"height\":90},{\"quality\":\"start\",\"url\":\"https://i.ytimg.com/vi/aLsZJVAuJUo/1.jpg\",\"width\":120,\"height\":90},{\"quality\":\"middle\",\"url\":\"https://i.ytimg.com/vi/aLsZJVAuJUo/2.jpg\",\"width\":120,\"height\":90},{\"quality\":\"end\",\"url\":\"https://i.ytimg.com/vi/aLsZJVAuJUo/3.jpg\",\"width\":120,\"height\":90}],\"views\":928662,\"viewsText\":\"928,662 views\",\"duration\":1047,\"durationText\":\"17:27\",\"verified\":true,\"creatorOnRise\":false,\"isShort\":false},{\"title\":\"I'm So Sorry...\",\"description\":\"Use code \\\"wesley-wat\\\" in the item shop! #ad\\n\\nMerch: https://www.wesleywat.com/\\nTwitter: https://twitter.com/wesley_wat\\nDiscord: https://discord.gg/wescord\\nInstagram: https://www.instagram.com/realw...\",\"publishedDate\":\"2023-04-26T17:38:00.499Z\",\"publishedText\":\"22 hours ago\",\"videoId\":\"1vqBvuq2t34\",\"videoUrl\":\"https://youtube.com/shorts/1vqBvuq2t34\",\"channelName\":\"WesleyWAT\",\"channelId\":\"UCQVgGZUIpCiBfUaSTm-WvrQ\",\"channelUrl\":\"https://youtube.com/@WesleyWATyt\",\"thumbnails\":[{\"quality\":\"maxres\",\"url\":\"https://i.ytimg.com/vi/1vqBvuq2t34/maxres.jpg\",\"width\":1280,\"height\":720},{\"quality\":\"maxresdefault\",\"url\":\"https://i.ytimg.com/vi/1vqBvuq2t34/maxresdefault.jpg\",\"width\":1280,\"height\":720},{\"quality\":\"sddefault\",\"url\":\"https://i.ytimg.com/vi/1vqBvuq2t34/sddefault.jpg\",\"width\":640,\"height\":480},{\"quality\":\"high\",\"url\":\"https://i.ytimg.com/vi/1vqBvuq2t34/hqdefault.jpg\",\"width\":480,\"height\":360},{\"quality\":\"medium\",\"url\":\"https://i.ytimg.com/vi/1vqBvuq2t34/mqdefault.jpg\",\"width\":320,\"height\":180},{\"quality\":\"default\",\"url\":\"https://i.ytimg.com/vi/1vqBvuq2t34/default.jpg\",\"width\":120,\"height\":90},{\"quality\":\"start\",\"url\":\"https://i.ytimg.com/vi/1vqBvuq2t34/1.jpg\",\"width\":120,\"height\":90},{\"quality\":\"middle\",\"url\":\"https://i.ytimg.com/vi/1vqBvuq2t34/2.jpg\",\"width\":120,\"height\":90},{\"quality\":\"end\",\"url\":\"https://i.ytimg.com/vi/1vqBvuq2t34/3.jpg\",\"width\":120,\"height\":90}],\"views\":314237,\"viewsText\":\"314,237 views\",\"duration\":34,\"durationText\":\"0:34\",\"verified\":true,\"creatorOnRise\":false,\"isShort\":true},{\"title\":\"I got trapped in a high school club. #shorts\",\"description\":\"I got trapped in a school club. I DIDNT EVEN WANT TO JOIN. SUDDENLY I WAS JUST TRAPPED AND I COULDN’T LEAVE. No one even did my crossword puzzles or read my articles :(\",\"publishedDate\":\"2023-04-26T19:14:00.499Z\",\"publishedText\":\"6 hours ago\",\"videoId\":\"5U4sL3-FT9I\",\"videoUrl\":\"https://youtube.com/shorts/5U4sL3-FT9I\",\"channelName\":\"SmokeeBee\",\"channelId\":\"UCLZnFlEl_FgKKy01icOAxoQ\",\"channelUrl\":\"https://youtube.com/@SmokeeBee\",\"thumbnails\":[{\"quality\":\"maxres\",\"url\":\"https://i.ytimg.com/vi/5U4sL3-FT9I/maxres.jpg\",\"width\":1280,\"height\":720},{\"quality\":\"maxresdefault\",\"url\":\"https://i.ytimg.com/vi/5U4sL3-FT9I/maxresdefault.jpg\",\"width\":1280,\"height\":720},{\"quality\":\"sddefault\",\"url\":\"https://i.ytimg.com/vi/5U4sL3-FT9I/sddefault.jpg\",\"width\":640,\"height\":480},{\"quality\":\"high\",\"url\":\"https://i.ytimg.com/vi/5U4sL3-FT9I/hqdefault.jpg\",\"width\":480,\"height\":360},{\"quality\":\"medium\",\"url\":\"https://i.ytimg.com/vi/5U4sL3-FT9I/mqdefault.jpg\",\"width\":320,\"height\":180},{\"quality\":\"default\",\"url\":\"https://i.ytimg.com/vi/5U4sL3-FT9I/default.jpg\",\"width\":120,\"height\":90},{\"quality\":\"start\",\"url\":\"https://i.ytimg.com/vi/5U4sL3-FT9I/1.jpg\",\"width\":120,\"height\":90},{\"quality\":\"middle\",\"url\":\"https://i.ytimg.com/vi/5U4sL3-FT9I/2.jpg\",\"width\":120,\"height\":90},{\"quality\":\"end\",\"url\":\"https://i.ytimg.com/vi/5U4sL3-FT9I/3.jpg\",\"width\":120,\"height\":90}],\"views\":92486,\"viewsText\":\"92,486 views\",\"duration\":29,\"durationText\":\"0:29\",\"verified\":true,\"creatorOnRise\":false,\"isShort\":true},{\"title\":\"Unlocking the Secret Lore Tapes & Endings || Amanda the Adventurer #3 (Playthrough)\",\"description\":\"Amanda the Adventurer is finally here with the full release of the final game. This is part 3 of a full playthrough for Amanda the Adventurer and contains all endings.\\n\\nCheck out Amanda the...\",\"publishedDate\":\"2023-04-26T17:44:00.499Z\",\"publishedText\":\"21 hours ago\",\"videoId\":\"T6MBPk0MJec\",\"videoUrl\":\"https://youtube.com/watch?v=T6MBPk0MJec\",\"channelName\":\"SuperHorrorBro\",\"channelId\":\"UChL4WU9YLlxXXNSwlzM1-7g\",\"channelUrl\":\"https://youtube.com/@SuperHorrorBro\",\"thumbnails\":[{\"quality\":\"maxres\",\"url\":\"https://i.ytimg.com/vi/T6MBPk0MJec/maxres.jpg\",\"width\":1280,\"height\":720},{\"quality\":\"maxresdefault\",\"url\":\"https://i.ytimg.com/vi/T6MBPk0MJec/maxresdefault.jpg\",\"width\":1280,\"height\":720},{\"quality\":\"sddefault\",\"url\":\"https://i.ytimg.com/vi/T6MBPk0MJec/sddefault.jpg\",\"width\":640,\"height\":480},{\"quality\":\"high\",\"url\":\"https://i.ytimg.com/vi/T6MBPk0MJec/hqdefault.jpg\",\"width\":480,\"height\":360},{\"quality\":\"medium\",\"url\":\"https://i.ytimg.com/vi/T6MBPk0MJec/mqdefault.jpg\",\"width\":320,\"height\":180},{\"quality\":\"default\",\"url\":\"https://i.ytimg.com/vi/T6MBPk0MJec/default.jpg\",\"width\":120,\"height\":90},{\"quality\":\"start\",\"url\":\"https://i.ytimg.com/vi/T6MBPk0MJec/1.jpg\",\"width\":120,\"height\":90},{\"quality\":\"middle\",\"url\":\"https://i.ytimg.com/vi/T6MBPk0MJec/2.jpg\",\"width\":120,\"height\":90},{\"quality\":\"end\",\"url\":\"https://i.ytimg.com/vi/T6MBPk0MJec/3.jpg\",\"width\":120,\"height\":90}],\"views\":338903,\"viewsText\":\"338,903 views\",\"duration\":2355,\"durationText\":\"39:15\",\"verified\":true,\"creatorOnRise\":false,\"isShort\":false},{\"title\":\"HE WON!!!!!!! HE WON!!!!!!!!!!!!!!!!!!!!!!!!!!\",\"description\":\"It’s finally here! Play Honkai: Star Rail for free: https://hoyo.link/43jbCjAd \\nThe FIRST title from HoYoverse after Genshin Impact! Download the game and get an extra 50 Stellar Jades using...\",\"publishedDate\":\"2023-04-26T19:20:00.499Z\",\"publishedText\":\"5 hours ago\",\"videoId\":\"u2h7EnDkL_c\",\"videoUrl\":\"https://youtube.com/watch?v=u2h7EnDkL_c\",\"channelName\":\"GothamChess\",\"channelId\":\"UCQHX6ViZmPsWiYSFAyS0a3Q\",\"channelUrl\":\"https://youtube.com/@GothamChess\",\"thumbnails\":[{\"quality\":\"maxres\",\"url\":\"https://i.ytimg.com/vi/u2h7EnDkL_c/maxres.jpg\",\"width\":1280,\"height\":720},{\"quality\":\"maxresdefault\",\"url\":\"https://i.ytimg.com/vi/u2h7EnDkL_c/maxresdefault.jpg\",\"width\":1280,\"height\":720},{\"quality\":\"sddefault\",\"url\":\"https://i.ytimg.com/vi/u2h7EnDkL_c/sddefault.jpg\",\"width\":640,\"height\":480},{\"quality\":\"high\",\"url\":\"https://i.ytimg.com/vi/u2h7EnDkL_c/hqdefault.jpg\",\"width\":480,\"height\":360},{\"quality\":\"medium\",\"url\":\"https://i.ytimg.com/vi/u2h7EnDkL_c/mqdefault.jpg\",\"width\":320,\"height\":180},{\"quality\":\"default\",\"url\":\"https://i.ytimg.com/vi/u2h7EnDkL_c/default.jpg\",\"width\":120,\"height\":90},{\"quality\":\"start\",\"url\":\"https://i.ytimg.com/vi/u2h7EnDkL_c/1.jpg\",\"width\":120,\"height\":90},{\"quality\":\"middle\",\"url\":\"https://i.ytimg.com/vi/u2h7EnDkL_c/2.jpg\",\"width\":120,\"height\":90},{\"quality\":\"end\",\"url\":\"https://i.ytimg.com/vi/u2h7EnDkL_c/3.jpg\",\"width\":120,\"height\":90}],\"views\":433650,\"viewsText\":\"433,650 views\",\"duration\":1342,\"durationText\":\"22:22\",\"verified\":true,\"creatorOnRise\":false,\"isShort\":false},{\"title\":\"one door to loot\",\"description\":\"https://monke.clothing\\nhttps://twitter.com/monkeclothing\\nhttps://www.instagram.com/monkeclothing/\\nServer Discord: https://discord.gg/ZTsGwzFgFu\\ni go live here: https://www.twitch.tv/spoonkid...\",\"publishedDate\":\"2023-04-26T18:08:00.499Z\",\"publishedText\":\"17 hours ago\",\"videoId\":\"jDgD7wKLwtI\",\"videoUrl\":\"https://youtube.com/watch?v=jDgD7wKLwtI\",\"channelName\":\"spoonkid2\",\"channelId\":\"UCCo6EC0MOfJSnHbD3LI6iFA\",\"channelUrl\":\"https://youtube.com/@spoonkid2169\",\"thumbnails\":[{\"quality\":\"maxres\",\"url\":\"https://i.ytimg.com/vi/jDgD7wKLwtI/maxres.jpg\",\"width\":1280,\"height\":720},{\"quality\":\"maxresdefault\",\"url\":\"https://i.ytimg.com/vi/jDgD7wKLwtI/maxresdefault.jpg\",\"width\":1280,\"height\":720},{\"quality\":\"sddefault\",\"url\":\"https://i.ytimg.com/vi/jDgD7wKLwtI/sddefault.jpg\",\"width\":640,\"height\":480},{\"quality\":\"high\",\"url\":\"https://i.ytimg.com/vi/jDgD7wKLwtI/hqdefault.jpg\",\"width\":480,\"height\":360},{\"quality\":\"medium\",\"url\":\"https://i.ytimg.com/vi/jDgD7wKLwtI/mqdefault.jpg\",\"width\":320,\"height\":180},{\"quality\":\"default\",\"url\":\"https://i.ytimg.com/vi/jDgD7wKLwtI/default.jpg\",\"width\":120,\"height\":90},{\"quality\":\"start\",\"url\":\"https://i.ytimg.com/vi/jDgD7wKLwtI/1.jpg\",\"width\":120,\"height\":90},{\"quality\":\"middle\",\"url\":\"https://i.ytimg.com/vi/jDgD7wKLwtI/2.jpg\",\"width\":120,\"height\":90},{\"quality\":\"end\",\"url\":\"https://i.ytimg.com/vi/jDgD7wKLwtI/3.jpg\",\"width\":120,\"height\":90}],\"views\":312698,\"viewsText\":\"312,698 views\",\"duration\":3599,\"durationText\":\"59:59\",\"verified\":true,\"creatorOnRise\":false,\"isShort\":false},{\"title\":\"I Tried Driving High. Legally.\",\"description\":\"DISCLAIMER: This stunt was done with professional supervision. Do not attempt this yourself. Also, make sure follow all laws associated with consuming marijuana in your country/state/city....\",\"publishedDate\":\"2023-04-26T18:38:00.499Z\",\"publishedText\":\"12 hours ago\",\"videoId\":\"lMYWY5ElJmk\",\"videoUrl\":\"https://youtube.com/watch?v=lMYWY5ElJmk\",\"channelName\":\"Ludwig\",\"channelId\":\"UCrPseYLGpNygVi34QpGNqpA\",\"channelUrl\":\"https://youtube.com/@ludwig\",\"thumbnails\":[{\"quality\":\"maxres\",\"url\":\"https://i.ytimg.com/vi/lMYWY5ElJmk/maxres.jpg\",\"width\":1280,\"height\":720},{\"quality\":\"maxresdefault\",\"url\":\"https://i.ytimg.com/vi/lMYWY5ElJmk/maxresdefault.jpg\",\"width\":1280,\"height\":720},{\"quality\":\"sddefault\",\"url\":\"https://i.ytimg.com/vi/lMYWY5ElJmk/sddefault.jpg\",\"width\":640,\"height\":480},{\"quality\":\"high\",\"url\":\"https://i.ytimg.com/vi/lMYWY5ElJmk/hqdefault.jpg\",\"width\":480,\"height\":360},{\"quality\":\"medium\",\"url\":\"https://i.ytimg.com/vi/lMYWY5ElJmk/mqdefault.jpg\",\"width\":320,\"height\":180},{\"quality\":\"default\",\"url\":\"https://i.ytimg.com/vi/lMYWY5ElJmk/default.jpg\",\"width\":120,\"height\":90},{\"quality\":\"start\",\"url\":\"https://i.ytimg.com/vi/lMYWY5ElJmk/1.jpg\",\"width\":120,\"height\":90},{\"quality\":\"middle\",\"url\":\"https://i.ytimg.com/vi/lMYWY5ElJmk/2.jpg\",\"width\":120,\"height\":90},{\"quality\":\"end\",\"url\":\"https://i.ytimg.com/vi/lMYWY5ElJmk/3.jpg\",\"width\":120,\"height\":90}],\"views\":392015,\"viewsText\":\"392,015 views\",\"duration\":935,\"durationText\":\"15:35\",\"verified\":true,\"creatorOnRise\":false,\"isShort\":false},{\"title\":\"Can You Farm 1,000,000 Cookies in 100 Minecraft Days?\",\"description\":\"I Survived 100 Days Farming 1,000,000 Cookies in Minecraft Hardcore\\nDownload Honkai Star Rail using my link: https://hoyo.link/1ejbCwAd and make sure to use this code: HSRVER10XEDLFE to get...\",\"publishedDate\":\"2023-04-26T19:08:00.499Z\",\"publishedText\":\"7 hours ago\",\"videoId\":\"vX3-MLNLASg\",\"videoUrl\":\"https://youtube.com/watch?v=vX3-MLNLASg\",\"channelName\":\"aCookieGod\",\"channelId\":\"UCIVSqoHCUN1XdEpiVItxfoQ\",\"channelUrl\":\"https://youtube.com/@aCookieGod\",\"thumbnails\":[{\"quality\":\"maxres\",\"url\":\"https://i.ytimg.com/vi/vX3-MLNLASg/maxres.jpg\",\"width\":1280,\"height\":720},{\"quality\":\"maxresdefault\",\"url\":\"https://i.ytimg.com/vi/vX3-MLNLASg/maxresdefault.jpg\",\"width\":1280,\"height\":720},{\"quality\":\"sddefault\",\"url\":\"https://i.ytimg.com/vi/vX3-MLNLASg/sddefault.jpg\",\"width\":640,\"height\":480},{\"quality\":\"high\",\"url\":\"https://i.ytimg.com/vi/vX3-MLNLASg/hqdefault.jpg\",\"width\":480,\"height\":360},{\"quality\":\"medium\",\"url\":\"https://i.ytimg.com/vi/vX3-MLNLASg/mqdefault.jpg\",\"width\":320,\"height\":180},{\"quality\":\"default\",\"url\":\"https://i.ytimg.com/vi/vX3-MLNLASg/default.jpg\",\"width\":120,\"height\":90},{\"quality\":\"start\",\"url\":\"https://i.ytimg.com/vi/vX3-MLNLASg/1.jpg\",\"width\":120,\"height\":90},{\"quality\":\"middle\",\"url\":\"https://i.ytimg.com/vi/vX3-MLNLASg/2.jpg\",\"width\":120,\"height\":90},{\"quality\":\"end\",\"url\":\"https://i.ytimg.com/vi/vX3-MLNLASg/3.jpg\",\"width\":120,\"height\":90}],\"views\":515631,\"viewsText\":\"515,631 views\",\"duration\":2361,\"durationText\":\"39:21\",\"verified\":true,\"creatorOnRise\":false,\"isShort\":false},{\"title\":\"The Legend of Zelda: Tears of the Kingdom Preview - We Played it for Hours!\",\"description\":\"After years of anticipation, we've finally gone hands-on with The Legend of Zelda: Tears of the Kingdom and we can't wait to tell you all about this massive open world game in our spoiler-free...\",\"publishedDate\":\"2023-04-26T19:14:00.499Z\",\"publishedText\":\"6 hours ago\",\"videoId\":\"_sRMNwwLsc0\",\"videoUrl\":\"https://youtube.com/watch?v=_sRMNwwLsc0\",\"channelName\":\"IGN\",\"channelId\":\"UCKy1dAqELo0zrOtPkf0eTMw\",\"channelUrl\":\"https://youtube.com/@IGN\",\"thumbnails\":[{\"quality\":\"maxres\",\"url\":\"https://i.ytimg.com/vi/_sRMNwwLsc0/maxres.jpg\",\"width\":1280,\"height\":720},{\"quality\":\"maxresdefault\",\"url\":\"https://i.ytimg.com/vi/_sRMNwwLsc0/maxresdefault.jpg\",\"width\":1280,\"height\":720},{\"quality\":\"sddefault\",\"url\":\"https://i.ytimg.com/vi/_sRMNwwLsc0/sddefault.jpg\",\"width\":640,\"height\":480},{\"quality\":\"high\",\"url\":\"https://i.ytimg.com/vi/_sRMNwwLsc0/hqdefault.jpg\",\"width\":480,\"height\":360},{\"quality\":\"medium\",\"url\":\"https://i.ytimg.com/vi/_sRMNwwLsc0/mqdefault.jpg\",\"width\":320,\"height\":180},{\"quality\":\"default\",\"url\":\"https://i.ytimg.com/vi/_sRMNwwLsc0/default.jpg\",\"width\":120,\"height\":90},{\"quality\":\"start\",\"url\":\"https://i.ytimg.com/vi/_sRMNwwLsc0/1.jpg\",\"width\":120,\"height\":90},{\"quality\":\"middle\",\"url\":\"https://i.ytimg.com/vi/_sRMNwwLsc0/2.jpg\",\"width\":120,\"height\":90},{\"quality\":\"end\",\"url\":\"https://i.ytimg.com/vi/_sRMNwwLsc0/3.jpg\",\"width\":120,\"height\":90}],\"views\":270618,\"viewsText\":\"270,618 views\",\"duration\":621,\"durationText\":\"10:21\",\"verified\":true,\"creatorOnRise\":false,\"isShort\":false},{\"title\":\"would you pull the lever?\",\"description\":\"\",\"publishedDate\":\"2023-04-26T17:38:00.499Z\",\"publishedText\":\"22 hours ago\",\"videoId\":\"A6dBq7Ypy1w\",\"videoUrl\":\"https://youtube.com/shorts/A6dBq7Ypy1w\",\"channelName\":\"Adib\",\"channelId\":\"UCWfdgjld4HxtHm8JjVEP3Hw\",\"channelUrl\":\"https://youtube.com/@adibc\",\"thumbnails\":[{\"quality\":\"maxres\",\"url\":\"https://i.ytimg.com/vi/A6dBq7Ypy1w/maxres.jpg\",\"width\":1280,\"height\":720},{\"quality\":\"maxresdefault\",\"url\":\"https://i.ytimg.com/vi/A6dBq7Ypy1w/maxresdefault.jpg\",\"width\":1280,\"height\":720},{\"quality\":\"sddefault\",\"url\":\"https://i.ytimg.com/vi/A6dBq7Ypy1w/sddefault.jpg\",\"width\":640,\"height\":480},{\"quality\":\"high\",\"url\":\"https://i.ytimg.com/vi/A6dBq7Ypy1w/hqdefault.jpg\",\"width\":480,\"height\":360},{\"quality\":\"medium\",\"url\":\"https://i.ytimg.com/vi/A6dBq7Ypy1w/mqdefault.jpg\",\"width\":320,\"height\":180},{\"quality\":\"default\",\"url\":\"https://i.ytimg.com/vi/A6dBq7Ypy1w/default.jpg\",\"width\":120,\"height\":90},{\"quality\":\"start\",\"url\":\"https://i.ytimg.com/vi/A6dBq7Ypy1w/1.jpg\",\"width\":120,\"height\":90},{\"quality\":\"middle\",\"url\":\"https://i.ytimg.com/vi/A6dBq7Ypy1w/2.jpg\",\"width\":120,\"height\":90},{\"quality\":\"end\",\"url\":\"https://i.ytimg.com/vi/A6dBq7Ypy1w/3.jpg\",\"width\":120,\"height\":90}],\"views\":426263,\"viewsText\":\"426,263 views\",\"duration\":36,\"durationText\":\"0:36\",\"verified\":true,\"creatorOnRise\":false,\"isShort\":true},{\"title\":\"The Limited Titanium Packs! Pack N' Play Ep. #4\",\"description\":\"Thank you to SeatGeek for sponsoring this video! Use code MMG for $20 off your first order! https://seatgeek.onelink.me/RrnK/MMG - Opening the NEW Titanium Collector Packs!\\n\\nwow, you stud -...\",\"publishedDate\":\"2023-04-26T18:08:00.499Z\",\"publishedText\":\"17 hours ago\",\"videoId\":\"Cq-3vTXuDQY\",\"videoUrl\":\"https://youtube.com/watch?v=Cq-3vTXuDQY\",\"channelName\":\"MMG\",\"channelId\":\"UCaYxyR9mzVlTrOOyZD0XAmA\",\"channelUrl\":\"https://youtube.com/@MMG69\",\"thumbnails\":[{\"quality\":\"maxres\",\"url\":\"https://i.ytimg.com/vi/Cq-3vTXuDQY/maxres.jpg\",\"width\":1280,\"height\":720},{\"quality\":\"maxresdefault\",\"url\":\"https://i.ytimg.com/vi/Cq-3vTXuDQY/maxresdefault.jpg\",\"width\":1280,\"height\":720},{\"quality\":\"sddefault\",\"url\":\"https://i.ytimg.com/vi/Cq-3vTXuDQY/sddefault.jpg\",\"width\":640,\"height\":480},{\"quality\":\"high\",\"url\":\"https://i.ytimg.com/vi/Cq-3vTXuDQY/hqdefault.jpg\",\"width\":480,\"height\":360},{\"quality\":\"medium\",\"url\":\"https://i.ytimg.com/vi/Cq-3vTXuDQY/mqdefault.jpg\",\"width\":320,\"height\":180},{\"quality\":\"default\",\"url\":\"https://i.ytimg.com/vi/Cq-3vTXuDQY/default.jpg\",\"width\":120,\"height\":90},{\"quality\":\"start\",\"url\":\"https://i.ytimg.com/vi/Cq-3vTXuDQY/1.jpg\",\"width\":120,\"height\":90},{\"quality\":\"middle\",\"url\":\"https://i.ytimg.com/vi/Cq-3vTXuDQY/2.jpg\",\"width\":120,\"height\":90},{\"quality\":\"end\",\"url\":\"https://i.ytimg.com/vi/Cq-3vTXuDQY/3.jpg\",\"width\":120,\"height\":90}],\"views\":171769,\"viewsText\":\"171,769 views\",\"duration\":1480,\"durationText\":\"24:40\",\"verified\":true,\"creatorOnRise\":false,\"isShort\":false},{\"title\":\"NEW Amanda the Adventurer Help Amanda Fix tear open Her Sheep Friend Wooly / ENDING FULL GAME\",\"description\":\"Amanda the Adventurer is a horror game where you watch educational cartoons. Video has a full playthrough and ending of the full commercial release of Amanda the Adventurer All Endings & Secret...\",\"publishedDate\":\"2023-04-26T17:26:00.499Z\",\"publishedText\":\"1 day ago\",\"videoId\":\"iLVpLCSSnnM\",\"videoUrl\":\"https://youtube.com/watch?v=iLVpLCSSnnM\",\"channelName\":\"ManlyBadassHero\",\"channelId\":\"UCKv8Rrrdc9oxLJmdHItafLA\",\"channelUrl\":\"https://youtube.com/@ManlyBadassHero\",\"thumbnails\":[{\"quality\":\"maxres\",\"url\":\"https://i.ytimg.com/vi/iLVpLCSSnnM/maxres.jpg\",\"width\":1280,\"height\":720},{\"quality\":\"maxresdefault\",\"url\":\"https://i.ytimg.com/vi/iLVpLCSSnnM/maxresdefault.jpg\",\"width\":1280,\"height\":720},{\"quality\":\"sddefault\",\"url\":\"https://i.ytimg.com/vi/iLVpLCSSnnM/sddefault.jpg\",\"width\":640,\"height\":480},{\"quality\":\"high\",\"url\":\"https://i.ytimg.com/vi/iLVpLCSSnnM/hqdefault.jpg\",\"width\":480,\"height\":360},{\"quality\":\"medium\",\"url\":\"https://i.ytimg.com/vi/iLVpLCSSnnM/mqdefault.jpg\",\"width\":320,\"height\":180},{\"quality\":\"default\",\"url\":\"https://i.ytimg.com/vi/iLVpLCSSnnM/default.jpg\",\"width\":120,\"height\":90},{\"quality\":\"start\",\"url\":\"https://i.ytimg.com/vi/iLVpLCSSnnM/1.jpg\",\"width\":120,\"height\":90},{\"quality\":\"middle\",\"url\":\"https://i.ytimg.com/vi/iLVpLCSSnnM/2.jpg\",\"width\":120,\"height\":90},{\"quality\":\"end\",\"url\":\"https://i.ytimg.com/vi/iLVpLCSSnnM/3.jpg\",\"width\":120,\"height\":90}],\"views\":369927,\"viewsText\":\"369,927 views\",\"duration\":4417,\"durationText\":\"1:13:37\",\"verified\":true,\"creatorOnRise\":false,\"isShort\":false},{\"title\":\"IShowSpeed has had ENOUGH\",\"description\":\"🎨 Twitter: https://twitter.com/shanidota2\\n🎨 TikTok: https://www.tiktok.com/@shanicreates2023\\n🎨 Instagram: https://www.instagram.com/shaniintheupsidedown\\n___________________________________...\",\"publishedDate\":\"2023-04-26T18:20:00.499Z\",\"publishedText\":\"15 hours ago\",\"videoId\":\"d-6__m2WoYY\",\"videoUrl\":\"https://youtube.com/shorts/d-6__m2WoYY\",\"channelName\":\"Shani\",\"channelId\":\"UC1KAfYpsW2Eq1Y5i8r7c45Q\",\"channelUrl\":\"https://youtube.com/@Shani1997\",\"thumbnails\":[{\"quality\":\"maxres\",\"url\":\"https://i.ytimg.com/vi/d-6__m2WoYY/maxres.jpg\",\"width\":1280,\"height\":720},{\"quality\":\"maxresdefault\",\"url\":\"https://i.ytimg.com/vi/d-6__m2WoYY/maxresdefault.jpg\",\"width\":1280,\"height\":720},{\"quality\":\"sddefault\",\"url\":\"https://i.ytimg.com/vi/d-6__m2WoYY/sddefault.jpg\",\"width\":640,\"height\":480},{\"quality\":\"high\",\"url\":\"https://i.ytimg.com/vi/d-6__m2WoYY/hqdefault.jpg\",\"width\":480,\"height\":360},{\"quality\":\"medium\",\"url\":\"https://i.ytimg.com/vi/d-6__m2WoYY/mqdefault.jpg\",\"width\":320,\"height\":180},{\"quality\":\"default\",\"url\":\"https://i.ytimg.com/vi/d-6__m2WoYY/default.jpg\",\"width\":120,\"height\":90},{\"quality\":\"start\",\"url\":\"https://i.ytimg.com/vi/d-6__m2WoYY/1.jpg\",\"width\":120,\"height\":90},{\"quality\":\"middle\",\"url\":\"https://i.ytimg.com/vi/d-6__m2WoYY/2.jpg\",\"width\":120,\"height\":90},{\"quality\":\"end\",\"url\":\"https://i.ytimg.com/vi/d-6__m2WoYY/3.jpg\",\"width\":120,\"height\":90}],\"views\":194760,\"viewsText\":\"194,760 views\",\"duration\":31,\"durationText\":\"0:31\",\"verified\":true,\"creatorOnRise\":false,\"isShort\":true},{\"title\":\"ROBLOX MADE US DO THIS...\",\"description\":\"sub to @KadenFumblebottom lalalala thanks for being my teammate\\nToday Kaden and I play Roblox Teamwork Puzzles which is a teamwork obby where you gotta coordinate pressing buttons and stuff...\",\"publishedDate\":\"2023-04-26T17:44:00.499Z\",\"publishedText\":\"21 hours ago\",\"videoId\":\"w4mVm1C4UMo\",\"videoUrl\":\"https://youtube.com/watch?v=w4mVm1C4UMo\",\"channelName\":\"Flamingo\",\"channelId\":\"UCm-X6o81nRsXQTmqpyArkBQ\",\"channelUrl\":\"https://youtube.com/@flamingo\",\"thumbnails\":[{\"quality\":\"maxres\",\"url\":\"https://i.ytimg.com/vi/w4mVm1C4UMo/maxres.jpg\",\"width\":1280,\"height\":720},{\"quality\":\"maxresdefault\",\"url\":\"https://i.ytimg.com/vi/w4mVm1C4UMo/maxresdefault.jpg\",\"width\":1280,\"height\":720},{\"quality\":\"sddefault\",\"url\":\"https://i.ytimg.com/vi/w4mVm1C4UMo/sddefault.jpg\",\"width\":640,\"height\":480},{\"quality\":\"high\",\"url\":\"https://i.ytimg.com/vi/w4mVm1C4UMo/hqdefault.jpg\",\"width\":480,\"height\":360},{\"quality\":\"medium\",\"url\":\"https://i.ytimg.com/vi/w4mVm1C4UMo/mqdefault.jpg\",\"width\":320,\"height\":180},{\"quality\":\"default\",\"url\":\"https://i.ytimg.com/vi/w4mVm1C4UMo/default.jpg\",\"width\":120,\"height\":90},{\"quality\":\"start\",\"url\":\"https://i.ytimg.com/vi/w4mVm1C4UMo/1.jpg\",\"width\":120,\"height\":90},{\"quality\":\"middle\",\"url\":\"https://i.ytimg.com/vi/w4mVm1C4UMo/2.jpg\",\"width\":120,\"height\":90},{\"quality\":\"end\",\"url\":\"https://i.ytimg.com/vi/w4mVm1C4UMo/3.jpg\",\"width\":120,\"height\":90}],\"views\":473054,\"viewsText\":\"473,054 views\",\"duration\":603,\"durationText\":\"10:03\",\"verified\":true,\"creatorOnRise\":false,\"isShort\":false},{\"title\":\"Presidents Play Guess the Minecraft Mob  #shorts #ai #minecraft\",\"description\":\"The voices in this video were made by an AI. They are not real.\\n\\n#shorts #short #ai #foryou #fyp #trending #meme #minecraft #biden #joebiden #donaldtrump #trump #barackobama #obama #drake\",\"publishedDate\":\"2023-04-26T17:26:00.499Z\",\"publishedText\":\"1 day ago\",\"videoId\":\"ORWnQ2gjTok\",\"videoUrl\":\"https://youtube.com/shorts/ORWnQ2gjTok\",\"channelName\":\"President Spunk\",\"channelId\":\"UCyo36YzArM5zw_T81NnCCDg\",\"channelUrl\":\"https://youtube.com/@PresidentSpunk\",\"thumbnails\":[{\"quality\":\"maxres\",\"url\":\"https://i.ytimg.com/vi/ORWnQ2gjTok/maxres.jpg\",\"width\":1280,\"height\":720},{\"quality\":\"maxresdefault\",\"url\":\"https://i.ytimg.com/vi/ORWnQ2gjTok/maxresdefault.jpg\",\"width\":1280,\"height\":720},{\"quality\":\"sddefault\",\"url\":\"https://i.ytimg.com/vi/ORWnQ2gjTok/sddefault.jpg\",\"width\":640,\"height\":480},{\"quality\":\"high\",\"url\":\"https://i.ytimg.com/vi/ORWnQ2gjTok/hqdefault.jpg\",\"width\":480,\"height\":360},{\"quality\":\"medium\",\"url\":\"https://i.ytimg.com/vi/ORWnQ2gjTok/mqdefault.jpg\",\"width\":320,\"height\":180},{\"quality\":\"default\",\"url\":\"https://i.ytimg.com/vi/ORWnQ2gjTok/default.jpg\",\"width\":120,\"height\":90},{\"quality\":\"start\",\"url\":\"https://i.ytimg.com/vi/ORWnQ2gjTok/1.jpg\",\"width\":120,\"height\":90},{\"quality\":\"middle\",\"url\":\"https://i.ytimg.com/vi/ORWnQ2gjTok/2.jpg\",\"width\":120,\"height\":90},{\"quality\":\"end\",\"url\":\"https://i.ytimg.com/vi/ORWnQ2gjTok/3.jpg\",\"width\":120,\"height\":90}],\"views\":353250,\"viewsText\":\"353,250 views\",\"duration\":60,\"durationText\":\"1:00\",\"verified\":false,\"creatorOnRise\":false,\"isShort\":true},{\"title\":\"They Made Tesla Auto Pilot 1000x More Dangerous\",\"description\":\"It's Happy Wheels.\\n• Coffee - https://floridamancoffeeco.com/\\n• Merch - https://www.graystillplays.store/\\n• Facebook - https://www.facebook.com/graystillplays/\\n• Instagram - https://www.ins...\",\"publishedDate\":\"2023-04-26T17:32:00.499Z\",\"publishedText\":\"23 hours ago\",\"videoId\":\"rzOhnuf7V7I\",\"videoUrl\":\"https://youtube.com/watch?v=rzOhnuf7V7I\",\"channelName\":\"GrayStillPlays\",\"channelId\":\"UCzEy7pi3B7TIS9cn_sdKK9A\",\"channelUrl\":\"https://youtube.com/@GrayStillPlays\",\"thumbnails\":[{\"quality\":\"maxres\",\"url\":\"https://i.ytimg.com/vi/rzOhnuf7V7I/maxres.jpg\",\"width\":1280,\"height\":720},{\"quality\":\"maxresdefault\",\"url\":\"https://i.ytimg.com/vi/rzOhnuf7V7I/maxresdefault.jpg\",\"width\":1280,\"height\":720},{\"quality\":\"sddefault\",\"url\":\"https://i.ytimg.com/vi/rzOhnuf7V7I/sddefault.jpg\",\"width\":640,\"height\":480},{\"quality\":\"high\",\"url\":\"https://i.ytimg.com/vi/rzOhnuf7V7I/hqdefault.jpg\",\"width\":480,\"height\":360},{\"quality\":\"medium\",\"url\":\"https://i.ytimg.com/vi/rzOhnuf7V7I/mqdefault.jpg\",\"width\":320,\"height\":180},{\"quality\":\"default\",\"url\":\"https://i.ytimg.com/vi/rzOhnuf7V7I/default.jpg\",\"width\":120,\"height\":90},{\"quality\":\"start\",\"url\":\"https://i.ytimg.com/vi/rzOhnuf7V7I/1.jpg\",\"width\":120,\"height\":90},{\"quality\":\"middle\",\"url\":\"https://i.ytimg.com/vi/rzOhnuf7V7I/2.jpg\",\"width\":120,\"height\":90},{\"quality\":\"end\",\"url\":\"https://i.ytimg.com/vi/rzOhnuf7V7I/3.jpg\",\"width\":120,\"height\":90}],\"views\":353438,\"viewsText\":\"353,438 views\",\"duration\":911,\"durationText\":\"15:11\",\"verified\":true,\"creatorOnRise\":false,\"isShort\":false},{\"title\":\"Most Viewed Minecraft TIKTOKS vs SHORTS\",\"description\":\"CHECK OUT my BRAND NEW Graphic Novel 🔥 ☛ http://bit.ly/PrestonSpookyHouse\\n\\nTikTok vs YouTube Shorts in Minecraft! with PrestonPlayz 👊\\n\\n👕 MERCH - http://www.firemerch.com \\n\\n🔥 NEW...\",\"publishedDate\":\"2023-04-26T17:38:00.499Z\",\"publishedText\":\"22 hours ago\",\"videoId\":\"OPwtxugMsq8\",\"videoUrl\":\"https://youtube.com/watch?v=OPwtxugMsq8\",\"channelName\":\"PrestonPlayz\",\"channelId\":\"UCJZam2u1G0syq3kyqrCXrNw\",\"channelUrl\":\"https://youtube.com/@PrestonPlayz\",\"thumbnails\":[{\"quality\":\"maxres\",\"url\":\"https://i.ytimg.com/vi/OPwtxugMsq8/maxres.jpg\",\"width\":1280,\"height\":720},{\"quality\":\"maxresdefault\",\"url\":\"https://i.ytimg.com/vi/OPwtxugMsq8/maxresdefault.jpg\",\"width\":1280,\"height\":720},{\"quality\":\"sddefault\",\"url\":\"https://i.ytimg.com/vi/OPwtxugMsq8/sddefault.jpg\",\"width\":640,\"height\":480},{\"quality\":\"high\",\"url\":\"https://i.ytimg.com/vi/OPwtxugMsq8/hqdefault.jpg\",\"width\":480,\"height\":360},{\"quality\":\"medium\",\"url\":\"https://i.ytimg.com/vi/OPwtxugMsq8/mqdefault.jpg\",\"width\":320,\"height\":180},{\"quality\":\"default\",\"url\":\"https://i.ytimg.com/vi/OPwtxugMsq8/default.jpg\",\"width\":120,\"height\":90},{\"quality\":\"start\",\"url\":\"https://i.ytimg.com/vi/OPwtxugMsq8/1.jpg\",\"width\":120,\"height\":90},{\"quality\":\"middle\",\"url\":\"https://i.ytimg.com/vi/OPwtxugMsq8/2.jpg\",\"width\":120,\"height\":90},{\"quality\":\"end\",\"url\":\"https://i.ytimg.com/vi/OPwtxugMsq8/3.jpg\",\"width\":120,\"height\":90}],\"views\":279328,\"viewsText\":\"279,328 views\",\"duration\":877,\"durationText\":\"14:37\",\"verified\":true,\"creatorOnRise\":false,\"isShort\":false},{\"title\":\"I BEAT AMANDA THE ADVENTURER FULL GAME AND FOUND A SECRET TAPE!\",\"description\":\"AMANDA THE ADVENTURER FULL GAME ENDING + SECRET TAPE!\\nSubscribe 🍜  https://www.youtube.com/channel/UChd1FPXykD4pust3ljzq6hQ?sub_confirmation=1\\n\\nAmanda The Adventurer (Steam): https://store.steam...\",\"publishedDate\":\"2023-04-26T19:02:00.499Z\",\"publishedText\":\"8 hours ago\",\"videoId\":\"MNfkKMNYL34\",\"videoUrl\":\"https://youtube.com/watch?v=MNfkKMNYL34\",\"channelName\":\"Thinknoodles\",\"channelId\":\"UChd1FPXykD4pust3ljzq6hQ\",\"channelUrl\":\"https://youtube.com/@thinknoodles\",\"thumbnails\":[{\"quality\":\"maxres\",\"url\":\"https://i.ytimg.com/vi/MNfkKMNYL34/maxres.jpg\",\"width\":1280,\"height\":720},{\"quality\":\"maxresdefault\",\"url\":\"https://i.ytimg.com/vi/MNfkKMNYL34/maxresdefault.jpg\",\"width\":1280,\"height\":720},{\"quality\":\"sddefault\",\"url\":\"https://i.ytimg.com/vi/MNfkKMNYL34/sddefault.jpg\",\"width\":640,\"height\":480},{\"quality\":\"high\",\"url\":\"https://i.ytimg.com/vi/MNfkKMNYL34/hqdefault.jpg\",\"width\":480,\"height\":360},{\"quality\":\"medium\",\"url\":\"https://i.ytimg.com/vi/MNfkKMNYL34/mqdefault.jpg\",\"width\":320,\"height\":180},{\"quality\":\"default\",\"url\":\"https://i.ytimg.com/vi/MNfkKMNYL34/default.jpg\",\"width\":120,\"height\":90},{\"quality\":\"start\",\"url\":\"https://i.ytimg.com/vi/MNfkKMNYL34/1.jpg\",\"width\":120,\"height\":90},{\"quality\":\"middle\",\"url\":\"https://i.ytimg.com/vi/MNfkKMNYL34/2.jpg\",\"width\":120,\"height\":90},{\"quality\":\"end\",\"url\":\"https://i.ytimg.com/vi/MNfkKMNYL34/3.jpg\",\"width\":120,\"height\":90}],\"views\":204614,\"viewsText\":\"204,614 views\",\"duration\":4153,\"durationText\":\"1:09:13\",\"verified\":true,\"creatorOnRise\":false,\"isShort\":false},{\"title\":\"Funniest Text Convos\",\"description\":\"#shorts\",\"publishedDate\":\"2023-04-26T18:02:00.499Z\",\"publishedText\":\"18 hours ago\",\"videoId\":\"ypzxVzorZTA\",\"videoUrl\":\"https://youtube.com/shorts/ypzxVzorZTA\",\"channelName\":\"cardogjones\",\"channelId\":\"UCjU7AreEw9dXtCBc1uOpaTg\",\"channelUrl\":\"https://youtube.com/@cardogjones\",\"thumbnails\":[{\"quality\":\"maxres\",\"url\":\"https://i.ytimg.com/vi/ypzxVzorZTA/maxres.jpg\",\"width\":1280,\"height\":720},{\"quality\":\"maxresdefault\",\"url\":\"https://i.ytimg.com/vi/ypzxVzorZTA/maxresdefault.jpg\",\"width\":1280,\"height\":720},{\"quality\":\"sddefault\",\"url\":\"https://i.ytimg.com/vi/ypzxVzorZTA/sddefault.jpg\",\"width\":640,\"height\":480},{\"quality\":\"high\",\"url\":\"https://i.ytimg.com/vi/ypzxVzorZTA/hqdefault.jpg\",\"width\":480,\"height\":360},{\"quality\":\"medium\",\"url\":\"https://i.ytimg.com/vi/ypzxVzorZTA/mqdefault.jpg\",\"width\":320,\"height\":180},{\"quality\":\"default\",\"url\":\"https://i.ytimg.com/vi/ypzxVzorZTA/default.jpg\",\"width\":120,\"height\":90},{\"quality\":\"start\",\"url\":\"https://i.ytimg.com/vi/ypzxVzorZTA/1.jpg\",\"width\":120,\"height\":90},{\"quality\":\"middle\",\"url\":\"https://i.ytimg.com/vi/ypzxVzorZTA/2.jpg\",\"width\":120,\"height\":90},{\"quality\":\"end\",\"url\":\"https://i.ytimg.com/vi/ypzxVzorZTA/3.jpg\",\"width\":120,\"height\":90}],\"views\":205883,\"viewsText\":\"205,883 views\",\"duration\":32,\"durationText\":\"0:32\",\"verified\":true,\"creatorOnRise\":false,\"isShort\":true},{\"title\":\"I'm RUNNING AWAY from School!\",\"description\":\"We play Posey Picks! A game about a cute little bunny.\\nOur adorable cuddly Teddy Head Cushions are out now!\\nShop KREW DISTRICT! https://krewdistrict.com/\\n\\nSubscribe & never miss a video ►...\",\"publishedDate\":\"2023-04-26T17:32:00.499Z\",\"publishedText\":\"23 hours ago\",\"videoId\":\"8J0_H0GcZ8I\",\"videoUrl\":\"https://youtube.com/watch?v=8J0_H0GcZ8I\",\"channelName\":\"ItsFunneh\",\"channelId\":\"UCUk7VggtJdo9XYTy3Z5QVAw\",\"channelUrl\":\"https://youtube.com/@ItsFunneh\",\"thumbnails\":[{\"quality\":\"maxres\",\"url\":\"https://i.ytimg.com/vi/8J0_H0GcZ8I/maxres.jpg\",\"width\":1280,\"height\":720},{\"quality\":\"maxresdefault\",\"url\":\"https://i.ytimg.com/vi/8J0_H0GcZ8I/maxresdefault.jpg\",\"width\":1280,\"height\":720},{\"quality\":\"sddefault\",\"url\":\"https://i.ytimg.com/vi/8J0_H0GcZ8I/sddefault.jpg\",\"width\":640,\"height\":480},{\"quality\":\"high\",\"url\":\"https://i.ytimg.com/vi/8J0_H0GcZ8I/hqdefault.jpg\",\"width\":480,\"height\":360},{\"quality\":\"medium\",\"url\":\"https://i.ytimg.com/vi/8J0_H0GcZ8I/mqdefault.jpg\",\"width\":320,\"height\":180},{\"quality\":\"default\",\"url\":\"https://i.ytimg.com/vi/8J0_H0GcZ8I/default.jpg\",\"width\":120,\"height\":90},{\"quality\":\"start\",\"url\":\"https://i.ytimg.com/vi/8J0_H0GcZ8I/1.jpg\",\"width\":120,\"height\":90},{\"quality\":\"middle\",\"url\":\"https://i.ytimg.com/vi/8J0_H0GcZ8I/2.jpg\",\"width\":120,\"height\":90},{\"quality\":\"end\",\"url\":\"https://i.ytimg.com/vi/8J0_H0GcZ8I/3.jpg\",\"width\":120,\"height\":90}],\"views\":511690,\"viewsText\":\"511,690 views\",\"duration\":1112,\"durationText\":\"18:32\",\"verified\":true,\"creatorOnRise\":false,\"isShort\":false},{\"title\":\"pokemon fusion requests have gone too far\",\"description\":\"SECOND Channel! https://www.youtube.com/c/MorePatterrz\\nSupport the channel directly for extra benefits by becoming a member! https://www.youtube.com/channel/UCzdwpmT2GtWcziITl0I0tYA/join\\nTWITTER...\",\"publishedDate\":\"2023-04-26T17:26:00.499Z\",\"publishedText\":\"1 day ago\",\"videoId\":\"bQRZegC5oPE\",\"videoUrl\":\"https://youtube.com/shorts/bQRZegC5oPE\",\"channelName\":\"Patterrz\",\"channelId\":\"UCzdwpmT2GtWcziITl0I0tYA\",\"channelUrl\":\"https://youtube.com/@Patterrz\",\"thumbnails\":[{\"quality\":\"maxres\",\"url\":\"https://i.ytimg.com/vi/bQRZegC5oPE/maxres.jpg\",\"width\":1280,\"height\":720},{\"quality\":\"maxresdefault\",\"url\":\"https://i.ytimg.com/vi/bQRZegC5oPE/maxresdefault.jpg\",\"width\":1280,\"height\":720},{\"quality\":\"sddefault\",\"url\":\"https://i.ytimg.com/vi/bQRZegC5oPE/sddefault.jpg\",\"width\":640,\"height\":480},{\"quality\":\"high\",\"url\":\"https://i.ytimg.com/vi/bQRZegC5oPE/hqdefault.jpg\",\"width\":480,\"height\":360},{\"quality\":\"medium\",\"url\":\"https://i.ytimg.com/vi/bQRZegC5oPE/mqdefault.jpg\",\"width\":320,\"height\":180},{\"quality\":\"default\",\"url\":\"https://i.ytimg.com/vi/bQRZegC5oPE/default.jpg\",\"width\":120,\"height\":90},{\"quality\":\"start\",\"url\":\"https://i.ytimg.com/vi/bQRZegC5oPE/1.jpg\",\"width\":120,\"height\":90},{\"quality\":\"middle\",\"url\":\"https://i.ytimg.com/vi/bQRZegC5oPE/2.jpg\",\"width\":120,\"height\":90},{\"quality\":\"end\",\"url\":\"https://i.ytimg.com/vi/bQRZegC5oPE/3.jpg\",\"width\":120,\"height\":90}],\"views\":326927,\"viewsText\":\"326,927 views\",\"duration\":27,\"durationText\":\"0:27\",\"verified\":true,\"creatorOnRise\":false,\"isShort\":true},{\"title\":\"Happy 1,5M subscriber 😁 Thanks always support me 😍\",\"description\":\"stumble guys #stumbleguys #stumbleguyslive #livestumble #shorts #stumbleguysvideos #stumbleguystipsandtricks #stumbleguyshighlights\",\"publishedDate\":\"2023-04-26T18:38:00.499Z\",\"publishedText\":\"12 hours ago\",\"videoId\":\"oXvUX-dYFzk\",\"videoUrl\":\"https://youtube.com/shorts/oXvUX-dYFzk\",\"channelName\":\"Mang Yellow\",\"channelId\":\"UCnrRvMNhtmOmatK0skPTpVA\",\"channelUrl\":\"https://youtube.com/@mangyellow\",\"thumbnails\":[{\"quality\":\"maxres\",\"url\":\"https://i.ytimg.com/vi/oXvUX-dYFzk/maxres.jpg\",\"width\":1280,\"height\":720},{\"quality\":\"maxresdefault\",\"url\":\"https://i.ytimg.com/vi/oXvUX-dYFzk/maxresdefault.jpg\",\"width\":1280,\"height\":720},{\"quality\":\"sddefault\",\"url\":\"https://i.ytimg.com/vi/oXvUX-dYFzk/sddefault.jpg\",\"width\":640,\"height\":480},{\"quality\":\"high\",\"url\":\"https://i.ytimg.com/vi/oXvUX-dYFzk/hqdefault.jpg\",\"width\":480,\"height\":360},{\"quality\":\"medium\",\"url\":\"https://i.ytimg.com/vi/oXvUX-dYFzk/mqdefault.jpg\",\"width\":320,\"height\":180},{\"quality\":\"default\",\"url\":\"https://i.ytimg.com/vi/oXvUX-dYFzk/default.jpg\",\"width\":120,\"height\":90},{\"quality\":\"start\",\"url\":\"https://i.ytimg.com/vi/oXvUX-dYFzk/1.jpg\",\"width\":120,\"height\":90},{\"quality\":\"middle\",\"url\":\"https://i.ytimg.com/vi/oXvUX-dYFzk/2.jpg\",\"width\":120,\"height\":90},{\"quality\":\"end\",\"url\":\"https://i.ytimg.com/vi/oXvUX-dYFzk/3.jpg\",\"width\":120,\"height\":90}],\"views\":963369,\"viewsText\":\"963,369 views\",\"duration\":21,\"durationText\":\"0:21\",\"verified\":true,\"creatorOnRise\":false,\"isShort\":true},{\"title\":\"Character Teaser - \\\"Baizhu: An Elusive Curative\\\" | Genshin Impact\",\"description\":\"A good doctor must know more than how to mend the flesh.\\nFor some antidotes fall beyond the category of medicine.\\n\\nBaizhu — Sean Durrie\\nChangsheng — Xanthe Huynh\\n\\nDownload FREE: https://hoyo.li...\",\"publishedDate\":\"2023-04-26T18:20:00.499Z\",\"publishedText\":\"15 hours ago\",\"videoId\":\"8cZSZksffhk\",\"videoUrl\":\"https://youtube.com/watch?v=8cZSZksffhk\",\"channelName\":\"Genshin Impact\",\"channelId\":\"UCiS882YPwZt1NfaM0gR0D9Q\",\"channelUrl\":\"https://youtube.com/@GenshinImpact\",\"thumbnails\":[{\"quality\":\"maxres\",\"url\":\"https://i.ytimg.com/vi/8cZSZksffhk/maxres.jpg\",\"width\":1280,\"height\":720},{\"quality\":\"maxresdefault\",\"url\":\"https://i.ytimg.com/vi/8cZSZksffhk/maxresdefault.jpg\",\"width\":1280,\"height\":720},{\"quality\":\"sddefault\",\"url\":\"https://i.ytimg.com/vi/8cZSZksffhk/sddefault.jpg\",\"width\":640,\"height\":480},{\"quality\":\"high\",\"url\":\"https://i.ytimg.com/vi/8cZSZksffhk/hqdefault.jpg\",\"width\":480,\"height\":360},{\"quality\":\"medium\",\"url\":\"https://i.ytimg.com/vi/8cZSZksffhk/mqdefault.jpg\",\"width\":320,\"height\":180},{\"quality\":\"default\",\"url\":\"https://i.ytimg.com/vi/8cZSZksffhk/default.jpg\",\"width\":120,\"height\":90},{\"quality\":\"start\",\"url\":\"https://i.ytimg.com/vi/8cZSZksffhk/1.jpg\",\"width\":120,\"height\":90},{\"quality\":\"middle\",\"url\":\"https://i.ytimg.com/vi/8cZSZksffhk/2.jpg\",\"width\":120,\"height\":90},{\"quality\":\"end\",\"url\":\"https://i.ytimg.com/vi/8cZSZksffhk/3.jpg\",\"width\":120,\"height\":90}],\"views\":767100,\"viewsText\":\"767,100 views\",\"duration\":125,\"durationText\":\"2:05\",\"verified\":true,\"creatorOnRise\":false,\"isShort\":false},{\"title\":\"The 100% It Steals experience\",\"description\":\"QUITE A FUN GAME YAYAYA all that stuff and things man I'm hungry I haven't eaten all day lol I've been editing this\\n\\nFollow me on twitch https://www.twitch.tv/astralspiff\\n\\nVODS youtube Channel:...\",\"publishedDate\":\"2023-04-26T17:26:00.499Z\",\"publishedText\":\"1 day ago\",\"videoId\":\"zcDyE6nt6MA\",\"videoUrl\":\"https://youtube.com/watch?v=zcDyE6nt6MA\",\"channelName\":\"AstralSpiff\",\"channelId\":\"UC9ek8xUVjnmQ-q7f6CTwtxg\",\"channelUrl\":\"https://youtube.com/@AstralSpiff\",\"thumbnails\":[{\"quality\":\"maxres\",\"url\":\"https://i.ytimg.com/vi/zcDyE6nt6MA/maxres.jpg\",\"width\":1280,\"height\":720},{\"quality\":\"maxresdefault\",\"url\":\"https://i.ytimg.com/vi/zcDyE6nt6MA/maxresdefault.jpg\",\"width\":1280,\"height\":720},{\"quality\":\"sddefault\",\"url\":\"https://i.ytimg.com/vi/zcDyE6nt6MA/sddefault.jpg\",\"width\":640,\"height\":480},{\"quality\":\"high\",\"url\":\"https://i.ytimg.com/vi/zcDyE6nt6MA/hqdefault.jpg\",\"width\":480,\"height\":360},{\"quality\":\"medium\",\"url\":\"https://i.ytimg.com/vi/zcDyE6nt6MA/mqdefault.jpg\",\"width\":320,\"height\":180},{\"quality\":\"default\",\"url\":\"https://i.ytimg.com/vi/zcDyE6nt6MA/default.jpg\",\"width\":120,\"height\":90},{\"quality\":\"start\",\"url\":\"https://i.ytimg.com/vi/zcDyE6nt6MA/1.jpg\",\"width\":120,\"height\":90},{\"quality\":\"middle\",\"url\":\"https://i.ytimg.com/vi/zcDyE6nt6MA/2.jpg\",\"width\":120,\"height\":90},{\"quality\":\"end\",\"url\":\"https://i.ytimg.com/vi/zcDyE6nt6MA/3.jpg\",\"width\":120,\"height\":90}],\"views\":424890,\"viewsText\":\"424,890 views\",\"duration\":3444,\"durationText\":\"57:24\",\"verified\":true,\"creatorOnRise\":false,\"isShort\":false},{\"title\":\"8.5 Million in Minecraft\",\"description\":\"In this Mumbo Jumbo Minecraft Short, mumbo places 8,500,000 blocks in Minecraft. What does 8.5 Million look like in Minecraft? This! The Minecraft mega build series explores how many things...\",\"publishedDate\":\"2023-04-26T17:26:00.499Z\",\"publishedText\":\"1 day ago\",\"videoId\":\"Z0CFOzyljxw\",\"videoUrl\":\"https://youtube.com/shorts/Z0CFOzyljxw\",\"channelName\":\"Mumbo Jumbo\",\"channelId\":\"UChFur_NwVSbUozOcF_F2kMg\",\"channelUrl\":\"https://youtube.com/@ThatMumboJumbo\",\"thumbnails\":[{\"quality\":\"maxres\",\"url\":\"https://i.ytimg.com/vi/Z0CFOzyljxw/maxres.jpg\",\"width\":1280,\"height\":720},{\"quality\":\"maxresdefault\",\"url\":\"https://i.ytimg.com/vi/Z0CFOzyljxw/maxresdefault.jpg\",\"width\":1280,\"height\":720},{\"quality\":\"sddefault\",\"url\":\"https://i.ytimg.com/vi/Z0CFOzyljxw/sddefault.jpg\",\"width\":640,\"height\":480},{\"quality\":\"high\",\"url\":\"https://i.ytimg.com/vi/Z0CFOzyljxw/hqdefault.jpg\",\"width\":480,\"height\":360},{\"quality\":\"medium\",\"url\":\"https://i.ytimg.com/vi/Z0CFOzyljxw/mqdefault.jpg\",\"width\":320,\"height\":180},{\"quality\":\"default\",\"url\":\"https://i.ytimg.com/vi/Z0CFOzyljxw/default.jpg\",\"width\":120,\"height\":90},{\"quality\":\"start\",\"url\":\"https://i.ytimg.com/vi/Z0CFOzyljxw/1.jpg\",\"width\":120,\"height\":90},{\"quality\":\"middle\",\"url\":\"https://i.ytimg.com/vi/Z0CFOzyljxw/2.jpg\",\"width\":120,\"height\":90},{\"quality\":\"end\",\"url\":\"https://i.ytimg.com/vi/Z0CFOzyljxw/3.jpg\",\"width\":120,\"height\":90}],\"views\":278623,\"viewsText\":\"278,623 views\",\"duration\":28,\"durationText\":\"0:28\",\"verified\":true,\"creatorOnRise\":false,\"isShort\":true},{\"title\":\"Mega City HIDE AND SEEK with MY GIRLFRIEND! (Fortnite)\",\"description\":\"Click the link & get access to MasterClash https://rebrand.ly/TG-MasterClash-3. Without it, I would still be stuck at Town Hall level 2! MasterClash is a brand new in-game guide where you can...\",\"publishedDate\":\"2023-04-26T18:14:00.499Z\",\"publishedText\":\"16 hours ago\",\"videoId\":\"iVkMzjnDCkw\",\"videoUrl\":\"https://youtube.com/watch?v=iVkMzjnDCkw\",\"channelName\":\"TG Plays\",\"channelId\":\"UCqVCSWnuOSPm26orvNDTuWQ\",\"channelUrl\":\"https://youtube.com/@TGplays\",\"thumbnails\":[{\"quality\":\"maxres\",\"url\":\"https://i.ytimg.com/vi/iVkMzjnDCkw/maxres.jpg\",\"width\":1280,\"height\":720},{\"quality\":\"maxresdefault\",\"url\":\"https://i.ytimg.com/vi/iVkMzjnDCkw/maxresdefault.jpg\",\"width\":1280,\"height\":720},{\"quality\":\"sddefault\",\"url\":\"https://i.ytimg.com/vi/iVkMzjnDCkw/sddefault.jpg\",\"width\":640,\"height\":480},{\"quality\":\"high\",\"url\":\"https://i.ytimg.com/vi/iVkMzjnDCkw/hqdefault.jpg\",\"width\":480,\"height\":360},{\"quality\":\"medium\",\"url\":\"https://i.ytimg.com/vi/iVkMzjnDCkw/mqdefault.jpg\",\"width\":320,\"height\":180},{\"quality\":\"default\",\"url\":\"https://i.ytimg.com/vi/iVkMzjnDCkw/default.jpg\",\"width\":120,\"height\":90},{\"quality\":\"start\",\"url\":\"https://i.ytimg.com/vi/iVkMzjnDCkw/1.jpg\",\"width\":120,\"height\":90},{\"quality\":\"middle\",\"url\":\"https://i.ytimg.com/vi/iVkMzjnDCkw/2.jpg\",\"width\":120,\"height\":90},{\"quality\":\"end\",\"url\":\"https://i.ytimg.com/vi/iVkMzjnDCkw/3.jpg\",\"width\":120,\"height\":90}],\"views\":254725,\"viewsText\":\"254,725 views\",\"duration\":1102,\"durationText\":\"18:22\",\"verified\":true,\"creatorOnRise\":false,\"isShort\":false},{\"title\":\"Best mobile games android , ios , cool game ever player #game #shorts #funny #gaming #viralshorts\",\"description\":\"Best mobile games android, ios, cool game ever player #game #shorts #funny #gaming #puzzle #viralshorts #game\\n\\nBest mobile games android , ios , cool game ever player #shorts #game #funny #gaming...\",\"publishedDate\":\"2023-04-26T17:26:00.499Z\",\"publishedText\":\"1 day ago\",\"videoId\":\"oDfJ8DV2mSM\",\"videoUrl\":\"https://youtube.com/shorts/oDfJ8DV2mSM\",\"channelName\":\"Funny Gaming Studio\",\"channelId\":\"UCquwEMc5oJTG3ZUBqONUgbA\",\"channelUrl\":\"https://youtube.com/@funnygamingstudio\",\"thumbnails\":[{\"quality\":\"maxres\",\"url\":\"https://i.ytimg.com/vi/oDfJ8DV2mSM/maxres.jpg\",\"width\":1280,\"height\":720},{\"quality\":\"maxresdefault\",\"url\":\"https://i.ytimg.com/vi/oDfJ8DV2mSM/maxresdefault.jpg\",\"width\":1280,\"height\":720},{\"quality\":\"sddefault\",\"url\":\"https://i.ytimg.com/vi/oDfJ8DV2mSM/sddefault.jpg\",\"width\":640,\"height\":480},{\"quality\":\"high\",\"url\":\"https://i.ytimg.com/vi/oDfJ8DV2mSM/hqdefault.jpg\",\"width\":480,\"height\":360},{\"quality\":\"medium\",\"url\":\"https://i.ytimg.com/vi/oDfJ8DV2mSM/mqdefault.jpg\",\"width\":320,\"height\":180},{\"quality\":\"default\",\"url\":\"https://i.ytimg.com/vi/oDfJ8DV2mSM/default.jpg\",\"width\":120,\"height\":90},{\"quality\":\"start\",\"url\":\"https://i.ytimg.com/vi/oDfJ8DV2mSM/1.jpg\",\"width\":120,\"height\":90},{\"quality\":\"middle\",\"url\":\"https://i.ytimg.com/vi/oDfJ8DV2mSM/2.jpg\",\"width\":120,\"height\":90},{\"quality\":\"end\",\"url\":\"https://i.ytimg.com/vi/oDfJ8DV2mSM/3.jpg\",\"width\":120,\"height\":90}],\"views\":1865267,\"viewsText\":\"1,865,267 views\",\"duration\":14,\"durationText\":\"0:14\",\"verified\":false,\"creatorOnRise\":false,\"isShort\":true},{\"title\":\"Minecraft But We’re On ONE MILLIONAIRE BLOCK!\",\"description\":\"Today, Nico and Cash are on ONE MILLIONAIRE BLOCK! They need to travel to new islands to get richer and richer! How rich will they get? Watch to find out!\\n\\n#Minecraft #MinecraftMod #Nico #NicoAndCash\",\"publishedDate\":\"2023-04-26T18:14:00.499Z\",\"publishedText\":\"16 hours ago\",\"videoId\":\"cEAx8TDrW1Y\",\"videoUrl\":\"https://youtube.com/watch?v=cEAx8TDrW1Y\",\"channelName\":\"Nico\",\"channelId\":\"UCTn7pr9tqS0ySAB2UyXse6w\",\"channelUrl\":\"https://youtube.com/@nico-mc\",\"thumbnails\":[{\"quality\":\"maxres\",\"url\":\"https://i.ytimg.com/vi/cEAx8TDrW1Y/maxres.jpg\",\"width\":1280,\"height\":720},{\"quality\":\"maxresdefault\",\"url\":\"https://i.ytimg.com/vi/cEAx8TDrW1Y/maxresdefault.jpg\",\"width\":1280,\"height\":720},{\"quality\":\"sddefault\",\"url\":\"https://i.ytimg.com/vi/cEAx8TDrW1Y/sddefault.jpg\",\"width\":640,\"height\":480},{\"quality\":\"high\",\"url\":\"https://i.ytimg.com/vi/cEAx8TDrW1Y/hqdefault.jpg\",\"width\":480,\"height\":360},{\"quality\":\"medium\",\"url\":\"https://i.ytimg.com/vi/cEAx8TDrW1Y/mqdefault.jpg\",\"width\":320,\"height\":180},{\"quality\":\"default\",\"url\":\"https://i.ytimg.com/vi/cEAx8TDrW1Y/default.jpg\",\"width\":120,\"height\":90},{\"quality\":\"start\",\"url\":\"https://i.ytimg.com/vi/cEAx8TDrW1Y/1.jpg\",\"width\":120,\"height\":90},{\"quality\":\"middle\",\"url\":\"https://i.ytimg.com/vi/cEAx8TDrW1Y/2.jpg\",\"width\":120,\"height\":90},{\"quality\":\"end\",\"url\":\"https://i.ytimg.com/vi/cEAx8TDrW1Y/3.jpg\",\"width\":120,\"height\":90}],\"views\":512061,\"viewsText\":\"512,061 views\",\"duration\":1163,\"durationText\":\"19:23\",\"verified\":true,\"creatorOnRise\":false,\"isShort\":false},{\"title\":\"Bully Wants me To DRAW Her So I Did This!🤣\",\"description\":\"#roblox #shorts\",\"publishedDate\":\"2023-04-26T18:14:00.499Z\",\"publishedText\":\"16 hours ago\",\"videoId\":\"4-QA_ski5PI\",\"videoUrl\":\"https://youtube.com/shorts/4-QA_ski5PI\",\"channelName\":\"Vrozix Playz\",\"channelId\":\"UCItaP-bPx-JG27Svp4hMckg\",\"channelUrl\":\"https://youtube.com/@VrozixPlayz\",\"thumbnails\":[{\"quality\":\"maxres\",\"url\":\"https://i.ytimg.com/vi/4-QA_ski5PI/maxres.jpg\",\"width\":1280,\"height\":720},{\"quality\":\"maxresdefault\",\"url\":\"https://i.ytimg.com/vi/4-QA_ski5PI/maxresdefault.jpg\",\"width\":1280,\"height\":720},{\"quality\":\"sddefault\",\"url\":\"https://i.ytimg.com/vi/4-QA_ski5PI/sddefault.jpg\",\"width\":640,\"height\":480},{\"quality\":\"high\",\"url\":\"https://i.ytimg.com/vi/4-QA_ski5PI/hqdefault.jpg\",\"width\":480,\"height\":360},{\"quality\":\"medium\",\"url\":\"https://i.ytimg.com/vi/4-QA_ski5PI/mqdefault.jpg\",\"width\":320,\"height\":180},{\"quality\":\"default\",\"url\":\"https://i.ytimg.com/vi/4-QA_ski5PI/default.jpg\",\"width\":120,\"height\":90},{\"quality\":\"start\",\"url\":\"https://i.ytimg.com/vi/4-QA_ski5PI/1.jpg\",\"width\":120,\"height\":90},{\"quality\":\"middle\",\"url\":\"https://i.ytimg.com/vi/4-QA_ski5PI/2.jpg\",\"width\":120,\"height\":90},{\"quality\":\"end\",\"url\":\"https://i.ytimg.com/vi/4-QA_ski5PI/3.jpg\",\"width\":120,\"height\":90}],\"views\":368730,\"viewsText\":\"368,730 views\",\"duration\":23,\"durationText\":\"0:23\",\"verified\":true,\"creatorOnRise\":false,\"isShort\":true},{\"title\":\"I Was REVERSE Trolled...\",\"description\":\"I Was REVERSE Trolled...\\n\\n\\n#shorts #warzone2 #warzone \\n\\n\\n\\n\\nwarzone warzone2 loadouts meta proximity chat meta battle royale DMZ unhinged world record\",\"publishedDate\":\"2023-04-26T17:26:00.499Z\",\"publishedText\":\"1 day ago\",\"videoId\":\"0PD5R0oBBWE\",\"videoUrl\":\"https://youtube.com/shorts/0PD5R0oBBWE\",\"channelName\":\"LovelyLo\",\"channelId\":\"UC0srhEU_7aOyldqkecIyiNg\",\"channelUrl\":\"https://youtube.com/@imlovelylo\",\"thumbnails\":[{\"quality\":\"maxres\",\"url\":\"https://i.ytimg.com/vi/0PD5R0oBBWE/maxres.jpg\",\"width\":1280,\"height\":720},{\"quality\":\"maxresdefault\",\"url\":\"https://i.ytimg.com/vi/0PD5R0oBBWE/maxresdefault.jpg\",\"width\":1280,\"height\":720},{\"quality\":\"sddefault\",\"url\":\"https://i.ytimg.com/vi/0PD5R0oBBWE/sddefault.jpg\",\"width\":640,\"height\":480},{\"quality\":\"high\",\"url\":\"https://i.ytimg.com/vi/0PD5R0oBBWE/hqdefault.jpg\",\"width\":480,\"height\":360},{\"quality\":\"medium\",\"url\":\"https://i.ytimg.com/vi/0PD5R0oBBWE/mqdefault.jpg\",\"width\":320,\"height\":180},{\"quality\":\"default\",\"url\":\"https://i.ytimg.com/vi/0PD5R0oBBWE/default.jpg\",\"width\":120,\"height\":90},{\"quality\":\"start\",\"url\":\"https://i.ytimg.com/vi/0PD5R0oBBWE/1.jpg\",\"width\":120,\"height\":90},{\"quality\":\"middle\",\"url\":\"https://i.ytimg.com/vi/0PD5R0oBBWE/2.jpg\",\"width\":120,\"height\":90},{\"quality\":\"end\",\"url\":\"https://i.ytimg.com/vi/0PD5R0oBBWE/3.jpg\",\"width\":120,\"height\":90}],\"views\":220706,\"viewsText\":\"220,706 views\",\"duration\":41,\"durationText\":\"0:41\",\"verified\":true,\"creatorOnRise\":false,\"isShort\":true},{\"title\":\"PERFECT DESIGNS!! FULL BREAKDOWN FOR BUSTED DUAL DOKKANFEST GOKU & PICCOLO JR.! (DBZ: Dokkan Battle)\",\"description\":\"Video Title: PERFECT DESIGNS!! FULL BREAKDOWN FOR BUSTED DUAL DOKKANFEST GOKU & PICCOLO JR.! (DBZ: Dokkan Battle)\\n\\n----------------------------------------------------------------------------------...\",\"publishedDate\":\"2023-04-26T18:56:00.499Z\",\"publishedText\":\"9 hours ago\",\"videoId\":\"jYMG0qCX-tg\",\"videoUrl\":\"https://youtube.com/watch?v=jYMG0qCX-tg\",\"channelName\":\"DaTruthDT\",\"channelId\":\"UCTZ1hH6lkIce35jwlMVmtLw\",\"channelUrl\":\"https://youtube.com/@DaTruthDT\",\"thumbnails\":[{\"quality\":\"maxres\",\"url\":\"https://i.ytimg.com/vi/jYMG0qCX-tg/maxres.jpg\",\"width\":1280,\"height\":720},{\"quality\":\"maxresdefault\",\"url\":\"https://i.ytimg.com/vi/jYMG0qCX-tg/maxresdefault.jpg\",\"width\":1280,\"height\":720},{\"quality\":\"sddefault\",\"url\":\"https://i.ytimg.com/vi/jYMG0qCX-tg/sddefault.jpg\",\"width\":640,\"height\":480},{\"quality\":\"high\",\"url\":\"https://i.ytimg.com/vi/jYMG0qCX-tg/hqdefault.jpg\",\"width\":480,\"height\":360},{\"quality\":\"medium\",\"url\":\"https://i.ytimg.com/vi/jYMG0qCX-tg/mqdefault.jpg\",\"width\":320,\"height\":180},{\"quality\":\"default\",\"url\":\"https://i.ytimg.com/vi/jYMG0qCX-tg/default.jpg\",\"width\":120,\"height\":90},{\"quality\":\"start\",\"url\":\"https://i.ytimg.com/vi/jYMG0qCX-tg/1.jpg\",\"width\":120,\"height\":90},{\"quality\":\"middle\",\"url\":\"https://i.ytimg.com/vi/jYMG0qCX-tg/2.jpg\",\"width\":120,\"height\":90},{\"quality\":\"end\",\"url\":\"https://i.ytimg.com/vi/jYMG0qCX-tg/3.jpg\",\"width\":120,\"height\":90}],\"views\":71740,\"viewsText\":\"71,740 views\",\"duration\":1693,\"durationText\":\"28:13\",\"verified\":true,\"creatorOnRise\":false,\"isShort\":false},{\"title\":\"Minecraft But DO NOT LAUGH...\",\"description\":\"Today, Cash and his friends play a challenge... Where they have to try not to laugh! Everyone who laughs in this game is punished... Who do you think will win? Watch to find out!\\n\\nSocials:...\",\"publishedDate\":\"2023-04-26T17:26:00.499Z\",\"publishedText\":\"1 day ago\",\"videoId\":\"850YAYWmw3Q\",\"videoUrl\":\"https://youtube.com/watch?v=850YAYWmw3Q\",\"channelName\":\"Cash\",\"channelId\":\"UC0eLBYhxW9HC0P9PXQ73mpQ\",\"channelUrl\":\"https://youtube.com/@cashminecraft\",\"thumbnails\":[{\"quality\":\"maxres\",\"url\":\"https://i.ytimg.com/vi/850YAYWmw3Q/maxres.jpg\",\"width\":1280,\"height\":720},{\"quality\":\"maxresdefault\",\"url\":\"https://i.ytimg.com/vi/850YAYWmw3Q/maxresdefault.jpg\",\"width\":1280,\"height\":720},{\"quality\":\"sddefault\",\"url\":\"https://i.ytimg.com/vi/850YAYWmw3Q/sddefault.jpg\",\"width\":640,\"height\":480},{\"quality\":\"high\",\"url\":\"https://i.ytimg.com/vi/850YAYWmw3Q/hqdefault.jpg\",\"width\":480,\"height\":360},{\"quality\":\"medium\",\"url\":\"https://i.ytimg.com/vi/850YAYWmw3Q/mqdefault.jpg\",\"width\":320,\"height\":180},{\"quality\":\"default\",\"url\":\"https://i.ytimg.com/vi/850YAYWmw3Q/default.jpg\",\"width\":120,\"height\":90},{\"quality\":\"start\",\"url\":\"https://i.ytimg.com/vi/850YAYWmw3Q/1.jpg\",\"width\":120,\"height\":90},{\"quality\":\"middle\",\"url\":\"https://i.ytimg.com/vi/850YAYWmw3Q/2.jpg\",\"width\":120,\"height\":90},{\"quality\":\"end\",\"url\":\"https://i.ytimg.com/vi/850YAYWmw3Q/3.jpg\",\"width\":120,\"height\":90}],\"views\":661928,\"viewsText\":\"661,928 views\",\"duration\":1358,\"durationText\":\"22:38\",\"verified\":true,\"creatorOnRise\":false,\"isShort\":false},{\"title\":\"Funniest Clash Part 4 Injustice 2 😂 #shorts\",\"description\":\"\",\"publishedDate\":\"2023-04-26T17:26:00.499Z\",\"publishedText\":\"1 day ago\",\"videoId\":\"_xRSCdxRDfY\",\"videoUrl\":\"https://youtube.com/shorts/_xRSCdxRDfY\",\"channelName\":\"GamesUWant\",\"channelId\":\"UCEOXC3WVowKhLEPqiI9jMMg\",\"channelUrl\":\"https://youtube.com/@GamesUWant\",\"thumbnails\":[{\"quality\":\"maxres\",\"url\":\"https://i.ytimg.com/vi/_xRSCdxRDfY/maxres.jpg\",\"width\":1280,\"height\":720},{\"quality\":\"maxresdefault\",\"url\":\"https://i.ytimg.com/vi/_xRSCdxRDfY/maxresdefault.jpg\",\"width\":1280,\"height\":720},{\"quality\":\"sddefault\",\"url\":\"https://i.ytimg.com/vi/_xRSCdxRDfY/sddefault.jpg\",\"width\":640,\"height\":480},{\"quality\":\"high\",\"url\":\"https://i.ytimg.com/vi/_xRSCdxRDfY/hqdefault.jpg\",\"width\":480,\"height\":360},{\"quality\":\"medium\",\"url\":\"https://i.ytimg.com/vi/_xRSCdxRDfY/mqdefault.jpg\",\"width\":320,\"height\":180},{\"quality\":\"default\",\"url\":\"https://i.ytimg.com/vi/_xRSCdxRDfY/default.jpg\",\"width\":120,\"height\":90},{\"quality\":\"start\",\"url\":\"https://i.ytimg.com/vi/_xRSCdxRDfY/1.jpg\",\"width\":120,\"height\":90},{\"quality\":\"middle\",\"url\":\"https://i.ytimg.com/vi/_xRSCdxRDfY/2.jpg\",\"width\":120,\"height\":90},{\"quality\":\"end\",\"url\":\"https://i.ytimg.com/vi/_xRSCdxRDfY/3.jpg\",\"width\":120,\"height\":90}],\"views\":293678,\"viewsText\":\"293,678 views\",\"duration\":57,\"durationText\":\"0:57\",\"verified\":false,\"creatorOnRise\":false,\"isShort\":true},{\"title\":\"Making Your Pokemon Fusions!\",\"description\":\"✔️Follow Me\\n► Main Channel: @Original151 \\n► Twitter: https://twitter.com/Vinny\\n► Instagram: http://instagram.com/vinny\\n► TikTok: https://www.tiktok.com/@UCx2O-KzFwwpFWeMe-iK-XIQ...\",\"publishedDate\":\"2023-04-26T17:44:00.499Z\",\"publishedText\":\"21 hours ago\",\"videoId\":\"_TQ-KmkfnuM\",\"videoUrl\":\"https://youtube.com/shorts/_TQ-KmkfnuM\",\"channelName\":\"Vintendo\",\"channelId\":\"UCNbc1gDwkS7T_mPuNggyb-w\",\"channelUrl\":\"https://youtube.com/@Vintendo\",\"thumbnails\":[{\"quality\":\"maxres\",\"url\":\"https://i.ytimg.com/vi/_TQ-KmkfnuM/maxres.jpg\",\"width\":1280,\"height\":720},{\"quality\":\"maxresdefault\",\"url\":\"https://i.ytimg.com/vi/_TQ-KmkfnuM/maxresdefault.jpg\",\"width\":1280,\"height\":720},{\"quality\":\"sddefault\",\"url\":\"https://i.ytimg.com/vi/_TQ-KmkfnuM/sddefault.jpg\",\"width\":640,\"height\":480},{\"quality\":\"high\",\"url\":\"https://i.ytimg.com/vi/_TQ-KmkfnuM/hqdefault.jpg\",\"width\":480,\"height\":360},{\"quality\":\"medium\",\"url\":\"https://i.ytimg.com/vi/_TQ-KmkfnuM/mqdefault.jpg\",\"width\":320,\"height\":180},{\"quality\":\"default\",\"url\":\"https://i.ytimg.com/vi/_TQ-KmkfnuM/default.jpg\",\"width\":120,\"height\":90},{\"quality\":\"start\",\"url\":\"https://i.ytimg.com/vi/_TQ-KmkfnuM/1.jpg\",\"width\":120,\"height\":90},{\"quality\":\"middle\",\"url\":\"https://i.ytimg.com/vi/_TQ-KmkfnuM/2.jpg\",\"width\":120,\"height\":90},{\"quality\":\"end\",\"url\":\"https://i.ytimg.com/vi/_TQ-KmkfnuM/3.jpg\",\"width\":120,\"height\":90}],\"views\":195108,\"viewsText\":\"195,108 views\",\"duration\":49,\"durationText\":\"0:49\",\"verified\":true,\"creatorOnRise\":false,\"isShort\":true},{\"title\":\"Rainbow Six Siege cheaters are something else...\",\"description\":\"Go to https://strms.net/factor75_wildcat-9326 and use code POGWILDCATAPR50 for my special Factor75 discount and to support my channel! #ad\\n2️⃣9️⃣ have already claimed this exclusive...\",\"publishedDate\":\"2023-04-26T17:38:00.499Z\",\"publishedText\":\"22 hours ago\",\"videoId\":\"ccSSzTcXFDM\",\"videoUrl\":\"https://youtube.com/watch?v=ccSSzTcXFDM\",\"channelName\":\"WILDCAT\",\"channelId\":\"UC-kOXc3gBwksVfmndSEz7jg\",\"channelUrl\":\"https://youtube.com/@wildcat\",\"thumbnails\":[{\"quality\":\"maxres\",\"url\":\"https://i.ytimg.com/vi/ccSSzTcXFDM/maxres.jpg\",\"width\":1280,\"height\":720},{\"quality\":\"maxresdefault\",\"url\":\"https://i.ytimg.com/vi/ccSSzTcXFDM/maxresdefault.jpg\",\"width\":1280,\"height\":720},{\"quality\":\"sddefault\",\"url\":\"https://i.ytimg.com/vi/ccSSzTcXFDM/sddefault.jpg\",\"width\":640,\"height\":480},{\"quality\":\"high\",\"url\":\"https://i.ytimg.com/vi/ccSSzTcXFDM/hqdefault.jpg\",\"width\":480,\"height\":360},{\"quality\":\"medium\",\"url\":\"https://i.ytimg.com/vi/ccSSzTcXFDM/mqdefault.jpg\",\"width\":320,\"height\":180},{\"quality\":\"default\",\"url\":\"https://i.ytimg.com/vi/ccSSzTcXFDM/default.jpg\",\"width\":120,\"height\":90},{\"quality\":\"start\",\"url\":\"https://i.ytimg.com/vi/ccSSzTcXFDM/1.jpg\",\"width\":120,\"height\":90},{\"quality\":\"middle\",\"url\":\"https://i.ytimg.com/vi/ccSSzTcXFDM/2.jpg\",\"width\":120,\"height\":90},{\"quality\":\"end\",\"url\":\"https://i.ytimg.com/vi/ccSSzTcXFDM/3.jpg\",\"width\":120,\"height\":90}],\"views\":292631,\"viewsText\":\"292,631 views\",\"duration\":717,\"durationText\":\"11:57\",\"verified\":true,\"creatorOnRise\":false,\"isShort\":false},{\"title\":\"The Funniest Memes I Could Find\",\"description\":\"On today's video I look at the Funniest Memes for you all to enjoy and get a good laugh out of possibly.\\n\\nDib's YouTube Shorts go over funny memes found on the internet. All of the voice overs...\",\"publishedDate\":\"2023-04-26T17:26:00.499Z\",\"publishedText\":\"1 day ago\",\"videoId\":\"cLQHGUCyEos\",\"videoUrl\":\"https://youtube.com/shorts/cLQHGUCyEos\",\"channelName\":\"dib\",\"channelId\":\"UCRgzH-LYnOKjcVPfjS0JTZQ\",\"channelUrl\":\"https://youtube.com/@_dib\",\"thumbnails\":[{\"quality\":\"maxres\",\"url\":\"https://i.ytimg.com/vi/cLQHGUCyEos/maxres.jpg\",\"width\":1280,\"height\":720},{\"quality\":\"maxresdefault\",\"url\":\"https://i.ytimg.com/vi/cLQHGUCyEos/maxresdefault.jpg\",\"width\":1280,\"height\":720},{\"quality\":\"sddefault\",\"url\":\"https://i.ytimg.com/vi/cLQHGUCyEos/sddefault.jpg\",\"width\":640,\"height\":480},{\"quality\":\"high\",\"url\":\"https://i.ytimg.com/vi/cLQHGUCyEos/hqdefault.jpg\",\"width\":480,\"height\":360},{\"quality\":\"medium\",\"url\":\"https://i.ytimg.com/vi/cLQHGUCyEos/mqdefault.jpg\",\"width\":320,\"height\":180},{\"quality\":\"default\",\"url\":\"https://i.ytimg.com/vi/cLQHGUCyEos/default.jpg\",\"width\":120,\"height\":90},{\"quality\":\"start\",\"url\":\"https://i.ytimg.com/vi/cLQHGUCyEos/1.jpg\",\"width\":120,\"height\":90},{\"quality\":\"middle\",\"url\":\"https://i.ytimg.com/vi/cLQHGUCyEos/2.jpg\",\"width\":120,\"height\":90},{\"quality\":\"end\",\"url\":\"https://i.ytimg.com/vi/cLQHGUCyEos/3.jpg\",\"width\":120,\"height\":90}],\"views\":141754,\"viewsText\":\"141,754 views\",\"duration\":31,\"durationText\":\"0:31\",\"verified\":false,\"creatorOnRise\":false,\"isShort\":true}]\n",
      "Title: DISNEY Dreamlight Valley Update 4 Review. Everything New in The Update. I'm BLOWN AWAY!\n",
      "Video ID: 2voCtSF5XTs\n",
      "Channel Name: MrStarInSky\n",
      "Title: DISNEY Dreamlight Valley. Top 10 SECRET FEATURES in Update 4. New Potatoes, HIDDEN Quests and MORE!\n",
      "Video ID: eZ570v6lRSw\n",
      "Channel Name: MrStarInSky\n",
      "Title: DISNEY Dreamlight Valley. Easter Event FULL GUIDE. Easter Recipes and Quests Explained. EGGS!\n",
      "Video ID: Ljhi0zG9-mw\n",
      "Channel Name: MrStarInSky\n",
      "Title: How to Get Dreamlight Fruit in DISNEY Dreamlight Valley. Unlocking Dreamlight Trees!\n",
      "Video ID: h4NbjGBh4I4\n",
      "Channel Name: MrStarInSky\n",
      "Title: my hardest recording session\n",
      "Video ID: RrA4kjLXmFo\n",
      "Channel Name: CoryxKenshin\n",
      "Title: Speedrunning YT Shorts #79\n",
      "Video ID: KADV7x387hw\n",
      "Channel Name: Joe Caine\n",
      "Title: The Creeper Can Melee (actually)\n",
      "Video ID: XWsYIKQFBWk\n",
      "Channel Name: camman18\n",
      "Title: Would You Rather Be In A Really Good Movie Or Really Bad Movie #shorts #funny #wouldyourather\n",
      "Video ID: kCdq3Zr_GL8\n",
      "Channel Name: Jonny RaZeR\n",
      "Title: Apex Legends: Arsenal Launch Trailer\n",
      "Video ID: 3D4sYCf1VPI\n",
      "Channel Name: Apex Legends\n",
      "Title: I Played Zelda: Tears of the Kingdom (Hands-On Preview)\n",
      "Video ID: 2EMZzW7hj0M\n",
      "Channel Name: Zeltik\n",
      "Title: Youtuber Gets Raided Over Trading Card Drama\n",
      "Video ID: m3YR2DFPpGc\n",
      "Channel Name: penguinz0\n",
      "Title: These Pokémon Fusions... are depressing\n",
      "Video ID: u2SLzxc00UQ\n",
      "Channel Name: Alpharad\n",
      "Title: Types of Minecraft Players Farming\n",
      "Video ID: ydxRbgbvU2w\n",
      "Channel Name: Crave\n",
      "Title: Surviving as a Mutant in Modded Minecraft\n",
      "Video ID: ySVbuoHj-xs\n",
      "Channel Name: SSundee\n",
      "Title: SCP Shower Thoughts... #45\n",
      "Video ID: GDjlJZinKG4\n",
      "Channel Name: scpWyatt\n",
      "Title: I UPSET AMANDA so she CHOPPED ME INTO LITTLE PIECES.. - Amanda the Adventurer\n",
      "Video ID: r5cYvlKmQGM\n",
      "Channel Name: FusionZGamer\n",
      "Title: 5 Best Fortnite Songs!\n",
      "Video ID: uB_bCtOGQPs\n",
      "Channel Name: More CouRage\n",
      "Title: THE LAST EVER SIDEMEN GTA\n",
      "Video ID: oETE6dW4HAE\n",
      "Channel Name: MoreSidemen\n",
      "Title: Taking OVER Minecraft As DEMON APHMAU!\n",
      "Video ID: aLsZJVAuJUo\n",
      "Channel Name: Aphmau\n",
      "Title: I'm So Sorry...\n",
      "Video ID: 1vqBvuq2t34\n",
      "Channel Name: WesleyWAT\n",
      "Title: I got trapped in a high school club. #shorts\n",
      "Video ID: 5U4sL3-FT9I\n",
      "Channel Name: SmokeeBee\n",
      "Title: Unlocking the Secret Lore Tapes & Endings || Amanda the Adventurer #3 (Playthrough)\n",
      "Video ID: T6MBPk0MJec\n",
      "Channel Name: SuperHorrorBro\n",
      "Title: HE WON!!!!!!! HE WON!!!!!!!!!!!!!!!!!!!!!!!!!!\n",
      "Video ID: u2h7EnDkL_c\n",
      "Channel Name: GothamChess\n",
      "Title: one door to loot\n",
      "Video ID: jDgD7wKLwtI\n",
      "Channel Name: spoonkid2\n",
      "Title: I Tried Driving High. Legally.\n",
      "Video ID: lMYWY5ElJmk\n",
      "Channel Name: Ludwig\n",
      "Title: Can You Farm 1,000,000 Cookies in 100 Minecraft Days?\n",
      "Video ID: vX3-MLNLASg\n",
      "Channel Name: aCookieGod\n",
      "Title: The Legend of Zelda: Tears of the Kingdom Preview - We Played it for Hours!\n",
      "Video ID: _sRMNwwLsc0\n",
      "Channel Name: IGN\n",
      "Title: would you pull the lever?\n",
      "Video ID: A6dBq7Ypy1w\n",
      "Channel Name: Adib\n",
      "Title: The Limited Titanium Packs! Pack N' Play Ep. #4\n",
      "Video ID: Cq-3vTXuDQY\n",
      "Channel Name: MMG\n",
      "Title: NEW Amanda the Adventurer Help Amanda Fix tear open Her Sheep Friend Wooly / ENDING FULL GAME\n",
      "Video ID: iLVpLCSSnnM\n",
      "Channel Name: ManlyBadassHero\n",
      "Title: IShowSpeed has had ENOUGH\n",
      "Video ID: d-6__m2WoYY\n",
      "Channel Name: Shani\n",
      "Title: ROBLOX MADE US DO THIS...\n",
      "Video ID: w4mVm1C4UMo\n",
      "Channel Name: Flamingo\n",
      "Title: Presidents Play Guess the Minecraft Mob  #shorts #ai #minecraft\n",
      "Video ID: ORWnQ2gjTok\n",
      "Channel Name: President Spunk\n",
      "Title: They Made Tesla Auto Pilot 1000x More Dangerous\n",
      "Video ID: rzOhnuf7V7I\n",
      "Channel Name: GrayStillPlays\n",
      "Title: Most Viewed Minecraft TIKTOKS vs SHORTS\n",
      "Video ID: OPwtxugMsq8\n",
      "Channel Name: PrestonPlayz\n",
      "Title: I BEAT AMANDA THE ADVENTURER FULL GAME AND FOUND A SECRET TAPE!\n",
      "Video ID: MNfkKMNYL34\n",
      "Channel Name: Thinknoodles\n",
      "Title: Funniest Text Convos\n",
      "Video ID: ypzxVzorZTA\n",
      "Channel Name: cardogjones\n",
      "Title: I'm RUNNING AWAY from School!\n",
      "Video ID: 8J0_H0GcZ8I\n",
      "Channel Name: ItsFunneh\n",
      "Title: pokemon fusion requests have gone too far\n",
      "Video ID: bQRZegC5oPE\n",
      "Channel Name: Patterrz\n",
      "Title: Happy 1,5M subscriber 😁 Thanks always support me 😍\n",
      "Video ID: oXvUX-dYFzk\n",
      "Channel Name: Mang Yellow\n",
      "Title: Character Teaser - \"Baizhu: An Elusive Curative\" | Genshin Impact\n",
      "Video ID: 8cZSZksffhk\n",
      "Channel Name: Genshin Impact\n",
      "Title: The 100% It Steals experience\n",
      "Video ID: zcDyE6nt6MA\n",
      "Channel Name: AstralSpiff\n",
      "Title: 8.5 Million in Minecraft\n",
      "Video ID: Z0CFOzyljxw\n",
      "Channel Name: Mumbo Jumbo\n",
      "Title: Mega City HIDE AND SEEK with MY GIRLFRIEND! (Fortnite)\n",
      "Video ID: iVkMzjnDCkw\n",
      "Channel Name: TG Plays\n",
      "Title: Best mobile games android , ios , cool game ever player #game #shorts #funny #gaming #viralshorts\n",
      "Video ID: oDfJ8DV2mSM\n",
      "Channel Name: Funny Gaming Studio\n",
      "Title: Minecraft But We’re On ONE MILLIONAIRE BLOCK!\n",
      "Video ID: cEAx8TDrW1Y\n",
      "Channel Name: Nico\n",
      "Title: Bully Wants me To DRAW Her So I Did This!🤣\n",
      "Video ID: 4-QA_ski5PI\n",
      "Channel Name: Vrozix Playz\n",
      "Title: I Was REVERSE Trolled...\n",
      "Video ID: 0PD5R0oBBWE\n",
      "Channel Name: LovelyLo\n",
      "Title: PERFECT DESIGNS!! FULL BREAKDOWN FOR BUSTED DUAL DOKKANFEST GOKU & PICCOLO JR.! (DBZ: Dokkan Battle)\n",
      "Video ID: jYMG0qCX-tg\n",
      "Channel Name: DaTruthDT\n",
      "Title: Minecraft But DO NOT LAUGH...\n",
      "Video ID: 850YAYWmw3Q\n",
      "Channel Name: Cash\n",
      "Title: Funniest Clash Part 4 Injustice 2 😂 #shorts\n",
      "Video ID: _xRSCdxRDfY\n",
      "Channel Name: GamesUWant\n",
      "Title: Making Your Pokemon Fusions!\n",
      "Video ID: _TQ-KmkfnuM\n",
      "Channel Name: Vintendo\n",
      "Title: Rainbow Six Siege cheaters are something else...\n",
      "Video ID: ccSSzTcXFDM\n",
      "Channel Name: WILDCAT\n",
      "Title: The Funniest Memes I Could Find\n",
      "Video ID: cLQHGUCyEos\n",
      "Channel Name: dib\n"
     ]
    }
   ],
   "source": [
    "import requests\n",
    "\n",
    "url = \"https://youtube-trending.p.rapidapi.com/trending\"\n",
    "\n",
    "querystring = {\"country\":\"US\",\"type\":\"gaming\"}\n",
    "\n",
    "headers = {\n",
    "\t\"X-RapidAPI-Key\": \"5694933938msh188e06a83fae341p1ddb1djsn42cb5a17f935\",\n",
    "\t\"X-RapidAPI-Host\": \"youtube-trending.p.rapidapi.com\"\n",
    "}\n",
    "\n",
    "response = requests.request(\"GET\", url, headers=headers, params=querystring)\n",
    "\n",
    "\n",
    "print(response.text)\n",
    "variable = response.json()\n",
    "\n",
    "#print(response.text)\n",
    "#print(variable)\n",
    "\n",
    "def printdata(data):\n",
    "\tprint(\"Title: \" + data['title'])\n",
    "\tprint(\"Video ID: \" + data['videoId'])\n",
    "\tprint(\"Channel Name: \" + data['channelName'])\n",
    "def recursive(i):\n",
    "\tif i < len(variable):\n",
    "\t\trecord = variable[i]\n",
    "\t\tprintdata(record)\n",
    "\t\trecursive(i + 1)\n",
    "\n",
    "recursive(0)\n"
   ]
  }
 ],
 "metadata": {
  "kernelspec": {
   "display_name": "base",
   "language": "python",
   "name": "python3"
  },
  "language_info": {
   "codemirror_mode": {
    "name": "ipython",
    "version": 3
   },
   "file_extension": ".py",
   "mimetype": "text/x-python",
   "name": "python",
   "nbconvert_exporter": "python",
   "pygments_lexer": "ipython3",
   "version": "3.9.12"
  },
  "orig_nbformat": 4
 },
 "nbformat": 4,
 "nbformat_minor": 2
}
