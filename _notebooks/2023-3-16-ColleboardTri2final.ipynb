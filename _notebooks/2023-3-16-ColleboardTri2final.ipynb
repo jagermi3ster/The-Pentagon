{
 "cells": [
  {
   "attachments": {},
   "cell_type": "markdown",
   "metadata": {},
   "source": [
    "#  Collegeboard Tri 2 Final\n",
    "- toc: true\n",
    "- image: /images/python.png\n",
    "- categories: []\n",
    "- type: ap\n",
    "- week: 25"
   ]
  },
  {
   "attachments": {},
   "cell_type": "markdown",
   "metadata": {},
   "source": [
    "---\n",
    "toc: true\n",
    "layout: post\n",
    "description: A minimal example of using markdown with fastpages.\n",
    "categories: [markdown]\n",
    "title: Collegeboard Tri 2 Final\n",
    "---\n",
    "\n",
    "**SCORE**\n",
    "\n",
    "![Alt text](../images/2650.png)\n",
    "\n",
    "I got a 41/50 on the final tri 2 test on collegeboard. I think this is pretty decent for myself but I got help from my friends and had to search up multiple problems from the internet. \n",
    "\n",
    "![Alt text](../images/q2.png)\n",
    "\n",
    "I got this question wrong because I didn't realize that cookies could track the users information and store information that they use.\n",
    "\n",
    "This question is trying to teach you that a lot of information on the internet can show your valuable data.\n",
    "![Alt text](../images/q19.png)\n",
    "\n",
    "This question is trying to show how different inputs can show different lists. I got this one wrong because I thought it went in list one and not the result list.\n",
    "\n",
    "\n",
    "\n"
   ]
  }
 ],
 "metadata": {
  "language_info": {
   "name": "python"
  },
  "orig_nbformat": 4
 },
 "nbformat": 4,
 "nbformat_minor": 2
}
