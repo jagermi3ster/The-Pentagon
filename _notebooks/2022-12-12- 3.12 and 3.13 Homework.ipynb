{
 "cells": [
  {
   "cell_type": "markdown",
   "metadata": {},
   "source": [
    "# \"3.12 and 3.13 Homework\"\n",
    "> \"Bell Schedule\"\n",
    "\n",
    "- toc: true\n",
    "- branch: master\n",
    "- badges: true\n",
    "- comments: true\n",
    "- author: Jagger Klein\n",
    "- categories: [fastpages, jupyter]"
   ]
  },
  {
   "cell_type": "code",
   "execution_count": 12,
   "metadata": {},
   "outputs": [],
   "source": [
    "def bell_schedule(period):\n",
    "    if period == 1:\n",
    "        print(\"Period 1: 8:35 AM - 9:44 AM\")\n",
    "    elif period == 2:\n",
    "        print(\"Period 2: 9:49 AM - 10:58 AM\")\n",
    "    elif period == 3:\n",
    "        print(\"Period 3: 11:13 AM - 12:22 AM\")\n",
    "    elif period == 4:\n",
    "        print(\"Period 4: 12:57 PM - 2:06 PM\")\n",
    "    elif period == 5:\n",
    "        print(\"Period 5: 2:36 PM - 3:45 PM\")\n",
    "    else:\n",
    "        print(\"Invalid period number\")\n",
    "\n",
    "\n",
    "        \n",
    "\n"
   ]
  },
  {
   "cell_type": "code",
   "execution_count": 13,
   "metadata": {},
   "outputs": [
    {
     "name": "stdout",
     "output_type": "stream",
     "text": [
      "Period 1: 8:00 AM - 9:00 AM\n"
     ]
    }
   ],
   "source": [
    "bell_schedule(1)\n"
   ]
  }
 ],
 "metadata": {
  "kernelspec": {
   "display_name": "Python 3.10.6 64-bit",
   "language": "python",
   "name": "python3"
  },
  "language_info": {
   "codemirror_mode": {
    "name": "ipython",
    "version": 3
   },
   "file_extension": ".py",
   "mimetype": "text/x-python",
   "name": "python",
   "nbconvert_exporter": "python",
   "pygments_lexer": "ipython3",
   "version": "3.10.6"
  },
  "orig_nbformat": 4,
  "vscode": {
   "interpreter": {
    "hash": "aee8b7b246df8f9039afb4144a1f6fd8d2ca17a180786b69acc140d282b71a49"
   }
  }
 },
 "nbformat": 4,
 "nbformat_minor": 2
}
