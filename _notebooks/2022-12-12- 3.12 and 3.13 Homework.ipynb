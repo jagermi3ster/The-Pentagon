{
 "cells": [
  {
   "cell_type": "markdown",
   "metadata": {},
   "source": [
    "# \"3.12 and 3.13 Homework\"\n",
    "> \"Bell Schedule\"\n",
    "\n",
    "- toc: true\n",
    "- branch: master\n",
    "- badges: true\n",
    "- comments: true\n",
    "- author: Jagger Klein\n",
    "- categories: [fastpages, jupyter]"
   ]
  },
  {
   "cell_type": "code",
   "execution_count": 19,
   "metadata": {},
   "outputs": [],
   "source": [
    "def bell_schedule(period):\n",
    "    if period == 1:\n",
    "        print(\"Period 1: 8:35 AM - 9:44 AM\")\n",
    "    elif period == 2:\n",
    "        print(\"Period 2: 9:49 AM - 10:58 AM\")\n",
    "    elif period == 3:\n",
    "        print(\"Period 3: 11:13 AM - 12:22 AM\")\n",
    "    elif period == 4:\n",
    "        print(\"Period 4: 12:57 PM - 2:06 PM\")\n",
    "    elif period == 5:\n",
    "        print(\"Period 5: 2:36 PM - 3:45 PM\")\n",
    "    else:\n",
    "        print(\"Invalid period number\")\n",
    "\n",
    "\n",
    "        \n",
    "\n"
   ]
  },
  {
   "cell_type": "code",
   "execution_count": 20,
   "metadata": {},
   "outputs": [
    {
     "name": "stdout",
     "output_type": "stream",
     "text": [
      "Period 2: 9:49 AM - 10:58 AM\n"
     ]
    }
   ],
   "source": [
    "bell_schedule(2)"
   ]
  },
  {
   "cell_type": "markdown",
   "metadata": {},
   "source": [
    "Calling Procedures\n",
    "Slide 1:\n",
    "\n",
    "A Procedure is a named group of programming instructions that may have parameters and return values.\n",
    "Procedures are referred to by different names, such as method or function, depending on the programing language.\n",
    "Parameters are input values of a procedure. Arguments specify the values of the parameters when procedure is called.\n",
    "A procedure call interrupts the sequential execution of statements causing the program to execute the statements within the procedure before continuing. One the last statement in the procedure (or a return statement) has executed, flow or control is returned to the point immediately following where the procedure was called.\n",
    "Slide 2:\n",
    "\n",
    "When calling procedures, it's important to take notice to whether it returns data, or a block of statements.\n",
    "If the procedure just returns a block of statements, you call the procedure by referring to the procedure name, and input the arguments.\n",
    "If the procedure returns some sort of data like a value or boolean, then you will assign that value to a variable\n",
    "Slide 3:\n",
    "\n",
    "Assume the Temperature outside is Fahrenheit.\n",
    "The procedure convertFahrenheit is intended to convert from Fahrenheit to Celsius.\n",
    "Convert the following psuedocode to python"
   ]
  },
  {
   "cell_type": "code",
   "execution_count": 15,
   "metadata": {},
   "outputs": [
    {
     "name": "stdout",
     "output_type": "stream",
     "text": [
      "-6.111111111111111\n"
     ]
    }
   ],
   "source": [
    "def convertFahrenheit(temp):\n",
    "    celcius = temp - 32 \n",
    "    celcius = celcius * 5/9\n",
    "    return celcius\n",
    "\n",
    "\n",
    "outsideTemp = input(\"Insert Temperature\")\n",
    "outsideTemp = (convertFahrenheit(int(outsideTemp))) \n",
    "print(outsideTemp)"
   ]
  },
  {
   "cell_type": "markdown",
   "metadata": {},
   "source": [
    "Developing Procedures\n",
    "Slide 8:\n",
    "\n",
    "Picking a descriptive name is important in case you revisit the code later on (separate words with capitals) There are 2 different types of procedures- ones that return a value and those that simply execute a block of statements Steps of developing procedure: picking a useful name, thinking of parameters (what data does the procedure need to know), making a flowchart or writing procedure in pseudocode, and actually developing the procedure.\n",
    "\n",
    "Slide 9:\n",
    "\n",
    "In this example, a teacher is writing a program that will replace the grade on a previous quiz if the new grade is better than the previous.\n",
    "\n",
    "What would be a good name for this procedure?\n",
    "What parameters do we need for this procedure?\n",
    "Try writing this procedure out in python based on the given pseudocode"
   ]
  },
  {
   "cell_type": "code",
   "execution_count": 16,
   "metadata": {},
   "outputs": [
    {
     "ename": "TypeError",
     "evalue": "'>' not supported between instances of 'function' and 'str'",
     "output_type": "error",
     "traceback": [
      "\u001b[0;31m---------------------------------------------------------------------------\u001b[0m",
      "\u001b[0;31mTypeError\u001b[0m                                 Traceback (most recent call last)",
      "\u001b[1;32m/Users/jaggerklein/vscode/TP/_notebooks/2022-12-12- 3.12 and 3.13 Homework.ipynb Cell 7\u001b[0m in \u001b[0;36m<cell line: 8>\u001b[0;34m()\u001b[0m\n\u001b[1;32m      <a href='vscode-notebook-cell:/Users/jaggerklein/vscode/TP/_notebooks/2022-12-12-%203.12%20and%203.13%20Homework.ipynb#X12sZmlsZQ%3D%3D?line=3'>4</a>\u001b[0m  \u001b[39mreturn\u001b[39;00m currentGrade\n\u001b[1;32m      <a href='vscode-notebook-cell:/Users/jaggerklein/vscode/TP/_notebooks/2022-12-12-%203.12%20and%203.13%20Homework.ipynb#X12sZmlsZQ%3D%3D?line=5'>6</a>\u001b[0m quizGrade \u001b[39m=\u001b[39m \u001b[39minput\u001b[39m(\u001b[39m\"\u001b[39m\u001b[39mWhat did you score?\u001b[39m\u001b[39m\"\u001b[39m)\n\u001b[0;32m----> <a href='vscode-notebook-cell:/Users/jaggerklein/vscode/TP/_notebooks/2022-12-12-%203.12%20and%203.13%20Homework.ipynb#X12sZmlsZQ%3D%3D?line=7'>8</a>\u001b[0m \u001b[39mif\u001b[39;00m currentGrade \u001b[39m>\u001b[39;49m quizGrade:\n\u001b[1;32m      <a href='vscode-notebook-cell:/Users/jaggerklein/vscode/TP/_notebooks/2022-12-12-%203.12%20and%203.13%20Homework.ipynb#X12sZmlsZQ%3D%3D?line=8'>9</a>\u001b[0m     quizGrade \u001b[39m=\u001b[39m (currentGrade(\u001b[39mint\u001b[39m(quizGrade)))\n\u001b[1;32m     <a href='vscode-notebook-cell:/Users/jaggerklein/vscode/TP/_notebooks/2022-12-12-%203.12%20and%203.13%20Homework.ipynb#X12sZmlsZQ%3D%3D?line=9'>10</a>\u001b[0m quizGrade \u001b[39m=\u001b[39m currentGrade\n",
      "\u001b[0;31mTypeError\u001b[0m: '>' not supported between instances of 'function' and 'str'"
     ]
    }
   ],
   "source": [
    "def currentGrade (currentPoints):# procedure goes here\n",
    " currentGrade = currentPoints / 40\n",
    " currentGrade = currentGrade * 100\n",
    " return currentGrade\n",
    "\n",
    "quizGrade = input(\"What did you score?\")\n",
    "\n",
    "if currentGrade > quizGrade:\n",
    "    quizGrade = (currentGrade(int(quizGrade)))\n",
    "quizGrade = currentGrade  "
   ]
  },
  {
   "cell_type": "markdown",
   "metadata": {},
   "source": [
    "Procedural Abstraction\n",
    "One type of abstraction is procedural abstraction which provides a name for a process and allows a procedure to be used only knowing what it does and not how it does it\n",
    "This is very helpful in managing complexity in a program\n",
    "Subdivision of a program into separate subprograms is called modularity\n",
    "A procedural abstraction may remove shared features to generalize functionality instead of duplicating code. This allows for program reuse, which helps manage complexity\n",
    "When a pre-written procedure is called, you don’t necessarily need to know the details of this, just what it does and how to call it\n",
    "Simply, procedural abstraction is naming and calling a prewritten procedure\n",
    "Making sure to include the right arguments so the procedure can do what its supposed to do is crucial\n",
    "Complexity Example\n",
    "One of the biggest advantages of procedural abstraction is managing complexity.\n",
    "\n",
    "Think about the process of simplifying the code? What do you think the advantage of the code segment on the left is?\n",
    "\n",
    "Code Segment 1\tCode Segment 2\n",
    "ROTATE_LEFT()\tdetourLeft()\n",
    "MOVE_FORWARD()|turnCorner()| ROTATE_RIGHT |MOVE_FORWARD()| MOVE_FORWARD()|MOVE_FORWARD()| MOVE_FORWARD() ROTATE_RIGHT() MOVE_FORWARD() ROTATE_LEFT() MOVE_FORWARD() ROTATE_LEFT() MOVE_FORWARD() MOVE_FORWARD MOVE_FORWARD()\n",
    "\n",
    "Hacks\n",
    "Write a python procedure about something which can help you in school, for example the teacher’s function we spoke about earlier.\n",
    "Points will be awarded based on creativity and functionality\n",
    "0.1 points will be deducted for late submissions"
   ]
  },
  {
   "cell_type": "markdown",
   "metadata": {},
   "source": [
    "Slide 8:\n",
    "\n",
    "Picking a descriptive name is important in case you revisit the code later on (separate words with capitals) There are 2 different types of procedures- ones that return a value and those that simply execute a block of statements Steps of developing procedure: picking a useful name, thinking of parameters (what data does the procedure need to know), making a flowchart or writing procedure in pseudocode, and actually developing the procedure.\n",
    "\n",
    "Slide 9:\n",
    "\n",
    "In this example, a teacher is writing a program that will replace the grade on a previous quiz if the new grade is better than the previous.\n",
    "\n",
    "What would be a good name for this procedure?\n",
    "What parameters do we need for this procedure?\n",
    "Try writing this procedure out in python based on the given pseudocode"
   ]
  }
 ],
 "metadata": {
  "kernelspec": {
   "display_name": "Python 3.10.6 64-bit",
   "language": "python",
   "name": "python3"
  },
  "language_info": {
   "codemirror_mode": {
    "name": "ipython",
    "version": 3
   },
   "file_extension": ".py",
   "mimetype": "text/x-python",
   "name": "python",
   "nbconvert_exporter": "python",
   "pygments_lexer": "ipython3",
   "version": "3.10.6"
  },
  "orig_nbformat": 4,
  "vscode": {
   "interpreter": {
    "hash": "aee8b7b246df8f9039afb4144a1f6fd8d2ca17a180786b69acc140d282b71a49"
   }
  }
 },
 "nbformat": 4,
 "nbformat_minor": 2
}
