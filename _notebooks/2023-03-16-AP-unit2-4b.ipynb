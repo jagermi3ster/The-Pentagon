{
 "cells": [
  {
   "attachments": {},
   "cell_type": "markdown",
   "metadata": {},
   "source": [
    "#  Unit 2.4b Using Programs with Data, SQL\n",
    "> Using Programs with Data is focused on SQL and database actions.  Part B focuses on learning SQL commands, connections, and curses using an Imperative programming style,\n",
    "- toc: true\n",
    "- image: /images/python.png\n",
    "- categories: []\n",
    "- type: ap\n",
    "- week: 26"
   ]
  },
  {
   "attachments": {},
   "cell_type": "markdown",
   "metadata": {},
   "source": [
    "# Database Programming is Program with Data\n",
    "> Each Tri 2 Final Project should be an example of a Program with Data. \n",
    "\n",
    ">  Prepare to use SQLite in common Imperative Technique\n",
    "- Explore [SQLite Connect object](https://www.tutorialspoint.com/python_data_access/python_sqlite_establishing_connection.htm) to establish database connection\n",
    "- Explore [SQLite Cursor Object](https://www.tutorialspoint.com/python_data_access/python_sqlite_cursor_object.htm) to fetch data from a table within a database\n"
   ]
  },
  {
   "attachments": {},
   "cell_type": "markdown",
   "metadata": {},
   "source": [
    "## Schema of Users table in Sqlite.db\n",
    "> Uses PRAGMA statement to read schema.\n",
    "\n",
    "Describe Schema, here is resource [Resource](https://www.sqlite.org/index.html)\n",
    "What is a database schema? A database schema defines the structure of a database, including the tables, columns, relationships, constraints, and other objects that make up the database. It specifies how the data is organized in the database.\n",
    "\n",
    "What is the purpose of identity Column in SQL database? An identity column is a column in a SQL database that automatically generates a unique value for each new row that is added to a table. It is commonly used as a primary key for the table and helps to ensure that each row in the table has a unique identifier.\n",
    "\n",
    "What is the purpose of a primary key in SQL database? A primary key is a column or set of columns in a SQL database that uniquely identifies each row in a table. It is used to enforce data integrity, ensure that each row in the table is unique, and to help optimize database performance.\n",
    "\n",
    "What are the Data Types in SQL table? Data types in SQL tables define the type of data that can be stored in each column of a table. Common data types include integers, strings, dates, booleans, and floating point numbers, as well as more specialized types such as binary data, XML data, and spatial data. Different database management systems may support different sets of data types.\n",
    "\n",
    "\n",
    "\n",
    "\n"
   ]
  },
  {
   "cell_type": "code",
   "execution_count": 1,
   "metadata": {},
   "outputs": [
    {
     "name": "stdout",
     "output_type": "stream",
     "text": [
      "(0, 'id', 'INTEGER', 1, None, 1)\n",
      "(1, '_name', 'VARCHAR(255)', 1, None, 0)\n",
      "(2, '_uid', 'VARCHAR(255)', 1, None, 0)\n",
      "(3, '_password', 'VARCHAR(255)', 1, None, 0)\n",
      "(4, '_dob', 'DATE', 0, None, 0)\n"
     ]
    }
   ],
   "source": [
    "import sqlite3\n",
    "\n",
    "database = 'instance/sqlite.db' # this is location of database\n",
    "\n",
    "def schema():\n",
    "    \n",
    "    # Connect to the database file\n",
    "    conn = sqlite3.connect(database)\n",
    "\n",
    "    # Create a cursor object to execute SQL queries\n",
    "    cursor = conn.cursor()\n",
    "    \n",
    "    # Fetch results of Schema\n",
    "    results = cursor.execute(\"PRAGMA table_info('users')\").fetchall()\n",
    "\n",
    "    # Print the results\n",
    "    for row in results:\n",
    "        print(row)\n",
    "\n",
    "    # Close the database connection\n",
    "    conn.close()\n",
    "    \n",
    "schema()\n"
   ]
  },
  {
   "attachments": {},
   "cell_type": "markdown",
   "metadata": {},
   "source": [
    "## Reading Users table in Sqlite.db\n",
    "> Uses SQL SELECT statement to read data\n",
    "\n",
    "- What is a connection object?  After you google it, what do you think it does?-**A connection object is used to establish a connection with a database, authenticate the user, and provide a way to interact with the database.**\n",
    "\n",
    "- Same for cursor object?-**A cursor object is used to fetch data from the database, execute SQL statements, and manage transactions.**\n",
    "\n",
    "\n",
    "- Look at conn object and cursor object in VSCode debugger.  What attributes are in the object?-The attributes in the connection and cursor objects depend on the specific database library being used, and can include details such as the server address, username, password, database name, and port number.- **The attributes in the connection and cursor objects depend on the specific database library being used, and can include details such as the server address, username, password, database name, and port number.**\n",
    "\n",
    "- Is \"results\" an object?  How do you know?\n",
    "**It's impossible to say for sure whether \"results\" is an object without more context, but it's possible that it could refer to an object that holds the results of a database query.**\n",
    "\n"
   ]
  },
  {
   "cell_type": "code",
   "execution_count": 5,
   "metadata": {},
   "outputs": [
    {
     "name": "stdout",
     "output_type": "stream",
     "text": [
      "(1, 'Thomas Edison', 'toby', 'sha256$fbdDZ2Cn0E9d1r2P$8fc0cae8e51b0d33c0bc893ab7efcfafa30896e5a28713385e8898a327aa4d2d', '1847-02-11')\n",
      "(2, 'Nikola Tesla', 'niko', 'sha256$HdrGTjSDKzlukDIK$5cd17e3cbdedfbe589b8b0a4c1cc82bc87e53925d74f22d87b9142a945db6574', '2023-03-15')\n",
      "(3, 'Alexander Graham Bell', 'lex', 'sha256$Uij5w6Zxtud7jgp0$52c4beba02c7f75a88f73147d9dc74edcdd811cd2127a970f8053e2944627378', '2023-03-15')\n",
      "(4, 'Eli Whitney', 'whit', 'sha256$LzvP4WFummtJnwUM$897d8d864d191271524410dbcb7e8a82170848bfb52d166b5a9b39d0e04825e2', '2023-03-15')\n",
      "(5, 'Indiana Jones', 'indi', 'sha256$d9pB1JiVDAk9H0RK$f67bd0a83bb24d6229fcd0d3ecc298a93f23c810528ee4c4e04adfba4d000fea', '1920-10-21')\n",
      "(6, 'Marion Ravenwood', 'raven', 'sha256$b5WKICIleK8U5cpn$28c993e9bc13dc3beda004dd0477f28ddf529f9d9652d67655f6880151e25a51', '1921-10-21')\n"
     ]
    }
   ],
   "source": [
    "import sqlite3\n",
    "\n",
    "def read():\n",
    "    # Connect to the database file\n",
    "    conn = sqlite3.connect(database)\n",
    "\n",
    "    # Create a cursor object to execute SQL queries\n",
    "    cursor = conn.cursor()\n",
    "    \n",
    "    # Execute a SELECT statement to retrieve data from a table\n",
    "    results = cursor.execute('SELECT * FROM users').fetchall()\n",
    "\n",
    "    # Print the results\n",
    "    if len(results) == 0:\n",
    "        print(\"Table is empty\")\n",
    "    else:\n",
    "        for row in results:\n",
    "            print(row)\n",
    "\n",
    "    # Close the cursor and connection objects\n",
    "    cursor.close()\n",
    "    conn.close()\n",
    "    \n",
    "read()\n"
   ]
  },
  {
   "attachments": {},
   "cell_type": "markdown",
   "metadata": {},
   "source": [
    "## Create a new User in table in Sqlite.db\n",
    "> Uses SQL INSERT to add row\n",
    "-  Compore create() in both SQL lessons.  What is better or worse in the two implementations?\n",
    "**The create() method is used to insert new data into a database table in both SQL lessons. In the first lesson, the create() method uses string formatting to generate an SQL INSERT statement, while the second lesson uses parameterized queries. Both implementations have their pros and cons, with the second implementation being more secure against SQL injection attacks.**\n",
    "-  Explain purpose of SQL INSERT.   Is this the same as User __init__?\n",
    "**The purpose of SQL INSERT is to add new data to a database table. It is similar in purpose to the __init__ method in Python's User class, which is used to initialize a new instance of the class with data. However, the SQL INSERT statement operates directly on the database table, while the __init__ method operates on a Python object in memory.**\n",
    "\n",
    "\n",
    "\n",
    "\n",
    "\n",
    "\n",
    "\n"
   ]
  },
  {
   "cell_type": "code",
   "execution_count": 7,
   "metadata": {},
   "outputs": [
    {
     "name": "stdout",
     "output_type": "stream",
     "text": [
      "A new user record jagman has been created\n"
     ]
    }
   ],
   "source": [
    "import sqlite3\n",
    "\n",
    "def create():\n",
    "    name = input(\"Enter your name:\")\n",
    "    uid = input(\"Enter your user id:\")\n",
    "    password = input(\"Enter your password\")\n",
    "    dob = input(\"Enter your date of birth 'YYYY-MM-DD'\")\n",
    "    \n",
    "    # Connect to the database file\n",
    "    conn = sqlite3.connect(database)\n",
    "\n",
    "    # Create a cursor object to execute SQL commands\n",
    "    cursor = conn.cursor()\n",
    "\n",
    "    try:\n",
    "        # Execute an SQL command to insert data into a table\n",
    "        cursor.execute(\"INSERT INTO users (_name, _uid, _password, _dob) VALUES (?, ?, ?, ?)\", (name, uid, password, dob))\n",
    "        \n",
    "        # Commit the changes to the database\n",
    "        conn.commit()\n",
    "        print(f\"A new user record {uid} has been created\")\n",
    "                \n",
    "    except sqlite3.Error as error:\n",
    "        print(\"Error while executing the INSERT:\", error)\n",
    "\n",
    "\n",
    "    # Close the cursor and connection objects\n",
    "    cursor.close()\n",
    "    conn.close()\n",
    "    \n",
    "create()"
   ]
  },
  {
   "attachments": {},
   "cell_type": "markdown",
   "metadata": {},
   "source": [
    "## Updating a User in table in Sqlite.db\n",
    "> Uses SQL UPDATE to modify password\n",
    "- What does the hacked part do?\n",
    "**The code is updating a user's password in an SQLite database by using an SQL UPDATE statement. The \"hacked\" part of the code is a simulated attack that tries to inject a SQL command into the password field. This is done to demonstrate the**\n",
    "- Explain try/except, when would except occur?\n",
    "**The try/except block is used to handle exceptions that may occur during the execution of the code. If an exception occurs within the try block, the code in the except block is executed. In this case, the except block is used to handle any exceptions related to the SQLite database, such as errors related to opening or closing the database connection.**\n",
    "-What code seems to be repeated in each of these examples to point, why is it repeated?\n",
    "**The code that is repeated in each of the examples is the code to establish a connection to the SQLite database and create a cursor object to execute SQL commands. This code is repeated because it is necessary to establish a connection and cursor object in order to interact with the database.**"
   ]
  },
  {
   "cell_type": "code",
   "execution_count": null,
   "metadata": {},
   "outputs": [],
   "source": [
    "import sqlite3\n",
    "\n",
    "def update():\n",
    "    uid = input(\"Enter user id to update\")\n",
    "    password = input(\"Enter updated password\")\n",
    "    if len(password) < 2:\n",
    "        message = \"hacked\"\n",
    "        password = 'gothackednewpassword123'\n",
    "    else:\n",
    "        message = \"successfully updated\"\n",
    "\n",
    "    # Connect to the database file\n",
    "    conn = sqlite3.connect(database)\n",
    "\n",
    "    # Create a cursor object to execute SQL commands\n",
    "    cursor = conn.cursor()\n",
    "\n",
    "    try:\n",
    "        # Execute an SQL command to update data in a table\n",
    "        cursor.execute(\"UPDATE users SET _password = ? WHERE _uid = ?\", (password, uid))\n",
    "        if cursor.rowcount == 0:\n",
    "            # The uid was not found in the table\n",
    "            print(f\"No uid {uid} was not found in the table\")\n",
    "        else:\n",
    "            print(f\"The row with user id {uid} the password has been {message}\")\n",
    "            conn.commit()\n",
    "    except sqlite3.Error as error:\n",
    "        print(\"Error while executing the UPDATE:\", error)\n",
    "        \n",
    "    \n",
    "    # Close the cursor and connection objects\n",
    "    cursor.close()\n",
    "    conn.close()\n",
    "    \n",
    "#update()\n"
   ]
  },
  {
   "attachments": {},
   "cell_type": "markdown",
   "metadata": {},
   "source": [
    "## Delete a User in table in Sqlite.db\n",
    "> Uses a delete function to remove a user based on a user input of the id.\n",
    "\n",
    "- Is DELETE a dangerous operation?  Why?\n",
    "**Deleting a user in an SQLite database involves using a DELETE statement to remove a row from the table based on the user ID. The delete_user function takes the user ID as an input parameter and executes the DELETE statement using a cursor object.**\n",
    "- In the print statemements, what is the \"f\" and what does {uid} do?\n",
    "**The \"f\" in the print statement is used to indicate an f-string, which is a Python 3.6+ feature that allows for string interpolation using curly braces {}. In this case, {uid} is an f-string expression that evaluates to the value of the uid variable, which is passed into the function as an argument. This allows the function to print the ID of the user that was deleted.**"
   ]
  },
  {
   "cell_type": "code",
   "execution_count": null,
   "metadata": {},
   "outputs": [],
   "source": [
    "import sqlite3\n",
    "\n",
    "def delete():\n",
    "    uid = input(\"Enter user id to delete\")\n",
    "\n",
    "    # Connect to the database file\n",
    "    conn = sqlite3.connect(database)\n",
    "\n",
    "    # Create a cursor object to execute SQL commands\n",
    "    cursor = conn.cursor()\n",
    "    \n",
    "    try:\n",
    "        cursor.execute(\"DELETE FROM users WHERE _uid = ?\", (uid,))\n",
    "        if cursor.rowcount == 0:\n",
    "            # The uid was not found in the table\n",
    "            print(f\"No uid {uid} was not found in the table\")\n",
    "        else:\n",
    "            # The uid was found in the table and the row was deleted\n",
    "            print(f\"The row with uid {uid} was successfully deleted\")\n",
    "        conn.commit()\n",
    "    except sqlite3.Error as error:\n",
    "        print(\"Error while executing the DELETE:\", error)\n",
    "        \n",
    "    # Close the cursor and connection objects\n",
    "    cursor.close()\n",
    "    conn.close()\n",
    "    \n",
    "#delete()"
   ]
  },
  {
   "attachments": {},
   "cell_type": "markdown",
   "metadata": {},
   "source": [
    "# Menu Interface to CRUD operations\n",
    "> CRUD and Schema interactions from one location by running menu. Observe input at the top of VSCode, observe output underneath code cell.\n",
    "- Why does the menu repeat?\n",
    "**The menu repeats because it is implemented within a while loop, which continues running until the user enters \"q\" to quit. This allows the user to perform multiple operations without having to restart the program.**\n",
    "- Could you refactor this menu?  Make it work with a List?\n",
    "**Yes, it would be possible to refactor this menu to work with a list of menu options instead of individual variables for each option. This could make the code more concise and easier to modify in the future. One possible implementation would be to use a list of tuples, where each tuple contains the menu option number and a string description of the option. The user input could then be used to index into the list to retrieve the corresponding option.**"
   ]
  },
  {
   "cell_type": "code",
   "execution_count": 10,
   "metadata": {},
   "outputs": [
    {
     "name": "stdout",
     "output_type": "stream",
     "text": [
      "(1, 'Thomas Edison', 'toby', 'sha256$fbdDZ2Cn0E9d1r2P$8fc0cae8e51b0d33c0bc893ab7efcfafa30896e5a28713385e8898a327aa4d2d', '1847-02-11')\n",
      "(2, 'Nikola Tesla', 'niko', 'sha256$HdrGTjSDKzlukDIK$5cd17e3cbdedfbe589b8b0a4c1cc82bc87e53925d74f22d87b9142a945db6574', '2023-03-15')\n",
      "(3, 'Alexander Graham Bell', 'lex', 'sha256$Uij5w6Zxtud7jgp0$52c4beba02c7f75a88f73147d9dc74edcdd811cd2127a970f8053e2944627378', '2023-03-15')\n",
      "(4, 'Eli Whitney', 'whit', 'sha256$LzvP4WFummtJnwUM$897d8d864d191271524410dbcb7e8a82170848bfb52d166b5a9b39d0e04825e2', '2023-03-15')\n",
      "(5, 'Indiana Jones', 'indi', 'sha256$d9pB1JiVDAk9H0RK$f67bd0a83bb24d6229fcd0d3ecc298a93f23c810528ee4c4e04adfba4d000fea', '1920-10-21')\n",
      "(6, 'Marion Ravenwood', 'raven', 'sha256$b5WKICIleK8U5cpn$28c993e9bc13dc3beda004dd0477f28ddf529f9d9652d67655f6880151e25a51', '1921-10-21')\n",
      "(7, 'Jagman', 'jag', 'dasf', '2003-11')\n",
      "(8, 'Jagger', 'jagman', '12345', '2004-09-18')\n",
      "(9, 'jagger', 'gg', 'as', '200-1-1')\n"
     ]
    }
   ],
   "source": [
    "# Menu, to run other cells from one control point\n",
    "def menu():\n",
    "    operation = input(\"Enter: (C)reate (R)ead (U)pdate or (D)elete or (S)chema\")\n",
    "    if operation.lower() == 'c':\n",
    "        create()\n",
    "    elif operation.lower() == 'r':\n",
    "        read()\n",
    "    elif operation.lower() == 'u':\n",
    "        update()\n",
    "    elif operation.lower() == 'd':\n",
    "        delete()\n",
    "    elif operation.lower() == 's':\n",
    "        schema()\n",
    "    elif len(operation)==0: # Escape Key\n",
    "        return\n",
    "    else:\n",
    "        print(\"Please enter c, r, u, or d\") \n",
    "    menu() # recursion, repeat menu\n",
    "        \n",
    "try:\n",
    "    menu() # start menu\n",
    "except:\n",
    "    print(\"Perform Jupyter 'Run All' prior to starting menu\")\n"
   ]
  },
  {
   "attachments": {},
   "cell_type": "markdown",
   "metadata": {},
   "source": [
    "# Hacks\n",
    "- Add this Blog to you own Blogging site.  In the Blog add notes and observations on each code cell.\n",
    "- In this implementation, do you see procedural abstraction?\n",
    "- In 2.4a or 2.4b lecture\n",
    "    - Do you see data abstraction?  Complement this with Debugging example.\n",
    "    - Use Imperative or OOP style to Create a new Table or do something that applies to your CPT project.\n",
    "    \n",
    "\n",
    "Reference... [sqlite documentation](https://www.sqlitetutorial.net/sqlite-python/creating-tables/)\n"
   ]
  },
  {
   "cell_type": "code",
   "execution_count": 3,
   "metadata": {},
   "outputs": [],
   "source": [
    "import yfinance as yf\n",
    "import matplotlib.pyplot as plt\n",
    "\n",
    "def create_watchlist_with_graph(stocks, period=\"1mo\"):\n",
    "    \"\"\"\n",
    "    Creates a watchlist of stocks, checks their daily performance, and displays a graph of historical data.\n",
    "    \n",
    "    Args:\n",
    "        stocks (list): A list of stock symbols (e.g., [\"AAPL\", \"MSFT\", \"GOOGL\"]).\n",
    "        period (str): The time period for which to fetch historical data (default: \"1mo\").\n",
    "    \"\"\"\n",
    "    watchlist_data = {}\n",
    "    \n",
    "    # Fetch historical data for each stock in the watchlist\n",
    "    for stock_symbol in stocks:\n",
    "        stock = yf.Ticker(stock_symbol)\n",
    "        stock_data = stock.history(period=period)\n",
    "        \n",
    "        # Get the closing prices\n",
    "        close_prices = stock_data[\"Close\"]\n",
    "        \n",
    "        # Add the stock and its closing prices to the watchlist dictionary\n",
    "        watchlist_data[stock_symbol] = close_prices\n",
    "    \n",
    "    # Print the watchlist\n",
    "    print(\"---- Watchlist ----\")\n",
    "    for stock_symbol, close_prices in watchlist_data.items():\n",
    "        print(f\"{stock_symbol}: {close_prices.iloc[-1]}\")\n",
    "        \n",
    "        # Plot the historical data\n",
    "        plt.figure()\n",
    "        plt.plot(close_prices)\n",
    "        plt.xlabel(\"Date\")\n",
    "        plt.ylabel(\"Closing Price\")\n",
    "        plt.title(f\"{stock_symbol} Historical Data ({period})\")\n",
    "        plt.grid(True)\n",
    "        plt.show()\n"
   ]
  },
  {
   "cell_type": "code",
   "execution_count": 4,
   "metadata": {},
   "outputs": [],
   "source": [
    "import yfinance as yf\n",
    "import matplotlib.pyplot as plt\n",
    "\n",
    "def create_watchlist_with_graph(stocks, period=\"1mo\"):\n",
    "    \"\"\"\n",
    "    Creates a watchlist of stocks, checks their daily performance, and displays a graph of historical data.\n",
    "    \n",
    "    Args:\n",
    "        stocks (list): A list of stock symbols (e.g., [\"AAPL\", \"MSFT\", \"GOOGL\"]).\n",
    "        period (str): The time period for which to fetch historical data (default: \"1mo\").\n",
    "    \"\"\"\n",
    "    watchlist_data = {}\n",
    "    \n",
    "    # Fetch historical data for each stock in the watchlist\n",
    "    for stock_symbol in stocks:\n",
    "        stock = yf.Ticker(stock_symbol)\n",
    "        stock_data = stock.history(period=period)\n",
    "        \n",
    "        # Get the closing prices\n",
    "        close_prices = stock_data[\"Close\"]\n",
    "        \n",
    "        # Add the stock and its closing prices to the watchlist dictionary\n",
    "        watchlist_data[stock_symbol] = close_prices\n",
    "    \n",
    "    # Print the watchlist\n",
    "    print(\"---- Watchlist ----\")\n",
    "    for stock_symbol, close_prices in watchlist_data.items():\n",
    "        print(f\"{stock_symbol}: {close_prices.iloc[-1]}\")\n",
    "        \n",
    "        # Plot the historical data\n",
    "        plt.plot(close_prices)\n",
    "        plt.xlabel(\"Date\")\n",
    "        plt.ylabel(\"Closing Price\")\n",
    "        plt.title(f\"{stock_symbol} Historical Data ({period})\")\n",
    "        plt.grid(True)\n",
    "        plt.show()\n"
   ]
  },
  {
   "cell_type": "code",
   "execution_count": 5,
   "metadata": {},
   "outputs": [
    {
     "name": "stdout",
     "output_type": "stream",
     "text": [
      "---- Watchlist ----\n",
      "AAPL: 172.2050018310547\n"
     ]
    },
    {
     "data": {
      "image/png": "[encoded data removed]",
      "text/plain": [
       "<Figure size 432x288 with 1 Axes>"
      ]
     },
     "metadata": {
      "needs_background": "light"
     },
     "output_type": "display_data"
    },
    {
     "name": "stdout",
     "output_type": "stream",
     "text": [
      "MSFT: 312.67999267578125\n"
     ]
    },
    {
     "data": {
      "image/png": "[encoded data removed]",
      "text/plain": [
       "<Figure size 432x288 with 1 Axes>"
      ]
     },
     "metadata": {
      "needs_background": "light"
     },
     "output_type": "display_data"
    },
    {
     "name": "stdout",
     "output_type": "stream",
     "text": [
      "GOOGL: 120.09989929199219\n"
     ]
    },
    {
     "data": {
      "image/png": "[encoded data removed]",
      "text/plain": [
       "<Figure size 432x288 with 1 Axes>"
      ]
     },
     "metadata": {
      "needs_background": "light"
     },
     "output_type": "display_data"
    }
   ],
   "source": [
    "# Example usage\n",
    "watchlist = [\"AAPL\", \"MSFT\", \"GOOGL\"]\n",
    "\n",
    "create_watchlist_with_graph(watchlist, period=\"1mo\")\n"
   ]
  }
 ],
 "metadata": {
  "kernelspec": {
   "display_name": "Python 3.9.12 ('base')",
   "language": "python",
   "name": "python3"
  },
  "language_info": {
   "codemirror_mode": {
    "name": "ipython",
    "version": 3
   },
   "file_extension": ".py",
   "mimetype": "text/x-python",
   "name": "python",
   "nbconvert_exporter": "python",
   "pygments_lexer": "ipython3",
   "version": "3.9.12"
  },
  "orig_nbformat": 4,
  "vscode": {
   "interpreter": {
    "hash": "29d5351f17f1eb7d37a852b56d4fe88d14b1b35632819b26060ee09bc47001e3"
   }
  }
 },
 "nbformat": 4,
 "nbformat_minor": 2
}
