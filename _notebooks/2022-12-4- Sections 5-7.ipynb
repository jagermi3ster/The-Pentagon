{
 "cells": [
  {
   "cell_type": "markdown",
   "metadata": {},
   "source": [
    "# \"Boolean Expressions\"\n",
    "> \"Sections 5-7\"\n",
    "- toc: true\n",
    "- branch: master\n",
    "- badges: true\n",
    "- comments: true\n",
    "- author: Jagger Klein\n",
    "- categories: [fastpages, jupyter]"
   ]
  },
  {
   "cell_type": "markdown",
   "metadata": {},
   "source": [
    "## What is a boolean?\n",
    "\n",
    "-A data type with two possible values: true or false\n",
    "Boolean and Binary\n",
    "So similar yet so different.\n",
    "\n",
    "-Boolean math and binary notation both use the same two ciphers: 1 and 0.\n",
    "\n",
    "However, please note that Boolean quantities are restricted to a singlular bit (can only be either 1, or 0)\n",
    "\n",
    "On the otherhand, binary numbers may be composed of many bits adding up in place-weighted form to any finite value, or size"
   ]
  },
  {
   "cell_type": "markdown",
   "metadata": {},
   "source": [
    "## Relational Operators in action\n",
    "\n",
    "How could you use operators to determine if the average of 5 grades is greater than 80?\n",
    "\n",
    "With the grades below, use a boolean expression to determine if the average grade is above an 80 and print the result (True or False)\n",
    "\n",
    "Try it in as few steps as possible!\n",
    "Be creative! There are obviously TONS of different practical solution"
   ]
  },
  {
   "cell_type": "code",
   "execution_count": 4,
   "metadata": {
    "vscode": {
     "languageId": "javascript"
    }
   },
   "outputs": [
    {
     "name": "stdout",
     "output_type": "stream",
     "text": [
      "false\n"
     ]
    }
   ],
   "source": [
    "grade1 = 90\n",
    "grade2 = 65\n",
    "grade3 = 60\n",
    "grade4 = 75\n",
    "grade5 = 95\n",
    "\n",
    "grades = grade1 + grade2 + grade3 + grade4 + grade5 \n",
    "\n",
    "average = grades % 5\n",
    "\n",
    "average > 80\n",
    "\n",
    "if average == 0:\n",
    "    print(\"false\")   \n",
    "else: \n",
    "    print(\"true\")"
   ]
  },
  {
   "cell_type": "markdown",
   "metadata": {},
   "source": [
    "## Conditionals\n",
    "Focusing on Selection\n",
    "Selection: uses a condition that evaluates to true or false\n",
    "\n",
    "Selection determines which part of an algorithm are executed based on a condition being true or false\n",
    "\n",
    "Algorithm is a finite set of instructions that accomplish a specific task\n",
    "\n",
    "Conditional Statements\n",
    "Also known as \"if statements\"\n",
    "\n",
    "Can be seen as if statements or if blocks\n",
    "\n",
    "Can also be seen as if else statements or if else-blocks"
   ]
  },
  {
   "cell_type": "code",
   "execution_count": 5,
   "metadata": {
    "vscode": {
     "languageId": "javascript"
    }
   },
   "outputs": [
    {
     "name": "stdout",
     "output_type": "stream",
     "text": [
      "x is greater than y\n"
     ]
    }
   ],
   "source": [
    "x = 20\n",
    "y = 10\n",
    "if x > y:\n",
    "    print(\"x is greater than y\")"
   ]
  },
  {
   "cell_type": "code",
   "execution_count": 6,
   "metadata": {
    "vscode": {
     "languageId": "javascript"
    }
   },
   "outputs": [
    {
     "name": "stdout",
     "output_type": "stream",
     "text": [
      "x is greater than y\n"
     ]
    }
   ],
   "source": [
    "x = 20\n",
    "y = 10\n",
    "if x > y:\n",
    "    print(\"x is greater than y\")\n",
    "else:\n",
    "    print(\"x is not greater than y\")"
   ]
  },
  {
   "cell_type": "markdown",
   "metadata": {},
   "source": [
    "# Participation\n",
    "\n",
    "-Calculate the total sum of two numbers, if it is equal to 200, print 200, if otherwise, print the sum."
   ]
  },
  {
   "cell_type": "code",
   "execution_count": 7,
   "metadata": {
    "vscode": {
     "languageId": "javascript"
    }
   },
   "outputs": [
    {
     "name": "stdout",
     "output_type": "stream",
     "text": [
      "500You don't need a condtional for this\n"
     ]
    }
   ],
   "source": [
    "num1 = 200\n",
    "num2 = 300\n",
    "sum = num1 + num2\n",
    "\n",
    "print(str(sum) + \"You don't need a condtional for this\" )"
   ]
  },
  {
   "cell_type": "code",
   "execution_count": 2,
   "metadata": {
    "vscode": {
     "languageId": "javascript"
    }
   },
   "outputs": [
    {
     "name": "stdout",
     "output_type": "stream",
     "text": [
      "This person has...\n",
      "Salary: 150k\n",
      "Experience: true\n"
     ]
    }
   ],
   "source": [
    "var hrs = 10\n",
    "var salary = \"\"\n",
    "var experienced = true\n",
    "\n",
    "if (hrs >= 10) {\n",
    "    salary = \"150k\"\n",
    "}\n",
    "else if (hrs >= 8) {\n",
    "    salary = \"90k\"\n",
    "}\n",
    "else {\n",
    "    salary = \"50k\"\n",
    "    experienced = false\n",
    "}\n",
    "console.log(\"This person has...\\n\" + \"Salary: \" + salary + \"\\n\" + \"Experience: \" + experienced)"
   ]
  },
  {
   "cell_type": "code",
   "execution_count": 5,
   "metadata": {
    "vscode": {
     "languageId": "javascript"
    }
   },
   "outputs": [
    {
     "name": "stdout",
     "output_type": "stream",
     "text": [
      " This product is cheap\n"
     ]
    }
   ],
   "source": [
    "product = {\"expired\":false, \"cost\":10}\n",
    "\n",
    "if (product[\"expired\"] == true) {\n",
    "    console.log(\"This product is no good\")\n",
    "}\n",
    "else {\n",
    "    if (product[\"cost\"] > 50) {\n",
    "        console.log(\"This product is too really expensive!\")\n",
    "    }\n",
    "    else if (product[\"cost\"] > 25) {\n",
    "        console.log(\"This is a regular product\")\n",
    "    }\n",
    "    else {\n",
    "        console.log(\" This product is cheap\")\n",
    "    }\n",
    "}"
   ]
  },
  {
   "cell_type": "code",
   "execution_count": 3,
   "metadata": {},
   "outputs": [
    {
     "name": "stdout",
     "output_type": "stream",
     "text": [
      "This is the first question on the\n",
      " (t) True\n",
      " (f) False\n",
      "\n",
      "\n",
      "Your answer t matches the correct answer which was t\n",
      "What animal does bacon come from?\n",
      " (a) Pigs\n",
      " (b) Cows\n",
      " (c) Chicken\n",
      "\n",
      "\n",
      "Your answer a matches the correct answer which was a\n",
      "Did America get eliminated by the Netherlands\n",
      " (t) True\n",
      " (f) False\n",
      "\n",
      "\n",
      "Your answer t matches the correct answer which was t\n",
      "Was this test hard?\n",
      " (a) Yes extremely\n",
      " (b) No it was the easiest test of my life\n",
      " (c) I don't want to get this question right\n",
      "\n",
      "\n",
      "Your answer b matches the correct answer which was b\n",
      "You got 4 out of 4 points so you have passed this test.\n"
     ]
    }
   ],
   "source": [
    "class question:\n",
    "    def __init__(self, base, answer):\n",
    "        self.base = base\n",
    "        self.answer = answer\n",
    "\n",
    "\n",
    "Questions = [\n",
    "    \"This is the first question on the\\n (t) True\\n (f) False\\n\",\n",
    "    \"What animal does bacon come from?\\n (a) Pigs\\n (b) Cows\\n (c) Chicken\\n\",\n",
    "    \"Did America get eliminated by the Netherlands\\n (t) True\\n (f) False\\n\",\n",
    "    \"Was this test hard?\\n (a) Yes extremely\\n (b) No it was the easiest test of my life\\n (c) I don't want to get this question right\\n\",\n",
    "\n",
    "]\n",
    "\n",
    "Q_Bank = [\n",
    "    question(Questions[0], \"t\"),\n",
    "    question(Questions[1], \"a\"),\n",
    "    question(Questions[2], \"t\"),\n",
    "    question(Questions[3], \"b\"),\n",
    "]\n",
    "\n",
    "\n",
    "def quiz(Q_Bank):\n",
    "    score = 0\n",
    "    for problem in Q_Bank:\n",
    "        print(problem.base)\n",
    "        rsp = input(problem.base)\n",
    "        if rsp.lower().strip() == problem.answer:\n",
    "            print(\"\\nYour answer \" + rsp + \" matches the correct answer which was \" + str(problem.answer))\n",
    "            score += 1\n",
    "        else:\n",
    "            print(\"\\nYour answer \" + rsp + \" doesn't match the correct answer which was \" + str(problem.answer))\n",
    "    if score >= 1:\n",
    "        print(\"You got \" + str(score)+\" out of \" + str(len(Q_Bank)) + \" points so you have passed this test.\")\n",
    "    else: \n",
    "        print(\"You got \" + str(score)+\" out of \" + str(len(Q_Bank)) + \" points so you have failed this test.\")\n",
    "\n",
    "\n",
    "quiz(Q_Bank)"
   ]
  }
 ],
 "metadata": {
  "kernelspec": {
   "display_name": "Python 3.10.6 64-bit",
   "language": "python",
   "name": "python3"
  },
  "language_info": {
   "codemirror_mode": {
    "name": "ipython",
    "version": 3
   },
   "file_extension": ".py",
   "mimetype": "text/x-python",
   "name": "python",
   "nbconvert_exporter": "python",
   "pygments_lexer": "ipython3",
   "version": "3.10.6"
  },
  "orig_nbformat": 4,
  "vscode": {
   "interpreter": {
    "hash": "aee8b7b246df8f9039afb4144a1f6fd8d2ca17a180786b69acc140d282b71a49"
   }
  }
 },
 "nbformat": 4,
 "nbformat_minor": 2
}
