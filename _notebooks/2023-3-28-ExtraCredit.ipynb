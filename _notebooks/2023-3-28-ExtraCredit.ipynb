{
 "cells": [
  {
   "attachments": {},
   "cell_type": "markdown",
   "metadata": {},
   "source": [
    "#  Extra Credit 3/28\n",
    "> CSUSM\n",
    "- toc: true\n",
    "- image: /images/python.png\n",
    "- categories: []\n",
    "- type: ap\n",
    "- week: 28"
   ]
  },
  {
   "attachments": {},
   "cell_type": "markdown",
   "metadata": {},
   "source": [
    "She mentioned that she failed multiple calc classes as well as failing some physic classes as well. John is from escondido and was a bit of a troublemaker in highschool, started palomar right after high school. He pursued a computer science degree at CSUSM and graduated. "
   ]
  },
  {
   "attachments": {},
   "cell_type": "markdown",
   "metadata": {},
   "source": [
    "CSUSM has a lot of career pathways including computer science and computer engineering. They also have a multitude of clubs such as robotics and other computer science related clubs. They also have a ton of internship opportunities, she reccomends that you get paid for your internships."
   ]
  },
  {
   "attachments": {},
   "cell_type": "markdown",
   "metadata": {},
   "source": [
    "# Programs\n",
    "- Summer Scholars Program: Allows you to do research with an advisor but you get paid 6,000 for a summer full time, 3000 for part time\n",
    "- Quantum Bridge Program- 4 weeks where you learn quantum information and you get paid 1,500 as well\n"
   ]
  },
  {
   "attachments": {},
   "cell_type": "markdown",
   "metadata": {},
   "source": [
    "# Paying for college\n",
    "- Grant is government funded money, scholarship money is privately funded money\n",
    "- Scholarships are on you to get them, you can get them for almost anything\n",
    "- If you do have to get a loan, there are two types subsidized loans and unsubsidized loans\n",
    "- Check emails for scholarships."
   ]
  },
  {
   "cell_type": "markdown",
   "metadata": {},
   "source": []
  },
  {
   "attachments": {},
   "cell_type": "markdown",
   "metadata": {},
   "source": [
    "We made hex bugs out of toothbrush heads, little batteries and some tape."
   ]
  },
  {
   "attachments": {},
   "cell_type": "markdown",
   "metadata": {},
   "source": [
    "**Review from Notes**\n",
    "Extra Credit Notes From 3/28: John and Ashley from CSUSM gave a lot of information about their campus and student life. They mentioned that CSUSM has a lot of career pathways including computer science and computer engineering. Ashley was mentioning a lot of programs that were available at their campus such as the Summer Scholars Program which allows you to do research with an advisor but you get paid 6,000 for a summer full time, 3000 for part-time. Another one she talks about was the Quantum Bridge Program- 4 weeks where you learn quantum information and you get paid 1,500 as well. After that John talked about the difference between grants and scholarships. He explained that grants are government-funded money, and scholarship money is privately funded money. Scholarships are on you to get them, you can get them for almost anything, he said he got one for being Mexican. Finally one of the last things he talked about was loans which he advised us to stay away from. He explained the difference between subsidized and unsubsidized loans. Finally, for the last part of this event, we made these vibrators out of toothbrushes, tape, and two batteries. Sadly at the end of the event, I did not win the giveaway for merch but it was still a fun event all around."
   ]
  }
 ],
 "metadata": {
  "language_info": {
   "name": "python"
  },
  "orig_nbformat": 4
 },
 "nbformat": 4,
 "nbformat_minor": 2
}
