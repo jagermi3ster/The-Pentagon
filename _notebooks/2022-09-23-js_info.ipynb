{
 "cells": [
  {
   "cell_type": "markdown",
   "metadata": {},
   "source": [
    "---\n",
    "toc: true\n",
    "comments: true\n",
    "layout: post\n",
    "title: Javascript Function\n",
    "description: How to get big\n",
    "---"
   ]
  },
  {
   "cell_type": "markdown",
   "metadata": {},
   "source": [
    "# Javascrpt Building a Function"
   ]
  },
  {
   "cell_type": "markdown",
   "metadata": {},
   "source": [
    "Here I use a simple console.log command which is similar to a print command in python"
   ]
  },
  {
   "cell_type": "code",
   "execution_count": 2,
   "metadata": {},
   "outputs": [
    {
     "name": "stdout",
     "output_type": "stream",
     "text": [
      "hello\n"
     ]
    }
   ],
   "source": [
    "console.log(\"hello\")"
   ]
  },
  {
   "cell_type": "markdown",
   "metadata": {},
   "source": [
    "The code below shows a string that logs a # which is 2022, and the objects in a list."
   ]
  },
  {
   "cell_type": "code",
   "execution_count": 14,
   "metadata": {},
   "outputs": [
    {
     "name": "stdout",
     "output_type": "stream",
     "text": [
      "testing out javascript\n",
      "string ; String test\n",
      "number ; 2022\n",
      "object ; [ 5, 6, 7 ]\n"
     ]
    }
   ],
   "source": [
    "function logItType(output) {\n",
    "    console.log(typeof output, \";\", output);\n",
    "}\n",
    "console.log(\"testing out javascript\")\n",
    "logItType(\"String test\"); // String\n",
    "logItType(2022);    // Number\n",
    "logItType([5, 6, 7]);  // Object is generic for this Array, which similar to Python List"
   ]
  },
  {
   "cell_type": "markdown",
   "metadata": {},
   "source": [
    "Here I amde a function for the people that have names and the class they graduate. Later converting them in JSON."
   ]
  },
  {
   "cell_type": "code",
   "execution_count": 57,
   "metadata": {},
   "outputs": [
    {
     "name": "stdout",
     "output_type": "stream",
     "text": [
      "object ; Person { name: 'Kenji', classOf: 1970, role: '' }\n",
      "string ; {\"name\":\"Kenji\",\"classOf\":1970,\"role\":\"\"}\n",
      "object ; Person { name: 'Kenji', classOf: 1970, role: 'Coach' }\n",
      "string ; {\"name\":\"Kenji\",\"classOf\":1970,\"role\":\"Coach\"}\n"
     ]
    }
   ],
   "source": [
    "// define a function to hold data for a Person\n",
    "function Person(name,classOf) {\n",
    "    this.name = name;\n",
    "    this.classOf = classOf;\n",
    "    this.role = \"\";\n",
    "}\n",
    "\n",
    "// define a setter for role in Person data\n",
    "Person.prototype.setRole = function(role) {\n",
    "    this.role = role;\n",
    "}\n",
    "\n",
    "// define a JSON conversion \"method\" associated with Person\n",
    "Person.prototype.toJSON = function() {\n",
    "    const obj = {name: this.name, classOf: this.classOf, role: this.role};\n",
    "    const json = JSON.stringify(obj);\n",
    "    return json;\n",
    "}\n",
    "\n",
    "// make a new Person and assign to variable coach\n",
    "var coach = new Person(\"Kenji\", 1970);  // object type is easy to work with in JavaScript\n",
    "logItType(coach);  // before role\n",
    "logItType(coach.toJSON());  // ok to do this even though role is not yet defined\n",
    "\n",
    "// output of Object and JSON/string associated with Coach\n",
    "coach.setRole(\"Coach\");   // set the role\n",
    "logItType(coach); \n",
    "logItType(coach.toJSON());"
   ]
  },
  {
   "cell_type": "markdown",
   "metadata": {},
   "source": [
    "Here I defined the players/coach and made a team function."
   ]
  },
  {
   "cell_type": "code",
   "execution_count": 58,
   "metadata": {},
   "outputs": [
    {
     "name": "stdout",
     "output_type": "stream",
     "text": [
      "object ; [ Person { name: 'Kenji', classOf: 1970, role: 'Coach' },\n",
      "  Person { name: 'Jagger', classOf: 2023, role: 'Student' },\n",
      "  Person { name: 'Matthew', classOf: 2023, role: 'Student' },\n",
      "  Person { name: 'Gavin', classOf: 2024, role: 'Student' } ]\n",
      "string ; Kenji\n",
      "string ; {\"name\":\"Kenji\",\"classOf\":1970,\"role\":\"Coach\"}\n",
      "object ; { name: 'Kenji', classOf: 1970, role: 'Coach' }\n"
     ]
    }
   ],
   "source": [
    "// define a student Array of Person(s)\n",
    "var players = [ \n",
    "    new Person(\"Jagger\", 2023),\n",
    "    new Person(\"Matthew\", 2023),\n",
    "    new Person(\"Gavin\", 2024),\n",
    "   \n",
    "];\n",
    "\n",
    "// define a team and build Team objects and json\n",
    "function Team(coach, players){ // 1 coach, many student\n",
    "    // start Team with Coach\n",
    "    coach.setRole(\"Coach\");\n",
    "    this.coach = coach;\n",
    "    this.team = [coach];\n",
    "    // add each Student to Team\n",
    "    this.players = players;\n",
    "    this.players.forEach(student => { student.setRole(\"Student\"); this.team.push(student); });\n",
    "    // build json/string format of Team\n",
    "    this.json = [];\n",
    "    this.team.forEach(person => this.json.push(person.toJSON()));\n",
    "}\n",
    "\n",
    "// make a CompSci team from formerly defined coach and players\n",
    "compsci = new Team(coach, players);\n",
    "\n",
    "// output of Objects and JSON in CompSci team\n",
    "logItType(compsci.team);  // constructed team object\n",
    "logItType(compsci.team[0].name);  // abstract 1st objects name\n",
    "logItType(compsci.json[0]);  // show json conversion of 1st object to string\n",
    "logItType(JSON.parse(compsci.json[0]));  // show JSON.parse inverse of JSON.stringify"
   ]
  },
  {
   "cell_type": "markdown",
   "metadata": {},
   "source": [
    "Here I converted the json into HTMl and made a table out of that"
   ]
  },
  {
   "cell_type": "code",
   "execution_count": 59,
   "metadata": {},
   "outputs": [
    {
     "data": {
      "text/html": [
       "<div style='display:inline-block;border: 2px solid grey;box-shadow: 0.8em 0.4em 0.4em grey;'><table><tr><th><mark>Name</mark></th><th><mark>Class Of</mark></th><th><mark>Role</mark></th></tr><tr><td>Kenji</td><td>1970</td><td>Coach</td><tr><tr><td>Jagger</td><td>2023</td><td>Student</td><tr><tr><td>Matthew</td><td>2023</td><td>Student</td><tr><tr><td>Gavin</td><td>2024</td><td>Student</td><tr></table></div>"
      ]
     },
     "execution_count": 59,
     "metadata": {},
     "output_type": "execute_result"
    }
   ],
   "source": [
    "// define an HTML conversion \"method\" associated with Team\n",
    "Team.prototype._toHtml = function() {\n",
    "    // HTML Style is build using inline structure\n",
    "    var style = (\n",
    "      \"display:inline-block;\" +\n",
    "      \"border: 2px solid grey;\" +\n",
    "      \"box-shadow: 0.8em 0.4em 0.4em grey;\"\n",
    "    );\n",
    "  \n",
    "    // HTML Body of Table is build as a series of concatenations (+=)\n",
    "    var body = \"\";\n",
    "    // Heading for Array Columns\n",
    "    body += \"<tr>\";\n",
    "    body += \"<th><mark>\" + \"Name\" + \"</mark></th>\";\n",
    "    body += \"<th><mark>\" + \"Class Of\" + \"</mark></th>\";\n",
    "    body += \"<th><mark>\" + \"Role\" + \"</mark></th>\";\n",
    "    body += \"</tr>\";\n",
    "    // Data of Array, iterate through each row of compsci.team \n",
    "    for (var row of compsci.team) {\n",
    "      // tr for each row, a new line\n",
    "      body += \"<tr>\";\n",
    "      // td for each column of data\n",
    "      body += \"<td>\" + row.name + \"</td>\";\n",
    "      body += \"<td>\" + row.classOf + \"</td>\";\n",
    "      body += \"<td>\" + row.role + \"</td>\";\n",
    "      // tr to end line\n",
    "      body += \"<tr>\";\n",
    "    }\n",
    "  \n",
    "     // Build and HTML fragment of div, table, table body\n",
    "    return (\n",
    "      \"<div style='\" + style + \"'>\" +\n",
    "        \"<table>\" +\n",
    "          body +\n",
    "        \"</table>\" +\n",
    "      \"</div>\"\n",
    "    );\n",
    "  \n",
    "  };\n",
    "  \n",
    "  // IJavaScript HTML processor receive parameter of defined HTML fragment\n",
    "  $$.html(compsci._toHtml());"
   ]
  }
 ],
 "metadata": {
  "kernelspec": {
   "display_name": "JavaScript (Node.js)",
   "language": "javascript",
   "name": "javascript"
  },
  "language_info": {
   "file_extension": ".js",
   "mimetype": "application/javascript",
   "name": "javascript",
   "version": "10.13.0"
  },
  "orig_nbformat": 4
 },
 "nbformat": 4,
 "nbformat_minor": 2
}
