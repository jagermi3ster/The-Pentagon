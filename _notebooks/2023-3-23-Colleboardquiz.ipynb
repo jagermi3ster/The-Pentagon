{
 "cells": [
  {
   "attachments": {},
   "cell_type": "markdown",
   "metadata": {},
   "source": [
    "#  Collegeboard Quiz Tri 3\n",
    "- toc: true\n",
    "- image: /images/python.png\n",
    "- categories: []\n",
    "- type: pbl"
   ]
  },
  {
   "attachments": {},
   "cell_type": "markdown",
   "metadata": {},
   "source": [
    "On this quiz I got a **24/25** which was mostly reliant on doing this with 4 of my tablemates. Overall I do"
   ]
  },
  {
   "attachments": {},
   "cell_type": "markdown",
   "metadata": {},
   "source": [
    "![Alt text](images/wrg.png)"
   ]
  },
  {
   "attachments": {},
   "cell_type": "markdown",
   "metadata": {},
   "source": [
    "**CORRECTIONS ON QUIZ** I only got question 21 wrong which was a multiple choice question where you pick two answers. I got B right but I got C wrong. The right anwser was D because C cannot remove entries unlike choice D."
   ]
  },
  {
   "attachments": {},
   "cell_type": "markdown",
   "metadata": {},
   "source": [
    "Sorting by year will sort the spreadsheet on column C from least to greatest. Filtering by year will remove any entries with unknown years. Filtering by photographer will remove any entries with unknown photographers. Since the order of the entries is not affected by the filters, the photograph with the lowest year value will be in the first row of the spreadsheet."
   ]
  },
  {
   "attachments": {},
   "cell_type": "markdown",
   "metadata": {},
   "source": [
    "**REFLECTION**\n",
    "-Overall I think we did really well on this quiz and it wouldnt have been possible without working together within our gorup. I think we learned some valuable information from this quiz and I don't think it was a complete waste of time. In general, I believe I performed well on the multiple choice quiz. Previously, it took me a longer time to comprehend the questions and determine the answers. However, on this quiz, I was able to understand most of the topics within a minute or two, even with multiple readings. I feel that I have gained more knowledge compared to my previous attempt, even though it may be considered basic. Prior to this quiz, I was discouraged about my progress and felt that I was not making any improvements. However, based on my results and the way I approached this quiz, I believe that I am making progress and on track in my APCSP studies.\n"
   ]
  }
 ],
 "metadata": {
  "language_info": {
   "name": "python"
  },
  "orig_nbformat": 4
 },
 "nbformat": 4,
 "nbformat_minor": 2
}
