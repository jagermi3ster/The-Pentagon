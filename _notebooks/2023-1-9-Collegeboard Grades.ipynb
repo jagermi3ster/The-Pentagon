{
 "cells": [
  {
   "cell_type": "markdown",
   "metadata": {},
   "source": [
    "# \"Collegeboard Testing\"\n",
    "\n",
    "\n",
    "- toc: true\n",
    "- branch: master\n",
    "- badges: true\n",
    "- comments: true\n",
    "- author: Jagger Klein\n",
    "- categories: [fastpages, jupyter]"
   ]
  },
  {
   "cell_type": "markdown",
   "metadata": {},
   "source": [
    "| Sample | Purpose | Data Abstraction | Managing Complexity | Procedural Abstraction | Algorithm Implementation | Testing | Total Grade |\n",
    "|--------|---------|------------------|--------------------|------------------------|--------------------------|---------|-------------|\n",
    "| 1      | 1/1     | 0/1              | 1/1                | 0/1                    | 1/1                     | 0/1     | 4/6         |\n",
    "| 2      | 1/1     | 1/1              | 1/1                | 1/1                    | 1/1                     | 1/1     | 6/6         |\n",
    "\n"
   ]
  },
  {
   "cell_type": "markdown",
   "metadata": {},
   "source": [
    "Sample 1 Explanation: The student didn't complete the program fully, it was pretty short, and was only tested once. Didn't manage complexity at all. However they did test it and explained the algorithm in detail. And abstraction for both Procedural and Data abstraction, they went into a lot of detail about their code and what each of its functions were."
   ]
  },
  {
   "cell_type": "markdown",
   "metadata": {},
   "source": [
    "Sample 2 Explanation: This student went very in-depth and explained everything in detail. It was tested and they managed their complexity, everything was done up to standards."
   ]
  }
 ],
 "metadata": {
  "kernelspec": {
   "display_name": "Python 3.10.6 64-bit",
   "language": "python",
   "name": "python3"
  },
  "language_info": {
   "name": "python",
   "version": "3.10.6"
  },
  "orig_nbformat": 4,
  "vscode": {
   "interpreter": {
    "hash": "aee8b7b246df8f9039afb4144a1f6fd8d2ca17a180786b69acc140d282b71a49"
   }
  }
 },
 "nbformat": 4,
 "nbformat_minor": 2
}
