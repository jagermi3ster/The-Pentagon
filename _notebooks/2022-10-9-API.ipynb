{
 "cells": [
  {
   "cell_type": "markdown",
   "metadata": {},
   "source": [
    "#  API\n",
    "\n",
    "- toc: true\n",
    "- branch: master\n",
    "- badges: true\n",
    "- comments: true\n",
    "- author: Jagger Klein\n",
    "- categories: [fastpages, jupyter]"
   ]
  },
  {
   "cell_type": "code",
   "execution_count": 10,
   "metadata": {},
   "outputs": [
    {
     "name": "stdout",
     "output_type": "stream",
     "text": [
      "Address,Date time,Latitude,Longitude,Resolved Address,Name,Wind Direction,Minimum Temperature,Maximum Temperature,Temperature,Wind Speed,Cloud Cover,Heat Index,Chance Precipitation (%),Precipitation,Sea Level Pressure,Snow Depth,Snow,Relative Humidity,Wind Gust,Wind Chill,Conditions\n",
      "\"California,San Diego,USA\",\"10/12/2022\",32.7157,-117.162,\"San Diego, CA, United States\",\"California,San Diego,USA\",318.1,67.2,74.0,70.3,6.3,27.1,,9.5,0.0,1016.9,0.0,0.0,81.9,10.7,,\"Partially cloudy\"\n",
      "\"California,San Diego,USA\",\"10/13/2022\",32.7157,-117.162,\"San Diego, CA, United States\",\"California,San Diego,USA\",229.0,66.3,72.9,68.1,3.6,0.1,,0.0,0.0,1016.3,0.0,0.0,86.4,6.0,,\"Clear\"\n",
      "\"California,San Diego,USA\",\"10/14/2022\",32.7157,-117.162,\"San Diego, CA, United States\",\"California,San Diego,USA\",274.7,66.3,69.9,68.0,5.6,3.5,,23.8,0.0,1010.7,,,79.3,7.2,,\"Clear\"\n",
      "\"California,San Diego,USA\",\"10/15/2022\",32.7157,-117.162,\"San Diego, CA, United States\",\"California,San Diego,USA\",252.7,64.3,66.3,65.4,4.8,86.1,,57.1,0.44,1012.1,,,78.5,7.8,,\"Rain, Overcast\"\n",
      "\"California,San Diego,USA\",\"10/16/2022\",32.7157,-117.162,\"San Diego, CA, United States\",\"California,San Diego,USA\",268.8,64.8,68.4,66.4,6.0,57.4,,28.6,0.01,1014.1,,0.0,75.5,9.4,,\"Partially cloudy\"\n",
      "\"California,San Diego,USA\",\"10/17/2022\",32.7157,-117.162,\"San Diego, CA, United States\",\"California,San Diego,USA\",298.5,66.1,68.8,67.3,5.9,8.1,,0.0,0.0,1014.0,,0.0,75.3,6.9,,\"Clear\"\n",
      "\"California,San Diego,USA\",\"10/18/2022\",32.7157,-117.162,\"San Diego, CA, United States\",\"California,San Diego,USA\",274.9,66.5,71.7,69.2,4.8,33.7,,4.8,0.0,1012.4,,0.0,75.3,6.7,,\"Partially cloudy\"\n",
      "\"California,San Diego,USA\",\"10/19/2022\",32.7157,-117.162,\"San Diego, CA, United States\",\"California,San Diego,USA\",311.3,69.2,73.1,71.1,5.4,92.3,,4.8,0.0,1011.8,,0.0,71.9,7.2,,\"Overcast\"\n",
      "\"California,San Diego,USA\",\"10/20/2022\",32.7157,-117.162,\"San Diego, CA, United States\",\"California,San Diego,USA\",227.2,67.9,71.3,69.7,5.1,34.9,,4.8,0.0,1011.5,,0.0,71.3,7.6,,\"Partially cloudy\"\n",
      "\"California,San Diego,USA\",\"10/21/2022\",32.7157,-117.162,\"San Diego, CA, United States\",\"California,San Diego,USA\",216.3,66.6,69.3,67.8,4.8,1.3,,9.5,0.0,1012.1,,0.0,73.1,6.9,,\"Clear\"\n",
      "\"California,San Diego,USA\",\"10/22/2022\",32.7157,-117.162,\"San Diego, CA, United States\",\"California,San Diego,USA\",245.3,65.0,66.7,65.8,9.4,49.3,,14.3,0.04,1012.3,,0.0,75.0,16.8,,\"Partially cloudy\"\n",
      "\"California,San Diego,USA\",\"10/23/2022\",32.7157,-117.162,\"San Diego, CA, United States\",\"California,San Diego,USA\",257.7,64.3,66.5,65.5,13.1,64.8,,28.6,0.04,1012.1,,0.0,66.7,19.7,,\"Partially cloudy\"\n",
      "\"California,San Diego,USA\",\"10/24/2022\",32.7157,-117.162,\"San Diego, CA, United States\",\"California,San Diego,USA\",220.6,63.4,66.3,64.9,7.1,37.4,,4.8,0.02,1014.3,,0.0,67.6,9.6,,\"Partially cloudy\"\n",
      "\"California,San Diego,USA\",\"10/25/2022\",32.7157,-117.162,\"San Diego, CA, United States\",\"California,San Diego,USA\",272.9,64.7,66.3,65.5,7.6,18.4,,9.5,0.06,1015.3,,0.0,70.6,16.1,,\"Clear\"\n",
      "\"California,San Diego,USA\",\"10/26/2022\",32.7157,-117.162,\"San Diego, CA, United States\",\"California,San Diego,USA\",236.1,63.9,69.0,67.1,6.0,61.0,,4.8,0.0,1014.6,,0.0,55.6,9.8,,\"Partially cloudy\"\n",
      "\"California,San Diego,USA\",\"10/27/2022\",32.7157,-117.162,\"San Diego, CA, United States\",\"California,San Diego,USA\",,,,,,,,,0.0,,,,,,,\"\"\n",
      "\n"
     ]
    }
   ],
   "source": [
    "import requests\n",
    "\n",
    "url = \"https://visual-crossing-weather.p.rapidapi.com/forecast\"\n",
    "\n",
    "querystring = {\"aggregateHours\":\"24\",\"location\":\"California,San Diego,USA\",\"contentType\":\"csv\",\"unitGroup\":\"us\",\"shortColumnNames\":\"0\"}\n",
    "\n",
    "headers = {\n",
    "\t\"X-RapidAPI-Key\": \"5694933938msh188e06a83fae341p1ddb1djsn42cb5a17f935\",\n",
    "\t\"X-RapidAPI-Host\": \"visual-crossing-weather.p.rapidapi.com\"\n",
    "}\n",
    "\n",
    "response = requests.request(\"GET\", url, headers=headers, params=querystring)\n",
    "\n",
    "print(response.text)\n"
   ]
  }
 ],
 "metadata": {
  "kernelspec": {
   "display_name": "Python 3.10.6 64-bit",
   "language": "python",
   "name": "python3"
  },
  "language_info": {
   "codemirror_mode": {
    "name": "ipython",
    "version": 3
   },
   "file_extension": ".py",
   "mimetype": "text/x-python",
   "name": "python",
   "nbconvert_exporter": "python",
   "pygments_lexer": "ipython3",
   "version": "3.10.6"
  },
  "orig_nbformat": 4,
  "vscode": {
   "interpreter": {
    "hash": "aee8b7b246df8f9039afb4144a1f6fd8d2ca17a180786b69acc140d282b71a49"
   }
  }
 },
 "nbformat": 4,
 "nbformat_minor": 2
}
