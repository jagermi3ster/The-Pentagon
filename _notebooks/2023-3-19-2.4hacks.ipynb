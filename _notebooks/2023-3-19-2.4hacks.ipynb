{
 "cells": [
  {
   "attachments": {},
   "cell_type": "markdown",
   "metadata": {},
   "source": [
    "#  Unit 2.4b Hacks\n",
    "> Using Programs with Data is focused on SQL and database actions.  Part B focuses on learning SQL commands, connections, and curses using an Imperative programming style,\n",
    "- toc: true\n",
    "- image: /images/python.png\n",
    "- categories: []\n",
    "- type: ap\n",
    "- week: 26"
   ]
  },
  {
   "cell_type": "code",
   "execution_count": null,
   "metadata": {},
   "outputs": [
    {
     "name": "stderr",
     "output_type": "stream",
     "text": [
      "/var/folders/2v/jx5mc_r50sd04klb4gfy0kl00000gn/T/ipykernel_80358/388939683.py:12: MovedIn20Warning: The ``declarative_base()`` function is now available as sqlalchemy.orm.declarative_base(). (deprecated since: 2.0) (Background on SQLAlchemy 2.0 at: https://sqlalche.me/e/b8d9)\n",
      "  Base = declarative_base()\n"
     ]
    }
   ],
   "source": [
    "from sqlalchemy import create_engine, Column, Integer, String\n",
    "from sqlalchemy.orm import sessionmaker\n",
    "from sqlalchemy.ext.declarative import declarative_base\n",
    "\n",
    "# Create the database engine\n",
    "engine = create_engine('sqlite:///overwatch.db', echo=True)\n",
    "\n",
    "# Create a session factory\n",
    "Session = sessionmaker(bind=engine)\n",
    "\n",
    "# Define a base class for declarative models\n",
    "Base = declarative_base()\n",
    "\n",
    "# Define the Hero model\n",
    "class Hero(Base):\n",
    "    __tablename__ = 'heroes'\n",
    "    id = Column(Integer, primary_key=True)\n",
    "    name = Column(String)\n",
    "    role = Column(String)\n",
    "    ultimate = Column(String)\n",
    "\n",
    "    def __repr__(self):\n",
    "        return f'<Hero(id={self.id}, name=\"{self.name}\", role=\"{self.role}\", ultimate=\"{self.ultimate}\")>'\n",
    "\n",
    "# Create the table in the database\n",
    "Base.metadata.create_all(engine)\n"
   ]
  },
  {
   "attachments": {},
   "cell_type": "markdown",
   "metadata": {},
   "source": [
    "**Add Heroes to the Table**"
   ]
  },
  {
   "cell_type": "code",
   "execution_count": 3,
   "metadata": {},
   "outputs": [
    {
     "name": "stdout",
     "output_type": "stream",
     "text": [
      "2023-03-21 11:28:01,141 INFO sqlalchemy.engine.Engine BEGIN (implicit)\n",
      "2023-03-21 11:28:01,145 INFO sqlalchemy.engine.Engine INSERT INTO heroes (name, role, ultimate) VALUES (?, ?, ?)\n",
      "2023-03-21 11:28:01,146 INFO sqlalchemy.engine.Engine [generated in 0.00130s] ('Ashe', 'DPS', 'Bob')\n",
      "2023-03-21 11:28:01,150 INFO sqlalchemy.engine.Engine COMMIT\n",
      "2023-03-21 11:28:01,153 INFO sqlalchemy.engine.Engine BEGIN (implicit)\n",
      "2023-03-21 11:28:01,156 INFO sqlalchemy.engine.Engine SELECT heroes.id AS heroes_id, heroes.name AS heroes_name, heroes.role AS heroes_role, heroes.ultimate AS heroes_ultimate \n",
      "FROM heroes\n",
      "2023-03-21 11:28:01,157 INFO sqlalchemy.engine.Engine [generated in 0.00111s] ()\n",
      "[<Hero(id=1, name=\"Tracer\", role=\"DPS\", ultimate=\"Pulse Bomb Plus\")>, <Hero(id=2, name=\"Mercy\", role=\"Support\", ultimate=\"Valkyrie\")>, <Hero(id=3, name=\"Reinhardt\", role=\"Tank\", ultimate=\"Earthshatter\")>, <Hero(id=4, name=\"Doomfist\", role=\"Tank\", ultimate=\"MeteorStrike\")>, <Hero(id=5, name=\"Genji\", role=\"DPS\", ultimate=\"DragonBlade\")>, <Hero(id=6, name=\"Ashe\", role=\"DPS\", ultimate=\"Bob\")>]\n"
     ]
    },
    {
     "name": "stderr",
     "output_type": "stream",
     "text": [
      "/var/folders/2v/jx5mc_r50sd04klb4gfy0kl00000gn/T/ipykernel_80358/296829963.py:12: MovedIn20Warning: The ``declarative_base()`` function is now available as sqlalchemy.orm.declarative_base(). (deprecated since: 2.0) (Background on SQLAlchemy 2.0 at: https://sqlalche.me/e/b8d9)\n",
      "  Base = declarative_base()\n"
     ]
    }
   ],
   "source": [
    "from sqlalchemy import create_engine, Column, Integer, String\n",
    "from sqlalchemy.orm import sessionmaker\n",
    "from sqlalchemy.ext.declarative import declarative_base\n",
    "\n",
    "# Create the database engine\n",
    "engine = create_engine('sqlite:///overwatch.db', echo=True)\n",
    "\n",
    "# Create a session factory\n",
    "Session = sessionmaker(bind=engine)\n",
    "\n",
    "# Define a base class for declarative models\n",
    "Base = declarative_base()\n",
    "\n",
    "# Define the Hero model\n",
    "class Hero(Base):\n",
    "    __tablename__ = 'heroes'\n",
    "    id = Column(Integer, primary_key=True)\n",
    "    name = Column(String)\n",
    "    role = Column(String)\n",
    "    ultimate = Column(String)\n",
    "\n",
    "    def __repr__(self):\n",
    "        return f'<Hero(id={self.id}, name=\"{self.name}\", role=\"{self.role}\", ultimate=\"{self.ultimate}\")>'\n",
    "\n",
    "# Create a session to interact with the database\n",
    "session = Session()\n",
    "\n",
    "# Add some heroes to the database\n",
    "ashe = Hero(name='Ashe', role='DPS', ultimate='Bob')\n",
    "\n",
    "session.add_all([ashe])\n",
    "session.commit()\n",
    "\n",
    "# Query the database for all heroes\n",
    "heroes = session.query(Hero).all()\n",
    "print(heroes)\n"
   ]
  },
  {
   "attachments": {},
   "cell_type": "markdown",
   "metadata": {},
   "source": [
    "**DELETE**"
   ]
  },
  {
   "cell_type": "code",
   "execution_count": 14,
   "metadata": {},
   "outputs": [
    {
     "name": "stdout",
     "output_type": "stream",
     "text": [
      "2023-03-21 08:55:19,861 INFO sqlalchemy.engine.Engine BEGIN (implicit)\n",
      "2023-03-21 08:55:19,881 INFO sqlalchemy.engine.Engine SELECT heroes.id AS heroes_id, heroes.name AS heroes_name, heroes.role AS heroes_role, heroes.ultimate AS heroes_ultimate \n",
      "FROM heroes \n",
      "WHERE heroes.name = ?\n",
      " LIMIT ? OFFSET ?\n",
      "2023-03-21 08:55:19,886 INFO sqlalchemy.engine.Engine [generated in 0.00538s] ('Mercy', 1, 0)\n",
      "2023-03-21 08:55:19,901 INFO sqlalchemy.engine.Engine DELETE FROM heroes WHERE heroes.id = ?\n",
      "2023-03-21 08:55:19,903 INFO sqlalchemy.engine.Engine [generated in 0.00193s] (2,)\n",
      "2023-03-21 08:55:19,907 INFO sqlalchemy.engine.Engine COMMIT\n",
      "2023-03-21 08:55:19,919 INFO sqlalchemy.engine.Engine BEGIN (implicit)\n",
      "2023-03-21 08:55:19,921 INFO sqlalchemy.engine.Engine SELECT heroes.id AS heroes_id, heroes.name AS heroes_name, heroes.role AS heroes_role, heroes.ultimate AS heroes_ultimate \n",
      "FROM heroes\n",
      "2023-03-21 08:55:19,927 INFO sqlalchemy.engine.Engine [generated in 0.00560s] ()\n",
      "[<Hero(id=3, name=\"Reinhardt\", role=\"Tank\", ultimate=\"Earthshatter\")>, <Hero(id=4, name=\"Tracer\", role=\"DPS\", ultimate=\"Pulse Bomb\")>, <Hero(id=5, name=\"Mercy\", role=\"Support\", ultimate=\"Valkyrie\")>, <Hero(id=6, name=\"Reinhardt\", role=\"Tank\", ultimate=\"Earthshatter\")>, <Hero(id=7, name=\"Tracer\", role=\"DPS\", ultimate=\"Pulse Bomb\")>, <Hero(id=8, name=\"Mercy\", role=\"Support\", ultimate=\"Valkyrie\")>, <Hero(id=9, name=\"Reinhardt\", role=\"Tank\", ultimate=\"Earthshatter\")>, <Hero(id=10, name=\"Tracer\", role=\"DPS\", ultimate=\"Pulse Bomb\")>, <Hero(id=11, name=\"Mercy\", role=\"Support\", ultimate=\"Valkyrie\")>, <Hero(id=12, name=\"Reinhardt\", role=\"Tank\", ultimate=\"Earthshatter\")>, <Hero(id=13, name=\"Doomfist\", role=\"Tank\", ultimate=\"MeteorStrike\")>, <Hero(id=14, name=\"Tracer\", role=\"DPS\", ultimate=\"Pulse Bomb\")>, <Hero(id=15, name=\"Mercy\", role=\"Support\", ultimate=\"Valkyrie\")>, <Hero(id=16, name=\"Reinhardt\", role=\"Tank\", ultimate=\"Earthshatter\")>, <Hero(id=17, name=\"Doomfist\", role=\"Tank\", ultimate=\"MeteorStrike\")>, <Hero(id=18, name=\"Tracer\", role=\"DPS\", ultimate=\"Pulse Bomb\")>, <Hero(id=19, name=\"Mercy\", role=\"Support\", ultimate=\"Valkyrie\")>, <Hero(id=20, name=\"Reinhardt\", role=\"Tank\", ultimate=\"Earthshatter\")>, <Hero(id=21, name=\"Doomfist\", role=\"Tank\", ultimate=\"MeteorStrike\")>]\n"
     ]
    }
   ],
   "source": [
    "from sqlalchemy import create_engine, Column, Integer, String\n",
    "from sqlalchemy.orm import sessionmaker\n",
    "from sqlalchemy.ext.declarative import declarative_base\n",
    "\n",
    "# Create the database engine\n",
    "engine = create_engine('sqlite:///overwatch.db', echo=True)\n",
    "\n",
    "# Create a session factory\n",
    "Session = sessionmaker(bind=engine)\n",
    "\n",
    "# Define a base class for declarative models\n",
    "Base = declarative_base()\n",
    "\n",
    "# Define the Hero model\n",
    "class Hero(Base):\n",
    "    __tablename__ = 'heroes'\n",
    "    id = Column(Integer, primary_key=True)\n",
    "    name = Column(String)\n",
    "    role = Column(String)\n",
    "    ultimate = Column(String)\n",
    "\n",
    "    def __repr__(self):\n",
    "        return f'<Hero(id={self.id}, name=\"{self.name}\", role=\"{self.role}\", ultimate=\"{self.ultimate}\")>'\n",
    "\n",
    "# Create a session to interact with the database\n",
    "session = Session()\n",
    "\n",
    "# Query the database for the hero to delete\n",
    "hero_to_delete = session.query(Hero).filter_by(name='Mercy').first()\n",
    "\n",
    "# Delete the hero object from the session and commit the changes to the database\n",
    "session.delete(hero_to_delete)\n",
    "session.commit()\n",
    "\n",
    "# Query the database for all heroes\n",
    "heroes = session.query(Hero).all()\n",
    "print(heroes)\n"
   ]
  },
  {
   "attachments": {},
   "cell_type": "markdown",
   "metadata": {},
   "source": [
    "**Clear Database**"
   ]
  },
  {
   "cell_type": "code",
   "execution_count": 15,
   "metadata": {},
   "outputs": [
    {
     "name": "stdout",
     "output_type": "stream",
     "text": [
      "2023-03-21 08:58:05,530 INFO sqlalchemy.engine.Engine BEGIN (implicit)\n",
      "2023-03-21 08:58:05,539 INFO sqlalchemy.engine.Engine DELETE FROM heroes\n",
      "2023-03-21 08:58:05,546 INFO sqlalchemy.engine.Engine [generated in 0.00616s] ()\n",
      "2023-03-21 08:58:05,551 INFO sqlalchemy.engine.Engine COMMIT\n",
      "2023-03-21 08:58:05,561 INFO sqlalchemy.engine.Engine BEGIN (implicit)\n",
      "2023-03-21 08:58:05,568 INFO sqlalchemy.engine.Engine SELECT heroes.id AS heroes_id, heroes.name AS heroes_name, heroes.role AS heroes_role, heroes.ultimate AS heroes_ultimate \n",
      "FROM heroes\n",
      "2023-03-21 08:58:05,592 INFO sqlalchemy.engine.Engine [generated in 0.02413s] ()\n",
      "[]\n"
     ]
    }
   ],
   "source": [
    "from sqlalchemy import create_engine, Column, Integer, String\n",
    "from sqlalchemy.orm import sessionmaker\n",
    "from sqlalchemy.ext.declarative import declarative_base\n",
    "\n",
    "# Create the database engine\n",
    "engine = create_engine('sqlite:///overwatch.db', echo=True)\n",
    "\n",
    "# Create a session factory\n",
    "Session = sessionmaker(bind=engine)\n",
    "\n",
    "# Define a base class for declarative models\n",
    "Base = declarative_base()\n",
    "\n",
    "# Define the Hero model\n",
    "class Hero(Base):\n",
    "    __tablename__ = 'heroes'\n",
    "    id = Column(Integer, primary_key=True)\n",
    "    name = Column(String)\n",
    "    role = Column(String)\n",
    "    ultimate = Column(String)\n",
    "\n",
    "    def __repr__(self):\n",
    "        return f'<Hero(id={self.id}, name=\"{self.name}\", role=\"{self.role}\", ultimate=\"{self.ultimate}\")>'\n",
    "\n",
    "# Create a session to interact with the database\n",
    "session = Session()\n",
    "\n",
    "# Delete all heroes from the database\n",
    "session.query(Hero).delete()\n",
    "session.commit()\n",
    "\n",
    "# Query the database for all heroes (should be empty)\n",
    "heroes = session.query(Hero).all()\n",
    "print(heroes)\n"
   ]
  },
  {
   "attachments": {},
   "cell_type": "markdown",
   "metadata": {},
   "source": [
    "**Update**"
   ]
  },
  {
   "cell_type": "code",
   "execution_count": 18,
   "metadata": {},
   "outputs": [
    {
     "name": "stdout",
     "output_type": "stream",
     "text": [
      "2023-03-21 09:05:39,581 INFO sqlalchemy.engine.Engine BEGIN (implicit)\n",
      "2023-03-21 09:05:39,589 INFO sqlalchemy.engine.Engine SELECT heroes.id AS heroes_id, heroes.name AS heroes_name, heroes.role AS heroes_role, heroes.ultimate AS heroes_ultimate \n",
      "FROM heroes \n",
      "WHERE heroes.name = ?\n",
      " LIMIT ? OFFSET ?\n",
      "2023-03-21 09:05:39,590 INFO sqlalchemy.engine.Engine [generated in 0.00148s] ('Tracer', 1, 0)\n",
      "2023-03-21 09:05:39,609 INFO sqlalchemy.engine.Engine UPDATE heroes SET ultimate=? WHERE heroes.id = ?\n",
      "2023-03-21 09:05:39,610 INFO sqlalchemy.engine.Engine [generated in 0.00110s] ('Pulse Bomb Plus', 1)\n",
      "2023-03-21 09:05:39,614 INFO sqlalchemy.engine.Engine COMMIT\n",
      "2023-03-21 09:05:39,617 INFO sqlalchemy.engine.Engine BEGIN (implicit)\n",
      "2023-03-21 09:05:39,619 INFO sqlalchemy.engine.Engine SELECT heroes.id AS heroes_id, heroes.name AS heroes_name, heroes.role AS heroes_role, heroes.ultimate AS heroes_ultimate \n",
      "FROM heroes \n",
      "WHERE heroes.name = ?\n",
      " LIMIT ? OFFSET ?\n",
      "2023-03-21 09:05:39,620 INFO sqlalchemy.engine.Engine [cached since 0.03102s ago] ('Tracer', 1, 0)\n",
      "<Hero(id=1, name=\"Tracer\", role=\"DPS\", ultimate=\"Pulse Bomb Plus\")>\n"
     ]
    }
   ],
   "source": [
    "from sqlalchemy import create_engine, Column, Integer, String\n",
    "from sqlalchemy.orm import sessionmaker\n",
    "from sqlalchemy.ext.declarative import declarative_base\n",
    "\n",
    "# Create the database engine\n",
    "engine = create_engine('sqlite:///overwatch.db', echo=True)\n",
    "\n",
    "# Create a session factory\n",
    "Session = sessionmaker(bind=engine)\n",
    "\n",
    "# Define a base class for declarative models\n",
    "Base = declarative_base()\n",
    "\n",
    "# Define the Hero model\n",
    "class Hero(Base):\n",
    "    __tablename__ = 'heroes'\n",
    "    id = Column(Integer, primary_key=True)\n",
    "    name = Column(String)\n",
    "    role = Column(String)\n",
    "    ultimate = Column(String)\n",
    "\n",
    "    def __repr__(self):\n",
    "        return f'<Hero(id={self.id}, name=\"{self.name}\", role=\"{self.role}\", ultimate=\"{self.ultimate}\")>'\n",
    "\n",
    "# Create a session to interact with the database\n",
    "session = Session()\n",
    "\n",
    "# Query for a hero to update\n",
    "hero = session.query(Hero).filter_by(name='Tracer').first()\n",
    "\n",
    "# Update the hero's ultimate ability\n",
    "hero.ultimate = 'Pulse Bomb Plus'\n",
    "\n",
    "# Commit the changes to the database\n",
    "session.commit()\n",
    "\n",
    "# Query the database for the updated hero\n",
    "hero = session.query(Hero).filter_by(name='Tracer').first()\n",
    "print(hero)\n"
   ]
  },
  {
   "attachments": {},
   "cell_type": "markdown",
   "metadata": {},
   "source": [
    "![Alt text](images/tablee.png)"
   ]
  },
  {
   "attachments": {},
   "cell_type": "markdown",
   "metadata": {},
   "source": [
    "![Alt text](images/debug.png)"
   ]
  }
 ],
 "metadata": {
  "kernelspec": {
   "display_name": "Python 3.9.12 ('base')",
   "language": "python",
   "name": "python3"
  },
  "language_info": {
   "codemirror_mode": {
    "name": "ipython",
    "version": 3
   },
   "file_extension": ".py",
   "mimetype": "text/x-python",
   "name": "python",
   "nbconvert_exporter": "python",
   "pygments_lexer": "ipython3",
   "version": "3.9.12"
  },
  "orig_nbformat": 4,
  "vscode": {
   "interpreter": {
    "hash": "29d5351f17f1eb7d37a852b56d4fe88d14b1b35632819b26060ee09bc47001e3"
   }
  }
 },
 "nbformat": 4,
 "nbformat_minor": 2
}
