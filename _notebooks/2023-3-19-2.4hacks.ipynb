{
 "cells": [
  {
   "attachments": {},
   "cell_type": "markdown",
   "metadata": {},
   "source": [
    "#  Unit 2.4b Hacks\n",
    "> Using Programs with Data is focused on SQL and database actions.  Part B focuses on learning SQL commands, connections, and curses using an Imperative programming style,\n",
    "- toc: true\n",
    "- image: /images/python.png\n",
    "- categories: []\n",
    "- type: ap\n",
    "- week: 26"
   ]
  },
  {
   "cell_type": "code",
   "execution_count": 3,
   "metadata": {},
   "outputs": [],
   "source": [
    "from flask_sqlalchemy import SQLAlchemy\n",
    "from flask import Flask\n",
    "\n",
    "# Create Flask object and configure it for SQLAlchemy\n",
    "app = Flask(__name__)\n",
    "app.config['SQLALCHEMY_DATABASE_URI'] = 'sqlite:///heroes.db'\n",
    "app.config['SQLALCHEMY_TRACK_MODIFICATIONS'] = False\n",
    "db = SQLAlchemy(app)\n",
    "\n",
    "# Define the Hero class to manage actions in the 'heroes' table\n",
    "class Hero(db.Model):\n",
    "    __tablename__ = 'heroes'  # table name is plural, class name is singular\n",
    "\n",
    "    # Define the Hero schema with \"vars\" from object\n",
    "    id = db.Column(db.Integer, primary_key=True)\n",
    "    name = db.Column(db.String(80))\n",
    "    health = db.Column(db.Integer)\n",
    "    damage = db.Column(db.Integer)\n",
    "\n",
    "    # Constructor function, init new Hero and put in table\n",
    "    def __init__(self, name, health, damage):\n",
    "        self.name = name\n",
    "        self.health = health\n",
    "        self.damage = damage\n",
    "        db.session.add(self)\n",
    "        db.session.commit()\n",
    "\n",
    "    # Update Hero info and commit changes\n",
    "    def update_hero(self, name, health, damage):\n",
    "        self.name = name\n",
    "        self.health = health\n",
    "        self.damage = damage\n",
    "        db.session.commit()\n",
    "\n",
    "    # Delete Hero from table\n",
    "    def delete_hero(self):\n",
    "        db.session.delete(self)\n",
    "        db.session.commit()\n",
    "\n",
    "    # Return a string representation of Hero object\n",
    "    def __repr__(self):\n",
    "        return f\"Hero: {self.name} - health: {self.health} - damage: {self.damage}\"\n"
   ]
  },
  {
   "cell_type": "code",
   "execution_count": 7,
   "metadata": {},
   "outputs": [
    {
     "name": "stdout",
     "output_type": "stream",
     "text": [
      "2023-03-20 11:15:50,426 INFO sqlalchemy.engine.Engine BEGIN (implicit)\n",
      "2023-03-20 11:15:50,430 INFO sqlalchemy.engine.Engine PRAGMA main.table_info(\"heroes\")\n",
      "2023-03-20 11:15:50,438 INFO sqlalchemy.engine.Engine [raw sql] ()\n",
      "2023-03-20 11:15:50,445 INFO sqlalchemy.engine.Engine COMMIT\n",
      "2023-03-20 11:15:50,459 INFO sqlalchemy.engine.Engine BEGIN (implicit)\n",
      "2023-03-20 11:15:50,466 INFO sqlalchemy.engine.Engine INSERT INTO heroes (name, role, ultimate) VALUES (?, ?, ?)\n",
      "2023-03-20 11:15:50,468 INFO sqlalchemy.engine.Engine [generated in 0.00234s] ('Tracer', 'DPS', 'Pulse Bomb')\n",
      "2023-03-20 11:15:50,475 INFO sqlalchemy.engine.Engine INSERT INTO heroes (name, role, ultimate) VALUES (?, ?, ?)\n",
      "2023-03-20 11:15:50,483 INFO sqlalchemy.engine.Engine [cached since 0.01735s ago] ('Mercy', 'Support', 'Valkyrie')\n",
      "2023-03-20 11:15:50,488 INFO sqlalchemy.engine.Engine INSERT INTO heroes (name, role, ultimate) VALUES (?, ?, ?)\n",
      "2023-03-20 11:15:50,490 INFO sqlalchemy.engine.Engine [cached since 0.02349s ago] ('Reinhardt', 'Tank', 'Earthshatter')\n",
      "2023-03-20 11:15:50,493 INFO sqlalchemy.engine.Engine COMMIT\n",
      "2023-03-20 11:15:50,497 INFO sqlalchemy.engine.Engine BEGIN (implicit)\n",
      "2023-03-20 11:15:50,499 INFO sqlalchemy.engine.Engine SELECT heroes.id AS heroes_id, heroes.name AS heroes_name, heroes.role AS heroes_role, heroes.ultimate AS heroes_ultimate \n",
      "FROM heroes\n",
      "2023-03-20 11:15:50,500 INFO sqlalchemy.engine.Engine [generated in 0.00113s] ()\n",
      "[<Hero(id=1, name=\"Tracer\", role=\"DPS\", ultimate=\"Pulse Bomb\")>, <Hero(id=2, name=\"Mercy\", role=\"Support\", ultimate=\"Valkyrie\")>, <Hero(id=3, name=\"Reinhardt\", role=\"Tank\", ultimate=\"Earthshatter\")>, <Hero(id=4, name=\"Tracer\", role=\"DPS\", ultimate=\"Pulse Bomb\")>, <Hero(id=5, name=\"Mercy\", role=\"Support\", ultimate=\"Valkyrie\")>, <Hero(id=6, name=\"Reinhardt\", role=\"Tank\", ultimate=\"Earthshatter\")>, <Hero(id=7, name=\"Tracer\", role=\"DPS\", ultimate=\"Pulse Bomb\")>, <Hero(id=8, name=\"Mercy\", role=\"Support\", ultimate=\"Valkyrie\")>, <Hero(id=9, name=\"Reinhardt\", role=\"Tank\", ultimate=\"Earthshatter\")>]\n"
     ]
    }
   ],
   "source": [
    "from sqlalchemy import create_engine, Column, Integer, String\n",
    "from sqlalchemy.orm import sessionmaker\n",
    "from sqlalchemy.ext.declarative import declarative_base\n",
    "\n",
    "# Create the database engine\n",
    "engine = create_engine('sqlite:///overwatch.db', echo=True)\n",
    "\n",
    "# Create a session factory\n",
    "Session = sessionmaker(bind=engine)\n",
    "\n",
    "# Define a base class for declarative models\n",
    "Base = declarative_base()\n",
    "\n",
    "# Define the Hero model\n",
    "class Hero(Base):\n",
    "    __tablename__ = 'heroes'\n",
    "    id = Column(Integer, primary_key=True)\n",
    "    name = Column(String)\n",
    "    role = Column(String)\n",
    "    ultimate = Column(String)\n",
    "\n",
    "    def __repr__(self):\n",
    "        return f'<Hero(id={self.id}, name=\"{self.name}\", role=\"{self.role}\", ultimate=\"{self.ultimate}\")>'\n",
    "\n",
    "# Create the table in the database\n",
    "Base.metadata.create_all(engine)\n",
    "\n",
    "# Create a session to interact with the database\n",
    "session = Session()\n",
    "\n",
    "# Add some heroes to the database\n",
    "tracer = Hero(name='Tracer', role='DPS', ultimate='Pulse Bomb')\n",
    "mercy = Hero(name='Mercy', role='Support', ultimate='Valkyrie')\n",
    "reinhardt = Hero(name='Reinhardt', role='Tank', ultimate='Earthshatter')\n",
    "doomfist = Hero(name='Doomfist', role='Tank', ultimate='MeteorStrike')\n",
    "\n",
    "session.add_all([tracer, mercy, reinhardt])\n",
    "session.commit()\n",
    "\n",
    "# Query the database for all heroes\n",
    "heroes = session.query(Hero).all()\n",
    "print(heroes)\n"
   ]
  }
 ],
 "metadata": {
  "kernelspec": {
   "display_name": "Python 3.10.9 64-bit",
   "language": "python",
   "name": "python3"
  },
  "language_info": {
   "codemirror_mode": {
    "name": "ipython",
    "version": 3
   },
   "file_extension": ".py",
   "mimetype": "text/x-python",
   "name": "python",
   "nbconvert_exporter": "python",
   "pygments_lexer": "ipython3",
   "version": "3.10.9"
  },
  "orig_nbformat": 4,
  "vscode": {
   "interpreter": {
    "hash": "aee8b7b246df8f9039afb4144a1f6fd8d2ca17a180786b69acc140d282b71a49"
   }
  }
 },
 "nbformat": 4,
 "nbformat_minor": 2
}
