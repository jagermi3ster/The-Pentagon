{
 "cells": [
  {
   "attachments": {},
   "cell_type": "markdown",
   "metadata": {},
   "source": [
    "#  Unit 2.4b Hacks\n",
    "> Using Programs with Data is focused on SQL and database actions.  Part B focuses on learning SQL commands, connections, and curses using an Imperative programming style,\n",
    "- toc: true\n",
    "- image: /images/python.png\n",
    "- categories: []\n",
    "- type: ap\n",
    "- week: 26"
   ]
  },
  {
   "cell_type": "code",
   "execution_count": 6,
   "metadata": {},
   "outputs": [
    {
     "name": "stdout",
     "output_type": "stream",
     "text": [
      "2023-03-21 12:19:36,328 INFO sqlalchemy.engine.Engine BEGIN (implicit)\n",
      "2023-03-21 12:19:36,336 INFO sqlalchemy.engine.Engine PRAGMA main.table_info(\"heroes\")\n",
      "2023-03-21 12:19:36,348 INFO sqlalchemy.engine.Engine [raw sql] ()\n",
      "2023-03-21 12:19:36,368 INFO sqlalchemy.engine.Engine COMMIT\n"
     ]
    },
    {
     "name": "stderr",
     "output_type": "stream",
     "text": [
      "/var/folders/2v/jx5mc_r50sd04klb4gfy0kl00000gn/T/ipykernel_80358/388939683.py:12: MovedIn20Warning: The ``declarative_base()`` function is now available as sqlalchemy.orm.declarative_base(). (deprecated since: 2.0) (Background on SQLAlchemy 2.0 at: https://sqlalche.me/e/b8d9)\n",
      "  Base = declarative_base()\n"
     ]
    }
   ],
   "source": [
    "from sqlalchemy import create_engine, Column, Integer, String\n",
    "from sqlalchemy.orm import sessionmaker\n",
    "from sqlalchemy.ext.declarative import declarative_base\n",
    "\n",
    "# Create the database engine\n",
    "engine = create_engine('sqlite:///overwatch.db', echo=True)\n",
    "\n",
    "# Create a session factory\n",
    "Session = sessionmaker(bind=engine)\n",
    "\n",
    "# Define a base class for declarative models\n",
    "Base = declarative_base()\n",
    "\n",
    "# Define the Hero model\n",
    "class Hero(Base):\n",
    "    __tablename__ = 'heroes'\n",
    "    id = Column(Integer, primary_key=True)\n",
    "    name = Column(String)\n",
    "    role = Column(String)\n",
    "    ultimate = Column(String)\n",
    "\n",
    "    def __repr__(self):\n",
    "        return f'<Hero(id={self.id}, name=\"{self.name}\", role=\"{self.role}\", ultimate=\"{self.ultimate}\")>'\n",
    "\n",
    "# Create the table in the database\n",
    "Base.metadata.create_all(engine)\n"
   ]
  },
  {
   "attachments": {},
   "cell_type": "markdown",
   "metadata": {},
   "source": [
    "**Add Heroes to the Table**"
   ]
  },
  {
   "cell_type": "code",
   "execution_count": 7,
   "metadata": {},
   "outputs": [
    {
     "name": "stderr",
     "output_type": "stream",
     "text": [
      "/var/folders/2v/jx5mc_r50sd04klb4gfy0kl00000gn/T/ipykernel_80358/3966635573.py:12: MovedIn20Warning: The ``declarative_base()`` function is now available as sqlalchemy.orm.declarative_base(). (deprecated since: 2.0) (Background on SQLAlchemy 2.0 at: https://sqlalche.me/e/b8d9)\n",
      "  Base = declarative_base()\n"
     ]
    },
    {
     "name": "stdout",
     "output_type": "stream",
     "text": [
      "2023-03-21 12:22:55,630 INFO sqlalchemy.engine.Engine BEGIN (implicit)\n",
      "2023-03-21 12:22:55,704 INFO sqlalchemy.engine.Engine INSERT INTO heroes (name, role, ultimate) VALUES (?, ?, ?)\n",
      "2023-03-21 12:22:55,708 INFO sqlalchemy.engine.Engine [generated in 0.01354s] ('Mario', 'DPS', 'Mushroom')\n",
      "2023-03-21 12:22:55,723 INFO sqlalchemy.engine.Engine COMMIT\n",
      "2023-03-21 12:22:55,746 INFO sqlalchemy.engine.Engine BEGIN (implicit)\n",
      "2023-03-21 12:22:55,772 INFO sqlalchemy.engine.Engine SELECT heroes.id AS heroes_id, heroes.name AS heroes_name, heroes.role AS heroes_role, heroes.ultimate AS heroes_ultimate \n",
      "FROM heroes\n",
      "2023-03-21 12:22:55,775 INFO sqlalchemy.engine.Engine [generated in 0.00291s] ()\n",
      "[<Hero(id=1, name=\"Tracer\", role=\"DPS\", ultimate=\"Pulse Bomb Plus\")>, <Hero(id=2, name=\"Mercy\", role=\"Support\", ultimate=\"Valkyrie\")>, <Hero(id=3, name=\"Reinhardt\", role=\"Tank\", ultimate=\"Earthshatter\")>, <Hero(id=4, name=\"Doomfist\", role=\"Tank\", ultimate=\"MeteorStrike\")>, <Hero(id=5, name=\"Genji\", role=\"DPS\", ultimate=\"DragonBlade\")>, <Hero(id=6, name=\"Ashe\", role=\"DPS\", ultimate=\"Bob\")>, <Hero(id=7, name=\"Mario\", role=\"DPS\", ultimate=\"Mushroom\")>]\n"
     ]
    }
   ],
   "source": [
    "from sqlalchemy import create_engine, Column, Integer, String\n",
    "from sqlalchemy.orm import sessionmaker\n",
    "from sqlalchemy.ext.declarative import declarative_base\n",
    "\n",
    "# Create the database engine\n",
    "engine = create_engine('sqlite:///overwatch.db', echo=True)\n",
    "\n",
    "# Create a session factory\n",
    "Session = sessionmaker(bind=engine)\n",
    "\n",
    "# Define a base class for declarative models\n",
    "Base = declarative_base()\n",
    "\n",
    "# Define the Hero model\n",
    "class Hero(Base):\n",
    "    __tablename__ = 'heroes'\n",
    "    id = Column(Integer, primary_key=True)\n",
    "    name = Column(String)\n",
    "    role = Column(String)\n",
    "    ultimate = Column(String)\n",
    "\n",
    "    def __repr__(self):\n",
    "        return f'<Hero(id={self.id}, name=\"{self.name}\", role=\"{self.role}\", ultimate=\"{self.ultimate}\")>'\n",
    "\n",
    "# Create a session to interact with the database\n",
    "session = Session()\n",
    "\n",
    "# Add some heroes to the database\n",
    "mario = Hero(name='Mario', role='DPS', ultimate='Mushroom')\n",
    "\n",
    "session.add_all([mario])\n",
    "session.commit()\n",
    "\n",
    "# Query the database for all heroes\n",
    "heroes = session.query(Hero).all()\n",
    "print(heroes)\n"
   ]
  },
  {
   "attachments": {},
   "cell_type": "markdown",
   "metadata": {},
   "source": [
    "**DELETE**"
   ]
  },
  {
   "cell_type": "code",
   "execution_count": 14,
   "metadata": {},
   "outputs": [
    {
     "name": "stdout",
     "output_type": "stream",
     "text": [
      "2023-03-21 08:55:19,861 INFO sqlalchemy.engine.Engine BEGIN (implicit)\n",
      "2023-03-21 08:55:19,881 INFO sqlalchemy.engine.Engine SELECT heroes.id AS heroes_id, heroes.name AS heroes_name, heroes.role AS heroes_role, heroes.ultimate AS heroes_ultimate \n",
      "FROM heroes \n",
      "WHERE heroes.name = ?\n",
      " LIMIT ? OFFSET ?\n",
      "2023-03-21 08:55:19,886 INFO sqlalchemy.engine.Engine [generated in 0.00538s] ('Mercy', 1, 0)\n",
      "2023-03-21 08:55:19,901 INFO sqlalchemy.engine.Engine DELETE FROM heroes WHERE heroes.id = ?\n",
      "2023-03-21 08:55:19,903 INFO sqlalchemy.engine.Engine [generated in 0.00193s] (2,)\n",
      "2023-03-21 08:55:19,907 INFO sqlalchemy.engine.Engine COMMIT\n",
      "2023-03-21 08:55:19,919 INFO sqlalchemy.engine.Engine BEGIN (implicit)\n",
      "2023-03-21 08:55:19,921 INFO sqlalchemy.engine.Engine SELECT heroes.id AS heroes_id, heroes.name AS heroes_name, heroes.role AS heroes_role, heroes.ultimate AS heroes_ultimate \n",
      "FROM heroes\n",
      "2023-03-21 08:55:19,927 INFO sqlalchemy.engine.Engine [generated in 0.00560s] ()\n",
      "[<Hero(id=3, name=\"Reinhardt\", role=\"Tank\", ultimate=\"Earthshatter\")>, <Hero(id=4, name=\"Tracer\", role=\"DPS\", ultimate=\"Pulse Bomb\")>, <Hero(id=5, name=\"Mercy\", role=\"Support\", ultimate=\"Valkyrie\")>, <Hero(id=6, name=\"Reinhardt\", role=\"Tank\", ultimate=\"Earthshatter\")>, <Hero(id=7, name=\"Tracer\", role=\"DPS\", ultimate=\"Pulse Bomb\")>, <Hero(id=8, name=\"Mercy\", role=\"Support\", ultimate=\"Valkyrie\")>, <Hero(id=9, name=\"Reinhardt\", role=\"Tank\", ultimate=\"Earthshatter\")>, <Hero(id=10, name=\"Tracer\", role=\"DPS\", ultimate=\"Pulse Bomb\")>, <Hero(id=11, name=\"Mercy\", role=\"Support\", ultimate=\"Valkyrie\")>, <Hero(id=12, name=\"Reinhardt\", role=\"Tank\", ultimate=\"Earthshatter\")>, <Hero(id=13, name=\"Doomfist\", role=\"Tank\", ultimate=\"MeteorStrike\")>, <Hero(id=14, name=\"Tracer\", role=\"DPS\", ultimate=\"Pulse Bomb\")>, <Hero(id=15, name=\"Mercy\", role=\"Support\", ultimate=\"Valkyrie\")>, <Hero(id=16, name=\"Reinhardt\", role=\"Tank\", ultimate=\"Earthshatter\")>, <Hero(id=17, name=\"Doomfist\", role=\"Tank\", ultimate=\"MeteorStrike\")>, <Hero(id=18, name=\"Tracer\", role=\"DPS\", ultimate=\"Pulse Bomb\")>, <Hero(id=19, name=\"Mercy\", role=\"Support\", ultimate=\"Valkyrie\")>, <Hero(id=20, name=\"Reinhardt\", role=\"Tank\", ultimate=\"Earthshatter\")>, <Hero(id=21, name=\"Doomfist\", role=\"Tank\", ultimate=\"MeteorStrike\")>]\n"
     ]
    }
   ],
   "source": [
    "from sqlalchemy import create_engine, Column, Integer, String\n",
    "from sqlalchemy.orm import sessionmaker\n",
    "from sqlalchemy.ext.declarative import declarative_base\n",
    "\n",
    "# Create the database engine\n",
    "engine = create_engine('sqlite:///overwatch.db', echo=True)\n",
    "\n",
    "# Create a session factory\n",
    "Session = sessionmaker(bind=engine)\n",
    "\n",
    "# Define a base class for declarative models\n",
    "Base = declarative_base()\n",
    "\n",
    "# Define the Hero model\n",
    "class Hero(Base):\n",
    "    __tablename__ = 'heroes'\n",
    "    id = Column(Integer, primary_key=True)\n",
    "    name = Column(String)\n",
    "    role = Column(String)\n",
    "    ultimate = Column(String)\n",
    "\n",
    "    def __repr__(self):\n",
    "        return f'<Hero(id={self.id}, name=\"{self.name}\", role=\"{self.role}\", ultimate=\"{self.ultimate}\")>'\n",
    "\n",
    "# Create a session to interact with the database\n",
    "session = Session()\n",
    "\n",
    "# Query the database for the hero to delete\n",
    "hero_to_delete = session.query(Hero).filter_by(name='Mercy').first()\n",
    "\n",
    "# Delete the hero object from the session and commit the changes to the database\n",
    "session.delete(hero_to_delete)\n",
    "session.commit()\n",
    "\n",
    "# Query the database for all heroes\n",
    "heroes = session.query(Hero).all()\n",
    "print(heroes)\n"
   ]
  },
  {
   "attachments": {},
   "cell_type": "markdown",
   "metadata": {},
   "source": [
    "**Clear Database**"
   ]
  },
  {
   "cell_type": "code",
   "execution_count": 15,
   "metadata": {},
   "outputs": [
    {
     "name": "stdout",
     "output_type": "stream",
     "text": [
      "2023-03-21 08:58:05,530 INFO sqlalchemy.engine.Engine BEGIN (implicit)\n",
      "2023-03-21 08:58:05,539 INFO sqlalchemy.engine.Engine DELETE FROM heroes\n",
      "2023-03-21 08:58:05,546 INFO sqlalchemy.engine.Engine [generated in 0.00616s] ()\n",
      "2023-03-21 08:58:05,551 INFO sqlalchemy.engine.Engine COMMIT\n",
      "2023-03-21 08:58:05,561 INFO sqlalchemy.engine.Engine BEGIN (implicit)\n",
      "2023-03-21 08:58:05,568 INFO sqlalchemy.engine.Engine SELECT heroes.id AS heroes_id, heroes.name AS heroes_name, heroes.role AS heroes_role, heroes.ultimate AS heroes_ultimate \n",
      "FROM heroes\n",
      "2023-03-21 08:58:05,592 INFO sqlalchemy.engine.Engine [generated in 0.02413s] ()\n",
      "[]\n"
     ]
    }
   ],
   "source": [
    "from sqlalchemy import create_engine, Column, Integer, String\n",
    "from sqlalchemy.orm import sessionmaker\n",
    "from sqlalchemy.ext.declarative import declarative_base\n",
    "\n",
    "# Create the database engine\n",
    "engine = create_engine('sqlite:///overwatch.db', echo=True)\n",
    "\n",
    "# Create a session factory\n",
    "Session = sessionmaker(bind=engine)\n",
    "\n",
    "# Define a base class for declarative models\n",
    "Base = declarative_base()\n",
    "\n",
    "# Define the Hero model\n",
    "class Hero(Base):\n",
    "    __tablename__ = 'heroes'\n",
    "    id = Column(Integer, primary_key=True)\n",
    "    name = Column(String)\n",
    "    role = Column(String)\n",
    "    ultimate = Column(String)\n",
    "\n",
    "    def __repr__(self):\n",
    "        return f'<Hero(id={self.id}, name=\"{self.name}\", role=\"{self.role}\", ultimate=\"{self.ultimate}\")>'\n",
    "\n",
    "# Create a session to interact with the database\n",
    "session = Session()\n",
    "\n",
    "# Delete all heroes from the database\n",
    "session.query(Hero).delete()\n",
    "session.commit()\n",
    "\n",
    "# Query the database for all heroes (should be empty)\n",
    "heroes = session.query(Hero).all()\n",
    "print(heroes)\n"
   ]
  },
  {
   "attachments": {},
   "cell_type": "markdown",
   "metadata": {},
   "source": [
    "**Update**"
   ]
  },
  {
   "cell_type": "code",
   "execution_count": 18,
   "metadata": {},
   "outputs": [
    {
     "name": "stdout",
     "output_type": "stream",
     "text": [
      "2023-03-21 09:05:39,581 INFO sqlalchemy.engine.Engine BEGIN (implicit)\n",
      "2023-03-21 09:05:39,589 INFO sqlalchemy.engine.Engine SELECT heroes.id AS heroes_id, heroes.name AS heroes_name, heroes.role AS heroes_role, heroes.ultimate AS heroes_ultimate \n",
      "FROM heroes \n",
      "WHERE heroes.name = ?\n",
      " LIMIT ? OFFSET ?\n",
      "2023-03-21 09:05:39,590 INFO sqlalchemy.engine.Engine [generated in 0.00148s] ('Tracer', 1, 0)\n",
      "2023-03-21 09:05:39,609 INFO sqlalchemy.engine.Engine UPDATE heroes SET ultimate=? WHERE heroes.id = ?\n",
      "2023-03-21 09:05:39,610 INFO sqlalchemy.engine.Engine [generated in 0.00110s] ('Pulse Bomb Plus', 1)\n",
      "2023-03-21 09:05:39,614 INFO sqlalchemy.engine.Engine COMMIT\n",
      "2023-03-21 09:05:39,617 INFO sqlalchemy.engine.Engine BEGIN (implicit)\n",
      "2023-03-21 09:05:39,619 INFO sqlalchemy.engine.Engine SELECT heroes.id AS heroes_id, heroes.name AS heroes_name, heroes.role AS heroes_role, heroes.ultimate AS heroes_ultimate \n",
      "FROM heroes \n",
      "WHERE heroes.name = ?\n",
      " LIMIT ? OFFSET ?\n",
      "2023-03-21 09:05:39,620 INFO sqlalchemy.engine.Engine [cached since 0.03102s ago] ('Tracer', 1, 0)\n",
      "<Hero(id=1, name=\"Tracer\", role=\"DPS\", ultimate=\"Pulse Bomb Plus\")>\n"
     ]
    }
   ],
   "source": [
    "from sqlalchemy import create_engine, Column, Integer, String\n",
    "from sqlalchemy.orm import sessionmaker\n",
    "from sqlalchemy.ext.declarative import declarative_base\n",
    "\n",
    "# Create the database engine\n",
    "engine = create_engine('sqlite:///overwatch.db', echo=True)\n",
    "\n",
    "# Create a session factory\n",
    "Session = sessionmaker(bind=engine)\n",
    "\n",
    "# Define a base class for declarative models\n",
    "Base = declarative_base()\n",
    "\n",
    "# Define the Hero model\n",
    "class Hero(Base):\n",
    "    __tablename__ = 'heroes'\n",
    "    id = Column(Integer, primary_key=True)\n",
    "    name = Column(String)\n",
    "    role = Column(String)\n",
    "    ultimate = Column(String)\n",
    "\n",
    "    def __repr__(self):\n",
    "        return f'<Hero(id={self.id}, name=\"{self.name}\", role=\"{self.role}\", ultimate=\"{self.ultimate}\")>'\n",
    "\n",
    "# Create a session to interact with the database\n",
    "session = Session()\n",
    "\n",
    "# Query for a hero to update\n",
    "hero = session.query(Hero).filter_by(name='Tracer').first()\n",
    "\n",
    "# Update the hero's ultimate ability\n",
    "hero.ultimate = 'Pulse Bomb Plus'\n",
    "\n",
    "# Commit the changes to the database\n",
    "session.commit()\n",
    "\n",
    "# Query the database for the updated hero\n",
    "hero = session.query(Hero).filter_by(name='Tracer').first()\n",
    "print(hero)\n"
   ]
  },
  {
   "attachments": {},
   "cell_type": "markdown",
   "metadata": {},
   "source": [
    "![Alt text](images/tablee.png)"
   ]
  },
  {
   "attachments": {},
   "cell_type": "markdown",
   "metadata": {},
   "source": [
    "![Alt text](images/debug.png)"
   ]
  },
  {
   "cell_type": "code",
   "execution_count": 19,
   "metadata": {},
   "outputs": [],
   "source": [
    "import sqlite3\n",
    "\n",
    "# create a connection to the database file\n",
    "conn = sqlite3.connect('overwatch2.db')\n",
    "\n",
    "# create a new table called 'heroes'\n",
    "conn.execute('''CREATE TABLE IF NOT EXISTS heroes\n",
    "             (id INTEGER PRIMARY KEY AUTOINCREMENT,\n",
    "              name TEXT,\n",
    "              role TEXT,\n",
    "              ultimate_ability TEXT);''')\n",
    "\n",
    "# insert a new hero into the table\n",
    "conn.execute(\"INSERT INTO heroes (name, role, ultimate_ability) VALUES ('Tracer', 'Damage', 'Pulse Bomb')\")\n",
    "\n",
    "# save the changes and close the connection\n",
    "conn.commit()\n",
    "conn.close()\n"
   ]
  },
  {
   "cell_type": "code",
   "execution_count": 20,
   "metadata": {},
   "outputs": [],
   "source": [
    "# connect to the database\n",
    "conn = sqlite3.connect('overwatch2.db')\n",
    "\n",
    "# insert a new hero into the table\n",
    "conn.execute(\"INSERT INTO heroes (name, role, ultimate_ability) VALUES ('Tracer', 'Damage', 'Pulse Bomb')\")\n",
    "\n",
    "# save the changes and close the connection\n",
    "conn.commit()\n",
    "conn.close()\n"
   ]
  },
  {
   "cell_type": "code",
   "execution_count": 1,
   "metadata": {},
   "outputs": [
    {
     "name": "stdout",
     "output_type": "stream",
     "text": [
      "A new hero genji has been created\n"
     ]
    }
   ],
   "source": [
    "import sqlite3\n",
    "\n",
    "def create_hero():\n",
    "    hero_name = input(\"Enter new hero name:\")\n",
    "    role = input(\"Enter new hero role:\")\n",
    "    ultimate_ability = input(\"Enter ultimate ability name:\")\n",
    "    \n",
    "    # Connect to the database file\n",
    "    conn = sqlite3.connect(\"overwatch2.db\")\n",
    "\n",
    "    # Create a cursor object to execute SQL commands\n",
    "    cursor = conn.cursor()\n",
    "\n",
    "    try:\n",
    "        # Execute an SQL command to insert data into a table\n",
    "        cursor.execute(\"INSERT INTO heroes (name, role, ultimate_ability) VALUES (?, ?, ?)\", (hero_name, role, ultimate_ability))\n",
    "        \n",
    "        # Commit the changes to the database\n",
    "        conn.commit()\n",
    "        print(f\"A new hero {hero_name} has been created\")\n",
    "                \n",
    "    except sqlite3.Error as error:\n",
    "        print(\"Error while executing the INSERT:\", error)\n",
    "\n",
    "\n",
    "    # Close the cursor and connection objects\n",
    "    cursor.close()\n",
    "    conn.close()\n",
    "    \n",
    "create_hero()\n"
   ]
  },
  {
   "cell_type": "code",
   "execution_count": 24,
   "metadata": {},
   "outputs": [],
   "source": [
    "import sqlite3\n",
    "\n",
    "def read():\n",
    "    # Connect to the database file\n",
    "    conn = sqlite3.connect('overwatch2.db')\n",
    "\n",
    "    # Create a cursor object to execute SQL commands\n",
    "    cursor = conn.cursor()\n",
    "\n",
    "    try:\n",
    "        # Execute an SQL command to select all data from the \"heroes\" table\n",
    "        cursor.execute(\"SELECT * FROM heroes\")\n",
    "        \n",
    "        # Fetch all the rows returned by the SQL command\n",
    "        rows = cursor.fetchall()\n",
    "        \n",
    "        # Print the data\n",
    "        for row in rows:\n",
    "            print(row)\n",
    "                \n",
    "    except sqlite3.Error as error:\n",
    "        print(\"Error while executing the SELECT:\", error)\n",
    "\n",
    "\n",
    "    # Close the cursor and connection objects\n",
    "    cursor.close()\n",
    "    conn.close()\n"
   ]
  },
  {
   "cell_type": "code",
   "execution_count": 42,
   "metadata": {},
   "outputs": [],
   "source": [
    "import sqlite3\n",
    "\n",
    "def update_hero(tracer):\n",
    "    # Prompt the user to enter the hero ID and new information\n",
    "    hero_id = input(\"Enter the ID of the hero you want to update: \")\n",
    "    hero_name = input(\"Enter the new hero name (leave blank to keep current name): \")\n",
    "    role = input(\"Enter the new role (leave blank to keep current role): \")\n",
    "    ultimate_ability = input(\"Enter the new ultimate ability (leave blank to keep current ability): \")\n",
    "\n",
    "    # Connect to the database\n",
    "    conn = sqlite3.connect('overwatch2.db')\n",
    "\n",
    "    # Create a cursor object\n",
    "    cursor = conn.cursor()\n",
    "\n",
    "    # Build the SQL query\n",
    "    sql = \"UPDATE heroes SET\"\n",
    "    params = []\n",
    "\n",
    "    # If the user entered a new hero name, add it to the query and parameters\n",
    "    if hero_name:\n",
    "        sql += \" hero_name = ?,\"\n",
    "        params.append(hero_name)\n",
    "\n",
    "    # If the user entered a new role, add it to the query and parameters\n",
    "    if role:\n",
    "        sql += \" role = ?,\"\n",
    "        params.append(role)\n",
    "\n",
    "    # If the user entered a new ultimate ability, add it to the query and parameters\n",
    "    if ultimate_ability:\n",
    "        sql += \" ultimate_ability = ?,\"\n",
    "        params.append(ultimate_ability)\n",
    "\n",
    "    # Remove the trailing comma from the query\n",
    "    sql = sql.rstrip(\",\")\n",
    "\n",
    "    # Add the WHERE clause to specify the hero to update\n",
    "    sql += \" WHERE id = ?\"\n",
    "    params.append(hero_id)\n",
    "\n",
    "    # Execute the SQL query with the provided parameters\n",
    "    cursor.execute(sql, params)\n",
    "\n",
    "    # Commit the changes and close the connection\n",
    "    conn.commit()\n",
    "    conn.close()\n",
    "\n",
    "    # Display a message indicating success\n",
    "    print(\"Hero updated successfully!\")\n"
   ]
  },
  {
   "cell_type": "code",
   "execution_count": 33,
   "metadata": {},
   "outputs": [],
   "source": []
  },
  {
   "cell_type": "code",
   "execution_count": 40,
   "metadata": {},
   "outputs": [
    {
     "ename": "TypeError",
     "evalue": "update_hero() takes 0 positional arguments but 3 were given",
     "output_type": "error",
     "traceback": [
      "\u001b[0;31m---------------------------------------------------------------------------\u001b[0m",
      "\u001b[0;31mTypeError\u001b[0m                                 Traceback (most recent call last)",
      "\u001b[1;32m/Users/jaggerklein/vscode/The-Pentagon/_notebooks/2023-3-19-2.4hacks.ipynb Cell 19\u001b[0m in \u001b[0;36m<cell line: 1>\u001b[0;34m()\u001b[0m\n\u001b[0;32m----> <a href='vscode-notebook-cell:/Users/jaggerklein/vscode/The-Pentagon/_notebooks/2023-3-19-2.4hacks.ipynb#X36sZmlsZQ%3D%3D?line=0'>1</a>\u001b[0m update_hero(\u001b[39m'\u001b[39;49m\u001b[39mTracer\u001b[39;49m\u001b[39m'\u001b[39;49m, \u001b[39m'\u001b[39;49m\u001b[39mDamage\u001b[39;49m\u001b[39m'\u001b[39;49m, \u001b[39m'\u001b[39;49m\u001b[39mPulse Bomb Plus\u001b[39;49m\u001b[39m'\u001b[39;49m)\n",
      "\u001b[0;31mTypeError\u001b[0m: update_hero() takes 0 positional arguments but 3 were given"
     ]
    }
   ],
   "source": [
    "update_hero('Tracer', 'Damage', 'Pulse Bomb Plus')"
   ]
  },
  {
   "cell_type": "code",
   "execution_count": 37,
   "metadata": {},
   "outputs": [],
   "source": [
    "import sqlite3\n",
    "\n",
    "def delete_hero():\n",
    "    # Prompt the user for the hero name to delete\n",
    "    name = input(\"tracer\")\n",
    "\n",
    "    # Connect to the database file\n",
    "    conn = sqlite3.connect(\"overwatch2.db\")\n",
    "\n",
    "    # Create a cursor object to execute SQL commands\n",
    "    cursor = conn.cursor()\n",
    "\n",
    "    try:\n",
    "        # Execute an SQL command to delete the hero with the given name\n",
    "        cursor.execute(\"DELETE FROM heroes WHERE hero_name = ?\", (name))\n",
    "\n",
    "        # Check if any rows were affected by the delete command\n",
    "        if cursor.rowcount == 0:\n",
    "            print(f\"No hero with name {name} found.\")\n",
    "        else:\n",
    "            print(f\"{cursor.rowcount} hero(s) with name {name} deleted.\")\n",
    "\n",
    "        # Commit the changes to the database\n",
    "        conn.commit()\n",
    "\n",
    "    except sqlite3.Error as error:\n",
    "        print(\"Error while executing the DELETE:\", error)\n",
    "\n",
    "    # Close the cursor and connection objects\n",
    "    cursor.close()\n",
    "    conn.close()\n"
   ]
  }
 ],
 "metadata": {
  "kernelspec": {
   "display_name": "Python 3.9.12 ('base')",
   "language": "python",
   "name": "python3"
  },
  "language_info": {
   "codemirror_mode": {
    "name": "ipython",
    "version": 3
   },
   "file_extension": ".py",
   "mimetype": "text/x-python",
   "name": "python",
   "nbconvert_exporter": "python",
   "pygments_lexer": "ipython3",
   "version": "3.9.12"
  },
  "orig_nbformat": 4,
  "vscode": {
   "interpreter": {
    "hash": "29d5351f17f1eb7d37a852b56d4fe88d14b1b35632819b26060ee09bc47001e3"
   }
  }
 },
 "nbformat": 4,
 "nbformat_minor": 2
}
