{
 "cells": [
  {
   "attachments": {},
   "cell_type": "markdown",
   "metadata": {},
   "source": [
    "#  CPT Draft (No AP Test)\n",
    "- toc: true\n",
    "- image: /images/python.png\n",
    "- categories: []\n",
    "- type: ap\n",
    "- week: 28"
   ]
  },
  {
   "attachments": {},
   "cell_type": "markdown",
   "metadata": {},
   "source": [
    "**Describe Procedural abstraction** Procedural abstraction is a programming technique that enables developers to simplify complex code by hiding the details of how functions and procedures work. This technique is used in both frontend and backend programming and can be implemented using a range of abstraction techniques, such as functions, classes, and modules.\n",
    "\n",
    "In frontend development, procedural abstraction is often used to manage complex user interfaces. For example, a developer might create a function that handles the behavior of a dropdown menu, which can be reused across different parts of a website. This function would be abstracted from the rest of the code, making it easier to read and modify. Similarly, in backend development, procedural abstraction can be used to break down complex database queries or business logic into smaller, more manageable functions or classes.\n",
    "\n",
    "One of the most common abstraction techniques used in procedural abstraction is functions. Functions are self-contained blocks of code that perform a specific task and return a value. By using functions to perform specific tasks, developers can reuse the same code across different parts of a program, making it more efficient and easier to maintain. Functions can also be abstracted from the rest of the code, making it easier to read and modify.\n",
    "\n",
    "Classes are another important abstraction technique used in procedural abstraction. Classes are blueprints for creating objects that contain both data and methods. By creating classes to represent specific objects or data types, developers can reuse the same code across different parts of a program. For example, a developer might create a class to represent a user object, which can be reused across different parts of a web application.\n",
    "\n",
    "Modules are another useful abstraction technique used in procedural abstraction. Modules are self-contained blocks of code that can be imported and reused across different parts of a program. By creating modules that contain specific functions or classes, developers can reuse the same code across different parts of a program, making it more efficient and easier to maintain.\n",
    "\n",
    "In conclusion, procedural abstraction is an important programming technique that enables developers to simplify complex code by breaking it down into smaller, more manageable pieces. This technique can be implemented using a range of abstraction techniques, such as functions, classes, and modules, and can be used in both frontend and backend development to improve code organization and maintainability."
   ]
  },
  {
   "attachments": {},
   "cell_type": "markdown",
   "metadata": {},
   "source": [
    "**Data abstraction** is a programming concept that involves separating the implementation details of data structures from their use in code. This technique is used to simplify the complexity of data structures by providing a simpler and more intuitive interface for accessing and manipulating them. Data abstraction can be implemented using a range of data structures, including JSON, dictionaries, lists, and database tables.\n",
    "\n",
    "JSON (JavaScript Object Notation) is a lightweight data interchange format that is commonly used in web applications. JSON is easy to read and write, making it a popular choice for storing and exchanging data. JSON can be used to represent complex data structures, such as nested objects and arrays, and can be easily converted to other data formats, such as XML. In data abstraction, JSON can be used to represent data objects in a simple and intuitive way, making it easier to read and modify.\n",
    "\n",
    "Dictionaries are another useful data structure for implementing data abstraction. A dictionary is a collection of key-value pairs, where each key maps to a specific value. Dictionaries can be used to represent complex data structures, such as trees and graphs, and are commonly used in web development to store and retrieve data from APIs. In data abstraction, dictionaries can be used to provide a simplified interface for accessing and manipulating data, making it easier to understand and modify.\n",
    "\n",
    "Lists are another commonly used data structure in data abstraction. A list is a collection of elements that can be accessed using an index or a pointer. Lists are useful for storing and manipulating data in a specific order, and can be used to represent sequences of data, such as arrays or linked lists. In data abstraction, lists can be used to provide a simplified interface for accessing and manipulating data, making it easier to understand and modify.\n",
    "\n",
    "Database tables are a more complex data structure that can be used to implement data abstraction in larger projects. A database table is a collection of related data that is organized into rows and columns. Tables are used to store and manage large amounts of data, and are commonly used in web applications to store user data, such as usernames, passwords, and preferences. In data abstraction, database tables can be used to provide a simplified interface for accessing and manipulating data, making it easier to understand and modify.\n",
    "\n",
    "In conclusion, data abstraction is an important programming concept that involves separating the implementation details of data structures from their use in code. This technique can be implemented using a range of data structures, including JSON, dictionaries, lists, and database tables, and can be used to simplify the complexity of data structures and provide a more intuitive interface for accessing and manipulating data.\n",
    "\n",
    "\n",
    "\n",
    "\n"
   ]
  },
  {
   "attachments": {},
   "cell_type": "markdown",
   "metadata": {},
   "source": [
    "**Control structures** are essential programming constructs that enable developers to control the flow of execution of their code. Two commonly used control structures are iteration and conditional statements. Iteration involves repeating a block of code a certain number of times or until a specific condition is met. Conditional statements involve executing a block of code only if a certain condition is true, or executing a different block of code if the condition is false.\n",
    "\n",
    "In frontend development, iteration and conditional statements are used in a variety of ways to display and manipulate data. For example, a developer might use a loop to iterate through a list of items and display them on a web page. They might also use conditional statements to display different content based on user input or other conditions. In this context, lists are often used to store and manage data that needs to be displayed or manipulated.\n",
    "\n",
    "In backend development, iteration and conditional statements are commonly used to manage different paths of code execution. For instance, a developer might use a conditional statement to determine whether a user is creating, reading, updating, or deleting data in a database. Depending on the user's input, the developer might execute a different block of code to perform the desired action. In this context, iteration might be used to perform bulk operations on data or to loop through a list of items that need to be processed.\n",
    "\n",
    "\n",
    "\n",
    "\n",
    "\n",
    "\n",
    "\n"
   ]
  },
  {
   "cell_type": "code",
   "execution_count": null,
   "metadata": {},
   "outputs": [],
   "source": [
    "def greet_user(name, formal):\n",
    "    if formal:\n",
    "        return \"Hello, Mr./Ms. \" + name\n",
    "    else:\n",
    "        return \"Hi, \" + name\n",
    "\n",
    "print\n"
   ]
  },
  {
   "attachments": {},
   "cell_type": "markdown",
   "metadata": {},
   "source": [
    "(Github links to code)[https://github.com/DerekSol/dejmofrontend]"
   ]
  }
 ],
 "metadata": {
  "kernelspec": {
   "display_name": "base",
   "language": "python",
   "name": "python3"
  },
  "language_info": {
   "name": "python",
   "version": "3.9.12"
  },
  "orig_nbformat": 4
 },
 "nbformat": 4,
 "nbformat_minor": 2
}
