{
 "cells": [
  {
   "cell_type": "code",
   "execution_count": 1,
   "metadata": {},
   "outputs": [
    {
     "ename": "NameError",
     "evalue": "name 'requests' is not defined",
     "output_type": "error",
     "traceback": [
      "\u001b[0;31m---------------------------------------------------------------------------\u001b[0m",
      "\u001b[0;31mNameError\u001b[0m                                 Traceback (most recent call last)",
      "\u001b[1;32m/Users/jaggerklein/vscode/TP/_sass/minima/2022-10-7-API.ipynb Cell 1\u001b[0m in \u001b[0;36m<cell line: 8>\u001b[0;34m()\u001b[0m\n\u001b[1;32m      <a href='vscode-notebook-cell:/Users/jaggerklein/vscode/TP/_sass/minima/2022-10-7-API.ipynb#W0sZmlsZQ%3D%3D?line=0'>1</a>\u001b[0m url \u001b[39m=\u001b[39m \u001b[39m\"\u001b[39m\u001b[39mhttps://yahoofinance-stocks1.p.rapidapi.com/exchanges\u001b[39m\u001b[39m\"\u001b[39m\n\u001b[1;32m      <a href='vscode-notebook-cell:/Users/jaggerklein/vscode/TP/_sass/minima/2022-10-7-API.ipynb#W0sZmlsZQ%3D%3D?line=2'>3</a>\u001b[0m headers \u001b[39m=\u001b[39m {\n\u001b[1;32m      <a href='vscode-notebook-cell:/Users/jaggerklein/vscode/TP/_sass/minima/2022-10-7-API.ipynb#W0sZmlsZQ%3D%3D?line=3'>4</a>\u001b[0m \t\u001b[39m\"\u001b[39m\u001b[39mX-RapidAPI-Key\u001b[39m\u001b[39m\"\u001b[39m: \u001b[39m\"\u001b[39m\u001b[39m5694933938msh188e06a83fae341p1ddb1djsn42cb5a17f935\u001b[39m\u001b[39m\"\u001b[39m,\n\u001b[1;32m      <a href='vscode-notebook-cell:/Users/jaggerklein/vscode/TP/_sass/minima/2022-10-7-API.ipynb#W0sZmlsZQ%3D%3D?line=4'>5</a>\u001b[0m \t\u001b[39m\"\u001b[39m\u001b[39mX-RapidAPI-Host\u001b[39m\u001b[39m\"\u001b[39m: \u001b[39m\"\u001b[39m\u001b[39myahoofinance-stocks1.p.rapidapi.com\u001b[39m\u001b[39m\"\u001b[39m\n\u001b[1;32m      <a href='vscode-notebook-cell:/Users/jaggerklein/vscode/TP/_sass/minima/2022-10-7-API.ipynb#W0sZmlsZQ%3D%3D?line=5'>6</a>\u001b[0m }\n\u001b[0;32m----> <a href='vscode-notebook-cell:/Users/jaggerklein/vscode/TP/_sass/minima/2022-10-7-API.ipynb#W0sZmlsZQ%3D%3D?line=7'>8</a>\u001b[0m response \u001b[39m=\u001b[39m requests\u001b[39m.\u001b[39mrequest(\u001b[39m\"\u001b[39m\u001b[39mGET\u001b[39m\u001b[39m\"\u001b[39m, url, headers\u001b[39m=\u001b[39mheaders)\n\u001b[1;32m     <a href='vscode-notebook-cell:/Users/jaggerklein/vscode/TP/_sass/minima/2022-10-7-API.ipynb#W0sZmlsZQ%3D%3D?line=9'>10</a>\u001b[0m \u001b[39m#print(response.json())\u001b[39;00m\n\u001b[1;32m     <a href='vscode-notebook-cell:/Users/jaggerklein/vscode/TP/_sass/minima/2022-10-7-API.ipynb#W0sZmlsZQ%3D%3D?line=10'>11</a>\u001b[0m \u001b[39mprint\u001b[39m(\u001b[39m\"\u001b[39m\u001b[39mLive Stock Metadata\u001b[39m\u001b[39m\"\u001b[39m)\n",
      "\u001b[0;31mNameError\u001b[0m: name 'requests' is not defined"
     ]
    }
   ],
   "source": [
    "url = \"https://yahoofinance-stocks1.p.rapidapi.com/exchanges\"\n",
    "\n",
    "headers = {\n",
    "\t\"X-RapidAPI-Key\": \"5694933938msh188e06a83fae341p1ddb1djsn42cb5a17f935\",\n",
    "\t\"X-RapidAPI-Host\": \"yahoofinance-stocks1.p.rapidapi.com\"\n",
    "}\n",
    "\n",
    "response = requests.request(\"GET\", url, headers=headers)\n",
    "\n",
    "#print(response.json())\n",
    "print(\"Live Stock Metadata\")\n",
    "meta = response.json().get('')"
   ]
  },
  {
   "cell_type": "code",
   "execution_count": null,
   "metadata": {},
   "outputs": [],
   "source": [
    "url = \"https://yahoofinance-stocks1.p.rapidapi.com/exchange\"\n",
    "headers = {\n",
    "    'x-rapidapi-key': \"5694933938msh188e06a83fae341p1ddb1djsn42cb5a17f935\",\n",
    "    'x-rapidapi-host': \"yahoofinance-stocks1.p.rapidapi.com\"\n",
    "}\n",
    "\n",
    "response = requests.request(\"GET\", url, headers=headers)\n",
    "# print(response.text)  # uncomment this line to see raw data\n"
   ]
  }
 ],
 "metadata": {
  "kernelspec": {
   "display_name": "Python 3.10.6 64-bit",
   "language": "python",
   "name": "python3"
  },
  "language_info": {
   "codemirror_mode": {
    "name": "ipython",
    "version": 3
   },
   "file_extension": ".py",
   "mimetype": "text/x-python",
   "name": "python",
   "nbconvert_exporter": "python",
   "pygments_lexer": "ipython3",
   "version": "3.10.6"
  },
  "orig_nbformat": 4,
  "vscode": {
   "interpreter": {
    "hash": "aee8b7b246df8f9039afb4144a1f6fd8d2ca17a180786b69acc140d282b71a49"
   }
  }
 },
 "nbformat": 4,
 "nbformat_minor": 2
}
