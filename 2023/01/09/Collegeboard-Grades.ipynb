{
 "cells": [
  {
   "cell_type": "markdown",
   "metadata": {},
   "source": [
    "# \"Collegeboard Testing\"\n",
    "\n",
    "\n",
    "- toc: true\n",
    "- branch: master\n",
    "- badges: true\n",
    "- comments: true\n",
    "- author: Jagger Klein\n",
    "- categories: [fastpages, jupyter]"
   ]
  },
  {
   "cell_type": "markdown",
   "metadata": {},
   "source": [
    "| Sample | Purpose | Data Abstraction | Managing Complexity | Procedural Abstraction | Algorithm Implementation | Testing | Total Grade |\n",
    "|--------|---------|------------------|--------------------|------------------------|--------------------------|---------|-------------|\n",
    "| 1      | 1/1     | 0/1              | 1/1                | 0/1                    | 1/1                     | 0/1     | 4/6         |\n",
    "| 2      | 1/1     | 1/1              | 1/1                | 1/1                    | 1/1                     | 1/1     | 6/6         |\n",
    "\n"
   ]
  },
  {
   "cell_type": "markdown",
   "metadata": {},
   "source": [
    "Sample 1 Explanation: The student didn't complete the program fully, it was pretty short, and was only tested once. Didn't manage complexity at all. However they did test it and explained the algorithm in detail. And abstraction for both Procedural and Data abstraction, they went into a lot of detail about their code and what each of its functions were."
   ]
  },
  {
   "cell_type": "markdown",
   "metadata": {},
   "source": [
    "Sample 2 Explanation: This student went very in-depth and explained everything in detail. It was tested and they managed their complexity, everything was done up to standards."
   ]
  },
  {
   "cell_type": "markdown",
   "metadata": {},
   "source": [
    "| Sample | Purpose | Data Abstraction | Managing Complexity | Procedural Abstraction | Algorithm Implementation | Testing | Total Grade |\n",
    "|--------|---------|------------------|--------------------|------------------------|--------------------------|---------|-------------|\n",
    "| 3      | 1/1     | 0/1              | 1/1                | 0/1                    | 1/1                     | 0/1     | 4/6         |\n",
    "| 4      | 1/1     | 1/1              | 1/1                | 1/1                    | 1/1                     | 1/1     | 6/6         |\n",
    "\n"
   ]
  },
  {
   "cell_type": "markdown",
   "metadata": {},
   "source": [
    "**Student Three's Scoring**: 6/6, 5/6*\n",
    "|    *Reporting Category*    | *Requirements* | *Student Score* | *College Board Score* |\n",
    "|:----------------------------:|------------------|:-----------------:|:-----------------------:|\n",
    "| Program Purpose and Function |  ☒ Describes the overall purpose of the program demonstrated in the video.<br>☒ Describes what functionality of the program is demonstrated in the video.<br>☒ Describes the input and output of the program.     |          1/1         |            1/1           |\n",
    "|       Data Abstraction       |  ☒ One program code that shows how data has been stored in this list (or another collection type).<br> ☒ One program code that shows the data in this same list being used as part of fulfilling the program’s purpose.<br> ☒ Identifies the name of the variable representing the list being used in this response.<br> ☒ Describes what the data contained in this list is representing in the program.             |     1/1              |            1/1           |\n",
    "|      Managing Complexity     |  ☒ Includes a program code segment that shows a list being used to manage complexity in the program.<br> ☒ Explains how the named, selected list manages complexity in the program code by explaining why the program code could not be written, or how it would be written differently, without using this list.                |       1/1            |            1/1           |\n",
    "|    Procedural Abstraction    |  ☒ One program code showing a student-developed procedure with at least one parameter that has an effect on the functionality of the procedure.<br> ☒ One program code showing where the student-developed procedure is being called.<br> ☒ Describes what the identified procedure does and how it contributes to the overall functionality of the program.                |        1/1           |            1/1           |\n",
    "|   Algorithm Implementation   |  ☒ Includes a program code segment of a student-developed algorithm that includes sequencing, selection, and iteration.<br> ☒ Explains in detailed steps how the identified algorithm works in enough detail that someone else could recreate it.                |        1/1           |            1/1           |\n",
    "|            Testing           |  ☒ Describes two calls to the selected procedure identified in written response 3c. Each call must pass a different argument(s) that causes a different segment of code in the algorithm to execute.<br> ☒ Describes the condition(s) being tested by each call to the procedure.<br> ☒ Identifies the result of each call.              |           1/1        |            1/1           |\n",
    "\n",
    "\n",
    "\n",
    "\n",
    "\n",
    "\n",
    "\n"
   ]
  },
  {
   "cell_type": "markdown",
   "metadata": {},
   "source": [
    "**Student Four's Scoring**: 3/6, 4/6*\n",
    "|    *Reporting Category*    | *Requirements* | *Student Score* | *College Board Score* |\n",
    "|:----------------------------:|------------------|:-----------------:|:-----------------------:|\n",
    "| Program Purpose and Function |  ☒ Describes the overall purpose of the program demonstrated in the video.<br>☒ Describes what functionality of the program is demonstrated in the video.<br>☒ Describes the input and output of the program.     |          1/1         |            1/1           |\n",
    "|       Data Abstraction       |  ☒ One program code that shows how data has been stored in this list (or another collection type).<br> ☒ One program code that shows the data in this same list being used as part of fulfilling the program’s purpose.<br> ☒ Identifies the name of the variable representing the list being used in this response.<br> ☐ Describes what the data contained in this list is representing in the program.             |     0/1              |            0/1           |\n",
    "|      Managing Complexity     |  ☒ Includes a program code segment that shows a list being used to manage complexity in the program.<br> ☐ Explains how the named, selected list manages complexity in the program code by explaining why the program code could not be written, or how it would be written differently, without using this list.                |       0/1            |            0/1           |\n",
    "|    Procedural Abstraction    |  ☒ One program code showing a student-developed procedure with at least one parameter that has an effect on the functionality of the procedure.<br> ☒ One program code showing where the student-developed procedure is being called.<br> ☒ Describes what the identified procedure does and how it contributes to the overall functionality of the program.                |        1/1           |            1/1           |\n",
    "|   Algorithm Implementation   |  ☒ Includes a program code segment of a student-developed algorithm that includes sequencing, selection, and iteration.<br> ☐ Explains in detailed steps how the identified algorithm works in enough detail that someone else could recreate it.                |        0/1           |            0/1           |\n",
    "|   Algorithm Implementation   |  ☒ Includes a program code segment of a student-developed algorithm that includes sequencing, selection, and iteration.<br>  Explains in detailed steps how the identified algorithm works in enough detail that someone else could recreate it.                |        1/1           |            1/1           |\n",
    "|            Testing           |  ☒ Describes two calls to the selected procedure identified in written response 3c. Each call must pass a different argument(s) that causes a different segment of code in the algorithm to execute.<br> ☒ Describes the condition(s) being tested by each call to the procedure.<br> ☐ Identifies the result of each call.              |           0/1        |            1/1           |\n",
    "\n",
    "\n",
    "\n",
    "\n",
    "\n",
    "\n",
    "\n"
   ]
  },
  {
   "cell_type": "markdown",
   "metadata": {},
   "source": [
    "![](/The-Pentagon/images/Econ.png)"
   ]
  }
 ],
 "metadata": {
  "kernelspec": {
   "display_name": "Python 3.10.6 64-bit",
   "language": "python",
   "name": "python3"
  },
  "language_info": {
   "name": "python",
   "version": "3.10.6"
  },
  "orig_nbformat": 4,
  "vscode": {
   "interpreter": {
    "hash": "aee8b7b246df8f9039afb4144a1f6fd8d2ca17a180786b69acc140d282b71a49"
   }
  }
 },
 "nbformat": 4,
 "nbformat_minor": 2
}
