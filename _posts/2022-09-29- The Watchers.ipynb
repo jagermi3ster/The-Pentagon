{
 "cells": [
  {
   "cell_type": "markdown",
   "metadata": {},
   "source": [
    "# \"Work Watch\"\n",
    "> \"What is the 'Work Watch' \"\n",
    "- toc: true\n",
    "- branch: master\n",
    "- badges: true\n",
    "- comments: true\n",
    "- author: Jagger Klein\n",
    "- categories: [fastpages, jupyter]"
   ]
  },
  {
   "cell_type": "markdown",
   "metadata": {},
   "source": [
    "## What is the \"Work Watch\n",
    "\n",
    "The \"Work Watch\" is a customizable timer program which helps you balance your work and stress. Often, it feels as if you're stuck toiling away at assignments, watching as the clock ticks later and later while you hardly seem to make any progress. As a 2011 study proved, working for long periods of time without breaks can hinder your ability to output high-quality work. For students especially, as Laurie Santos covered in her speech \"Psychology and the Good Life,\" many feel that they do not have time to spend time doing things that actually supplement their learning like reading and exercising. During scheduled break time, students can spend time on these ideal activities while actively improving their output. The \"Work Watch\" helps you by telling you when to take these breaks, suggesting what you do during these breaks, and isolating the user from the ticking timer to promote focus on the tasks at hand."
   ]
  },
  {
   "cell_type": "markdown",
   "metadata": {},
   "source": [
    "# What will be included in work watch?\n",
    "\n",
    "-Work watch will have customizable updates that give sound for how long the timer has left\n",
    "- Obviously you will be able to set the time\n",
    "- Possible rewards for using the timer\n",
    "-Being able to make the timer visable or not\n",
    "-Being able to title your timers with the task you have at hand"
   ]
  },
  {
   "cell_type": "markdown",
   "metadata": {},
   "source": [
    "## Who is making \"Work Watch\"?\n",
    "We're called \"The Watchers\"...because we're making \"Work Watch\". This is a team made up of Drew Reed, Devon Shepherd, Trent Cardall and Jagger Klein. "
   ]
  }
 ],
 "metadata": {
  "kernelspec": {
   "display_name": "Python 3.10.6 64-bit",
   "language": "python",
   "name": "python3"
  },
  "language_info": {
   "name": "python",
   "version": "3.10.6"
  },
  "orig_nbformat": 4,
  "vscode": {
   "interpreter": {
    "hash": "aee8b7b246df8f9039afb4144a1f6fd8d2ca17a180786b69acc140d282b71a49"
   }
  }
 },
 "nbformat": 4,
 "nbformat_minor": 2
}
