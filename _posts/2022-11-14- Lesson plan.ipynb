---
toc: true
comments: true
layout: post
title: Lesson Plan
description: Whats next?
---

# Tool Check


# Week Plan
- The troubles I had this week.

    - Some of problems I encountered this week was committing to my fastpages. I was sure that I did the config.yml file correct so I thought the error was related to something else. I thought the jekyll error was related to docker but it turns out my formatting for my config file was incorrect. I accidentally indented one line which turned into one big error.

- Binary Code 
    I haven't really gotten to binary code on my pages yet. I do understand the concept of it though, I would do way better on the final we had last trimester. I want to change the bulbs to pink and change the format in the future. 

